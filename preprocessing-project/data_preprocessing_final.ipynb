{
 "cells": [
  {
   "cell_type": "markdown",
   "metadata": {},
   "source": [
    "# Analyzing borrower risk of defaulting"
   ]
  },
  {
   "cell_type": "markdown",
   "metadata": {},
   "source": [
    "**Objective**\n",
    "\n",
    "The bank's loan division is seeking to build an internal credit scoring system. This ***credit scoring*** is intended to evaluate a potential customer's ability to repay a loan. The bank has provided existing data on previous customer's credit worthiness. We will analyze this data to determine which factors are likely to impact a customer's chance of defaulting on a loan. This report will be used to more accurately assess future customers' credit worthiness in order to reduce the overall default rate on loans. \n",
    "\n",
    "We have been tasked with specifically answering the following questions:\n",
    " - Is there a connection between having kids and repaying a loan on time?\n",
    " - Is there a connection between marital status and repaying a loan on time?\n",
    " - Is there a connection between income level and repaying a loan on time?\n",
    " - How do different loan purposes affect on-time loan repayment?"
   ]
  },
  {
   "cell_type": "markdown",
   "metadata": {},
   "source": [
    "## Description of data\n",
    "\n",
    "**`credit_scoring_eng.csv`**: \n",
    "- `children`: the number of children in the family\n",
    "- `days_employed`: how long the customer has been working\n",
    "- `dob_years`: the customer’s age\n",
    "- `education`: the customer’s education level\n",
    "- `education_id`: identifier for the customer’s education\n",
    "- `family_status`: the customer’s marital status\n",
    "- `family_status_id`: identifier for the customer’s marital status\n",
    "- `gender`: the customer’s gender\n",
    "- `income_type`: the customer’s income type\n",
    "- `debt`: whether the customer has ever defaulted on a loan\n",
    "- `total_income`: monthly income\n",
    "- `purpose`: reason for taking out a loan"
   ]
  },
  {
   "cell_type": "markdown",
   "metadata": {},
   "source": [
    "<a class='anchor' id = 'toc'></a>\n",
    "## Table of contents"
   ]
  },
  {
   "cell_type": "markdown",
   "metadata": {},
   "source": [
    "* 1. [Prepare notebook](#prep_nb)\n",
    "* 2. [General exploration of the data](#gen_explore)\n",
    "* 3. [Data pre-processing](#preprocess)\n",
    "    * 3.1 [Process missing values](#missing)\n",
    "        * 3.1.1 [Missing values in `'children'`](#mv_children)\n",
    "        * 3.1.2 [Missing values in `'days_employed'`](#mv_de)\n",
    "        * 3.1.3 [Missing values in `'age'`](#mv_age)\n",
    "        * 3.1.4 [Missing values in `'total_income'`](#mv_income)\n",
    "    * 3.2 [Processing duplicates](#dupes)\n",
    "    * 3.3 [Categorizing data](#categorize)\n",
    "        * 3.3.1 [Categorize by income](#cat_income)\n",
    "        * 3.3.2 [Categorize by purpose](#cat_purpose)\n",
    "    * 3.4 [Data type replacement](#dtype)\n",
    "* 4. [Answer target questions](#answer_qs)\n",
    "* 5. [General conclusion](#conclusion)\n"
   ]
  },
  {
   "cell_type": "markdown",
   "metadata": {},
   "source": [
    "<a class='anchor' id = 'prep_nb'></a>\n",
    "## 1. Prepare notebook"
   ]
  },
  {
   "cell_type": "markdown",
   "metadata": {},
   "source": [
    "**Import libraries**"
   ]
  },
  {
   "cell_type": "code",
   "execution_count": 1,
   "metadata": {},
   "outputs": [],
   "source": [
    "import pandas as pd\n",
    "import numpy as np\n",
    "import sidetable as stb\n",
    "import matplotlib.pyplot as plt\n",
    "import nltk\n",
    "from nltk.stem import WordNetLemmatizer\n",
    "from nltk.stem import SnowballStemmer\n",
    "from collections import Counter\n",
    "import warnings"
   ]
  },
  {
   "cell_type": "markdown",
   "metadata": {},
   "source": [
    "**Filter out warnings**"
   ]
  },
  {
   "cell_type": "code",
   "execution_count": 2,
   "metadata": {},
   "outputs": [],
   "source": [
    "warnings.filterwarnings('ignore')"
   ]
  },
  {
   "cell_type": "markdown",
   "metadata": {},
   "source": [
    "**Read file & save as dataframe**"
   ]
  },
  {
   "cell_type": "code",
   "execution_count": 3,
   "metadata": {},
   "outputs": [],
   "source": [
    "# Adjust filepath as needed\n",
    "file_path = 'credit_scoring_eng.csv'\n",
    "credit_scoring = pd.read_csv(file_path)"
   ]
  },
  {
   "cell_type": "markdown",
   "metadata": {},
   "source": [
    "[Return to Table of Contents](#toc)"
   ]
  },
  {
   "cell_type": "markdown",
   "metadata": {},
   "source": [
    "<a class='anchor' id = 'gen_explore'></a>\n",
    "## 2. General exploration of the data"
   ]
  },
  {
   "cell_type": "markdown",
   "metadata": {},
   "source": [
    "**Overview of the full dataset**"
   ]
  },
  {
   "cell_type": "code",
   "execution_count": 4,
   "metadata": {},
   "outputs": [
    {
     "data": {
      "text/html": [
       "<div>\n",
       "<style scoped>\n",
       "    .dataframe tbody tr th:only-of-type {\n",
       "        vertical-align: middle;\n",
       "    }\n",
       "\n",
       "    .dataframe tbody tr th {\n",
       "        vertical-align: top;\n",
       "    }\n",
       "\n",
       "    .dataframe thead th {\n",
       "        text-align: right;\n",
       "    }\n",
       "</style>\n",
       "<table border=\"1\" class=\"dataframe\">\n",
       "  <thead>\n",
       "    <tr style=\"text-align: right;\">\n",
       "      <th></th>\n",
       "      <th>children</th>\n",
       "      <th>days_employed</th>\n",
       "      <th>dob_years</th>\n",
       "      <th>education</th>\n",
       "      <th>education_id</th>\n",
       "      <th>family_status</th>\n",
       "      <th>family_status_id</th>\n",
       "      <th>gender</th>\n",
       "      <th>income_type</th>\n",
       "      <th>debt</th>\n",
       "      <th>total_income</th>\n",
       "      <th>purpose</th>\n",
       "    </tr>\n",
       "  </thead>\n",
       "  <tbody>\n",
       "    <tr>\n",
       "      <th>0</th>\n",
       "      <td>1</td>\n",
       "      <td>-8437.673028</td>\n",
       "      <td>42</td>\n",
       "      <td>bachelor's degree</td>\n",
       "      <td>0</td>\n",
       "      <td>married</td>\n",
       "      <td>0</td>\n",
       "      <td>F</td>\n",
       "      <td>employee</td>\n",
       "      <td>0</td>\n",
       "      <td>40620.102</td>\n",
       "      <td>purchase of the house</td>\n",
       "    </tr>\n",
       "    <tr>\n",
       "      <th>1</th>\n",
       "      <td>1</td>\n",
       "      <td>-4024.803754</td>\n",
       "      <td>36</td>\n",
       "      <td>secondary education</td>\n",
       "      <td>1</td>\n",
       "      <td>married</td>\n",
       "      <td>0</td>\n",
       "      <td>F</td>\n",
       "      <td>employee</td>\n",
       "      <td>0</td>\n",
       "      <td>17932.802</td>\n",
       "      <td>car purchase</td>\n",
       "    </tr>\n",
       "    <tr>\n",
       "      <th>2</th>\n",
       "      <td>0</td>\n",
       "      <td>-5623.422610</td>\n",
       "      <td>33</td>\n",
       "      <td>Secondary Education</td>\n",
       "      <td>1</td>\n",
       "      <td>married</td>\n",
       "      <td>0</td>\n",
       "      <td>M</td>\n",
       "      <td>employee</td>\n",
       "      <td>0</td>\n",
       "      <td>23341.752</td>\n",
       "      <td>purchase of the house</td>\n",
       "    </tr>\n",
       "    <tr>\n",
       "      <th>3</th>\n",
       "      <td>3</td>\n",
       "      <td>-4124.747207</td>\n",
       "      <td>32</td>\n",
       "      <td>secondary education</td>\n",
       "      <td>1</td>\n",
       "      <td>married</td>\n",
       "      <td>0</td>\n",
       "      <td>M</td>\n",
       "      <td>employee</td>\n",
       "      <td>0</td>\n",
       "      <td>42820.568</td>\n",
       "      <td>supplementary education</td>\n",
       "    </tr>\n",
       "    <tr>\n",
       "      <th>4</th>\n",
       "      <td>0</td>\n",
       "      <td>340266.072047</td>\n",
       "      <td>53</td>\n",
       "      <td>secondary education</td>\n",
       "      <td>1</td>\n",
       "      <td>civil partnership</td>\n",
       "      <td>1</td>\n",
       "      <td>F</td>\n",
       "      <td>retiree</td>\n",
       "      <td>0</td>\n",
       "      <td>25378.572</td>\n",
       "      <td>to have a wedding</td>\n",
       "    </tr>\n",
       "    <tr>\n",
       "      <th>5</th>\n",
       "      <td>0</td>\n",
       "      <td>-926.185831</td>\n",
       "      <td>27</td>\n",
       "      <td>bachelor's degree</td>\n",
       "      <td>0</td>\n",
       "      <td>civil partnership</td>\n",
       "      <td>1</td>\n",
       "      <td>M</td>\n",
       "      <td>business</td>\n",
       "      <td>0</td>\n",
       "      <td>40922.170</td>\n",
       "      <td>purchase of the house</td>\n",
       "    </tr>\n",
       "    <tr>\n",
       "      <th>6</th>\n",
       "      <td>0</td>\n",
       "      <td>-2879.202052</td>\n",
       "      <td>43</td>\n",
       "      <td>bachelor's degree</td>\n",
       "      <td>0</td>\n",
       "      <td>married</td>\n",
       "      <td>0</td>\n",
       "      <td>F</td>\n",
       "      <td>business</td>\n",
       "      <td>0</td>\n",
       "      <td>38484.156</td>\n",
       "      <td>housing transactions</td>\n",
       "    </tr>\n",
       "    <tr>\n",
       "      <th>7</th>\n",
       "      <td>0</td>\n",
       "      <td>-152.779569</td>\n",
       "      <td>50</td>\n",
       "      <td>SECONDARY EDUCATION</td>\n",
       "      <td>1</td>\n",
       "      <td>married</td>\n",
       "      <td>0</td>\n",
       "      <td>M</td>\n",
       "      <td>employee</td>\n",
       "      <td>0</td>\n",
       "      <td>21731.829</td>\n",
       "      <td>education</td>\n",
       "    </tr>\n",
       "    <tr>\n",
       "      <th>8</th>\n",
       "      <td>2</td>\n",
       "      <td>-6929.865299</td>\n",
       "      <td>35</td>\n",
       "      <td>BACHELOR'S DEGREE</td>\n",
       "      <td>0</td>\n",
       "      <td>civil partnership</td>\n",
       "      <td>1</td>\n",
       "      <td>F</td>\n",
       "      <td>employee</td>\n",
       "      <td>0</td>\n",
       "      <td>15337.093</td>\n",
       "      <td>having a wedding</td>\n",
       "    </tr>\n",
       "    <tr>\n",
       "      <th>9</th>\n",
       "      <td>0</td>\n",
       "      <td>-2188.756445</td>\n",
       "      <td>41</td>\n",
       "      <td>secondary education</td>\n",
       "      <td>1</td>\n",
       "      <td>married</td>\n",
       "      <td>0</td>\n",
       "      <td>M</td>\n",
       "      <td>employee</td>\n",
       "      <td>0</td>\n",
       "      <td>23108.150</td>\n",
       "      <td>purchase of the house for my family</td>\n",
       "    </tr>\n",
       "  </tbody>\n",
       "</table>\n",
       "</div>"
      ],
      "text/plain": [
       "   children  days_employed  dob_years            education  education_id  \\\n",
       "0         1   -8437.673028         42    bachelor's degree             0   \n",
       "1         1   -4024.803754         36  secondary education             1   \n",
       "2         0   -5623.422610         33  Secondary Education             1   \n",
       "3         3   -4124.747207         32  secondary education             1   \n",
       "4         0  340266.072047         53  secondary education             1   \n",
       "5         0    -926.185831         27    bachelor's degree             0   \n",
       "6         0   -2879.202052         43    bachelor's degree             0   \n",
       "7         0    -152.779569         50  SECONDARY EDUCATION             1   \n",
       "8         2   -6929.865299         35    BACHELOR'S DEGREE             0   \n",
       "9         0   -2188.756445         41  secondary education             1   \n",
       "\n",
       "       family_status  family_status_id gender income_type  debt  total_income  \\\n",
       "0            married                 0      F    employee     0     40620.102   \n",
       "1            married                 0      F    employee     0     17932.802   \n",
       "2            married                 0      M    employee     0     23341.752   \n",
       "3            married                 0      M    employee     0     42820.568   \n",
       "4  civil partnership                 1      F     retiree     0     25378.572   \n",
       "5  civil partnership                 1      M    business     0     40922.170   \n",
       "6            married                 0      F    business     0     38484.156   \n",
       "7            married                 0      M    employee     0     21731.829   \n",
       "8  civil partnership                 1      F    employee     0     15337.093   \n",
       "9            married                 0      M    employee     0     23108.150   \n",
       "\n",
       "                               purpose  \n",
       "0                purchase of the house  \n",
       "1                         car purchase  \n",
       "2                purchase of the house  \n",
       "3              supplementary education  \n",
       "4                    to have a wedding  \n",
       "5                purchase of the house  \n",
       "6                 housing transactions  \n",
       "7                            education  \n",
       "8                     having a wedding  \n",
       "9  purchase of the house for my family  "
      ]
     },
     "execution_count": 4,
     "metadata": {},
     "output_type": "execute_result"
    }
   ],
   "source": [
    "# Display the first 10 rows\n",
    "credit_scoring.head(10)"
   ]
  },
  {
   "cell_type": "code",
   "execution_count": 5,
   "metadata": {
    "scrolled": true
   },
   "outputs": [
    {
     "name": "stdout",
     "output_type": "stream",
     "text": [
      "<class 'pandas.core.frame.DataFrame'>\n",
      "RangeIndex: 21525 entries, 0 to 21524\n",
      "Data columns (total 12 columns):\n",
      " #   Column            Non-Null Count  Dtype  \n",
      "---  ------            --------------  -----  \n",
      " 0   children          21525 non-null  int64  \n",
      " 1   days_employed     19351 non-null  float64\n",
      " 2   dob_years         21525 non-null  int64  \n",
      " 3   education         21525 non-null  object \n",
      " 4   education_id      21525 non-null  int64  \n",
      " 5   family_status     21525 non-null  object \n",
      " 6   family_status_id  21525 non-null  int64  \n",
      " 7   gender            21525 non-null  object \n",
      " 8   income_type       21525 non-null  object \n",
      " 9   debt              21525 non-null  int64  \n",
      " 10  total_income      19351 non-null  float64\n",
      " 11  purpose           21525 non-null  object \n",
      "dtypes: float64(2), int64(5), object(5)\n",
      "memory usage: 8.2 MB\n"
     ]
    }
   ],
   "source": [
    "credit_scoring.info(memory_usage='deep')"
   ]
  },
  {
   "cell_type": "markdown",
   "metadata": {},
   "source": [
    "* Convert days_employed to integer\n",
    "* Convert education to category\n",
    "* Convert family_status to category\n",
    "* Convert income_type to category\n",
    "* Null values present in days_employed & total_income"
   ]
  },
  {
   "cell_type": "code",
   "execution_count": 6,
   "metadata": {
    "scrolled": true
   },
   "outputs": [
    {
     "data": {
      "text/html": [
       "<div>\n",
       "<style scoped>\n",
       "    .dataframe tbody tr th:only-of-type {\n",
       "        vertical-align: middle;\n",
       "    }\n",
       "\n",
       "    .dataframe tbody tr th {\n",
       "        vertical-align: top;\n",
       "    }\n",
       "\n",
       "    .dataframe thead th {\n",
       "        text-align: right;\n",
       "    }\n",
       "</style>\n",
       "<table border=\"1\" class=\"dataframe\">\n",
       "  <thead>\n",
       "    <tr style=\"text-align: right;\">\n",
       "      <th></th>\n",
       "      <th>children</th>\n",
       "      <th>days_employed</th>\n",
       "      <th>dob_years</th>\n",
       "      <th>education_id</th>\n",
       "      <th>family_status_id</th>\n",
       "      <th>debt</th>\n",
       "      <th>total_income</th>\n",
       "    </tr>\n",
       "  </thead>\n",
       "  <tbody>\n",
       "    <tr>\n",
       "      <th>count</th>\n",
       "      <td>21525.000000</td>\n",
       "      <td>19351.000000</td>\n",
       "      <td>21525.000000</td>\n",
       "      <td>21525.000000</td>\n",
       "      <td>21525.000000</td>\n",
       "      <td>21525.000000</td>\n",
       "      <td>19351.000000</td>\n",
       "    </tr>\n",
       "    <tr>\n",
       "      <th>mean</th>\n",
       "      <td>0.538908</td>\n",
       "      <td>63046.497661</td>\n",
       "      <td>43.293380</td>\n",
       "      <td>0.817236</td>\n",
       "      <td>0.972544</td>\n",
       "      <td>0.080883</td>\n",
       "      <td>26787.568355</td>\n",
       "    </tr>\n",
       "    <tr>\n",
       "      <th>std</th>\n",
       "      <td>1.381587</td>\n",
       "      <td>140827.311974</td>\n",
       "      <td>12.574584</td>\n",
       "      <td>0.548138</td>\n",
       "      <td>1.420324</td>\n",
       "      <td>0.272661</td>\n",
       "      <td>16475.450632</td>\n",
       "    </tr>\n",
       "    <tr>\n",
       "      <th>min</th>\n",
       "      <td>-1.000000</td>\n",
       "      <td>-18388.949901</td>\n",
       "      <td>0.000000</td>\n",
       "      <td>0.000000</td>\n",
       "      <td>0.000000</td>\n",
       "      <td>0.000000</td>\n",
       "      <td>3306.762000</td>\n",
       "    </tr>\n",
       "    <tr>\n",
       "      <th>25%</th>\n",
       "      <td>0.000000</td>\n",
       "      <td>-2747.423625</td>\n",
       "      <td>33.000000</td>\n",
       "      <td>1.000000</td>\n",
       "      <td>0.000000</td>\n",
       "      <td>0.000000</td>\n",
       "      <td>16488.504500</td>\n",
       "    </tr>\n",
       "    <tr>\n",
       "      <th>50%</th>\n",
       "      <td>0.000000</td>\n",
       "      <td>-1203.369529</td>\n",
       "      <td>42.000000</td>\n",
       "      <td>1.000000</td>\n",
       "      <td>0.000000</td>\n",
       "      <td>0.000000</td>\n",
       "      <td>23202.870000</td>\n",
       "    </tr>\n",
       "    <tr>\n",
       "      <th>75%</th>\n",
       "      <td>1.000000</td>\n",
       "      <td>-291.095954</td>\n",
       "      <td>53.000000</td>\n",
       "      <td>1.000000</td>\n",
       "      <td>1.000000</td>\n",
       "      <td>0.000000</td>\n",
       "      <td>32549.611000</td>\n",
       "    </tr>\n",
       "    <tr>\n",
       "      <th>max</th>\n",
       "      <td>20.000000</td>\n",
       "      <td>401755.400475</td>\n",
       "      <td>75.000000</td>\n",
       "      <td>4.000000</td>\n",
       "      <td>4.000000</td>\n",
       "      <td>1.000000</td>\n",
       "      <td>362496.645000</td>\n",
       "    </tr>\n",
       "  </tbody>\n",
       "</table>\n",
       "</div>"
      ],
      "text/plain": [
       "           children  days_employed     dob_years  education_id  \\\n",
       "count  21525.000000   19351.000000  21525.000000  21525.000000   \n",
       "mean       0.538908   63046.497661     43.293380      0.817236   \n",
       "std        1.381587  140827.311974     12.574584      0.548138   \n",
       "min       -1.000000  -18388.949901      0.000000      0.000000   \n",
       "25%        0.000000   -2747.423625     33.000000      1.000000   \n",
       "50%        0.000000   -1203.369529     42.000000      1.000000   \n",
       "75%        1.000000    -291.095954     53.000000      1.000000   \n",
       "max       20.000000  401755.400475     75.000000      4.000000   \n",
       "\n",
       "       family_status_id          debt   total_income  \n",
       "count      21525.000000  21525.000000   19351.000000  \n",
       "mean           0.972544      0.080883   26787.568355  \n",
       "std            1.420324      0.272661   16475.450632  \n",
       "min            0.000000      0.000000    3306.762000  \n",
       "25%            0.000000      0.000000   16488.504500  \n",
       "50%            0.000000      0.000000   23202.870000  \n",
       "75%            1.000000      0.000000   32549.611000  \n",
       "max            4.000000      1.000000  362496.645000  "
      ]
     },
     "execution_count": 6,
     "metadata": {},
     "output_type": "execute_result"
    }
   ],
   "source": [
    "credit_scoring.describe()"
   ]
  },
  {
   "cell_type": "markdown",
   "metadata": {},
   "source": [
    "* The 'children' column contains negative values & unusually high values.\n",
    "* Most values in 'days_employed' are negative.\n",
    "* The minimum value in 'dob_years' is 0."
   ]
  },
  {
   "cell_type": "code",
   "execution_count": 7,
   "metadata": {
    "scrolled": false
   },
   "outputs": [
    {
     "data": {
      "text/html": [
       "<div>\n",
       "<style scoped>\n",
       "    .dataframe tbody tr th:only-of-type {\n",
       "        vertical-align: middle;\n",
       "    }\n",
       "\n",
       "    .dataframe tbody tr th {\n",
       "        vertical-align: top;\n",
       "    }\n",
       "\n",
       "    .dataframe thead th {\n",
       "        text-align: right;\n",
       "    }\n",
       "</style>\n",
       "<table border=\"1\" class=\"dataframe\">\n",
       "  <thead>\n",
       "    <tr style=\"text-align: right;\">\n",
       "      <th></th>\n",
       "      <th>missing</th>\n",
       "      <th>total</th>\n",
       "      <th>percent</th>\n",
       "    </tr>\n",
       "  </thead>\n",
       "  <tbody>\n",
       "    <tr>\n",
       "      <th>days_employed</th>\n",
       "      <td>2174</td>\n",
       "      <td>21525</td>\n",
       "      <td>10.099884</td>\n",
       "    </tr>\n",
       "    <tr>\n",
       "      <th>total_income</th>\n",
       "      <td>2174</td>\n",
       "      <td>21525</td>\n",
       "      <td>10.099884</td>\n",
       "    </tr>\n",
       "    <tr>\n",
       "      <th>children</th>\n",
       "      <td>0</td>\n",
       "      <td>21525</td>\n",
       "      <td>0.000000</td>\n",
       "    </tr>\n",
       "    <tr>\n",
       "      <th>dob_years</th>\n",
       "      <td>0</td>\n",
       "      <td>21525</td>\n",
       "      <td>0.000000</td>\n",
       "    </tr>\n",
       "    <tr>\n",
       "      <th>education</th>\n",
       "      <td>0</td>\n",
       "      <td>21525</td>\n",
       "      <td>0.000000</td>\n",
       "    </tr>\n",
       "    <tr>\n",
       "      <th>education_id</th>\n",
       "      <td>0</td>\n",
       "      <td>21525</td>\n",
       "      <td>0.000000</td>\n",
       "    </tr>\n",
       "    <tr>\n",
       "      <th>family_status</th>\n",
       "      <td>0</td>\n",
       "      <td>21525</td>\n",
       "      <td>0.000000</td>\n",
       "    </tr>\n",
       "    <tr>\n",
       "      <th>family_status_id</th>\n",
       "      <td>0</td>\n",
       "      <td>21525</td>\n",
       "      <td>0.000000</td>\n",
       "    </tr>\n",
       "    <tr>\n",
       "      <th>gender</th>\n",
       "      <td>0</td>\n",
       "      <td>21525</td>\n",
       "      <td>0.000000</td>\n",
       "    </tr>\n",
       "    <tr>\n",
       "      <th>income_type</th>\n",
       "      <td>0</td>\n",
       "      <td>21525</td>\n",
       "      <td>0.000000</td>\n",
       "    </tr>\n",
       "    <tr>\n",
       "      <th>debt</th>\n",
       "      <td>0</td>\n",
       "      <td>21525</td>\n",
       "      <td>0.000000</td>\n",
       "    </tr>\n",
       "    <tr>\n",
       "      <th>purpose</th>\n",
       "      <td>0</td>\n",
       "      <td>21525</td>\n",
       "      <td>0.000000</td>\n",
       "    </tr>\n",
       "  </tbody>\n",
       "</table>\n",
       "</div>"
      ],
      "text/plain": [
       "                  missing  total    percent\n",
       "days_employed        2174  21525  10.099884\n",
       "total_income         2174  21525  10.099884\n",
       "children                0  21525   0.000000\n",
       "dob_years               0  21525   0.000000\n",
       "education               0  21525   0.000000\n",
       "education_id            0  21525   0.000000\n",
       "family_status           0  21525   0.000000\n",
       "family_status_id        0  21525   0.000000\n",
       "gender                  0  21525   0.000000\n",
       "income_type             0  21525   0.000000\n",
       "debt                    0  21525   0.000000\n",
       "purpose                 0  21525   0.000000"
      ]
     },
     "execution_count": 7,
     "metadata": {},
     "output_type": "execute_result"
    }
   ],
   "source": [
    "# Count of null values per column\n",
    "credit_scoring.stb.missing()"
   ]
  },
  {
   "cell_type": "markdown",
   "metadata": {},
   "source": [
    "* Equal number of nulls in days_employed & total_income. Check to see if they correspond to each other."
   ]
  },
  {
   "cell_type": "markdown",
   "metadata": {},
   "source": [
    "**Education**"
   ]
  },
  {
   "cell_type": "code",
   "execution_count": 8,
   "metadata": {
    "scrolled": true
   },
   "outputs": [
    {
     "data": {
      "text/plain": [
       "secondary education    13750\n",
       "bachelor's degree       4718\n",
       "SECONDARY EDUCATION      772\n",
       "Secondary Education      711\n",
       "some college             668\n",
       "BACHELOR'S DEGREE        274\n",
       "Bachelor's Degree        268\n",
       "primary education        250\n",
       "Some College              47\n",
       "SOME COLLEGE              29\n",
       "PRIMARY EDUCATION         17\n",
       "Primary Education         15\n",
       "graduate degree            4\n",
       "Graduate Degree            1\n",
       "GRADUATE DEGREE            1\n",
       "Name: education, dtype: int64"
      ]
     },
     "execution_count": 8,
     "metadata": {},
     "output_type": "execute_result"
    }
   ],
   "source": [
    "credit_scoring['education'].value_counts()"
   ]
  },
  {
   "cell_type": "markdown",
   "metadata": {},
   "source": [
    "* Multiple duplicates for each category caused by differences in case."
   ]
  },
  {
   "cell_type": "code",
   "execution_count": 9,
   "metadata": {},
   "outputs": [
    {
     "data": {
      "text/plain": [
       "education_id  education          \n",
       "0             BACHELOR'S DEGREE        274\n",
       "              Bachelor's Degree        268\n",
       "              bachelor's degree       4718\n",
       "1             SECONDARY EDUCATION      772\n",
       "              Secondary Education      711\n",
       "              secondary education    13750\n",
       "2             SOME COLLEGE              29\n",
       "              Some College              47\n",
       "              some college             668\n",
       "3             PRIMARY EDUCATION         17\n",
       "              Primary Education         15\n",
       "              primary education        250\n",
       "4             GRADUATE DEGREE            1\n",
       "              Graduate Degree            1\n",
       "              graduate degree            4\n",
       "Name: education, dtype: int64"
      ]
     },
     "execution_count": 9,
     "metadata": {},
     "output_type": "execute_result"
    }
   ],
   "source": [
    "# Check that duplicates all match to the correct education_id\n",
    "credit_scoring.groupby(['education_id','education'])['education'].count()"
   ]
  },
  {
   "cell_type": "markdown",
   "metadata": {},
   "source": [
    "* All duplicated education values correspond to the correct education_id."
   ]
  },
  {
   "cell_type": "markdown",
   "metadata": {},
   "source": [
    "**Family Status**"
   ]
  },
  {
   "cell_type": "code",
   "execution_count": 10,
   "metadata": {},
   "outputs": [
    {
     "data": {
      "text/plain": [
       "family_status_id  family_status    \n",
       "0                 married              12380\n",
       "1                 civil partnership     4177\n",
       "2                 widow / widower        960\n",
       "3                 divorced              1195\n",
       "4                 unmarried             2813\n",
       "Name: family_status, dtype: int64"
      ]
     },
     "execution_count": 10,
     "metadata": {},
     "output_type": "execute_result"
    }
   ],
   "source": [
    "credit_scoring.groupby(['family_status_id','family_status'])['family_status'].count()"
   ]
  },
  {
   "cell_type": "code",
   "execution_count": 11,
   "metadata": {},
   "outputs": [
    {
     "data": {
      "text/html": [
       "<div>\n",
       "<style scoped>\n",
       "    .dataframe tbody tr th:only-of-type {\n",
       "        vertical-align: middle;\n",
       "    }\n",
       "\n",
       "    .dataframe tbody tr th {\n",
       "        vertical-align: top;\n",
       "    }\n",
       "\n",
       "    .dataframe thead th {\n",
       "        text-align: right;\n",
       "    }\n",
       "</style>\n",
       "<table border=\"1\" class=\"dataframe\">\n",
       "  <thead>\n",
       "    <tr style=\"text-align: right;\">\n",
       "      <th></th>\n",
       "      <th>family_status</th>\n",
       "      <th>count</th>\n",
       "      <th>percent</th>\n",
       "      <th>cumulative_count</th>\n",
       "      <th>cumulative_percent</th>\n",
       "    </tr>\n",
       "  </thead>\n",
       "  <tbody>\n",
       "    <tr>\n",
       "      <th>0</th>\n",
       "      <td>married</td>\n",
       "      <td>12380</td>\n",
       "      <td>57.514518</td>\n",
       "      <td>12380</td>\n",
       "      <td>57.514518</td>\n",
       "    </tr>\n",
       "    <tr>\n",
       "      <th>1</th>\n",
       "      <td>civil partnership</td>\n",
       "      <td>4177</td>\n",
       "      <td>19.405343</td>\n",
       "      <td>16557</td>\n",
       "      <td>76.919861</td>\n",
       "    </tr>\n",
       "    <tr>\n",
       "      <th>2</th>\n",
       "      <td>unmarried</td>\n",
       "      <td>2813</td>\n",
       "      <td>13.068525</td>\n",
       "      <td>19370</td>\n",
       "      <td>89.988386</td>\n",
       "    </tr>\n",
       "    <tr>\n",
       "      <th>3</th>\n",
       "      <td>divorced</td>\n",
       "      <td>1195</td>\n",
       "      <td>5.551684</td>\n",
       "      <td>20565</td>\n",
       "      <td>95.540070</td>\n",
       "    </tr>\n",
       "    <tr>\n",
       "      <th>4</th>\n",
       "      <td>widow / widower</td>\n",
       "      <td>960</td>\n",
       "      <td>4.459930</td>\n",
       "      <td>21525</td>\n",
       "      <td>100.000000</td>\n",
       "    </tr>\n",
       "  </tbody>\n",
       "</table>\n",
       "</div>"
      ],
      "text/plain": [
       "       family_status  count    percent  cumulative_count  cumulative_percent\n",
       "0            married  12380  57.514518             12380           57.514518\n",
       "1  civil partnership   4177  19.405343             16557           76.919861\n",
       "2          unmarried   2813  13.068525             19370           89.988386\n",
       "3           divorced   1195   5.551684             20565           95.540070\n",
       "4    widow / widower    960   4.459930             21525          100.000000"
      ]
     },
     "execution_count": 11,
     "metadata": {},
     "output_type": "execute_result"
    }
   ],
   "source": [
    "credit_scoring.stb.freq(['family_status'])"
   ]
  },
  {
   "cell_type": "markdown",
   "metadata": {},
   "source": [
    "* There are no issues with family_status or the corresponding id.\n",
    "* The majority of customers are married."
   ]
  },
  {
   "cell_type": "markdown",
   "metadata": {},
   "source": [
    "**Income type**"
   ]
  },
  {
   "cell_type": "code",
   "execution_count": 12,
   "metadata": {},
   "outputs": [
    {
     "data": {
      "text/html": [
       "<div>\n",
       "<style scoped>\n",
       "    .dataframe tbody tr th:only-of-type {\n",
       "        vertical-align: middle;\n",
       "    }\n",
       "\n",
       "    .dataframe tbody tr th {\n",
       "        vertical-align: top;\n",
       "    }\n",
       "\n",
       "    .dataframe thead th {\n",
       "        text-align: right;\n",
       "    }\n",
       "</style>\n",
       "<table border=\"1\" class=\"dataframe\">\n",
       "  <thead>\n",
       "    <tr style=\"text-align: right;\">\n",
       "      <th></th>\n",
       "      <th>income_type</th>\n",
       "      <th>count</th>\n",
       "      <th>percent</th>\n",
       "      <th>cumulative_count</th>\n",
       "      <th>cumulative_percent</th>\n",
       "    </tr>\n",
       "  </thead>\n",
       "  <tbody>\n",
       "    <tr>\n",
       "      <th>0</th>\n",
       "      <td>employee</td>\n",
       "      <td>11119</td>\n",
       "      <td>51.656214</td>\n",
       "      <td>11119</td>\n",
       "      <td>51.656214</td>\n",
       "    </tr>\n",
       "    <tr>\n",
       "      <th>1</th>\n",
       "      <td>business</td>\n",
       "      <td>5085</td>\n",
       "      <td>23.623693</td>\n",
       "      <td>16204</td>\n",
       "      <td>75.279907</td>\n",
       "    </tr>\n",
       "    <tr>\n",
       "      <th>2</th>\n",
       "      <td>retiree</td>\n",
       "      <td>3856</td>\n",
       "      <td>17.914053</td>\n",
       "      <td>20060</td>\n",
       "      <td>93.193961</td>\n",
       "    </tr>\n",
       "    <tr>\n",
       "      <th>3</th>\n",
       "      <td>civil servant</td>\n",
       "      <td>1459</td>\n",
       "      <td>6.778165</td>\n",
       "      <td>21519</td>\n",
       "      <td>99.972125</td>\n",
       "    </tr>\n",
       "    <tr>\n",
       "      <th>4</th>\n",
       "      <td>unemployed</td>\n",
       "      <td>2</td>\n",
       "      <td>0.009292</td>\n",
       "      <td>21521</td>\n",
       "      <td>99.981417</td>\n",
       "    </tr>\n",
       "    <tr>\n",
       "      <th>5</th>\n",
       "      <td>entrepreneur</td>\n",
       "      <td>2</td>\n",
       "      <td>0.009292</td>\n",
       "      <td>21523</td>\n",
       "      <td>99.990708</td>\n",
       "    </tr>\n",
       "    <tr>\n",
       "      <th>6</th>\n",
       "      <td>student</td>\n",
       "      <td>1</td>\n",
       "      <td>0.004646</td>\n",
       "      <td>21524</td>\n",
       "      <td>99.995354</td>\n",
       "    </tr>\n",
       "    <tr>\n",
       "      <th>7</th>\n",
       "      <td>paternity / maternity leave</td>\n",
       "      <td>1</td>\n",
       "      <td>0.004646</td>\n",
       "      <td>21525</td>\n",
       "      <td>100.000000</td>\n",
       "    </tr>\n",
       "  </tbody>\n",
       "</table>\n",
       "</div>"
      ],
      "text/plain": [
       "                   income_type  count    percent  cumulative_count  \\\n",
       "0                     employee  11119  51.656214             11119   \n",
       "1                     business   5085  23.623693             16204   \n",
       "2                      retiree   3856  17.914053             20060   \n",
       "3                civil servant   1459   6.778165             21519   \n",
       "4                   unemployed      2   0.009292             21521   \n",
       "5                 entrepreneur      2   0.009292             21523   \n",
       "6                      student      1   0.004646             21524   \n",
       "7  paternity / maternity leave      1   0.004646             21525   \n",
       "\n",
       "   cumulative_percent  \n",
       "0           51.656214  \n",
       "1           75.279907  \n",
       "2           93.193961  \n",
       "3           99.972125  \n",
       "4           99.981417  \n",
       "5           99.990708  \n",
       "6           99.995354  \n",
       "7          100.000000  "
      ]
     },
     "execution_count": 12,
     "metadata": {},
     "output_type": "execute_result"
    }
   ],
   "source": [
    "credit_scoring.stb.freq(['income_type'])"
   ]
  },
  {
   "cell_type": "markdown",
   "metadata": {},
   "source": [
    "* There is not enough data for 'unemployed', 'enterpreneur', 'student', & 'paternity / maternity leave' to run analysis on these categories.\n",
    "* The majority of  customers are listed as 'employee'."
   ]
  },
  {
   "cell_type": "markdown",
   "metadata": {},
   "source": [
    "**Gender**"
   ]
  },
  {
   "cell_type": "code",
   "execution_count": 13,
   "metadata": {
    "scrolled": true
   },
   "outputs": [
    {
     "data": {
      "text/plain": [
       "F      14236\n",
       "M       7288\n",
       "XNA        1\n",
       "Name: gender, dtype: int64"
      ]
     },
     "execution_count": 13,
     "metadata": {},
     "output_type": "execute_result"
    }
   ],
   "source": [
    "credit_scoring['gender'].value_counts()"
   ]
  },
  {
   "cell_type": "code",
   "execution_count": 14,
   "metadata": {
    "scrolled": false
   },
   "outputs": [
    {
     "data": {
      "text/html": [
       "<div>\n",
       "<style scoped>\n",
       "    .dataframe tbody tr th:only-of-type {\n",
       "        vertical-align: middle;\n",
       "    }\n",
       "\n",
       "    .dataframe tbody tr th {\n",
       "        vertical-align: top;\n",
       "    }\n",
       "\n",
       "    .dataframe thead th {\n",
       "        text-align: right;\n",
       "    }\n",
       "</style>\n",
       "<table border=\"1\" class=\"dataframe\">\n",
       "  <thead>\n",
       "    <tr style=\"text-align: right;\">\n",
       "      <th></th>\n",
       "      <th>children</th>\n",
       "      <th>days_employed</th>\n",
       "      <th>dob_years</th>\n",
       "      <th>education</th>\n",
       "      <th>education_id</th>\n",
       "      <th>family_status</th>\n",
       "      <th>family_status_id</th>\n",
       "      <th>gender</th>\n",
       "      <th>income_type</th>\n",
       "      <th>debt</th>\n",
       "      <th>total_income</th>\n",
       "      <th>purpose</th>\n",
       "    </tr>\n",
       "  </thead>\n",
       "  <tbody>\n",
       "    <tr>\n",
       "      <th>10701</th>\n",
       "      <td>0</td>\n",
       "      <td>-2358.600502</td>\n",
       "      <td>24</td>\n",
       "      <td>some college</td>\n",
       "      <td>2</td>\n",
       "      <td>civil partnership</td>\n",
       "      <td>1</td>\n",
       "      <td>XNA</td>\n",
       "      <td>business</td>\n",
       "      <td>0</td>\n",
       "      <td>32624.825</td>\n",
       "      <td>buy real estate</td>\n",
       "    </tr>\n",
       "  </tbody>\n",
       "</table>\n",
       "</div>"
      ],
      "text/plain": [
       "       children  days_employed  dob_years     education  education_id  \\\n",
       "10701         0   -2358.600502         24  some college             2   \n",
       "\n",
       "           family_status  family_status_id gender income_type  debt  \\\n",
       "10701  civil partnership                 1    XNA    business     0   \n",
       "\n",
       "       total_income          purpose  \n",
       "10701     32624.825  buy real estate  "
      ]
     },
     "execution_count": 14,
     "metadata": {},
     "output_type": "execute_result"
    }
   ],
   "source": [
    "credit_scoring[credit_scoring['gender'] == 'XNA']"
   ]
  },
  {
   "cell_type": "markdown",
   "metadata": {},
   "source": [
    "* The set contains significantly more data on women than men.\n",
    "* There is one unusual value 'XNA'."
   ]
  },
  {
   "cell_type": "markdown",
   "metadata": {},
   "source": [
    "**Purpose**"
   ]
  },
  {
   "cell_type": "code",
   "execution_count": 15,
   "metadata": {},
   "outputs": [
    {
     "name": "stdout",
     "output_type": "stream",
     "text": [
      "Number of unique values in 'purpose': 38\n"
     ]
    }
   ],
   "source": [
    "print(\"Number of unique values in 'purpose':\", credit_scoring['purpose'].nunique())"
   ]
  },
  {
   "cell_type": "code",
   "execution_count": 16,
   "metadata": {},
   "outputs": [
    {
     "data": {
      "text/html": [
       "<div>\n",
       "<style scoped>\n",
       "    .dataframe tbody tr th:only-of-type {\n",
       "        vertical-align: middle;\n",
       "    }\n",
       "\n",
       "    .dataframe tbody tr th {\n",
       "        vertical-align: top;\n",
       "    }\n",
       "\n",
       "    .dataframe thead th {\n",
       "        text-align: right;\n",
       "    }\n",
       "</style>\n",
       "<table border=\"1\" class=\"dataframe\">\n",
       "  <thead>\n",
       "    <tr style=\"text-align: right;\">\n",
       "      <th></th>\n",
       "      <th>purpose</th>\n",
       "      <th>count</th>\n",
       "      <th>percent</th>\n",
       "      <th>cumulative_count</th>\n",
       "      <th>cumulative_percent</th>\n",
       "    </tr>\n",
       "  </thead>\n",
       "  <tbody>\n",
       "    <tr>\n",
       "      <th>0</th>\n",
       "      <td>wedding ceremony</td>\n",
       "      <td>797</td>\n",
       "      <td>3.702671</td>\n",
       "      <td>797</td>\n",
       "      <td>3.702671</td>\n",
       "    </tr>\n",
       "    <tr>\n",
       "      <th>1</th>\n",
       "      <td>having a wedding</td>\n",
       "      <td>777</td>\n",
       "      <td>3.609756</td>\n",
       "      <td>1574</td>\n",
       "      <td>7.312427</td>\n",
       "    </tr>\n",
       "    <tr>\n",
       "      <th>2</th>\n",
       "      <td>to have a wedding</td>\n",
       "      <td>774</td>\n",
       "      <td>3.595819</td>\n",
       "      <td>2348</td>\n",
       "      <td>10.908246</td>\n",
       "    </tr>\n",
       "    <tr>\n",
       "      <th>3</th>\n",
       "      <td>real estate transactions</td>\n",
       "      <td>676</td>\n",
       "      <td>3.140534</td>\n",
       "      <td>3024</td>\n",
       "      <td>14.048780</td>\n",
       "    </tr>\n",
       "    <tr>\n",
       "      <th>4</th>\n",
       "      <td>buy commercial real estate</td>\n",
       "      <td>664</td>\n",
       "      <td>3.084785</td>\n",
       "      <td>3688</td>\n",
       "      <td>17.133566</td>\n",
       "    </tr>\n",
       "    <tr>\n",
       "      <th>5</th>\n",
       "      <td>housing transactions</td>\n",
       "      <td>653</td>\n",
       "      <td>3.033682</td>\n",
       "      <td>4341</td>\n",
       "      <td>20.167247</td>\n",
       "    </tr>\n",
       "    <tr>\n",
       "      <th>6</th>\n",
       "      <td>buying property for renting out</td>\n",
       "      <td>653</td>\n",
       "      <td>3.033682</td>\n",
       "      <td>4994</td>\n",
       "      <td>23.200929</td>\n",
       "    </tr>\n",
       "    <tr>\n",
       "      <th>7</th>\n",
       "      <td>transactions with commercial real estate</td>\n",
       "      <td>651</td>\n",
       "      <td>3.024390</td>\n",
       "      <td>5645</td>\n",
       "      <td>26.225319</td>\n",
       "    </tr>\n",
       "    <tr>\n",
       "      <th>8</th>\n",
       "      <td>purchase of the house</td>\n",
       "      <td>647</td>\n",
       "      <td>3.005807</td>\n",
       "      <td>6292</td>\n",
       "      <td>29.231127</td>\n",
       "    </tr>\n",
       "    <tr>\n",
       "      <th>9</th>\n",
       "      <td>housing</td>\n",
       "      <td>647</td>\n",
       "      <td>3.005807</td>\n",
       "      <td>6939</td>\n",
       "      <td>32.236934</td>\n",
       "    </tr>\n",
       "    <tr>\n",
       "      <th>10</th>\n",
       "      <td>purchase of the house for my family</td>\n",
       "      <td>641</td>\n",
       "      <td>2.977933</td>\n",
       "      <td>7580</td>\n",
       "      <td>35.214866</td>\n",
       "    </tr>\n",
       "    <tr>\n",
       "      <th>11</th>\n",
       "      <td>construction of own property</td>\n",
       "      <td>635</td>\n",
       "      <td>2.950058</td>\n",
       "      <td>8215</td>\n",
       "      <td>38.164925</td>\n",
       "    </tr>\n",
       "    <tr>\n",
       "      <th>12</th>\n",
       "      <td>property</td>\n",
       "      <td>634</td>\n",
       "      <td>2.945412</td>\n",
       "      <td>8849</td>\n",
       "      <td>41.110337</td>\n",
       "    </tr>\n",
       "    <tr>\n",
       "      <th>13</th>\n",
       "      <td>transactions with my real estate</td>\n",
       "      <td>630</td>\n",
       "      <td>2.926829</td>\n",
       "      <td>9479</td>\n",
       "      <td>44.037166</td>\n",
       "    </tr>\n",
       "    <tr>\n",
       "      <th>14</th>\n",
       "      <td>building a real estate</td>\n",
       "      <td>626</td>\n",
       "      <td>2.908246</td>\n",
       "      <td>10105</td>\n",
       "      <td>46.945412</td>\n",
       "    </tr>\n",
       "    <tr>\n",
       "      <th>15</th>\n",
       "      <td>buy real estate</td>\n",
       "      <td>624</td>\n",
       "      <td>2.898955</td>\n",
       "      <td>10729</td>\n",
       "      <td>49.844367</td>\n",
       "    </tr>\n",
       "    <tr>\n",
       "      <th>16</th>\n",
       "      <td>purchase of my own house</td>\n",
       "      <td>620</td>\n",
       "      <td>2.880372</td>\n",
       "      <td>11349</td>\n",
       "      <td>52.724739</td>\n",
       "    </tr>\n",
       "    <tr>\n",
       "      <th>17</th>\n",
       "      <td>building a property</td>\n",
       "      <td>620</td>\n",
       "      <td>2.880372</td>\n",
       "      <td>11969</td>\n",
       "      <td>55.605110</td>\n",
       "    </tr>\n",
       "    <tr>\n",
       "      <th>18</th>\n",
       "      <td>housing renovation</td>\n",
       "      <td>612</td>\n",
       "      <td>2.843206</td>\n",
       "      <td>12581</td>\n",
       "      <td>58.448316</td>\n",
       "    </tr>\n",
       "    <tr>\n",
       "      <th>19</th>\n",
       "      <td>buy residential real estate</td>\n",
       "      <td>607</td>\n",
       "      <td>2.819977</td>\n",
       "      <td>13188</td>\n",
       "      <td>61.268293</td>\n",
       "    </tr>\n",
       "    <tr>\n",
       "      <th>20</th>\n",
       "      <td>buying my own car</td>\n",
       "      <td>505</td>\n",
       "      <td>2.346109</td>\n",
       "      <td>13693</td>\n",
       "      <td>63.614402</td>\n",
       "    </tr>\n",
       "    <tr>\n",
       "      <th>21</th>\n",
       "      <td>going to university</td>\n",
       "      <td>496</td>\n",
       "      <td>2.304297</td>\n",
       "      <td>14189</td>\n",
       "      <td>65.918699</td>\n",
       "    </tr>\n",
       "    <tr>\n",
       "      <th>22</th>\n",
       "      <td>car</td>\n",
       "      <td>495</td>\n",
       "      <td>2.299652</td>\n",
       "      <td>14684</td>\n",
       "      <td>68.218351</td>\n",
       "    </tr>\n",
       "    <tr>\n",
       "      <th>23</th>\n",
       "      <td>second-hand car purchase</td>\n",
       "      <td>489</td>\n",
       "      <td>2.271777</td>\n",
       "      <td>15173</td>\n",
       "      <td>70.490128</td>\n",
       "    </tr>\n",
       "    <tr>\n",
       "      <th>24</th>\n",
       "      <td>to own a car</td>\n",
       "      <td>480</td>\n",
       "      <td>2.229965</td>\n",
       "      <td>15653</td>\n",
       "      <td>72.720093</td>\n",
       "    </tr>\n",
       "    <tr>\n",
       "      <th>25</th>\n",
       "      <td>buying a second-hand car</td>\n",
       "      <td>479</td>\n",
       "      <td>2.225319</td>\n",
       "      <td>16132</td>\n",
       "      <td>74.945412</td>\n",
       "    </tr>\n",
       "    <tr>\n",
       "      <th>26</th>\n",
       "      <td>cars</td>\n",
       "      <td>478</td>\n",
       "      <td>2.220674</td>\n",
       "      <td>16610</td>\n",
       "      <td>77.166086</td>\n",
       "    </tr>\n",
       "    <tr>\n",
       "      <th>27</th>\n",
       "      <td>to buy a car</td>\n",
       "      <td>472</td>\n",
       "      <td>2.192799</td>\n",
       "      <td>17082</td>\n",
       "      <td>79.358885</td>\n",
       "    </tr>\n",
       "    <tr>\n",
       "      <th>28</th>\n",
       "      <td>supplementary education</td>\n",
       "      <td>462</td>\n",
       "      <td>2.146341</td>\n",
       "      <td>17544</td>\n",
       "      <td>81.505226</td>\n",
       "    </tr>\n",
       "    <tr>\n",
       "      <th>29</th>\n",
       "      <td>car purchase</td>\n",
       "      <td>462</td>\n",
       "      <td>2.146341</td>\n",
       "      <td>18006</td>\n",
       "      <td>83.651568</td>\n",
       "    </tr>\n",
       "    <tr>\n",
       "      <th>30</th>\n",
       "      <td>purchase of a car</td>\n",
       "      <td>455</td>\n",
       "      <td>2.113821</td>\n",
       "      <td>18461</td>\n",
       "      <td>85.765389</td>\n",
       "    </tr>\n",
       "    <tr>\n",
       "      <th>31</th>\n",
       "      <td>university education</td>\n",
       "      <td>453</td>\n",
       "      <td>2.104530</td>\n",
       "      <td>18914</td>\n",
       "      <td>87.869919</td>\n",
       "    </tr>\n",
       "    <tr>\n",
       "      <th>32</th>\n",
       "      <td>to get a supplementary education</td>\n",
       "      <td>447</td>\n",
       "      <td>2.076655</td>\n",
       "      <td>19361</td>\n",
       "      <td>89.946574</td>\n",
       "    </tr>\n",
       "    <tr>\n",
       "      <th>33</th>\n",
       "      <td>education</td>\n",
       "      <td>447</td>\n",
       "      <td>2.076655</td>\n",
       "      <td>19808</td>\n",
       "      <td>92.023229</td>\n",
       "    </tr>\n",
       "    <tr>\n",
       "      <th>34</th>\n",
       "      <td>getting an education</td>\n",
       "      <td>443</td>\n",
       "      <td>2.058072</td>\n",
       "      <td>20251</td>\n",
       "      <td>94.081301</td>\n",
       "    </tr>\n",
       "    <tr>\n",
       "      <th>35</th>\n",
       "      <td>profile education</td>\n",
       "      <td>436</td>\n",
       "      <td>2.025552</td>\n",
       "      <td>20687</td>\n",
       "      <td>96.106852</td>\n",
       "    </tr>\n",
       "    <tr>\n",
       "      <th>36</th>\n",
       "      <td>getting higher education</td>\n",
       "      <td>426</td>\n",
       "      <td>1.979094</td>\n",
       "      <td>21113</td>\n",
       "      <td>98.085947</td>\n",
       "    </tr>\n",
       "    <tr>\n",
       "      <th>37</th>\n",
       "      <td>to become educated</td>\n",
       "      <td>412</td>\n",
       "      <td>1.914053</td>\n",
       "      <td>21525</td>\n",
       "      <td>100.000000</td>\n",
       "    </tr>\n",
       "  </tbody>\n",
       "</table>\n",
       "</div>"
      ],
      "text/plain": [
       "                                     purpose  count   percent  \\\n",
       "0                           wedding ceremony    797  3.702671   \n",
       "1                           having a wedding    777  3.609756   \n",
       "2                          to have a wedding    774  3.595819   \n",
       "3                   real estate transactions    676  3.140534   \n",
       "4                 buy commercial real estate    664  3.084785   \n",
       "5                       housing transactions    653  3.033682   \n",
       "6            buying property for renting out    653  3.033682   \n",
       "7   transactions with commercial real estate    651  3.024390   \n",
       "8                      purchase of the house    647  3.005807   \n",
       "9                                    housing    647  3.005807   \n",
       "10       purchase of the house for my family    641  2.977933   \n",
       "11              construction of own property    635  2.950058   \n",
       "12                                  property    634  2.945412   \n",
       "13          transactions with my real estate    630  2.926829   \n",
       "14                    building a real estate    626  2.908246   \n",
       "15                           buy real estate    624  2.898955   \n",
       "16                  purchase of my own house    620  2.880372   \n",
       "17                       building a property    620  2.880372   \n",
       "18                        housing renovation    612  2.843206   \n",
       "19               buy residential real estate    607  2.819977   \n",
       "20                         buying my own car    505  2.346109   \n",
       "21                       going to university    496  2.304297   \n",
       "22                                       car    495  2.299652   \n",
       "23                  second-hand car purchase    489  2.271777   \n",
       "24                              to own a car    480  2.229965   \n",
       "25                  buying a second-hand car    479  2.225319   \n",
       "26                                      cars    478  2.220674   \n",
       "27                              to buy a car    472  2.192799   \n",
       "28                   supplementary education    462  2.146341   \n",
       "29                              car purchase    462  2.146341   \n",
       "30                         purchase of a car    455  2.113821   \n",
       "31                      university education    453  2.104530   \n",
       "32          to get a supplementary education    447  2.076655   \n",
       "33                                 education    447  2.076655   \n",
       "34                      getting an education    443  2.058072   \n",
       "35                         profile education    436  2.025552   \n",
       "36                  getting higher education    426  1.979094   \n",
       "37                        to become educated    412  1.914053   \n",
       "\n",
       "    cumulative_count  cumulative_percent  \n",
       "0                797            3.702671  \n",
       "1               1574            7.312427  \n",
       "2               2348           10.908246  \n",
       "3               3024           14.048780  \n",
       "4               3688           17.133566  \n",
       "5               4341           20.167247  \n",
       "6               4994           23.200929  \n",
       "7               5645           26.225319  \n",
       "8               6292           29.231127  \n",
       "9               6939           32.236934  \n",
       "10              7580           35.214866  \n",
       "11              8215           38.164925  \n",
       "12              8849           41.110337  \n",
       "13              9479           44.037166  \n",
       "14             10105           46.945412  \n",
       "15             10729           49.844367  \n",
       "16             11349           52.724739  \n",
       "17             11969           55.605110  \n",
       "18             12581           58.448316  \n",
       "19             13188           61.268293  \n",
       "20             13693           63.614402  \n",
       "21             14189           65.918699  \n",
       "22             14684           68.218351  \n",
       "23             15173           70.490128  \n",
       "24             15653           72.720093  \n",
       "25             16132           74.945412  \n",
       "26             16610           77.166086  \n",
       "27             17082           79.358885  \n",
       "28             17544           81.505226  \n",
       "29             18006           83.651568  \n",
       "30             18461           85.765389  \n",
       "31             18914           87.869919  \n",
       "32             19361           89.946574  \n",
       "33             19808           92.023229  \n",
       "34             20251           94.081301  \n",
       "35             20687           96.106852  \n",
       "36             21113           98.085947  \n",
       "37             21525          100.000000  "
      ]
     },
     "execution_count": 16,
     "metadata": {},
     "output_type": "execute_result"
    }
   ],
   "source": [
    "credit_scoring.stb.freq(['purpose'])"
   ]
  },
  {
   "cell_type": "markdown",
   "metadata": {},
   "source": [
    "### Notes on general exploration"
   ]
  },
  {
   "cell_type": "markdown",
   "metadata": {},
   "source": [
    "<b>Data Types</b>\n",
    "\n",
    "- The 'days_employed' column should be converted to int type. There are an equal number of nulls in 'total_income'and 'days_employed'.\n",
    "- Education, family_status, gender, & income_type can all be converted to category type to reduce memory usage.  \n",
    "    \n",
    "<b>Missing values</b>\n",
    "    \n",
    "- There are null values in the 'days_employed' and 'total_income' columns.\n",
    "- The maximum number of children is 20 and the minimum is -1, so this column will need to be explored.\n",
    "- The minimum age ('dob_years') is 0, so these should be explored as missing values. \n",
    "- The days_employed column has a lot of negative values and is generally a mess.\n",
    "- There is one value \"XNA\" in the 'gender' column. This will be left alone as is. 3rd options for gender are becoming more common as a way to accommodate people who do not identify within the binary. There is no reasonable way to assume this value is missing, the rest of the row sees normal, and it does not affect our analysis.\n",
    "\n",
    "<b>Duplicates</b>\n",
    "    \n",
    "- The 'education' column has duplicate values. Setting all values to uppercase should elimate these duplicates.\n",
    "\n",
    "<b>Categorization</b>\n",
    "- The 'purpose' column contains several similar values that can be simplified into categories.\n",
    "- Income should be categorized by income levels for easier analysis.\n",
    "    "
   ]
  },
  {
   "cell_type": "markdown",
   "metadata": {},
   "source": [
    "[Return to Table of Contents](#toc)"
   ]
  },
  {
   "cell_type": "markdown",
   "metadata": {},
   "source": [
    "<a class='anchor' id = 'preprocess'></a>\n",
    "## 3. Data preprocessing"
   ]
  },
  {
   "cell_type": "markdown",
   "metadata": {},
   "source": [
    "Address all issues addressed in the previous section, including: missing values & duplicated values. Further process the data to create income and purpose categories that will be used in later analysis."
   ]
  },
  {
   "cell_type": "code",
   "execution_count": 17,
   "metadata": {},
   "outputs": [],
   "source": [
    "# Create a copy of credit_scoring to make changes to\n",
    "cs_new = credit_scoring.copy()\n",
    "# Rename columns for clarity\n",
    "cs_new.rename(columns = {'dob_years': 'age', 'debt': 'defaulted'}, inplace=True)"
   ]
  },
  {
   "cell_type": "markdown",
   "metadata": {},
   "source": [
    "<a class='anchor' id = 'missing'></a>\n",
    "### 3.1 Process missing values"
   ]
  },
  {
   "cell_type": "markdown",
   "metadata": {},
   "source": [
    "<a class='anchor' id = 'mv_children'></a>\n",
    "#### 3.1.1 Missing values in `'children'`"
   ]
  },
  {
   "cell_type": "code",
   "execution_count": 18,
   "metadata": {},
   "outputs": [
    {
     "data": {
      "text/html": [
       "<div>\n",
       "<style scoped>\n",
       "    .dataframe tbody tr th:only-of-type {\n",
       "        vertical-align: middle;\n",
       "    }\n",
       "\n",
       "    .dataframe tbody tr th {\n",
       "        vertical-align: top;\n",
       "    }\n",
       "\n",
       "    .dataframe thead th {\n",
       "        text-align: right;\n",
       "    }\n",
       "</style>\n",
       "<table border=\"1\" class=\"dataframe\">\n",
       "  <thead>\n",
       "    <tr style=\"text-align: right;\">\n",
       "      <th></th>\n",
       "      <th>children</th>\n",
       "      <th>count</th>\n",
       "      <th>percent</th>\n",
       "      <th>cumulative_count</th>\n",
       "      <th>cumulative_percent</th>\n",
       "    </tr>\n",
       "  </thead>\n",
       "  <tbody>\n",
       "    <tr>\n",
       "      <th>0</th>\n",
       "      <td>0</td>\n",
       "      <td>14149</td>\n",
       "      <td>65.732869</td>\n",
       "      <td>14149</td>\n",
       "      <td>65.732869</td>\n",
       "    </tr>\n",
       "    <tr>\n",
       "      <th>1</th>\n",
       "      <td>1</td>\n",
       "      <td>4818</td>\n",
       "      <td>22.383275</td>\n",
       "      <td>18967</td>\n",
       "      <td>88.116144</td>\n",
       "    </tr>\n",
       "    <tr>\n",
       "      <th>2</th>\n",
       "      <td>2</td>\n",
       "      <td>2055</td>\n",
       "      <td>9.547038</td>\n",
       "      <td>21022</td>\n",
       "      <td>97.663182</td>\n",
       "    </tr>\n",
       "    <tr>\n",
       "      <th>3</th>\n",
       "      <td>3</td>\n",
       "      <td>330</td>\n",
       "      <td>1.533101</td>\n",
       "      <td>21352</td>\n",
       "      <td>99.196283</td>\n",
       "    </tr>\n",
       "    <tr>\n",
       "      <th>4</th>\n",
       "      <td>20</td>\n",
       "      <td>76</td>\n",
       "      <td>0.353078</td>\n",
       "      <td>21428</td>\n",
       "      <td>99.549361</td>\n",
       "    </tr>\n",
       "    <tr>\n",
       "      <th>5</th>\n",
       "      <td>-1</td>\n",
       "      <td>47</td>\n",
       "      <td>0.218351</td>\n",
       "      <td>21475</td>\n",
       "      <td>99.767712</td>\n",
       "    </tr>\n",
       "    <tr>\n",
       "      <th>6</th>\n",
       "      <td>4</td>\n",
       "      <td>41</td>\n",
       "      <td>0.190476</td>\n",
       "      <td>21516</td>\n",
       "      <td>99.958188</td>\n",
       "    </tr>\n",
       "    <tr>\n",
       "      <th>7</th>\n",
       "      <td>5</td>\n",
       "      <td>9</td>\n",
       "      <td>0.041812</td>\n",
       "      <td>21525</td>\n",
       "      <td>100.000000</td>\n",
       "    </tr>\n",
       "  </tbody>\n",
       "</table>\n",
       "</div>"
      ],
      "text/plain": [
       "   children  count    percent  cumulative_count  cumulative_percent\n",
       "0         0  14149  65.732869             14149           65.732869\n",
       "1         1   4818  22.383275             18967           88.116144\n",
       "2         2   2055   9.547038             21022           97.663182\n",
       "3         3    330   1.533101             21352           99.196283\n",
       "4        20     76   0.353078             21428           99.549361\n",
       "5        -1     47   0.218351             21475           99.767712\n",
       "6         4     41   0.190476             21516           99.958188\n",
       "7         5      9   0.041812             21525          100.000000"
      ]
     },
     "execution_count": 18,
     "metadata": {},
     "output_type": "execute_result"
    }
   ],
   "source": [
    "# All values of 'children'\n",
    "cs_new.stb.freq(['children'])"
   ]
  },
  {
   "cell_type": "markdown",
   "metadata": {},
   "source": [
    "The values -1 & 20 both occur multiple times and are likely misprints of 1 & 2 respectively.\n",
    "\n",
    "There are few enough rows containing these values that they will not have a large impact on aggragate values such as average income and default rate."
   ]
  },
  {
   "cell_type": "code",
   "execution_count": 19,
   "metadata": {},
   "outputs": [
    {
     "data": {
      "text/html": [
       "<div>\n",
       "<style scoped>\n",
       "    .dataframe tbody tr th:only-of-type {\n",
       "        vertical-align: middle;\n",
       "    }\n",
       "\n",
       "    .dataframe tbody tr th {\n",
       "        vertical-align: top;\n",
       "    }\n",
       "\n",
       "    .dataframe thead th {\n",
       "        text-align: right;\n",
       "    }\n",
       "</style>\n",
       "<table border=\"1\" class=\"dataframe\">\n",
       "  <thead>\n",
       "    <tr style=\"text-align: right;\">\n",
       "      <th></th>\n",
       "      <th>children</th>\n",
       "      <th>count</th>\n",
       "      <th>percent</th>\n",
       "      <th>cumulative_count</th>\n",
       "      <th>cumulative_percent</th>\n",
       "    </tr>\n",
       "  </thead>\n",
       "  <tbody>\n",
       "    <tr>\n",
       "      <th>0</th>\n",
       "      <td>0</td>\n",
       "      <td>14149</td>\n",
       "      <td>65.732869</td>\n",
       "      <td>14149</td>\n",
       "      <td>65.732869</td>\n",
       "    </tr>\n",
       "    <tr>\n",
       "      <th>1</th>\n",
       "      <td>1</td>\n",
       "      <td>4865</td>\n",
       "      <td>22.601626</td>\n",
       "      <td>19014</td>\n",
       "      <td>88.334495</td>\n",
       "    </tr>\n",
       "    <tr>\n",
       "      <th>2</th>\n",
       "      <td>2</td>\n",
       "      <td>2131</td>\n",
       "      <td>9.900116</td>\n",
       "      <td>21145</td>\n",
       "      <td>98.234611</td>\n",
       "    </tr>\n",
       "    <tr>\n",
       "      <th>3</th>\n",
       "      <td>3</td>\n",
       "      <td>330</td>\n",
       "      <td>1.533101</td>\n",
       "      <td>21475</td>\n",
       "      <td>99.767712</td>\n",
       "    </tr>\n",
       "    <tr>\n",
       "      <th>4</th>\n",
       "      <td>4</td>\n",
       "      <td>41</td>\n",
       "      <td>0.190476</td>\n",
       "      <td>21516</td>\n",
       "      <td>99.958188</td>\n",
       "    </tr>\n",
       "    <tr>\n",
       "      <th>5</th>\n",
       "      <td>5</td>\n",
       "      <td>9</td>\n",
       "      <td>0.041812</td>\n",
       "      <td>21525</td>\n",
       "      <td>100.000000</td>\n",
       "    </tr>\n",
       "  </tbody>\n",
       "</table>\n",
       "</div>"
      ],
      "text/plain": [
       "   children  count    percent  cumulative_count  cumulative_percent\n",
       "0         0  14149  65.732869             14149           65.732869\n",
       "1         1   4865  22.601626             19014           88.334495\n",
       "2         2   2131   9.900116             21145           98.234611\n",
       "3         3    330   1.533101             21475           99.767712\n",
       "4         4     41   0.190476             21516           99.958188\n",
       "5         5      9   0.041812             21525          100.000000"
      ]
     },
     "execution_count": 19,
     "metadata": {},
     "output_type": "execute_result"
    }
   ],
   "source": [
    "# Change all columns where children = 20 to 2.\n",
    "cs_new.loc[cs_new['children']==20, 'children'] = 2\n",
    "cs_new.loc[cs_new['children']==-1, 'children'] = 1\n",
    "\n",
    "#Check the data set\n",
    "cs_new.stb.freq(['children'])"
   ]
  },
  {
   "cell_type": "markdown",
   "metadata": {},
   "source": [
    "<div class=\"alert alert-block alert-info\">\n",
    "<b>Notes on 'children'</b><br>\n",
    "\n",
    "The only unusual values were -1 and 20. Columns with a value of -1 were assumed to be 1. Values of 20 were assumed to be a typo for 2, due to the proximity of the 2 and 0 buttons on a 10-key input.\n",
    "\n",
    "</div>"
   ]
  },
  {
   "cell_type": "markdown",
   "metadata": {},
   "source": [
    "[Return to Table of Contents](#toc)"
   ]
  },
  {
   "cell_type": "markdown",
   "metadata": {},
   "source": [
    "<a class='anchor' id = 'mv_age'></a>\n",
    "#### 3.1.3 Missing values in `'age'`"
   ]
  },
  {
   "cell_type": "markdown",
   "metadata": {},
   "source": [
    "**Explore the distribition of customer ages**"
   ]
  },
  {
   "cell_type": "code",
   "execution_count": 20,
   "metadata": {},
   "outputs": [
    {
     "data": {
      "image/png": "[encoded data removed]",
      "text/plain": [
       "<Figure size 576x288 with 1 Axes>"
      ]
     },
     "metadata": {
      "needs_background": "light"
     },
     "output_type": "display_data"
    }
   ],
   "source": [
    "# Histogram of 'age' frequencies\n",
    "plt.figure(figsize=(8,4));\n",
    "plt.hist(cs_new['age'], bins=np.arange(0,80,5));\n",
    "plt.title('Customer age distribution', size=16);\n",
    "plt.xlabel('age', size=12);"
   ]
  },
  {
   "cell_type": "markdown",
   "metadata": {},
   "source": [
    "* There should be no values below roughly 18, but we see a small bump at 0.\n",
    "* There dont appear to be many other values below 20.\n",
    "* Otherwise, the distribution appears fairly normal."
   ]
  },
  {
   "cell_type": "markdown",
   "metadata": {},
   "source": [
    "Look into values under 18 (standard minimum age for opening bank accounts, requesting loans, etc)"
   ]
  },
  {
   "cell_type": "code",
   "execution_count": 21,
   "metadata": {
    "scrolled": true
   },
   "outputs": [
    {
     "data": {
      "text/plain": [
       "0    101\n",
       "Name: age, dtype: int64"
      ]
     },
     "execution_count": 21,
     "metadata": {},
     "output_type": "execute_result"
    }
   ],
   "source": [
    "cs_new[cs_new['age']<18]['age'].value_counts()"
   ]
  },
  {
   "cell_type": "markdown",
   "metadata": {},
   "source": [
    "* There are no unusual ages other than 0. These are missing ages."
   ]
  },
  {
   "cell_type": "code",
   "execution_count": 22,
   "metadata": {
    "scrolled": true
   },
   "outputs": [
    {
     "data": {
      "text/html": [
       "<div>\n",
       "<style scoped>\n",
       "    .dataframe tbody tr th:only-of-type {\n",
       "        vertical-align: middle;\n",
       "    }\n",
       "\n",
       "    .dataframe tbody tr th {\n",
       "        vertical-align: top;\n",
       "    }\n",
       "\n",
       "    .dataframe thead th {\n",
       "        text-align: right;\n",
       "    }\n",
       "</style>\n",
       "<table border=\"1\" class=\"dataframe\">\n",
       "  <thead>\n",
       "    <tr style=\"text-align: right;\">\n",
       "      <th></th>\n",
       "      <th>children</th>\n",
       "      <th>days_employed</th>\n",
       "      <th>age</th>\n",
       "      <th>education</th>\n",
       "      <th>education_id</th>\n",
       "      <th>family_status</th>\n",
       "      <th>family_status_id</th>\n",
       "      <th>gender</th>\n",
       "      <th>income_type</th>\n",
       "      <th>defaulted</th>\n",
       "      <th>total_income</th>\n",
       "      <th>purpose</th>\n",
       "    </tr>\n",
       "  </thead>\n",
       "  <tbody>\n",
       "    <tr>\n",
       "      <th>99</th>\n",
       "      <td>0</td>\n",
       "      <td>346541.618895</td>\n",
       "      <td>0</td>\n",
       "      <td>Secondary Education</td>\n",
       "      <td>1</td>\n",
       "      <td>married</td>\n",
       "      <td>0</td>\n",
       "      <td>F</td>\n",
       "      <td>retiree</td>\n",
       "      <td>0</td>\n",
       "      <td>11406.644</td>\n",
       "      <td>car</td>\n",
       "    </tr>\n",
       "    <tr>\n",
       "      <th>149</th>\n",
       "      <td>0</td>\n",
       "      <td>-2664.273168</td>\n",
       "      <td>0</td>\n",
       "      <td>secondary education</td>\n",
       "      <td>1</td>\n",
       "      <td>divorced</td>\n",
       "      <td>3</td>\n",
       "      <td>F</td>\n",
       "      <td>employee</td>\n",
       "      <td>0</td>\n",
       "      <td>11228.230</td>\n",
       "      <td>housing transactions</td>\n",
       "    </tr>\n",
       "    <tr>\n",
       "      <th>270</th>\n",
       "      <td>3</td>\n",
       "      <td>-1872.663186</td>\n",
       "      <td>0</td>\n",
       "      <td>secondary education</td>\n",
       "      <td>1</td>\n",
       "      <td>married</td>\n",
       "      <td>0</td>\n",
       "      <td>F</td>\n",
       "      <td>employee</td>\n",
       "      <td>0</td>\n",
       "      <td>16346.633</td>\n",
       "      <td>housing renovation</td>\n",
       "    </tr>\n",
       "    <tr>\n",
       "      <th>578</th>\n",
       "      <td>0</td>\n",
       "      <td>397856.565013</td>\n",
       "      <td>0</td>\n",
       "      <td>secondary education</td>\n",
       "      <td>1</td>\n",
       "      <td>married</td>\n",
       "      <td>0</td>\n",
       "      <td>F</td>\n",
       "      <td>retiree</td>\n",
       "      <td>0</td>\n",
       "      <td>15619.310</td>\n",
       "      <td>construction of own property</td>\n",
       "    </tr>\n",
       "    <tr>\n",
       "      <th>1040</th>\n",
       "      <td>0</td>\n",
       "      <td>-1158.029561</td>\n",
       "      <td>0</td>\n",
       "      <td>bachelor's degree</td>\n",
       "      <td>0</td>\n",
       "      <td>divorced</td>\n",
       "      <td>3</td>\n",
       "      <td>F</td>\n",
       "      <td>business</td>\n",
       "      <td>0</td>\n",
       "      <td>48639.062</td>\n",
       "      <td>to own a car</td>\n",
       "    </tr>\n",
       "  </tbody>\n",
       "</table>\n",
       "</div>"
      ],
      "text/plain": [
       "      children  days_employed  age            education  education_id  \\\n",
       "99           0  346541.618895    0  Secondary Education             1   \n",
       "149          0   -2664.273168    0  secondary education             1   \n",
       "270          3   -1872.663186    0  secondary education             1   \n",
       "578          0  397856.565013    0  secondary education             1   \n",
       "1040         0   -1158.029561    0    bachelor's degree             0   \n",
       "\n",
       "     family_status  family_status_id gender income_type  defaulted  \\\n",
       "99         married                 0      F     retiree          0   \n",
       "149       divorced                 3      F    employee          0   \n",
       "270        married                 0      F    employee          0   \n",
       "578        married                 0      F     retiree          0   \n",
       "1040      divorced                 3      F    business          0   \n",
       "\n",
       "      total_income                       purpose  \n",
       "99       11406.644                           car  \n",
       "149      11228.230          housing transactions  \n",
       "270      16346.633            housing renovation  \n",
       "578      15619.310  construction of own property  \n",
       "1040     48639.062                  to own a car  "
      ]
     },
     "execution_count": 22,
     "metadata": {},
     "output_type": "execute_result"
    }
   ],
   "source": [
    "#Slice of data where age is 0\n",
    "age_zero = cs_new[cs_new['age'] == 0]\n",
    "age_zero.head()"
   ]
  },
  {
   "cell_type": "code",
   "execution_count": 23,
   "metadata": {},
   "outputs": [
    {
     "data": {
      "text/html": [
       "<div>\n",
       "<style scoped>\n",
       "    .dataframe tbody tr th:only-of-type {\n",
       "        vertical-align: middle;\n",
       "    }\n",
       "\n",
       "    .dataframe tbody tr th {\n",
       "        vertical-align: top;\n",
       "    }\n",
       "\n",
       "    .dataframe thead th {\n",
       "        text-align: right;\n",
       "    }\n",
       "</style>\n",
       "<table border=\"1\" class=\"dataframe\">\n",
       "  <thead>\n",
       "    <tr style=\"text-align: right;\">\n",
       "      <th></th>\n",
       "      <th>children</th>\n",
       "      <th>days_employed</th>\n",
       "      <th>age</th>\n",
       "      <th>education_id</th>\n",
       "      <th>family_status_id</th>\n",
       "      <th>defaulted</th>\n",
       "      <th>total_income</th>\n",
       "    </tr>\n",
       "  </thead>\n",
       "  <tbody>\n",
       "    <tr>\n",
       "      <th>count</th>\n",
       "      <td>101.000000</td>\n",
       "      <td>91.000000</td>\n",
       "      <td>101.0</td>\n",
       "      <td>101.000000</td>\n",
       "      <td>101.000000</td>\n",
       "      <td>101.000000</td>\n",
       "      <td>91.000000</td>\n",
       "    </tr>\n",
       "    <tr>\n",
       "      <th>mean</th>\n",
       "      <td>0.495050</td>\n",
       "      <td>65937.471974</td>\n",
       "      <td>0.0</td>\n",
       "      <td>0.673267</td>\n",
       "      <td>1.237624</td>\n",
       "      <td>0.079208</td>\n",
       "      <td>25334.072890</td>\n",
       "    </tr>\n",
       "    <tr>\n",
       "      <th>std</th>\n",
       "      <td>0.807759</td>\n",
       "      <td>143332.816768</td>\n",
       "      <td>0.0</td>\n",
       "      <td>0.512033</td>\n",
       "      <td>1.524129</td>\n",
       "      <td>0.271410</td>\n",
       "      <td>11901.096532</td>\n",
       "    </tr>\n",
       "    <tr>\n",
       "      <th>min</th>\n",
       "      <td>0.000000</td>\n",
       "      <td>-10689.250498</td>\n",
       "      <td>0.0</td>\n",
       "      <td>0.000000</td>\n",
       "      <td>0.000000</td>\n",
       "      <td>0.000000</td>\n",
       "      <td>5595.912000</td>\n",
       "    </tr>\n",
       "    <tr>\n",
       "      <th>25%</th>\n",
       "      <td>0.000000</td>\n",
       "      <td>-2258.921067</td>\n",
       "      <td>0.0</td>\n",
       "      <td>0.000000</td>\n",
       "      <td>0.000000</td>\n",
       "      <td>0.000000</td>\n",
       "      <td>15933.259000</td>\n",
       "    </tr>\n",
       "    <tr>\n",
       "      <th>50%</th>\n",
       "      <td>0.000000</td>\n",
       "      <td>-1146.689586</td>\n",
       "      <td>0.0</td>\n",
       "      <td>1.000000</td>\n",
       "      <td>1.000000</td>\n",
       "      <td>0.000000</td>\n",
       "      <td>24387.070000</td>\n",
       "    </tr>\n",
       "    <tr>\n",
       "      <th>75%</th>\n",
       "      <td>1.000000</td>\n",
       "      <td>-245.276828</td>\n",
       "      <td>0.0</td>\n",
       "      <td>1.000000</td>\n",
       "      <td>3.000000</td>\n",
       "      <td>0.000000</td>\n",
       "      <td>34007.907500</td>\n",
       "    </tr>\n",
       "    <tr>\n",
       "      <th>max</th>\n",
       "      <td>3.000000</td>\n",
       "      <td>400992.375704</td>\n",
       "      <td>0.0</td>\n",
       "      <td>2.000000</td>\n",
       "      <td>4.000000</td>\n",
       "      <td>1.000000</td>\n",
       "      <td>61819.782000</td>\n",
       "    </tr>\n",
       "  </tbody>\n",
       "</table>\n",
       "</div>"
      ],
      "text/plain": [
       "         children  days_employed    age  education_id  family_status_id  \\\n",
       "count  101.000000      91.000000  101.0    101.000000        101.000000   \n",
       "mean     0.495050   65937.471974    0.0      0.673267          1.237624   \n",
       "std      0.807759  143332.816768    0.0      0.512033          1.524129   \n",
       "min      0.000000  -10689.250498    0.0      0.000000          0.000000   \n",
       "25%      0.000000   -2258.921067    0.0      0.000000          0.000000   \n",
       "50%      0.000000   -1146.689586    0.0      1.000000          1.000000   \n",
       "75%      1.000000    -245.276828    0.0      1.000000          3.000000   \n",
       "max      3.000000  400992.375704    0.0      2.000000          4.000000   \n",
       "\n",
       "        defaulted  total_income  \n",
       "count  101.000000     91.000000  \n",
       "mean     0.079208  25334.072890  \n",
       "std      0.271410  11901.096532  \n",
       "min      0.000000   5595.912000  \n",
       "25%      0.000000  15933.259000  \n",
       "50%      0.000000  24387.070000  \n",
       "75%      0.000000  34007.907500  \n",
       "max      1.000000  61819.782000  "
      ]
     },
     "execution_count": 23,
     "metadata": {},
     "output_type": "execute_result"
    }
   ],
   "source": [
    "age_zero.describe()"
   ]
  },
  {
   "cell_type": "markdown",
   "metadata": {},
   "source": [
    "* Missing ages don't seem to correspond to any particular groups or other missing values."
   ]
  },
  {
   "cell_type": "markdown",
   "metadata": {},
   "source": [
    "**Explore the relationship between age and different columns.**"
   ]
  },
  {
   "cell_type": "markdown",
   "metadata": {},
   "source": [
    "We can fill missing age values with average ages based on other factors. We will explore the relationship to gender, income_type, and family_status."
   ]
  },
  {
   "cell_type": "code",
   "execution_count": 24,
   "metadata": {},
   "outputs": [
    {
     "data": {
      "text/plain": [
       "gender\n",
       "F      44.471972\n",
       "M      40.993825\n",
       "XNA    24.000000\n",
       "Name: age, dtype: float64"
      ]
     },
     "execution_count": 24,
     "metadata": {},
     "output_type": "execute_result"
    }
   ],
   "source": [
    "# Mean age by gender\n",
    "cs_new.groupby('gender')['age'].mean()"
   ]
  },
  {
   "cell_type": "markdown",
   "metadata": {},
   "source": [
    "* There is roughly a 4 year difference in average age between genders. XNA only contains one value, and so can be ignored."
   ]
  },
  {
   "cell_type": "code",
   "execution_count": 25,
   "metadata": {
    "scrolled": false
   },
   "outputs": [
    {
     "data": {
      "text/plain": [
       "income_type\n",
       "business                       39.697542\n",
       "civil servant                  40.636737\n",
       "employee                       39.821027\n",
       "entrepreneur                   42.500000\n",
       "paternity / maternity leave    39.000000\n",
       "retiree                        59.063019\n",
       "student                        22.000000\n",
       "unemployed                     38.000000\n",
       "Name: age, dtype: float64"
      ]
     },
     "execution_count": 25,
     "metadata": {},
     "output_type": "execute_result"
    }
   ],
   "source": [
    "# Mean age based on income type\n",
    "cs_new.groupby('income_type')['age'].mean()"
   ]
  },
  {
   "cell_type": "code",
   "execution_count": 26,
   "metadata": {
    "scrolled": true
   },
   "outputs": [
    {
     "data": {
      "text/plain": [
       "family_status      gender\n",
       "civil partnership  F         42.952232\n",
       "                   M         40.342508\n",
       "                   XNA       24.000000\n",
       "divorced           F         46.215812\n",
       "                   M         42.996139\n",
       "married            F         44.094933\n",
       "                   M         42.663250\n",
       "unmarried          F         41.366628\n",
       "                   M         33.567068\n",
       "widow / widower    F         56.675138\n",
       "                   M         53.854545\n",
       "Name: age, dtype: float64"
      ]
     },
     "execution_count": 26,
     "metadata": {},
     "output_type": "execute_result"
    }
   ],
   "source": [
    "# Mean age based on gender & family status\n",
    "cs_new.groupby(['family_status','gender'])['age'].mean()"
   ]
  },
  {
   "cell_type": "markdown",
   "metadata": {},
   "source": [
    "Check which income types & family statuses are present in the age_zero slice. Only relevant values will be used to fill ages."
   ]
  },
  {
   "cell_type": "code",
   "execution_count": 27,
   "metadata": {},
   "outputs": [
    {
     "name": "stdout",
     "output_type": "stream",
     "text": [
      "Income types\n",
      "['retiree' 'employee' 'business' 'civil servant']\n",
      "\n",
      "Family Status\n",
      "['married' 'divorced' 'unmarried' 'widow / widower' 'civil partnership']\n"
     ]
    }
   ],
   "source": [
    "print('Income types')\n",
    "print(age_zero.income_type.unique())\n",
    "print()\n",
    "print('Family Status')\n",
    "print(age_zero.family_status.unique())"
   ]
  },
  {
   "cell_type": "markdown",
   "metadata": {},
   "source": [
    "* All family_status values are present."
   ]
  },
  {
   "cell_type": "code",
   "execution_count": 28,
   "metadata": {},
   "outputs": [],
   "source": [
    "#List of relevant income types\n",
    "inc_types = ['business','civil servant','employee','retiree']\n",
    "#Slice of cs_new only containing the above income types\n",
    "cs_age_rel= cs_new[cs_new['income_type'].isin(inc_types) & cs_new['gender'].isin(['F','M'])]"
   ]
  },
  {
   "cell_type": "code",
   "execution_count": 29,
   "metadata": {},
   "outputs": [
    {
     "data": {
      "text/html": [
       "<div>\n",
       "<style scoped>\n",
       "    .dataframe tbody tr th:only-of-type {\n",
       "        vertical-align: middle;\n",
       "    }\n",
       "\n",
       "    .dataframe tbody tr th {\n",
       "        vertical-align: top;\n",
       "    }\n",
       "\n",
       "    .dataframe thead tr th {\n",
       "        text-align: left;\n",
       "    }\n",
       "\n",
       "    .dataframe thead tr:last-of-type th {\n",
       "        text-align: right;\n",
       "    }\n",
       "</style>\n",
       "<table border=\"1\" class=\"dataframe\">\n",
       "  <thead>\n",
       "    <tr>\n",
       "      <th>family_status</th>\n",
       "      <th colspan=\"2\" halign=\"left\">civil partnership</th>\n",
       "      <th colspan=\"2\" halign=\"left\">divorced</th>\n",
       "      <th colspan=\"2\" halign=\"left\">married</th>\n",
       "      <th colspan=\"2\" halign=\"left\">unmarried</th>\n",
       "      <th colspan=\"2\" halign=\"left\">widow / widower</th>\n",
       "      <th>All</th>\n",
       "    </tr>\n",
       "    <tr>\n",
       "      <th>gender</th>\n",
       "      <th>F</th>\n",
       "      <th>M</th>\n",
       "      <th>F</th>\n",
       "      <th>M</th>\n",
       "      <th>F</th>\n",
       "      <th>M</th>\n",
       "      <th>F</th>\n",
       "      <th>M</th>\n",
       "      <th>F</th>\n",
       "      <th>M</th>\n",
       "      <th></th>\n",
       "    </tr>\n",
       "    <tr>\n",
       "      <th>income_type</th>\n",
       "      <th></th>\n",
       "      <th></th>\n",
       "      <th></th>\n",
       "      <th></th>\n",
       "      <th></th>\n",
       "      <th></th>\n",
       "      <th></th>\n",
       "      <th></th>\n",
       "      <th></th>\n",
       "      <th></th>\n",
       "      <th></th>\n",
       "    </tr>\n",
       "  </thead>\n",
       "  <tbody>\n",
       "    <tr>\n",
       "      <th>business</th>\n",
       "      <td>38.681138</td>\n",
       "      <td>38.198847</td>\n",
       "      <td>43.395122</td>\n",
       "      <td>42.029851</td>\n",
       "      <td>40.224197</td>\n",
       "      <td>41.155652</td>\n",
       "      <td>37.453988</td>\n",
       "      <td>32.331230</td>\n",
       "      <td>51.626374</td>\n",
       "      <td>48.333333</td>\n",
       "      <td>39.700629</td>\n",
       "    </tr>\n",
       "    <tr>\n",
       "      <th>civil servant</th>\n",
       "      <td>41.346154</td>\n",
       "      <td>38.240741</td>\n",
       "      <td>41.808219</td>\n",
       "      <td>39.750000</td>\n",
       "      <td>41.185471</td>\n",
       "      <td>39.446154</td>\n",
       "      <td>37.855769</td>\n",
       "      <td>33.650000</td>\n",
       "      <td>52.904762</td>\n",
       "      <td>57.666667</td>\n",
       "      <td>40.636737</td>\n",
       "    </tr>\n",
       "    <tr>\n",
       "      <th>employee</th>\n",
       "      <td>39.239698</td>\n",
       "      <td>38.770807</td>\n",
       "      <td>42.596916</td>\n",
       "      <td>42.627219</td>\n",
       "      <td>40.248229</td>\n",
       "      <td>40.495892</td>\n",
       "      <td>37.550181</td>\n",
       "      <td>32.668175</td>\n",
       "      <td>51.093750</td>\n",
       "      <td>49.458333</td>\n",
       "      <td>39.821027</td>\n",
       "    </tr>\n",
       "    <tr>\n",
       "      <th>retiree</th>\n",
       "      <td>59.069288</td>\n",
       "      <td>56.888889</td>\n",
       "      <td>58.681373</td>\n",
       "      <td>53.200000</td>\n",
       "      <td>58.729271</td>\n",
       "      <td>59.573737</td>\n",
       "      <td>58.785256</td>\n",
       "      <td>58.425000</td>\n",
       "      <td>60.641473</td>\n",
       "      <td>59.636364</td>\n",
       "      <td>59.063019</td>\n",
       "    </tr>\n",
       "    <tr>\n",
       "      <th>All</th>\n",
       "      <td>42.957083</td>\n",
       "      <td>40.342508</td>\n",
       "      <td>46.215812</td>\n",
       "      <td>42.996139</td>\n",
       "      <td>44.095586</td>\n",
       "      <td>42.662448</td>\n",
       "      <td>41.366628</td>\n",
       "      <td>33.577778</td>\n",
       "      <td>56.675138</td>\n",
       "      <td>53.854545</td>\n",
       "      <td>43.296031</td>\n",
       "    </tr>\n",
       "  </tbody>\n",
       "</table>\n",
       "</div>"
      ],
      "text/plain": [
       "family_status civil partnership              divorced               married  \\\n",
       "gender                        F          M          F          M          F   \n",
       "income_type                                                                   \n",
       "business              38.681138  38.198847  43.395122  42.029851  40.224197   \n",
       "civil servant         41.346154  38.240741  41.808219  39.750000  41.185471   \n",
       "employee              39.239698  38.770807  42.596916  42.627219  40.248229   \n",
       "retiree               59.069288  56.888889  58.681373  53.200000  58.729271   \n",
       "All                   42.957083  40.342508  46.215812  42.996139  44.095586   \n",
       "\n",
       "family_status             unmarried            widow / widower             \\\n",
       "gender                 M          F          M               F          M   \n",
       "income_type                                                                 \n",
       "business       41.155652  37.453988  32.331230       51.626374  48.333333   \n",
       "civil servant  39.446154  37.855769  33.650000       52.904762  57.666667   \n",
       "employee       40.495892  37.550181  32.668175       51.093750  49.458333   \n",
       "retiree        59.573737  58.785256  58.425000       60.641473  59.636364   \n",
       "All            42.662448  41.366628  33.577778       56.675138  53.854545   \n",
       "\n",
       "family_status        All  \n",
       "gender                    \n",
       "income_type               \n",
       "business       39.700629  \n",
       "civil servant  40.636737  \n",
       "employee       39.821027  \n",
       "retiree        59.063019  \n",
       "All            43.296031  "
      ]
     },
     "execution_count": 29,
     "metadata": {},
     "output_type": "execute_result"
    }
   ],
   "source": [
    "#Pivot table of mean ages based on family_status, income_type, & gender\n",
    "cs_age_rel.pivot_table(index='income_type',\n",
    "                   columns=['family_status', 'gender'],\n",
    "                   values='age',\n",
    "                   aggfunc='mean',\n",
    "                   margins=True\n",
    "                  )"
   ]
  },
  {
   "cell_type": "code",
   "execution_count": 30,
   "metadata": {
    "scrolled": true
   },
   "outputs": [
    {
     "data": {
      "text/html": [
       "<div>\n",
       "<style scoped>\n",
       "    .dataframe tbody tr th:only-of-type {\n",
       "        vertical-align: middle;\n",
       "    }\n",
       "\n",
       "    .dataframe tbody tr th {\n",
       "        vertical-align: top;\n",
       "    }\n",
       "\n",
       "    .dataframe thead tr th {\n",
       "        text-align: left;\n",
       "    }\n",
       "\n",
       "    .dataframe thead tr:last-of-type th {\n",
       "        text-align: right;\n",
       "    }\n",
       "</style>\n",
       "<table border=\"1\" class=\"dataframe\">\n",
       "  <thead>\n",
       "    <tr>\n",
       "      <th>family_status</th>\n",
       "      <th colspan=\"2\" halign=\"left\">civil partnership</th>\n",
       "      <th colspan=\"2\" halign=\"left\">divorced</th>\n",
       "      <th colspan=\"2\" halign=\"left\">married</th>\n",
       "      <th colspan=\"2\" halign=\"left\">unmarried</th>\n",
       "      <th colspan=\"2\" halign=\"left\">widow / widower</th>\n",
       "      <th>All</th>\n",
       "    </tr>\n",
       "    <tr>\n",
       "      <th>gender</th>\n",
       "      <th>F</th>\n",
       "      <th>M</th>\n",
       "      <th>F</th>\n",
       "      <th>M</th>\n",
       "      <th>F</th>\n",
       "      <th>M</th>\n",
       "      <th>F</th>\n",
       "      <th>M</th>\n",
       "      <th>F</th>\n",
       "      <th>M</th>\n",
       "      <th></th>\n",
       "    </tr>\n",
       "    <tr>\n",
       "      <th>income_type</th>\n",
       "      <th></th>\n",
       "      <th></th>\n",
       "      <th></th>\n",
       "      <th></th>\n",
       "      <th></th>\n",
       "      <th></th>\n",
       "      <th></th>\n",
       "      <th></th>\n",
       "      <th></th>\n",
       "      <th></th>\n",
       "      <th></th>\n",
       "    </tr>\n",
       "  </thead>\n",
       "  <tbody>\n",
       "    <tr>\n",
       "      <th>business</th>\n",
       "      <td>668</td>\n",
       "      <td>347</td>\n",
       "      <td>205</td>\n",
       "      <td>67</td>\n",
       "      <td>1744</td>\n",
       "      <td>1150</td>\n",
       "      <td>489</td>\n",
       "      <td>317</td>\n",
       "      <td>91</td>\n",
       "      <td>6</td>\n",
       "      <td>5084</td>\n",
       "    </tr>\n",
       "    <tr>\n",
       "      <th>civil servant</th>\n",
       "      <td>208</td>\n",
       "      <td>54</td>\n",
       "      <td>73</td>\n",
       "      <td>8</td>\n",
       "      <td>647</td>\n",
       "      <td>260</td>\n",
       "      <td>104</td>\n",
       "      <td>60</td>\n",
       "      <td>42</td>\n",
       "      <td>3</td>\n",
       "      <td>1459</td>\n",
       "    </tr>\n",
       "    <tr>\n",
       "      <th>employee</th>\n",
       "      <td>1456</td>\n",
       "      <td>781</td>\n",
       "      <td>454</td>\n",
       "      <td>169</td>\n",
       "      <td>3811</td>\n",
       "      <td>2678</td>\n",
       "      <td>827</td>\n",
       "      <td>663</td>\n",
       "      <td>256</td>\n",
       "      <td>24</td>\n",
       "      <td>11119</td>\n",
       "    </tr>\n",
       "    <tr>\n",
       "      <th>retiree</th>\n",
       "      <td>534</td>\n",
       "      <td>126</td>\n",
       "      <td>204</td>\n",
       "      <td>15</td>\n",
       "      <td>1592</td>\n",
       "      <td>495</td>\n",
       "      <td>312</td>\n",
       "      <td>40</td>\n",
       "      <td>516</td>\n",
       "      <td>22</td>\n",
       "      <td>3856</td>\n",
       "    </tr>\n",
       "    <tr>\n",
       "      <th>All</th>\n",
       "      <td>2866</td>\n",
       "      <td>1308</td>\n",
       "      <td>936</td>\n",
       "      <td>259</td>\n",
       "      <td>7794</td>\n",
       "      <td>4583</td>\n",
       "      <td>1732</td>\n",
       "      <td>1080</td>\n",
       "      <td>905</td>\n",
       "      <td>55</td>\n",
       "      <td>21518</td>\n",
       "    </tr>\n",
       "  </tbody>\n",
       "</table>\n",
       "</div>"
      ],
      "text/plain": [
       "family_status civil partnership       divorced      married       unmarried  \\\n",
       "gender                        F     M        F    M       F     M         F   \n",
       "income_type                                                                   \n",
       "business                    668   347      205   67    1744  1150       489   \n",
       "civil servant               208    54       73    8     647   260       104   \n",
       "employee                   1456   781      454  169    3811  2678       827   \n",
       "retiree                     534   126      204   15    1592   495       312   \n",
       "All                        2866  1308      936  259    7794  4583      1732   \n",
       "\n",
       "family_status       widow / widower        All  \n",
       "gender            M               F   M         \n",
       "income_type                                     \n",
       "business        317              91   6   5084  \n",
       "civil servant    60              42   3   1459  \n",
       "employee        663             256  24  11119  \n",
       "retiree          40             516  22   3856  \n",
       "All            1080             905  55  21518  "
      ]
     },
     "execution_count": 30,
     "metadata": {},
     "output_type": "execute_result"
    }
   ],
   "source": [
    "#Pivot table of counts of the same categories as above\n",
    "cs_age_rel.pivot_table(index='income_type',\n",
    "                   columns=['family_status', 'gender'],\n",
    "                   values='age',\n",
    "                   aggfunc='count',\n",
    "                   margins=True\n",
    "                  )"
   ]
  },
  {
   "cell_type": "markdown",
   "metadata": {},
   "source": [
    "The gender difference seems to remain present to some extent across categories. The average retiree age is largely unaffected by other factors, and should be calculated on its own. Unmarried values seem to differ from the other family_status values and are unaffected by non-retiree income types. The remaining values don't differ much overall.\n",
    "\n",
    "Values will be filled as follows from cs_age_rel:\n",
    "* Retirees will be filled with the mean retiree age\n",
    "* Unmarried will be filled based on unmarried average by gender (excluding retirees)\n",
    "* All remaining will be filled with the average age of all remaining non-retiree non-unmarried values"
   ]
  },
  {
   "cell_type": "code",
   "execution_count": 31,
   "metadata": {},
   "outputs": [
    {
     "name": "stdout",
     "output_type": "stream",
     "text": [
      "Retiree average age: 59\n",
      "\n",
      "Unmarried averages\n",
      "gender\n",
      "F    37.539437\n",
      "M    32.622115\n",
      "Name: age, dtype: float64\n",
      "\n",
      "Remaining averages: 40\n"
     ]
    }
   ],
   "source": [
    "#Calculate average age based on whether or not the customer is a retiree\n",
    "retiree_age = int(cs_age_rel[cs_age_rel['income_type']=='retiree']['age'].mean())\n",
    "unmarried_slice = (cs_age_rel[(cs_age_rel['income_type']!='retiree')\n",
    "                            & (cs_age_rel['family_status']=='unmarried')]\n",
    "                            [['gender','age']]\n",
    "                  )\n",
    "other_age = int(cs_age_rel[(cs_age_rel['income_type']!='retiree')\n",
    "                            & (cs_age_rel['family_status']!='unmarried')]\n",
    "                            ['age'].mean()\n",
    "                  )\n",
    "uf_age = int(unmarried_slice[unmarried_slice['gender'] == 'M']['age'].mean())\n",
    "um_age = int(unmarried_slice[unmarried_slice['gender'] == 'F']['age'].mean())\n",
    "\n",
    "print('Retiree average age:', retiree_age)\n",
    "print()\n",
    "print('Unmarried averages')\n",
    "print(unmarried_slice.groupby('gender')['age'].mean())\n",
    "print()\n",
    "print('Remaining averages:', other_age)"
   ]
  },
  {
   "cell_type": "code",
   "execution_count": 32,
   "metadata": {},
   "outputs": [
    {
     "name": "stdout",
     "output_type": "stream",
     "text": [
      "Remaining 0s in age column: 0\n",
      "Minimum age: 19\n",
      "Maximum age: 75\n"
     ]
    }
   ],
   "source": [
    "age0 = (cs_new['age'] == 0)\n",
    "retiree= (cs_new['income_type'] == 'retiree')\n",
    "unmarried = (cs_new['family_status'] == 'unmarried')\n",
    "male = (cs_new['gender'] == 'M')\n",
    "\n",
    "#Replace age for retirees\n",
    "cs_new.loc[age0 & retiree, 'age'] = retiree_age\n",
    "\n",
    "#Replace age for unmarried males\n",
    "cs_new.loc[age0 & unmarried & male, 'age'] = um_age\n",
    "\n",
    "#Replace afe for unmarried females\n",
    "cs_new.loc[age0 & unmarried, 'age']= uf_age\n",
    "\n",
    "#Replace remaining ages\n",
    "cs_new.loc[age0, 'age']= other_age\n",
    "\n",
    "#Check 'age' column for 0s. Should be empty\n",
    "print(\"Remaining 0s in age column:\", len(cs_new[cs_new['age']==0]))\n",
    "print('Minimum age:', cs_new.age.min())\n",
    "print('Maximum age:', cs_new.age.max())"
   ]
  },
  {
   "cell_type": "markdown",
   "metadata": {},
   "source": [
    "<b>Notes on 'age' </b><br>\n",
    "\n",
    "Missing ages were represented by 0, indicating that age is an optional field. Other than that, the age distribution looks fairly normal, with a minimum age of 19 and maximum age of 75.\n",
    "    \n",
    "Ages were filled based on a few simplified factors: retired, unmarried split by gender, and then all remaining customers. These averages will allow is to stay somewhat close to the expected reality.\n",
    "    "
   ]
  },
  {
   "cell_type": "markdown",
   "metadata": {},
   "source": [
    "[Return to Table of Contents](#toc)"
   ]
  },
  {
   "cell_type": "markdown",
   "metadata": {},
   "source": [
    "<a class='anchor' id = 'mv_de'></a>\n",
    "#### 3.1.2 Missing values in `'days_employed'`"
   ]
  },
  {
   "cell_type": "code",
   "execution_count": 33,
   "metadata": {},
   "outputs": [
    {
     "name": "stdout",
     "output_type": "stream",
     "text": [
      "# of rows where days_employed is zero: 0\n"
     ]
    }
   ],
   "source": [
    "# Check for 0 values in dayes_employed\n",
    "print('# of rows where days_employed is zero:', len(cs_new[cs_new['days_employed'] == 0]))"
   ]
  },
  {
   "cell_type": "markdown",
   "metadata": {},
   "source": [
    "* No zero values. We would expect 0 to be the value for customers who are not currently working, however this is not the case."
   ]
  },
  {
   "cell_type": "code",
   "execution_count": 34,
   "metadata": {
    "scrolled": true
   },
   "outputs": [],
   "source": [
    "#Create separate slices to explore based on conditions in days_employed: null, negative, positive\n",
    "de_null = cs_new[cs_new['days_employed'].isnull()]\n",
    "de_neg = cs_new[cs_new['days_employed'] < 0]\n",
    "de_pos = cs_new[cs_new['days_employed'] > 0]"
   ]
  },
  {
   "cell_type": "markdown",
   "metadata": {},
   "source": [
    "**Explore where days_employed is NULL**"
   ]
  },
  {
   "cell_type": "code",
   "execution_count": 35,
   "metadata": {
    "scrolled": true
   },
   "outputs": [
    {
     "name": "stdout",
     "output_type": "stream",
     "text": [
      "employee         1105\n",
      "business          508\n",
      "retiree           413\n",
      "civil servant     147\n",
      "entrepreneur        1\n",
      "Name: income_type, dtype: int64\n"
     ]
    }
   ],
   "source": [
    "#Check if null values in days_employed corresponds to any income types\n",
    "print(de_null['income_type'].value_counts())"
   ]
  },
  {
   "cell_type": "markdown",
   "metadata": {},
   "source": [
    "* Null values don't correspond to any employment type. These values are fully missing."
   ]
  },
  {
   "cell_type": "code",
   "execution_count": 36,
   "metadata": {},
   "outputs": [
    {
     "data": {
      "text/plain": [
       "0"
      ]
     },
     "execution_count": 36,
     "metadata": {},
     "output_type": "execute_result"
    }
   ],
   "source": [
    "#Rows where days_employed is null & total_income not null\n",
    "de_null[de_null['total_income'].notnull()].shape[0]"
   ]
  },
  {
   "cell_type": "markdown",
   "metadata": {},
   "source": [
    "* The null values in days_employed and total_income correspond perfectly as suspected."
   ]
  },
  {
   "cell_type": "markdown",
   "metadata": {},
   "source": [
    "**Explore where days_employed is POSITIVE**"
   ]
  },
  {
   "cell_type": "code",
   "execution_count": 37,
   "metadata": {
    "scrolled": true
   },
   "outputs": [
    {
     "data": {
      "text/plain": [
       "retiree       3443\n",
       "unemployed       2\n",
       "Name: income_type, dtype: int64"
      ]
     },
     "execution_count": 37,
     "metadata": {},
     "output_type": "execute_result"
    }
   ],
   "source": [
    "#Check if positive # of days_employed corresponds to any income types\n",
    "de_pos['income_type'].value_counts()"
   ]
  },
  {
   "cell_type": "markdown",
   "metadata": {},
   "source": [
    "* Positive days_employed correspond to \"retiree\" & \"unemployed\", both of which should have a days_employed value of 0."
   ]
  },
  {
   "cell_type": "code",
   "execution_count": 38,
   "metadata": {
    "scrolled": false
   },
   "outputs": [
    {
     "data": {
      "text/html": [
       "<div>\n",
       "<style scoped>\n",
       "    .dataframe tbody tr th:only-of-type {\n",
       "        vertical-align: middle;\n",
       "    }\n",
       "\n",
       "    .dataframe tbody tr th {\n",
       "        vertical-align: top;\n",
       "    }\n",
       "\n",
       "    .dataframe thead th {\n",
       "        text-align: right;\n",
       "    }\n",
       "</style>\n",
       "<table border=\"1\" class=\"dataframe\">\n",
       "  <thead>\n",
       "    <tr style=\"text-align: right;\">\n",
       "      <th></th>\n",
       "      <th>children</th>\n",
       "      <th>days_employed</th>\n",
       "      <th>age</th>\n",
       "      <th>education_id</th>\n",
       "      <th>family_status_id</th>\n",
       "      <th>defaulted</th>\n",
       "      <th>total_income</th>\n",
       "      <th>years_employed</th>\n",
       "    </tr>\n",
       "  </thead>\n",
       "  <tbody>\n",
       "    <tr>\n",
       "      <th>count</th>\n",
       "      <td>3445.000000</td>\n",
       "      <td>3445.000000</td>\n",
       "      <td>3445.000000</td>\n",
       "      <td>3445.000000</td>\n",
       "      <td>3445.000000</td>\n",
       "      <td>3445.000000</td>\n",
       "      <td>3445.000000</td>\n",
       "      <td>3445.000000</td>\n",
       "    </tr>\n",
       "    <tr>\n",
       "      <th>mean</th>\n",
       "      <td>0.095791</td>\n",
       "      <td>365004.309916</td>\n",
       "      <td>59.322206</td>\n",
       "      <td>0.914659</td>\n",
       "      <td>0.984325</td>\n",
       "      <td>0.052830</td>\n",
       "      <td>21939.856893</td>\n",
       "      <td>999.327337</td>\n",
       "    </tr>\n",
       "    <tr>\n",
       "      <th>std</th>\n",
       "      <td>0.338400</td>\n",
       "      <td>21075.016396</td>\n",
       "      <td>6.478911</td>\n",
       "      <td>0.517103</td>\n",
       "      <td>1.316071</td>\n",
       "      <td>0.223727</td>\n",
       "      <td>12838.753752</td>\n",
       "      <td>57.700250</td>\n",
       "    </tr>\n",
       "    <tr>\n",
       "      <th>min</th>\n",
       "      <td>0.000000</td>\n",
       "      <td>328728.720605</td>\n",
       "      <td>22.000000</td>\n",
       "      <td>0.000000</td>\n",
       "      <td>0.000000</td>\n",
       "      <td>0.000000</td>\n",
       "      <td>3306.762000</td>\n",
       "      <td>900.010186</td>\n",
       "    </tr>\n",
       "    <tr>\n",
       "      <th>25%</th>\n",
       "      <td>0.000000</td>\n",
       "      <td>346639.413916</td>\n",
       "      <td>56.000000</td>\n",
       "      <td>1.000000</td>\n",
       "      <td>0.000000</td>\n",
       "      <td>0.000000</td>\n",
       "      <td>13260.214000</td>\n",
       "      <td>949.046992</td>\n",
       "    </tr>\n",
       "    <tr>\n",
       "      <th>50%</th>\n",
       "      <td>0.000000</td>\n",
       "      <td>365213.306266</td>\n",
       "      <td>60.000000</td>\n",
       "      <td>1.000000</td>\n",
       "      <td>0.000000</td>\n",
       "      <td>0.000000</td>\n",
       "      <td>18962.318000</td>\n",
       "      <td>999.899538</td>\n",
       "    </tr>\n",
       "    <tr>\n",
       "      <th>75%</th>\n",
       "      <td>0.000000</td>\n",
       "      <td>383246.444219</td>\n",
       "      <td>64.000000</td>\n",
       "      <td>1.000000</td>\n",
       "      <td>2.000000</td>\n",
       "      <td>0.000000</td>\n",
       "      <td>27159.402000</td>\n",
       "      <td>1049.271579</td>\n",
       "    </tr>\n",
       "    <tr>\n",
       "      <th>max</th>\n",
       "      <td>4.000000</td>\n",
       "      <td>401755.400475</td>\n",
       "      <td>74.000000</td>\n",
       "      <td>4.000000</td>\n",
       "      <td>4.000000</td>\n",
       "      <td>1.000000</td>\n",
       "      <td>117616.523000</td>\n",
       "      <td>1099.946339</td>\n",
       "    </tr>\n",
       "  </tbody>\n",
       "</table>\n",
       "</div>"
      ],
      "text/plain": [
       "          children  days_employed          age  education_id  \\\n",
       "count  3445.000000    3445.000000  3445.000000   3445.000000   \n",
       "mean      0.095791  365004.309916    59.322206      0.914659   \n",
       "std       0.338400   21075.016396     6.478911      0.517103   \n",
       "min       0.000000  328728.720605    22.000000      0.000000   \n",
       "25%       0.000000  346639.413916    56.000000      1.000000   \n",
       "50%       0.000000  365213.306266    60.000000      1.000000   \n",
       "75%       0.000000  383246.444219    64.000000      1.000000   \n",
       "max       4.000000  401755.400475    74.000000      4.000000   \n",
       "\n",
       "       family_status_id    defaulted   total_income  years_employed  \n",
       "count       3445.000000  3445.000000    3445.000000     3445.000000  \n",
       "mean           0.984325     0.052830   21939.856893      999.327337  \n",
       "std            1.316071     0.223727   12838.753752       57.700250  \n",
       "min            0.000000     0.000000    3306.762000      900.010186  \n",
       "25%            0.000000     0.000000   13260.214000      949.046992  \n",
       "50%            0.000000     0.000000   18962.318000      999.899538  \n",
       "75%            2.000000     0.000000   27159.402000     1049.271579  \n",
       "max            4.000000     1.000000  117616.523000     1099.946339  "
      ]
     },
     "execution_count": 38,
     "metadata": {},
     "output_type": "execute_result"
    }
   ],
   "source": [
    "#Calculate days_employed as years_employed for increased understanding of the values\n",
    "de_pos['years_employed'] = de_pos['days_employed']/365.25\n",
    "de_pos.describe()"
   ]
  },
  {
   "cell_type": "markdown",
   "metadata": {},
   "source": [
    "* The minimum number of years employeed is 900, with a max of 1100. These seem to be arbitrarily large numbers."
   ]
  },
  {
   "cell_type": "markdown",
   "metadata": {},
   "source": [
    "**Explore where days_employed is NEGATIVE**"
   ]
  },
  {
   "cell_type": "code",
   "execution_count": 39,
   "metadata": {
    "scrolled": true
   },
   "outputs": [
    {
     "data": {
      "text/plain": [
       "employee                       10014\n",
       "business                        4577\n",
       "civil servant                   1312\n",
       "student                            1\n",
       "entrepreneur                       1\n",
       "paternity / maternity leave        1\n",
       "Name: income_type, dtype: int64"
      ]
     },
     "execution_count": 39,
     "metadata": {},
     "output_type": "execute_result"
    }
   ],
   "source": [
    "#Check if negative days_employed corresponds to any income types\n",
    "de_neg['income_type'].value_counts()"
   ]
  },
  {
   "cell_type": "markdown",
   "metadata": {},
   "source": [
    "* Retiree & unemployed are missing from negative days employed."
   ]
  },
  {
   "cell_type": "code",
   "execution_count": 40,
   "metadata": {},
   "outputs": [
    {
     "data": {
      "text/html": [
       "<div>\n",
       "<style scoped>\n",
       "    .dataframe tbody tr th:only-of-type {\n",
       "        vertical-align: middle;\n",
       "    }\n",
       "\n",
       "    .dataframe tbody tr th {\n",
       "        vertical-align: top;\n",
       "    }\n",
       "\n",
       "    .dataframe thead th {\n",
       "        text-align: right;\n",
       "    }\n",
       "</style>\n",
       "<table border=\"1\" class=\"dataframe\">\n",
       "  <thead>\n",
       "    <tr style=\"text-align: right;\">\n",
       "      <th></th>\n",
       "      <th>children</th>\n",
       "      <th>days_employed</th>\n",
       "      <th>age</th>\n",
       "      <th>education_id</th>\n",
       "      <th>family_status_id</th>\n",
       "      <th>defaulted</th>\n",
       "      <th>total_income</th>\n",
       "      <th>years_employed</th>\n",
       "    </tr>\n",
       "  </thead>\n",
       "  <tbody>\n",
       "    <tr>\n",
       "      <th>count</th>\n",
       "      <td>15906.000000</td>\n",
       "      <td>15906.000000</td>\n",
       "      <td>15906.000000</td>\n",
       "      <td>15906.000000</td>\n",
       "      <td>15906.000000</td>\n",
       "      <td>15906.000000</td>\n",
       "      <td>15906.000000</td>\n",
       "      <td>15906.000000</td>\n",
       "    </tr>\n",
       "    <tr>\n",
       "      <th>mean</th>\n",
       "      <td>0.562744</td>\n",
       "      <td>-2353.015932</td>\n",
       "      <td>40.004338</td>\n",
       "      <td>0.798378</td>\n",
       "      <td>0.969634</td>\n",
       "      <td>0.087326</td>\n",
       "      <td>27837.509634</td>\n",
       "      <td>-6.442207</td>\n",
       "    </tr>\n",
       "    <tr>\n",
       "      <th>std</th>\n",
       "      <td>0.792367</td>\n",
       "      <td>2304.243851</td>\n",
       "      <td>10.309803</td>\n",
       "      <td>0.554845</td>\n",
       "      <td>1.442263</td>\n",
       "      <td>0.282320</td>\n",
       "      <td>16980.846677</td>\n",
       "      <td>6.308676</td>\n",
       "    </tr>\n",
       "    <tr>\n",
       "      <th>min</th>\n",
       "      <td>0.000000</td>\n",
       "      <td>-18388.949901</td>\n",
       "      <td>19.000000</td>\n",
       "      <td>0.000000</td>\n",
       "      <td>0.000000</td>\n",
       "      <td>0.000000</td>\n",
       "      <td>3418.824000</td>\n",
       "      <td>-50.346201</td>\n",
       "    </tr>\n",
       "    <tr>\n",
       "      <th>25%</th>\n",
       "      <td>0.000000</td>\n",
       "      <td>-3157.480084</td>\n",
       "      <td>32.000000</td>\n",
       "      <td>0.000000</td>\n",
       "      <td>0.000000</td>\n",
       "      <td>0.000000</td>\n",
       "      <td>17323.415000</td>\n",
       "      <td>-8.644709</td>\n",
       "    </tr>\n",
       "    <tr>\n",
       "      <th>50%</th>\n",
       "      <td>0.000000</td>\n",
       "      <td>-1630.019381</td>\n",
       "      <td>39.000000</td>\n",
       "      <td>1.000000</td>\n",
       "      <td>0.000000</td>\n",
       "      <td>0.000000</td>\n",
       "      <td>24181.535000</td>\n",
       "      <td>-4.462750</td>\n",
       "    </tr>\n",
       "    <tr>\n",
       "      <th>75%</th>\n",
       "      <td>1.000000</td>\n",
       "      <td>-756.371964</td>\n",
       "      <td>48.000000</td>\n",
       "      <td>1.000000</td>\n",
       "      <td>1.000000</td>\n",
       "      <td>0.000000</td>\n",
       "      <td>33839.106500</td>\n",
       "      <td>-2.070834</td>\n",
       "    </tr>\n",
       "    <tr>\n",
       "      <th>max</th>\n",
       "      <td>5.000000</td>\n",
       "      <td>-24.141633</td>\n",
       "      <td>75.000000</td>\n",
       "      <td>4.000000</td>\n",
       "      <td>4.000000</td>\n",
       "      <td>1.000000</td>\n",
       "      <td>362496.645000</td>\n",
       "      <td>-0.066096</td>\n",
       "    </tr>\n",
       "  </tbody>\n",
       "</table>\n",
       "</div>"
      ],
      "text/plain": [
       "           children  days_employed           age  education_id  \\\n",
       "count  15906.000000   15906.000000  15906.000000  15906.000000   \n",
       "mean       0.562744   -2353.015932     40.004338      0.798378   \n",
       "std        0.792367    2304.243851     10.309803      0.554845   \n",
       "min        0.000000  -18388.949901     19.000000      0.000000   \n",
       "25%        0.000000   -3157.480084     32.000000      0.000000   \n",
       "50%        0.000000   -1630.019381     39.000000      1.000000   \n",
       "75%        1.000000    -756.371964     48.000000      1.000000   \n",
       "max        5.000000     -24.141633     75.000000      4.000000   \n",
       "\n",
       "       family_status_id     defaulted   total_income  years_employed  \n",
       "count      15906.000000  15906.000000   15906.000000    15906.000000  \n",
       "mean           0.969634      0.087326   27837.509634       -6.442207  \n",
       "std            1.442263      0.282320   16980.846677        6.308676  \n",
       "min            0.000000      0.000000    3418.824000      -50.346201  \n",
       "25%            0.000000      0.000000   17323.415000       -8.644709  \n",
       "50%            0.000000      0.000000   24181.535000       -4.462750  \n",
       "75%            1.000000      0.000000   33839.106500       -2.070834  \n",
       "max            4.000000      1.000000  362496.645000       -0.066096  "
      ]
     },
     "execution_count": 40,
     "metadata": {},
     "output_type": "execute_result"
    }
   ],
   "source": [
    "#Calculate days_employed as years_employed for increased understanding of the values\n",
    "de_neg['years_employed'] = de_neg['days_employed']/365.25\n",
    "de_neg.describe()"
   ]
  },
  {
   "cell_type": "markdown",
   "metadata": {},
   "source": [
    "The absolute values of the negative values in \"years_employed\" look much more realistic as actual lengths of employement. We will assume the absolute values of these negatives are the true values. Previously positive values will be set to 0 to represent lack of employment."
   ]
  },
  {
   "cell_type": "code",
   "execution_count": 41,
   "metadata": {},
   "outputs": [
    {
     "data": {
      "text/html": [
       "<div>\n",
       "<style scoped>\n",
       "    .dataframe tbody tr th:only-of-type {\n",
       "        vertical-align: middle;\n",
       "    }\n",
       "\n",
       "    .dataframe tbody tr th {\n",
       "        vertical-align: top;\n",
       "    }\n",
       "\n",
       "    .dataframe thead th {\n",
       "        text-align: right;\n",
       "    }\n",
       "</style>\n",
       "<table border=\"1\" class=\"dataframe\">\n",
       "  <thead>\n",
       "    <tr style=\"text-align: right;\">\n",
       "      <th></th>\n",
       "      <th>children</th>\n",
       "      <th>days_employed</th>\n",
       "      <th>age</th>\n",
       "      <th>education_id</th>\n",
       "      <th>family_status_id</th>\n",
       "      <th>defaulted</th>\n",
       "      <th>total_income</th>\n",
       "    </tr>\n",
       "  </thead>\n",
       "  <tbody>\n",
       "    <tr>\n",
       "      <th>count</th>\n",
       "      <td>21525.000000</td>\n",
       "      <td>19351.000000</td>\n",
       "      <td>21525.000000</td>\n",
       "      <td>21525.000000</td>\n",
       "      <td>21525.000000</td>\n",
       "      <td>21525.000000</td>\n",
       "      <td>19351.000000</td>\n",
       "    </tr>\n",
       "    <tr>\n",
       "      <th>mean</th>\n",
       "      <td>0.479721</td>\n",
       "      <td>1934.115623</td>\n",
       "      <td>43.481069</td>\n",
       "      <td>0.817236</td>\n",
       "      <td>0.972544</td>\n",
       "      <td>0.080883</td>\n",
       "      <td>26787.568355</td>\n",
       "    </tr>\n",
       "    <tr>\n",
       "      <th>std</th>\n",
       "      <td>0.755528</td>\n",
       "      <td>2274.751213</td>\n",
       "      <td>12.220504</td>\n",
       "      <td>0.548138</td>\n",
       "      <td>1.420324</td>\n",
       "      <td>0.272661</td>\n",
       "      <td>16475.450632</td>\n",
       "    </tr>\n",
       "    <tr>\n",
       "      <th>min</th>\n",
       "      <td>0.000000</td>\n",
       "      <td>0.000000</td>\n",
       "      <td>19.000000</td>\n",
       "      <td>0.000000</td>\n",
       "      <td>0.000000</td>\n",
       "      <td>0.000000</td>\n",
       "      <td>3306.762000</td>\n",
       "    </tr>\n",
       "    <tr>\n",
       "      <th>25%</th>\n",
       "      <td>0.000000</td>\n",
       "      <td>291.095954</td>\n",
       "      <td>34.000000</td>\n",
       "      <td>1.000000</td>\n",
       "      <td>0.000000</td>\n",
       "      <td>0.000000</td>\n",
       "      <td>16488.504500</td>\n",
       "    </tr>\n",
       "    <tr>\n",
       "      <th>50%</th>\n",
       "      <td>0.000000</td>\n",
       "      <td>1203.369529</td>\n",
       "      <td>42.000000</td>\n",
       "      <td>1.000000</td>\n",
       "      <td>0.000000</td>\n",
       "      <td>0.000000</td>\n",
       "      <td>23202.870000</td>\n",
       "    </tr>\n",
       "    <tr>\n",
       "      <th>75%</th>\n",
       "      <td>1.000000</td>\n",
       "      <td>2747.423625</td>\n",
       "      <td>53.000000</td>\n",
       "      <td>1.000000</td>\n",
       "      <td>1.000000</td>\n",
       "      <td>0.000000</td>\n",
       "      <td>32549.611000</td>\n",
       "    </tr>\n",
       "    <tr>\n",
       "      <th>max</th>\n",
       "      <td>5.000000</td>\n",
       "      <td>18388.949901</td>\n",
       "      <td>75.000000</td>\n",
       "      <td>4.000000</td>\n",
       "      <td>4.000000</td>\n",
       "      <td>1.000000</td>\n",
       "      <td>362496.645000</td>\n",
       "    </tr>\n",
       "  </tbody>\n",
       "</table>\n",
       "</div>"
      ],
      "text/plain": [
       "           children  days_employed           age  education_id  \\\n",
       "count  21525.000000   19351.000000  21525.000000  21525.000000   \n",
       "mean       0.479721    1934.115623     43.481069      0.817236   \n",
       "std        0.755528    2274.751213     12.220504      0.548138   \n",
       "min        0.000000       0.000000     19.000000      0.000000   \n",
       "25%        0.000000     291.095954     34.000000      1.000000   \n",
       "50%        0.000000    1203.369529     42.000000      1.000000   \n",
       "75%        1.000000    2747.423625     53.000000      1.000000   \n",
       "max        5.000000   18388.949901     75.000000      4.000000   \n",
       "\n",
       "       family_status_id     defaulted   total_income  \n",
       "count      21525.000000  21525.000000   19351.000000  \n",
       "mean           0.972544      0.080883   26787.568355  \n",
       "std            1.420324      0.272661   16475.450632  \n",
       "min            0.000000      0.000000    3306.762000  \n",
       "25%            0.000000      0.000000   16488.504500  \n",
       "50%            0.000000      0.000000   23202.870000  \n",
       "75%            1.000000      0.000000   32549.611000  \n",
       "max            4.000000      1.000000  362496.645000  "
      ]
     },
     "execution_count": 41,
     "metadata": {},
     "output_type": "execute_result"
    }
   ],
   "source": [
    "#Change positives to 0 to represent unemployment\n",
    "cs_new.loc[cs_new['days_employed'] > 0, 'days_employed'] = 0\n",
    "\n",
    "#Change negatives to positives\n",
    "cs_new['days_employed'] = cs_new['days_employed'].abs()\n",
    "\n",
    "cs_new.describe()"
   ]
  },
  {
   "cell_type": "markdown",
   "metadata": {},
   "source": [
    "To be sure that the new length of employement is reasonable, we should compare days_employed to customer age. First, days_employed must be converted to years to ease comparison."
   ]
  },
  {
   "cell_type": "code",
   "execution_count": 42,
   "metadata": {},
   "outputs": [
    {
     "data": {
      "text/html": [
       "<div>\n",
       "<style scoped>\n",
       "    .dataframe tbody tr th:only-of-type {\n",
       "        vertical-align: middle;\n",
       "    }\n",
       "\n",
       "    .dataframe tbody tr th {\n",
       "        vertical-align: top;\n",
       "    }\n",
       "\n",
       "    .dataframe thead th {\n",
       "        text-align: right;\n",
       "    }\n",
       "</style>\n",
       "<table border=\"1\" class=\"dataframe\">\n",
       "  <thead>\n",
       "    <tr style=\"text-align: right;\">\n",
       "      <th></th>\n",
       "      <th>age</th>\n",
       "      <th>years_employed</th>\n",
       "    </tr>\n",
       "  </thead>\n",
       "  <tbody>\n",
       "    <tr>\n",
       "      <th>count</th>\n",
       "      <td>21525.000000</td>\n",
       "      <td>19351.000000</td>\n",
       "    </tr>\n",
       "    <tr>\n",
       "      <th>mean</th>\n",
       "      <td>43.481069</td>\n",
       "      <td>5.295401</td>\n",
       "    </tr>\n",
       "    <tr>\n",
       "      <th>std</th>\n",
       "      <td>12.220504</td>\n",
       "      <td>6.228109</td>\n",
       "    </tr>\n",
       "    <tr>\n",
       "      <th>min</th>\n",
       "      <td>19.000000</td>\n",
       "      <td>0.000000</td>\n",
       "    </tr>\n",
       "    <tr>\n",
       "      <th>25%</th>\n",
       "      <td>34.000000</td>\n",
       "      <td>0.800000</td>\n",
       "    </tr>\n",
       "    <tr>\n",
       "      <th>50%</th>\n",
       "      <td>42.000000</td>\n",
       "      <td>3.300000</td>\n",
       "    </tr>\n",
       "    <tr>\n",
       "      <th>75%</th>\n",
       "      <td>53.000000</td>\n",
       "      <td>7.500000</td>\n",
       "    </tr>\n",
       "    <tr>\n",
       "      <th>max</th>\n",
       "      <td>75.000000</td>\n",
       "      <td>50.300000</td>\n",
       "    </tr>\n",
       "  </tbody>\n",
       "</table>\n",
       "</div>"
      ],
      "text/plain": [
       "                age  years_employed\n",
       "count  21525.000000    19351.000000\n",
       "mean      43.481069        5.295401\n",
       "std       12.220504        6.228109\n",
       "min       19.000000        0.000000\n",
       "25%       34.000000        0.800000\n",
       "50%       42.000000        3.300000\n",
       "75%       53.000000        7.500000\n",
       "max       75.000000       50.300000"
      ]
     },
     "execution_count": 42,
     "metadata": {},
     "output_type": "execute_result"
    }
   ],
   "source": [
    "#Create column years_employed\n",
    "cs_new['years_employed'] = (cs_new['days_employed']/365.25).round(1)\n",
    "\n",
    "#Create a slice of just age and years_employed\n",
    "age_yemp = cs_new[['age','years_employed']]\n",
    "age_yemp.describe()"
   ]
  },
  {
   "cell_type": "code",
   "execution_count": 43,
   "metadata": {},
   "outputs": [
    {
     "data": {
      "text/html": [
       "<div>\n",
       "<style scoped>\n",
       "    .dataframe tbody tr th:only-of-type {\n",
       "        vertical-align: middle;\n",
       "    }\n",
       "\n",
       "    .dataframe tbody tr th {\n",
       "        vertical-align: top;\n",
       "    }\n",
       "\n",
       "    .dataframe thead th {\n",
       "        text-align: right;\n",
       "    }\n",
       "</style>\n",
       "<table border=\"1\" class=\"dataframe\">\n",
       "  <thead>\n",
       "    <tr style=\"text-align: right;\">\n",
       "      <th></th>\n",
       "      <th>age</th>\n",
       "      <th>years_employed</th>\n",
       "    </tr>\n",
       "  </thead>\n",
       "  <tbody>\n",
       "    <tr>\n",
       "      <th>16335</th>\n",
       "      <td>61</td>\n",
       "      <td>50.3</td>\n",
       "    </tr>\n",
       "    <tr>\n",
       "      <th>4299</th>\n",
       "      <td>61</td>\n",
       "      <td>48.2</td>\n",
       "    </tr>\n",
       "    <tr>\n",
       "      <th>7329</th>\n",
       "      <td>60</td>\n",
       "      <td>45.4</td>\n",
       "    </tr>\n",
       "    <tr>\n",
       "      <th>17838</th>\n",
       "      <td>59</td>\n",
       "      <td>44.5</td>\n",
       "    </tr>\n",
       "    <tr>\n",
       "      <th>16825</th>\n",
       "      <td>64</td>\n",
       "      <td>44.1</td>\n",
       "    </tr>\n",
       "    <tr>\n",
       "      <th>3974</th>\n",
       "      <td>64</td>\n",
       "      <td>43.4</td>\n",
       "    </tr>\n",
       "    <tr>\n",
       "      <th>4321</th>\n",
       "      <td>61</td>\n",
       "      <td>43.2</td>\n",
       "    </tr>\n",
       "    <tr>\n",
       "      <th>1539</th>\n",
       "      <td>59</td>\n",
       "      <td>43.2</td>\n",
       "    </tr>\n",
       "    <tr>\n",
       "      <th>7731</th>\n",
       "      <td>64</td>\n",
       "      <td>42.8</td>\n",
       "    </tr>\n",
       "    <tr>\n",
       "      <th>15675</th>\n",
       "      <td>65</td>\n",
       "      <td>42.2</td>\n",
       "    </tr>\n",
       "  </tbody>\n",
       "</table>\n",
       "</div>"
      ],
      "text/plain": [
       "       age  years_employed\n",
       "16335   61            50.3\n",
       "4299    61            48.2\n",
       "7329    60            45.4\n",
       "17838   59            44.5\n",
       "16825   64            44.1\n",
       "3974    64            43.4\n",
       "4321    61            43.2\n",
       "1539    59            43.2\n",
       "7731    64            42.8\n",
       "15675   65            42.2"
      ]
     },
     "execution_count": 43,
     "metadata": {},
     "output_type": "execute_result"
    }
   ],
   "source": [
    "#Check highest values of years_employed compared to age\n",
    "age_yemp.sort_values('years_employed', ascending = False).head(10)"
   ]
  },
  {
   "cell_type": "markdown",
   "metadata": {},
   "source": [
    "Most of these values seem reasonable, while others are unlikely. For example, the highest value implies this person started working at 11 years old. All values that imply a customer started working under the age of 15 will be assumed missing."
   ]
  },
  {
   "cell_type": "code",
   "execution_count": 44,
   "metadata": {},
   "outputs": [
    {
     "name": "stdout",
     "output_type": "stream",
     "text": [
      "The number of rows that don't meet a minimum working age of 15: 45\n"
     ]
    },
    {
     "data": {
      "text/html": [
       "<div>\n",
       "<style scoped>\n",
       "    .dataframe tbody tr th:only-of-type {\n",
       "        vertical-align: middle;\n",
       "    }\n",
       "\n",
       "    .dataframe tbody tr th {\n",
       "        vertical-align: top;\n",
       "    }\n",
       "\n",
       "    .dataframe thead th {\n",
       "        text-align: right;\n",
       "    }\n",
       "</style>\n",
       "<table border=\"1\" class=\"dataframe\">\n",
       "  <thead>\n",
       "    <tr style=\"text-align: right;\">\n",
       "      <th></th>\n",
       "      <th>children</th>\n",
       "      <th>days_employed</th>\n",
       "      <th>age</th>\n",
       "      <th>education</th>\n",
       "      <th>education_id</th>\n",
       "      <th>family_status</th>\n",
       "      <th>family_status_id</th>\n",
       "      <th>gender</th>\n",
       "      <th>income_type</th>\n",
       "      <th>defaulted</th>\n",
       "      <th>total_income</th>\n",
       "      <th>purpose</th>\n",
       "      <th>years_employed</th>\n",
       "    </tr>\n",
       "  </thead>\n",
       "  <tbody>\n",
       "    <tr>\n",
       "      <th>397</th>\n",
       "      <td>0</td>\n",
       "      <td>12506.318296</td>\n",
       "      <td>46</td>\n",
       "      <td>secondary education</td>\n",
       "      <td>1</td>\n",
       "      <td>married</td>\n",
       "      <td>0</td>\n",
       "      <td>F</td>\n",
       "      <td>employee</td>\n",
       "      <td>0</td>\n",
       "      <td>46854.926</td>\n",
       "      <td>property</td>\n",
       "      <td>34.2</td>\n",
       "    </tr>\n",
       "    <tr>\n",
       "      <th>714</th>\n",
       "      <td>1</td>\n",
       "      <td>7375.209318</td>\n",
       "      <td>35</td>\n",
       "      <td>secondary education</td>\n",
       "      <td>1</td>\n",
       "      <td>married</td>\n",
       "      <td>0</td>\n",
       "      <td>M</td>\n",
       "      <td>civil servant</td>\n",
       "      <td>0</td>\n",
       "      <td>42786.456</td>\n",
       "      <td>housing transactions</td>\n",
       "      <td>20.2</td>\n",
       "    </tr>\n",
       "    <tr>\n",
       "      <th>2082</th>\n",
       "      <td>0</td>\n",
       "      <td>10689.250498</td>\n",
       "      <td>40</td>\n",
       "      <td>secondary education</td>\n",
       "      <td>1</td>\n",
       "      <td>married</td>\n",
       "      <td>0</td>\n",
       "      <td>F</td>\n",
       "      <td>employee</td>\n",
       "      <td>0</td>\n",
       "      <td>61819.782</td>\n",
       "      <td>real estate transactions</td>\n",
       "      <td>29.3</td>\n",
       "    </tr>\n",
       "    <tr>\n",
       "      <th>2492</th>\n",
       "      <td>0</td>\n",
       "      <td>13724.223884</td>\n",
       "      <td>50</td>\n",
       "      <td>bachelor's degree</td>\n",
       "      <td>0</td>\n",
       "      <td>married</td>\n",
       "      <td>0</td>\n",
       "      <td>F</td>\n",
       "      <td>employee</td>\n",
       "      <td>0</td>\n",
       "      <td>14104.366</td>\n",
       "      <td>building a real estate</td>\n",
       "      <td>37.6</td>\n",
       "    </tr>\n",
       "    <tr>\n",
       "      <th>3417</th>\n",
       "      <td>1</td>\n",
       "      <td>5673.867214</td>\n",
       "      <td>29</td>\n",
       "      <td>secondary education</td>\n",
       "      <td>1</td>\n",
       "      <td>married</td>\n",
       "      <td>0</td>\n",
       "      <td>M</td>\n",
       "      <td>employee</td>\n",
       "      <td>0</td>\n",
       "      <td>46084.516</td>\n",
       "      <td>to get a supplementary education</td>\n",
       "      <td>15.5</td>\n",
       "    </tr>\n",
       "    <tr>\n",
       "      <th>3645</th>\n",
       "      <td>1</td>\n",
       "      <td>8602.090178</td>\n",
       "      <td>38</td>\n",
       "      <td>bachelor's degree</td>\n",
       "      <td>0</td>\n",
       "      <td>civil partnership</td>\n",
       "      <td>1</td>\n",
       "      <td>M</td>\n",
       "      <td>employee</td>\n",
       "      <td>0</td>\n",
       "      <td>29586.384</td>\n",
       "      <td>housing renovation</td>\n",
       "      <td>23.6</td>\n",
       "    </tr>\n",
       "    <tr>\n",
       "      <th>3957</th>\n",
       "      <td>0</td>\n",
       "      <td>12111.680981</td>\n",
       "      <td>47</td>\n",
       "      <td>secondary education</td>\n",
       "      <td>1</td>\n",
       "      <td>married</td>\n",
       "      <td>0</td>\n",
       "      <td>F</td>\n",
       "      <td>business</td>\n",
       "      <td>0</td>\n",
       "      <td>17344.981</td>\n",
       "      <td>buy commercial real estate</td>\n",
       "      <td>33.2</td>\n",
       "    </tr>\n",
       "    <tr>\n",
       "      <th>4299</th>\n",
       "      <td>0</td>\n",
       "      <td>17615.563266</td>\n",
       "      <td>61</td>\n",
       "      <td>secondary education</td>\n",
       "      <td>1</td>\n",
       "      <td>married</td>\n",
       "      <td>0</td>\n",
       "      <td>F</td>\n",
       "      <td>business</td>\n",
       "      <td>0</td>\n",
       "      <td>19609.719</td>\n",
       "      <td>purchase of the house</td>\n",
       "      <td>48.2</td>\n",
       "    </tr>\n",
       "    <tr>\n",
       "      <th>5230</th>\n",
       "      <td>1</td>\n",
       "      <td>8719.808251</td>\n",
       "      <td>38</td>\n",
       "      <td>secondary education</td>\n",
       "      <td>1</td>\n",
       "      <td>civil partnership</td>\n",
       "      <td>1</td>\n",
       "      <td>F</td>\n",
       "      <td>employee</td>\n",
       "      <td>0</td>\n",
       "      <td>11679.853</td>\n",
       "      <td>property</td>\n",
       "      <td>23.9</td>\n",
       "    </tr>\n",
       "    <tr>\n",
       "      <th>5581</th>\n",
       "      <td>0</td>\n",
       "      <td>15079.216069</td>\n",
       "      <td>55</td>\n",
       "      <td>secondary education</td>\n",
       "      <td>1</td>\n",
       "      <td>married</td>\n",
       "      <td>0</td>\n",
       "      <td>F</td>\n",
       "      <td>civil servant</td>\n",
       "      <td>0</td>\n",
       "      <td>28601.820</td>\n",
       "      <td>housing transactions</td>\n",
       "      <td>41.3</td>\n",
       "    </tr>\n",
       "  </tbody>\n",
       "</table>\n",
       "</div>"
      ],
      "text/plain": [
       "      children  days_employed  age            education  education_id  \\\n",
       "397          0   12506.318296   46  secondary education             1   \n",
       "714          1    7375.209318   35  secondary education             1   \n",
       "2082         0   10689.250498   40  secondary education             1   \n",
       "2492         0   13724.223884   50    bachelor's degree             0   \n",
       "3417         1    5673.867214   29  secondary education             1   \n",
       "3645         1    8602.090178   38    bachelor's degree             0   \n",
       "3957         0   12111.680981   47  secondary education             1   \n",
       "4299         0   17615.563266   61  secondary education             1   \n",
       "5230         1    8719.808251   38  secondary education             1   \n",
       "5581         0   15079.216069   55  secondary education             1   \n",
       "\n",
       "          family_status  family_status_id gender    income_type  defaulted  \\\n",
       "397             married                 0      F       employee          0   \n",
       "714             married                 0      M  civil servant          0   \n",
       "2082            married                 0      F       employee          0   \n",
       "2492            married                 0      F       employee          0   \n",
       "3417            married                 0      M       employee          0   \n",
       "3645  civil partnership                 1      M       employee          0   \n",
       "3957            married                 0      F       business          0   \n",
       "4299            married                 0      F       business          0   \n",
       "5230  civil partnership                 1      F       employee          0   \n",
       "5581            married                 0      F  civil servant          0   \n",
       "\n",
       "      total_income                           purpose  years_employed  \n",
       "397      46854.926                          property            34.2  \n",
       "714      42786.456              housing transactions            20.2  \n",
       "2082     61819.782          real estate transactions            29.3  \n",
       "2492     14104.366            building a real estate            37.6  \n",
       "3417     46084.516  to get a supplementary education            15.5  \n",
       "3645     29586.384                housing renovation            23.6  \n",
       "3957     17344.981        buy commercial real estate            33.2  \n",
       "4299     19609.719             purchase of the house            48.2  \n",
       "5230     11679.853                          property            23.9  \n",
       "5581     28601.820              housing transactions            41.3  "
      ]
     },
     "execution_count": 44,
     "metadata": {},
     "output_type": "execute_result"
    }
   ],
   "source": [
    "#Check for values of years_employed that don't match working age of 15\n",
    "cond_age15 = (cs_new['age'] - cs_new['years_employed']) < 15\n",
    "\n",
    "print(\"The number of rows that don't meet a minimum working age of 15:\",len(cs_new[cond_age15]))\n",
    "\n",
    "cs_new[cond_age15].head(10)"
   ]
  },
  {
   "cell_type": "code",
   "execution_count": 45,
   "metadata": {},
   "outputs": [],
   "source": [
    "#Set unrealistic values of days employed & days_employed to 0\n",
    "cs_new.loc[cond_age15, 'days_employed'] = 0"
   ]
  },
  {
   "cell_type": "markdown",
   "metadata": {},
   "source": [
    "<b>Notes on 'days_employed'</b><br>\n",
    "    \n",
    "Analyzing this column based on positive, negative, and null values allowed a lot of insight. Positive values corresponded to non-work income types (unemployed, retiree) and were unrealistically large. Negative values corresponded with working income types. Most of the absolute value of these negatives gave very realistic ranges of days_employed. The best guess is to set the positive values to 0 to represent a lack of work, and replace negative values with their absolute values.<br>\n",
    "    \n",
    "After these changes, we had some unrealistically high values of days_worked. Any value of days_worked that would have started before the customer was 15 years of age was replaced with 0. Since we will not be analyzing based on this column, this will not affect our analysis.<br>\n",
    "    \n",
    "Ultimately the developer should be contacted an informed of these problems. It may help give them insight into what the problem is. Null values were not correlated with any income types, but directly corresponded to null values in total_income. These seem to just be completely missing.\n"
   ]
  },
  {
   "cell_type": "markdown",
   "metadata": {},
   "source": [
    "[Return to Table of Contents](#toc)"
   ]
  },
  {
   "cell_type": "markdown",
   "metadata": {},
   "source": [
    "<a class='anchor' id = 'mv_income'></a>\n",
    "#### 3.1.4 Missing values in `'total_income'`"
   ]
  },
  {
   "cell_type": "markdown",
   "metadata": {},
   "source": [
    "We already know null in values do not correspond to income types, since they did not correspond to the same rows with null days_employes.\n",
    "\n",
    "These rows should be dropped, since they will impact our overall analysis."
   ]
  },
  {
   "cell_type": "code",
   "execution_count": 46,
   "metadata": {
    "scrolled": true
   },
   "outputs": [
    {
     "data": {
      "text/html": [
       "<div>\n",
       "<style scoped>\n",
       "    .dataframe tbody tr th:only-of-type {\n",
       "        vertical-align: middle;\n",
       "    }\n",
       "\n",
       "    .dataframe tbody tr th {\n",
       "        vertical-align: top;\n",
       "    }\n",
       "\n",
       "    .dataframe thead th {\n",
       "        text-align: right;\n",
       "    }\n",
       "</style>\n",
       "<table border=\"1\" class=\"dataframe\">\n",
       "  <thead>\n",
       "    <tr style=\"text-align: right;\">\n",
       "      <th></th>\n",
       "      <th>missing</th>\n",
       "      <th>total</th>\n",
       "      <th>percent</th>\n",
       "    </tr>\n",
       "  </thead>\n",
       "  <tbody>\n",
       "    <tr>\n",
       "      <th>days_employed</th>\n",
       "      <td>2174</td>\n",
       "      <td>21525</td>\n",
       "      <td>10.099884</td>\n",
       "    </tr>\n",
       "    <tr>\n",
       "      <th>total_income</th>\n",
       "      <td>2174</td>\n",
       "      <td>21525</td>\n",
       "      <td>10.099884</td>\n",
       "    </tr>\n",
       "    <tr>\n",
       "      <th>years_employed</th>\n",
       "      <td>2174</td>\n",
       "      <td>21525</td>\n",
       "      <td>10.099884</td>\n",
       "    </tr>\n",
       "  </tbody>\n",
       "</table>\n",
       "</div>"
      ],
      "text/plain": [
       "                missing  total    percent\n",
       "days_employed      2174  21525  10.099884\n",
       "total_income       2174  21525  10.099884\n",
       "years_employed     2174  21525  10.099884"
      ]
     },
     "execution_count": 46,
     "metadata": {},
     "output_type": "execute_result"
    }
   ],
   "source": [
    "# Count & percentage of missing values\n",
    "cs_new.stb.missing(['total_income'])"
   ]
  },
  {
   "cell_type": "markdown",
   "metadata": {},
   "source": [
    "* Just over 10% of values are missing. These should be dropped."
   ]
  },
  {
   "cell_type": "code",
   "execution_count": 47,
   "metadata": {},
   "outputs": [],
   "source": [
    "#Drop rows where 'total_income' is null\n",
    "cs_new = cs_new.dropna(subset = ['total_income']).reset_index(drop=True)"
   ]
  },
  {
   "cell_type": "markdown",
   "metadata": {},
   "source": [
    "<b>Notes on 'total_income'</b><br>\n",
    "    \n",
    "The missing values in total_income do not correspond with any particular income_type, and so they appear to be missing completely at random. This column significantly affects our analysis, and there is not much information to help fill these values. The range of total_income is very diverse, so filling this value with an average value without any career information will be incredibly inaccurate. The nulls account for 10.1% of the total data, which is small enough to safely drop.\n",
    "    "
   ]
  },
  {
   "cell_type": "markdown",
   "metadata": {},
   "source": [
    "[Return to Table of Contents](#toc)"
   ]
  },
  {
   "cell_type": "markdown",
   "metadata": {},
   "source": [
    "### Conclusions on  missing values"
   ]
  },
  {
   "cell_type": "markdown",
   "metadata": {},
   "source": [
    "Missing values were identified in the following columns: children, age, days_worked, total_income. For the purposes of our analysis, 'children' and 'total_income' are the only columns of significance.\n",
    "\n",
    "<br>There were very few missing values in the 'children' column. These values were assumed to be typos and were converted to the most likely values.\n",
    "    \n",
    "<br>The missing values in 'total_income' presented a larger problem. They accounted for a somewhat significant though manageable portion of the data. The direct correspondence with the missing values in 'days_worked' implies these are somehow linked. The only way to know whether they were optional fields or were somehow lost in the export process would be to ask the source of the data.\n",
    "    \n",
    "<br>The missing values in the age column were simply filled with appropriate averages. While these do not directly affect our analysis, filling these values will allow for a deeper, suplemental understanding of our data in our final analysis.\n"
   ]
  },
  {
   "cell_type": "markdown",
   "metadata": {},
   "source": [
    "[Return to Table of Contents](#toc)"
   ]
  },
  {
   "cell_type": "markdown",
   "metadata": {},
   "source": [
    "<a class='anchor' id = 'dupes'></a>\n",
    "### 3.2 Processing duplicates"
   ]
  },
  {
   "cell_type": "markdown",
   "metadata": {},
   "source": [
    "**Fix duplicate values in 'education'**"
   ]
  },
  {
   "cell_type": "code",
   "execution_count": 48,
   "metadata": {},
   "outputs": [
    {
     "data": {
      "text/plain": [
       "education_id  education          \n",
       "0             bachelor's degree       4716\n",
       "1             secondary education    13693\n",
       "2             some college             675\n",
       "3             primary education        261\n",
       "4             graduate degree            6\n",
       "Name: education, dtype: int64"
      ]
     },
     "execution_count": 48,
     "metadata": {},
     "output_type": "execute_result"
    }
   ],
   "source": [
    "#Set all education values to lower case\n",
    "cs_new['education'] = cs_new['education'].str.lower()\n",
    "\n",
    "#Check for remaining duplicates\n",
    "cs_new.groupby(['education_id','education'])['education'].count()"
   ]
  },
  {
   "cell_type": "markdown",
   "metadata": {},
   "source": [
    "**Check for fully duplicated rows**"
   ]
  },
  {
   "cell_type": "code",
   "execution_count": 49,
   "metadata": {},
   "outputs": [
    {
     "name": "stdout",
     "output_type": "stream",
     "text": [
      "Duplicated rows: 0\n"
     ]
    }
   ],
   "source": [
    "#Check for duplicates where 'total_income' is not null\n",
    "print('Duplicated rows:',cs_new[cs_new['total_income'].notnull()].duplicated().sum())"
   ]
  },
  {
   "cell_type": "markdown",
   "metadata": {},
   "source": [
    "<b>Notes on duplicates</b>\n",
    "    \n",
    "All duplicates in the 'education' column were caused by differences in capitalization. Converting all the values to lower case eradicated all duplicates. As suspected, only rows with null values in both 'total_income' and 'days_employed' showed duplicates. However, the rest of the customer information is generic. There is no way to know if these are true duplicates without a customer ID. This confirms the previous decision to drop the rows with null values in those columns to help avoid false duplicates.   \n"
   ]
  },
  {
   "cell_type": "markdown",
   "metadata": {},
   "source": [
    "[Return to Table of Contents](#toc)"
   ]
  },
  {
   "cell_type": "markdown",
   "metadata": {},
   "source": [
    "<a class='anchor' id = 'categorize'></a>\n",
    "### 3.3 Categorizing data"
   ]
  },
  {
   "cell_type": "markdown",
   "metadata": {},
   "source": [
    "<a class='anchor' id = 'cat_income'></a>\n",
    "#### 3.3.1 Categorize by income\n",
    "\n",
    "Assign each customer an income category for easier analysis."
   ]
  },
  {
   "cell_type": "code",
   "execution_count": 50,
   "metadata": {},
   "outputs": [
    {
     "data": {
      "text/html": [
       "<div>\n",
       "<style scoped>\n",
       "    .dataframe tbody tr th:only-of-type {\n",
       "        vertical-align: middle;\n",
       "    }\n",
       "\n",
       "    .dataframe tbody tr th {\n",
       "        vertical-align: top;\n",
       "    }\n",
       "\n",
       "    .dataframe thead th {\n",
       "        text-align: right;\n",
       "    }\n",
       "</style>\n",
       "<table border=\"1\" class=\"dataframe\">\n",
       "  <thead>\n",
       "    <tr style=\"text-align: right;\">\n",
       "      <th></th>\n",
       "      <th>children</th>\n",
       "      <th>days_employed</th>\n",
       "      <th>age</th>\n",
       "      <th>education_id</th>\n",
       "      <th>family_status_id</th>\n",
       "      <th>defaulted</th>\n",
       "      <th>total_income</th>\n",
       "      <th>years_employed</th>\n",
       "    </tr>\n",
       "  </thead>\n",
       "  <tbody>\n",
       "    <tr>\n",
       "      <th>count</th>\n",
       "      <td>19351.000000</td>\n",
       "      <td>19351.000000</td>\n",
       "      <td>19351.000000</td>\n",
       "      <td>19351.000000</td>\n",
       "      <td>19351.000000</td>\n",
       "      <td>19351.000000</td>\n",
       "      <td>19351.000000</td>\n",
       "      <td>19351.000000</td>\n",
       "    </tr>\n",
       "    <tr>\n",
       "      <th>mean</th>\n",
       "      <td>0.479613</td>\n",
       "      <td>1909.542324</td>\n",
       "      <td>43.443440</td>\n",
       "      <td>0.819079</td>\n",
       "      <td>0.972249</td>\n",
       "      <td>0.081184</td>\n",
       "      <td>26787.568355</td>\n",
       "      <td>5.295401</td>\n",
       "    </tr>\n",
       "    <tr>\n",
       "      <th>std</th>\n",
       "      <td>0.753895</td>\n",
       "      <td>2231.389671</td>\n",
       "      <td>12.225009</td>\n",
       "      <td>0.550104</td>\n",
       "      <td>1.420596</td>\n",
       "      <td>0.273125</td>\n",
       "      <td>16475.450632</td>\n",
       "      <td>6.228109</td>\n",
       "    </tr>\n",
       "    <tr>\n",
       "      <th>min</th>\n",
       "      <td>0.000000</td>\n",
       "      <td>0.000000</td>\n",
       "      <td>19.000000</td>\n",
       "      <td>0.000000</td>\n",
       "      <td>0.000000</td>\n",
       "      <td>0.000000</td>\n",
       "      <td>3306.762000</td>\n",
       "      <td>0.000000</td>\n",
       "    </tr>\n",
       "    <tr>\n",
       "      <th>25%</th>\n",
       "      <td>0.000000</td>\n",
       "      <td>282.957994</td>\n",
       "      <td>33.000000</td>\n",
       "      <td>1.000000</td>\n",
       "      <td>0.000000</td>\n",
       "      <td>0.000000</td>\n",
       "      <td>16488.504500</td>\n",
       "      <td>0.800000</td>\n",
       "    </tr>\n",
       "    <tr>\n",
       "      <th>50%</th>\n",
       "      <td>0.000000</td>\n",
       "      <td>1195.621516</td>\n",
       "      <td>42.000000</td>\n",
       "      <td>1.000000</td>\n",
       "      <td>0.000000</td>\n",
       "      <td>0.000000</td>\n",
       "      <td>23202.870000</td>\n",
       "      <td>3.300000</td>\n",
       "    </tr>\n",
       "    <tr>\n",
       "      <th>75%</th>\n",
       "      <td>1.000000</td>\n",
       "      <td>2727.057054</td>\n",
       "      <td>53.000000</td>\n",
       "      <td>1.000000</td>\n",
       "      <td>1.000000</td>\n",
       "      <td>0.000000</td>\n",
       "      <td>32549.611000</td>\n",
       "      <td>7.500000</td>\n",
       "    </tr>\n",
       "    <tr>\n",
       "      <th>max</th>\n",
       "      <td>5.000000</td>\n",
       "      <td>16119.687737</td>\n",
       "      <td>75.000000</td>\n",
       "      <td>4.000000</td>\n",
       "      <td>4.000000</td>\n",
       "      <td>1.000000</td>\n",
       "      <td>362496.645000</td>\n",
       "      <td>50.300000</td>\n",
       "    </tr>\n",
       "  </tbody>\n",
       "</table>\n",
       "</div>"
      ],
      "text/plain": [
       "           children  days_employed           age  education_id  \\\n",
       "count  19351.000000   19351.000000  19351.000000  19351.000000   \n",
       "mean       0.479613    1909.542324     43.443440      0.819079   \n",
       "std        0.753895    2231.389671     12.225009      0.550104   \n",
       "min        0.000000       0.000000     19.000000      0.000000   \n",
       "25%        0.000000     282.957994     33.000000      1.000000   \n",
       "50%        0.000000    1195.621516     42.000000      1.000000   \n",
       "75%        1.000000    2727.057054     53.000000      1.000000   \n",
       "max        5.000000   16119.687737     75.000000      4.000000   \n",
       "\n",
       "       family_status_id     defaulted   total_income  years_employed  \n",
       "count      19351.000000  19351.000000   19351.000000    19351.000000  \n",
       "mean           0.972249      0.081184   26787.568355        5.295401  \n",
       "std            1.420596      0.273125   16475.450632        6.228109  \n",
       "min            0.000000      0.000000    3306.762000        0.000000  \n",
       "25%            0.000000      0.000000   16488.504500        0.800000  \n",
       "50%            0.000000      0.000000   23202.870000        3.300000  \n",
       "75%            1.000000      0.000000   32549.611000        7.500000  \n",
       "max            4.000000      1.000000  362496.645000       50.300000  "
      ]
     },
     "execution_count": 50,
     "metadata": {},
     "output_type": "execute_result"
    }
   ],
   "source": [
    "cs_new.describe()"
   ]
  },
  {
   "cell_type": "markdown",
   "metadata": {},
   "source": [
    "* Income increases drastically between the 75th percentile and the max value, suggesting there are outliers. Lets take a slice up to 100k to gt an idea of the distribution."
   ]
  },
  {
   "cell_type": "code",
   "execution_count": 51,
   "metadata": {},
   "outputs": [],
   "source": [
    "under_100k = cs_new[cs_new['total_income'] <=100000]"
   ]
  },
  {
   "cell_type": "code",
   "execution_count": 52,
   "metadata": {},
   "outputs": [
    {
     "data": {
      "image/png": "[encoded data removed]",
      "text/plain": [
       "<Figure size 720x432 with 1 Axes>"
      ]
     },
     "metadata": {
      "needs_background": "light"
     },
     "output_type": "display_data"
    }
   ],
   "source": [
    "# Histogram of 'age' frequencies\n",
    "plt.figure(figsize=(10,6));\n",
    "plt.hist(under_100k.total_income, bins = np.arange(0,100000,5000));\n",
    "plt.title('Customer income distribution', size=16);\n",
    "plt.xlabel('monthly income', size=12);\n",
    "plt.xticks(np.arange(0,100000,10000));"
   ]
  },
  {
   "cell_type": "markdown",
   "metadata": {},
   "source": [
    "* There is a drastic increase from 10k to 20k.\n",
    "* Somewhat steady decline after 20k\n",
    "* Skewed to the right as expected\n",
    "* Income levels will be set at steps of 10k, with 40k+ being considered very high"
   ]
  },
  {
   "cell_type": "code",
   "execution_count": 53,
   "metadata": {},
   "outputs": [
    {
     "name": "stdout",
     "output_type": "stream",
     "text": [
      "low          6443\n",
      "medium       6063\n",
      "high         3107\n",
      "very high    2812\n",
      "very low      926\n",
      "Name: income_level, dtype: int64\n"
     ]
    }
   ],
   "source": [
    "#Create method that returns an income level based on total income\n",
    "def income_bracket(data):\n",
    "    income = data['total_income']    \n",
    "    if income <= 10000:\n",
    "        return 'very low'\n",
    "    if 10000 < income <= 20000:\n",
    "        return 'low'\n",
    "    if 20000 < income <= 30000:\n",
    "        return 'medium'\n",
    "    if 30000 < income <= 40000:\n",
    "        return 'high'\n",
    "    if income > 40000:\n",
    "        return 'very high'\n",
    "\n",
    "#Apply income_bracket to create a new income_level column\n",
    "cs_new['income_level'] = cs_new.apply(income_bracket, axis = 1)\n",
    "#Check the income_level column\n",
    "print(cs_new['income_level'].value_counts())"
   ]
  },
  {
   "cell_type": "markdown",
   "metadata": {},
   "source": [
    "[Return to Table of Contents](#toc)"
   ]
  },
  {
   "cell_type": "markdown",
   "metadata": {},
   "source": [
    "<a class='anchor' id = 'cat_purpose'></a>\n",
    "#### 3.3.2 Categorize by purpose\n",
    "\n",
    "Simplify values in the \"purpose\" column by grouping similar purposes into categories."
   ]
  },
  {
   "cell_type": "code",
   "execution_count": 54,
   "metadata": {
    "scrolled": false
   },
   "outputs": [
    {
     "data": {
      "text/plain": [
       "wedding ceremony                            721\n",
       "to have a wedding                           693\n",
       "having a wedding                            685\n",
       "real estate transactions                    615\n",
       "buy commercial real estate                  597\n",
       "purchase of the house                       595\n",
       "buying property for renting out             588\n",
       "housing                                     587\n",
       "transactions with commercial real estate    581\n",
       "building a real estate                      580\n",
       "housing transactions                        579\n",
       "purchase of my own house                    574\n",
       "property                                    572\n",
       "purchase of the house for my family         570\n",
       "building a property                         561\n",
       "construction of own property                560\n",
       "transactions with my real estate            559\n",
       "buy real estate                             552\n",
       "buy residential real estate                 546\n",
       "housing renovation                          542\n",
       "car                                         454\n",
       "buying my own car                           452\n",
       "to buy a car                                442\n",
       "going to university                         440\n",
       "buying a second-hand car                    437\n",
       "second-hand car purchase                    435\n",
       "to own a car                                428\n",
       "cars                                        421\n",
       "car purchase                                419\n",
       "supplementary education                     414\n",
       "university education                        413\n",
       "purchase of a car                           409\n",
       "education                                   405\n",
       "to get a supplementary education            396\n",
       "getting an education                        393\n",
       "getting higher education                    390\n",
       "profile education                           389\n",
       "to become educated                          357\n",
       "Name: purpose, dtype: int64"
      ]
     },
     "execution_count": 54,
     "metadata": {},
     "output_type": "execute_result"
    }
   ],
   "source": [
    "#Explore the values in 'purpose'\n",
    "cs_new['purpose'].value_counts()"
   ]
  },
  {
   "cell_type": "markdown",
   "metadata": {},
   "source": [
    "* There are obvious recurring purposes with slightly different descriptions.\n",
    "* There are many words with similar stems that should be categorized together."
   ]
  },
  {
   "cell_type": "code",
   "execution_count": 55,
   "metadata": {},
   "outputs": [
    {
     "name": "stdout",
     "output_type": "stream",
     "text": [
      "purchase of the house car purchase supplementary education to have a wedding housing transactions education having a wedding purchase of the house for my family buy real estate buy commercial real estate buy residential real estate construction of own property property building a property buying a second-hand car buying my own car transactions with commercial real estate housing transactions with my real estate cars to become educated getting an education second-hand car purchase car wedding ceremony to get a supplementary education purchase of my own house real estate transactions getting higher education to own a car purchase of a car profile education university education buying property for renting out to buy a car building a real estate housing renovation going to university\n"
     ]
    }
   ],
   "source": [
    "#Create list purpose_categories to store all unique values of purpose\n",
    "purpose_categories = cs_new['purpose'].unique()\n",
    "#Combine all word in the list\n",
    "purpose_joined = ' '.join(row for row in purpose_categories)\n",
    "print(purpose_joined)"
   ]
  },
  {
   "cell_type": "code",
   "execution_count": 56,
   "metadata": {},
   "outputs": [
    {
     "data": {
      "text/plain": [
       "Counter({'purchas': 6,\n",
       "         'of': 5,\n",
       "         'the': 2,\n",
       "         'hous': 6,\n",
       "         'car': 9,\n",
       "         'supplementari': 2,\n",
       "         'educ': 8,\n",
       "         'to': 6,\n",
       "         'have': 2,\n",
       "         'a': 9,\n",
       "         'wed': 3,\n",
       "         'transact': 4,\n",
       "         'for': 2,\n",
       "         'my': 4,\n",
       "         'famili': 1,\n",
       "         'buy': 7,\n",
       "         'real': 7,\n",
       "         'estat': 7,\n",
       "         'commerci': 2,\n",
       "         'residenti': 1,\n",
       "         'construct': 1,\n",
       "         'own': 4,\n",
       "         'properti': 4,\n",
       "         'build': 2,\n",
       "         'second-hand': 2,\n",
       "         'with': 2,\n",
       "         'becom': 1,\n",
       "         'get': 3,\n",
       "         'an': 1,\n",
       "         'ceremoni': 1,\n",
       "         'higher': 1,\n",
       "         'profil': 1,\n",
       "         'univers': 2,\n",
       "         'rent': 1,\n",
       "         'out': 1,\n",
       "         'renov': 1,\n",
       "         'go': 1})"
      ]
     },
     "execution_count": 56,
     "metadata": {},
     "output_type": "execute_result"
    }
   ],
   "source": [
    "#Declare stemmer\n",
    "english_stemmer = SnowballStemmer('english')\n",
    "#Declare empty list to hold stems\n",
    "stems = []\n",
    "#Stem each word that appears in all 'purpose' categories\n",
    "for word in  purpose_joined.split(' '):\n",
    "    stems.append(english_stemmer.stem(word))\n",
    "#Use counter to see all stems and get an idea of frequency\n",
    "Counter(stems)"
   ]
  },
  {
   "cell_type": "markdown",
   "metadata": {},
   "source": [
    "The following groups have been identified from these stems:\n",
    "* vehicle: 'car'\n",
    "* wedding: 'wed'\n",
    "* education: 'educ' & 'univers'\n",
    "* housing & real estate: 'estat', 'hous', 'properti'"
   ]
  },
  {
   "cell_type": "code",
   "execution_count": 57,
   "metadata": {},
   "outputs": [
    {
     "data": {
      "text/html": [
       "<div>\n",
       "<style scoped>\n",
       "    .dataframe tbody tr th:only-of-type {\n",
       "        vertical-align: middle;\n",
       "    }\n",
       "\n",
       "    .dataframe tbody tr th {\n",
       "        vertical-align: top;\n",
       "    }\n",
       "\n",
       "    .dataframe thead th {\n",
       "        text-align: right;\n",
       "    }\n",
       "</style>\n",
       "<table border=\"1\" class=\"dataframe\">\n",
       "  <thead>\n",
       "    <tr style=\"text-align: right;\">\n",
       "      <th></th>\n",
       "      <th>children</th>\n",
       "      <th>days_employed</th>\n",
       "      <th>age</th>\n",
       "      <th>education</th>\n",
       "      <th>education_id</th>\n",
       "      <th>family_status</th>\n",
       "      <th>family_status_id</th>\n",
       "      <th>gender</th>\n",
       "      <th>income_type</th>\n",
       "      <th>defaulted</th>\n",
       "      <th>total_income</th>\n",
       "      <th>purpose</th>\n",
       "      <th>years_employed</th>\n",
       "      <th>income_level</th>\n",
       "      <th>purpose_category</th>\n",
       "    </tr>\n",
       "  </thead>\n",
       "  <tbody>\n",
       "    <tr>\n",
       "      <th>0</th>\n",
       "      <td>1</td>\n",
       "      <td>8437.673028</td>\n",
       "      <td>42</td>\n",
       "      <td>bachelor's degree</td>\n",
       "      <td>0</td>\n",
       "      <td>married</td>\n",
       "      <td>0</td>\n",
       "      <td>F</td>\n",
       "      <td>employee</td>\n",
       "      <td>0</td>\n",
       "      <td>40620.102</td>\n",
       "      <td>purchase of the house</td>\n",
       "      <td>23.1</td>\n",
       "      <td>very high</td>\n",
       "      <td>housing &amp; real estate</td>\n",
       "    </tr>\n",
       "    <tr>\n",
       "      <th>1</th>\n",
       "      <td>1</td>\n",
       "      <td>4024.803754</td>\n",
       "      <td>36</td>\n",
       "      <td>secondary education</td>\n",
       "      <td>1</td>\n",
       "      <td>married</td>\n",
       "      <td>0</td>\n",
       "      <td>F</td>\n",
       "      <td>employee</td>\n",
       "      <td>0</td>\n",
       "      <td>17932.802</td>\n",
       "      <td>car purchase</td>\n",
       "      <td>11.0</td>\n",
       "      <td>low</td>\n",
       "      <td>vehicle</td>\n",
       "    </tr>\n",
       "    <tr>\n",
       "      <th>2</th>\n",
       "      <td>0</td>\n",
       "      <td>5623.422610</td>\n",
       "      <td>33</td>\n",
       "      <td>secondary education</td>\n",
       "      <td>1</td>\n",
       "      <td>married</td>\n",
       "      <td>0</td>\n",
       "      <td>M</td>\n",
       "      <td>employee</td>\n",
       "      <td>0</td>\n",
       "      <td>23341.752</td>\n",
       "      <td>purchase of the house</td>\n",
       "      <td>15.4</td>\n",
       "      <td>medium</td>\n",
       "      <td>housing &amp; real estate</td>\n",
       "    </tr>\n",
       "    <tr>\n",
       "      <th>3</th>\n",
       "      <td>3</td>\n",
       "      <td>4124.747207</td>\n",
       "      <td>32</td>\n",
       "      <td>secondary education</td>\n",
       "      <td>1</td>\n",
       "      <td>married</td>\n",
       "      <td>0</td>\n",
       "      <td>M</td>\n",
       "      <td>employee</td>\n",
       "      <td>0</td>\n",
       "      <td>42820.568</td>\n",
       "      <td>supplementary education</td>\n",
       "      <td>11.3</td>\n",
       "      <td>very high</td>\n",
       "      <td>education</td>\n",
       "    </tr>\n",
       "    <tr>\n",
       "      <th>4</th>\n",
       "      <td>0</td>\n",
       "      <td>0.000000</td>\n",
       "      <td>53</td>\n",
       "      <td>secondary education</td>\n",
       "      <td>1</td>\n",
       "      <td>civil partnership</td>\n",
       "      <td>1</td>\n",
       "      <td>F</td>\n",
       "      <td>retiree</td>\n",
       "      <td>0</td>\n",
       "      <td>25378.572</td>\n",
       "      <td>to have a wedding</td>\n",
       "      <td>0.0</td>\n",
       "      <td>medium</td>\n",
       "      <td>wedding</td>\n",
       "    </tr>\n",
       "    <tr>\n",
       "      <th>5</th>\n",
       "      <td>0</td>\n",
       "      <td>926.185831</td>\n",
       "      <td>27</td>\n",
       "      <td>bachelor's degree</td>\n",
       "      <td>0</td>\n",
       "      <td>civil partnership</td>\n",
       "      <td>1</td>\n",
       "      <td>M</td>\n",
       "      <td>business</td>\n",
       "      <td>0</td>\n",
       "      <td>40922.170</td>\n",
       "      <td>purchase of the house</td>\n",
       "      <td>2.5</td>\n",
       "      <td>very high</td>\n",
       "      <td>housing &amp; real estate</td>\n",
       "    </tr>\n",
       "    <tr>\n",
       "      <th>6</th>\n",
       "      <td>0</td>\n",
       "      <td>2879.202052</td>\n",
       "      <td>43</td>\n",
       "      <td>bachelor's degree</td>\n",
       "      <td>0</td>\n",
       "      <td>married</td>\n",
       "      <td>0</td>\n",
       "      <td>F</td>\n",
       "      <td>business</td>\n",
       "      <td>0</td>\n",
       "      <td>38484.156</td>\n",
       "      <td>housing transactions</td>\n",
       "      <td>7.9</td>\n",
       "      <td>high</td>\n",
       "      <td>housing &amp; real estate</td>\n",
       "    </tr>\n",
       "    <tr>\n",
       "      <th>7</th>\n",
       "      <td>0</td>\n",
       "      <td>152.779569</td>\n",
       "      <td>50</td>\n",
       "      <td>secondary education</td>\n",
       "      <td>1</td>\n",
       "      <td>married</td>\n",
       "      <td>0</td>\n",
       "      <td>M</td>\n",
       "      <td>employee</td>\n",
       "      <td>0</td>\n",
       "      <td>21731.829</td>\n",
       "      <td>education</td>\n",
       "      <td>0.4</td>\n",
       "      <td>medium</td>\n",
       "      <td>education</td>\n",
       "    </tr>\n",
       "    <tr>\n",
       "      <th>8</th>\n",
       "      <td>2</td>\n",
       "      <td>6929.865299</td>\n",
       "      <td>35</td>\n",
       "      <td>bachelor's degree</td>\n",
       "      <td>0</td>\n",
       "      <td>civil partnership</td>\n",
       "      <td>1</td>\n",
       "      <td>F</td>\n",
       "      <td>employee</td>\n",
       "      <td>0</td>\n",
       "      <td>15337.093</td>\n",
       "      <td>having a wedding</td>\n",
       "      <td>19.0</td>\n",
       "      <td>low</td>\n",
       "      <td>wedding</td>\n",
       "    </tr>\n",
       "    <tr>\n",
       "      <th>9</th>\n",
       "      <td>0</td>\n",
       "      <td>2188.756445</td>\n",
       "      <td>41</td>\n",
       "      <td>secondary education</td>\n",
       "      <td>1</td>\n",
       "      <td>married</td>\n",
       "      <td>0</td>\n",
       "      <td>M</td>\n",
       "      <td>employee</td>\n",
       "      <td>0</td>\n",
       "      <td>23108.150</td>\n",
       "      <td>purchase of the house for my family</td>\n",
       "      <td>6.0</td>\n",
       "      <td>medium</td>\n",
       "      <td>housing &amp; real estate</td>\n",
       "    </tr>\n",
       "  </tbody>\n",
       "</table>\n",
       "</div>"
      ],
      "text/plain": [
       "   children  days_employed  age            education  education_id  \\\n",
       "0         1    8437.673028   42    bachelor's degree             0   \n",
       "1         1    4024.803754   36  secondary education             1   \n",
       "2         0    5623.422610   33  secondary education             1   \n",
       "3         3    4124.747207   32  secondary education             1   \n",
       "4         0       0.000000   53  secondary education             1   \n",
       "5         0     926.185831   27    bachelor's degree             0   \n",
       "6         0    2879.202052   43    bachelor's degree             0   \n",
       "7         0     152.779569   50  secondary education             1   \n",
       "8         2    6929.865299   35    bachelor's degree             0   \n",
       "9         0    2188.756445   41  secondary education             1   \n",
       "\n",
       "       family_status  family_status_id gender income_type  defaulted  \\\n",
       "0            married                 0      F    employee          0   \n",
       "1            married                 0      F    employee          0   \n",
       "2            married                 0      M    employee          0   \n",
       "3            married                 0      M    employee          0   \n",
       "4  civil partnership                 1      F     retiree          0   \n",
       "5  civil partnership                 1      M    business          0   \n",
       "6            married                 0      F    business          0   \n",
       "7            married                 0      M    employee          0   \n",
       "8  civil partnership                 1      F    employee          0   \n",
       "9            married                 0      M    employee          0   \n",
       "\n",
       "   total_income                              purpose  years_employed  \\\n",
       "0     40620.102                purchase of the house            23.1   \n",
       "1     17932.802                         car purchase            11.0   \n",
       "2     23341.752                purchase of the house            15.4   \n",
       "3     42820.568              supplementary education            11.3   \n",
       "4     25378.572                    to have a wedding             0.0   \n",
       "5     40922.170                purchase of the house             2.5   \n",
       "6     38484.156                 housing transactions             7.9   \n",
       "7     21731.829                            education             0.4   \n",
       "8     15337.093                     having a wedding            19.0   \n",
       "9     23108.150  purchase of the house for my family             6.0   \n",
       "\n",
       "  income_level       purpose_category  \n",
       "0    very high  housing & real estate  \n",
       "1          low                vehicle  \n",
       "2       medium  housing & real estate  \n",
       "3    very high              education  \n",
       "4       medium                wedding  \n",
       "5    very high  housing & real estate  \n",
       "6         high  housing & real estate  \n",
       "7       medium              education  \n",
       "8          low                wedding  \n",
       "9       medium  housing & real estate  "
      ]
     },
     "execution_count": 57,
     "metadata": {},
     "output_type": "execute_result"
    }
   ],
   "source": [
    "#Create lists to combine multiple stems that fit under the same category\n",
    "housing = ['estat', 'hous', 'properti']\n",
    "edu = ['educ', 'univers']\n",
    "\n",
    "#Define function returning categories based on stems in 'purpose'\n",
    "def categorize_purpose(text):\n",
    "    words = text.split(\" \")\n",
    "    for word in words:\n",
    "        stem = english_stemmer.stem(word)\n",
    "        if stem == 'car':\n",
    "            return 'vehicle'\n",
    "        elif stem == 'wed':\n",
    "            return 'wedding'\n",
    "        elif stem in edu:\n",
    "            return 'education'\n",
    "        elif stem in housing:\n",
    "            return 'housing & real estate'\n",
    "\n",
    "#Apply categorize_purpose to the 'purpose' category to create a new column\n",
    "cs_new['purpose_category'] = cs_new['purpose'].apply(categorize_purpose)\n",
    "#Check it out\n",
    "cs_new.head(10)"
   ]
  },
  {
   "cell_type": "code",
   "execution_count": 58,
   "metadata": {},
   "outputs": [
    {
     "name": "stdout",
     "output_type": "stream",
     "text": [
      "Remanining nulls: 0\n"
     ]
    }
   ],
   "source": [
    "#Search for remaining nulls in purpose_category\n",
    "print('Remanining nulls:', len(cs_new[cs_new['purpose_category'].isnull()]))"
   ]
  },
  {
   "cell_type": "markdown",
   "metadata": {},
   "source": [
    "<b>Categorization notes</b>\n",
    "\n",
    "New columns were created for income_level and purpose_category. After investigating the distribution of incomes, 'income_level' was categorized into 5 levels at intervals of 10,000. The 'purpose' column was sorted into 4 major categorys: vehicle, wedding, education, and housing & real estate.\n"
   ]
  },
  {
   "cell_type": "markdown",
   "metadata": {},
   "source": [
    "[Return to Table of Contents](#toc)"
   ]
  },
  {
   "cell_type": "markdown",
   "metadata": {},
   "source": [
    "<a class='anchor' id = 'dtype'></a>\n",
    "\n",
    "### 3.4 Data type replacement"
   ]
  },
  {
   "cell_type": "code",
   "execution_count": 59,
   "metadata": {},
   "outputs": [
    {
     "name": "stdout",
     "output_type": "stream",
     "text": [
      "<class 'pandas.core.frame.DataFrame'>\n",
      "RangeIndex: 19351 entries, 0 to 19350\n",
      "Data columns (total 13 columns):\n",
      " #   Column            Non-Null Count  Dtype   \n",
      "---  ------            --------------  -----   \n",
      " 0   children          19351 non-null  int64   \n",
      " 1   days_employed     19351 non-null  int64   \n",
      " 2   age               19351 non-null  int64   \n",
      " 3   education         19351 non-null  object  \n",
      " 4   education_id      19351 non-null  int64   \n",
      " 5   family_status     19351 non-null  category\n",
      " 6   family_status_id  19351 non-null  int64   \n",
      " 7   gender            19351 non-null  object  \n",
      " 8   income_type       19351 non-null  category\n",
      " 9   defaulted         19351 non-null  int64   \n",
      " 10  total_income      19351 non-null  float64 \n",
      " 11  income_level      19351 non-null  category\n",
      " 12  purpose_category  19351 non-null  category\n",
      "dtypes: category(4), float64(1), int64(6), object(2)\n",
      "memory usage: 3.6 MB\n"
     ]
    }
   ],
   "source": [
    "category_columns = ['purpose_category','family_status','income_type','income_level']\n",
    "cs_new['days_employed'] = cs_new['days_employed'].astype('int')\n",
    "cs_new[category_columns] = cs_new[category_columns].astype('category')\n",
    "# Drop years_employed and the old purpose column\n",
    "cs_new.drop(columns=['years_employed','purpose'], inplace=True)\n",
    "#Check it\n",
    "cs_new.info(memory_usage ='deep')"
   ]
  },
  {
   "cell_type": "markdown",
   "metadata": {},
   "source": [
    "<b>Data type replacement notes</b>\n",
    "    \n",
    "The 'days_employed' column was converted from float type to int type, as days are more accurately reflected as integers. \n",
    "\n",
    "The columns 'purpose_category','family_status','income_type', & 'income_level' were converted to category types to optimize memory.\n",
    "    \n",
    "</div>"
   ]
  },
  {
   "cell_type": "markdown",
   "metadata": {},
   "source": [
    "[Return to Table of Contents](#toc)"
   ]
  },
  {
   "cell_type": "markdown",
   "metadata": {},
   "source": [
    "<a class='anchor' id='answer_qs'></a>\n",
    "## 4. Answer target questions"
   ]
  },
  {
   "cell_type": "code",
   "execution_count": 60,
   "metadata": {},
   "outputs": [
    {
     "name": "stdout",
     "output_type": "stream",
     "text": [
      "Overall default rate: 0.0812\n"
     ]
    }
   ],
   "source": [
    "#Overall default rate for comparison\n",
    "default_rate = cs_new['defaulted'].mean()\n",
    "\n",
    "print('Overall default rate:',round(default_rate,4))"
   ]
  },
  {
   "cell_type": "markdown",
   "metadata": {},
   "source": [
    "### 4.1 Is there a relation between having kids and repaying a loan on time?"
   ]
  },
  {
   "cell_type": "code",
   "execution_count": 61,
   "metadata": {
    "scrolled": true
   },
   "outputs": [
    {
     "data": {
      "text/html": [
       "<div>\n",
       "<style scoped>\n",
       "    .dataframe tbody tr th:only-of-type {\n",
       "        vertical-align: middle;\n",
       "    }\n",
       "\n",
       "    .dataframe tbody tr th {\n",
       "        vertical-align: top;\n",
       "    }\n",
       "\n",
       "    .dataframe thead tr th {\n",
       "        text-align: left;\n",
       "    }\n",
       "\n",
       "    .dataframe thead tr:last-of-type th {\n",
       "        text-align: right;\n",
       "    }\n",
       "</style>\n",
       "<table border=\"1\" class=\"dataframe\">\n",
       "  <thead>\n",
       "    <tr>\n",
       "      <th></th>\n",
       "      <th>total_income</th>\n",
       "      <th colspan=\"2\" halign=\"left\">defaulted</th>\n",
       "    </tr>\n",
       "    <tr>\n",
       "      <th></th>\n",
       "      <th>mean</th>\n",
       "      <th>mean</th>\n",
       "      <th>count</th>\n",
       "    </tr>\n",
       "    <tr>\n",
       "      <th>children</th>\n",
       "      <th></th>\n",
       "      <th></th>\n",
       "      <th></th>\n",
       "    </tr>\n",
       "  </thead>\n",
       "  <tbody>\n",
       "    <tr>\n",
       "      <th>0</th>\n",
       "      <td>26422.404866</td>\n",
       "      <td>0.074902</td>\n",
       "      <td>12710</td>\n",
       "    </tr>\n",
       "    <tr>\n",
       "      <th>1</th>\n",
       "      <td>27368.627863</td>\n",
       "      <td>0.093230</td>\n",
       "      <td>4387</td>\n",
       "    </tr>\n",
       "    <tr>\n",
       "      <th>2</th>\n",
       "      <td>27478.854282</td>\n",
       "      <td>0.096455</td>\n",
       "      <td>1918</td>\n",
       "    </tr>\n",
       "    <tr>\n",
       "      <th>3</th>\n",
       "      <td>29322.623993</td>\n",
       "      <td>0.074830</td>\n",
       "      <td>294</td>\n",
       "    </tr>\n",
       "    <tr>\n",
       "      <th>4</th>\n",
       "      <td>27289.829647</td>\n",
       "      <td>0.088235</td>\n",
       "      <td>34</td>\n",
       "    </tr>\n",
       "    <tr>\n",
       "      <th>5</th>\n",
       "      <td>27268.847250</td>\n",
       "      <td>0.000000</td>\n",
       "      <td>8</td>\n",
       "    </tr>\n",
       "  </tbody>\n",
       "</table>\n",
       "</div>"
      ],
      "text/plain": [
       "          total_income defaulted       \n",
       "                  mean      mean  count\n",
       "children                               \n",
       "0         26422.404866  0.074902  12710\n",
       "1         27368.627863  0.093230   4387\n",
       "2         27478.854282  0.096455   1918\n",
       "3         29322.623993  0.074830    294\n",
       "4         27289.829647  0.088235     34\n",
       "5         27268.847250  0.000000      8"
      ]
     },
     "execution_count": 61,
     "metadata": {},
     "output_type": "execute_result"
    }
   ],
   "source": [
    "# Average income & default rate grouped by number of children\n",
    "cs_new.groupby('children').agg({'total_income':'mean','defaulted':['mean', 'count']})"
   ]
  },
  {
   "cell_type": "markdown",
   "metadata": {},
   "source": [
    "While there is a clear difference between the default rates based on number of children, it is not linear. There is very little data on families with 4 and 5 children, and so this data is not very reliable. Looking at customers with 0 to 3 children, we see an interesting trend. As expected, customers without children have a lower default rate than the overall default rate. The default rate jumps significantly after the first child, and then again slightly with a second child. However, the lowest default rate is at 3 children. This is likely because customers with 3 children have  higher incomes on average. While we can't be sure, it's possible that families who choose to have a 3rd child only do so if they are sure they are financially stable enough to afford it.\n",
    "    "
   ]
  },
  {
   "cell_type": "markdown",
   "metadata": {},
   "source": [
    "[Return to Table of Contents](#toc)"
   ]
  },
  {
   "cell_type": "markdown",
   "metadata": {},
   "source": [
    "### 4.2 Is there a relation between marital status and repaying a loan on time?"
   ]
  },
  {
   "cell_type": "code",
   "execution_count": 62,
   "metadata": {},
   "outputs": [
    {
     "data": {
      "text/html": [
       "<div>\n",
       "<style scoped>\n",
       "    .dataframe tbody tr th:only-of-type {\n",
       "        vertical-align: middle;\n",
       "    }\n",
       "\n",
       "    .dataframe tbody tr th {\n",
       "        vertical-align: top;\n",
       "    }\n",
       "\n",
       "    .dataframe thead th {\n",
       "        text-align: right;\n",
       "    }\n",
       "</style>\n",
       "<table border=\"1\" class=\"dataframe\">\n",
       "  <thead>\n",
       "    <tr style=\"text-align: right;\">\n",
       "      <th></th>\n",
       "      <th>count</th>\n",
       "      <th>mean</th>\n",
       "    </tr>\n",
       "    <tr>\n",
       "      <th>family_status</th>\n",
       "      <th></th>\n",
       "      <th></th>\n",
       "    </tr>\n",
       "  </thead>\n",
       "  <tbody>\n",
       "    <tr>\n",
       "      <th>widow / widower</th>\n",
       "      <td>865.0</td>\n",
       "      <td>0.064740</td>\n",
       "    </tr>\n",
       "    <tr>\n",
       "      <th>divorced</th>\n",
       "      <td>1083.0</td>\n",
       "      <td>0.070175</td>\n",
       "    </tr>\n",
       "    <tr>\n",
       "      <th>married</th>\n",
       "      <td>11143.0</td>\n",
       "      <td>0.075922</td>\n",
       "    </tr>\n",
       "    <tr>\n",
       "      <th>civil partnership</th>\n",
       "      <td>3735.0</td>\n",
       "      <td>0.090763</td>\n",
       "    </tr>\n",
       "    <tr>\n",
       "      <th>unmarried</th>\n",
       "      <td>2525.0</td>\n",
       "      <td>0.100594</td>\n",
       "    </tr>\n",
       "  </tbody>\n",
       "</table>\n",
       "</div>"
      ],
      "text/plain": [
       "                     count      mean\n",
       "family_status                       \n",
       "widow / widower      865.0  0.064740\n",
       "divorced            1083.0  0.070175\n",
       "married            11143.0  0.075922\n",
       "civil partnership   3735.0  0.090763\n",
       "unmarried           2525.0  0.100594"
      ]
     },
     "execution_count": 62,
     "metadata": {},
     "output_type": "execute_result"
    }
   ],
   "source": [
    "#Create pivot table showing the default rate in relation to family status\n",
    "cs_new.pivot_table(index = 'family_status',\n",
    "                   values = 'defaulted',\n",
    "                   aggfunc = ('mean', 'count')\n",
    "                  ).sort_values('mean')"
   ]
  },
  {
   "cell_type": "code",
   "execution_count": 67,
   "metadata": {},
   "outputs": [
    {
     "data": {
      "text/html": [
       "<div>\n",
       "<style scoped>\n",
       "    .dataframe tbody tr th:only-of-type {\n",
       "        vertical-align: middle;\n",
       "    }\n",
       "\n",
       "    .dataframe tbody tr th {\n",
       "        vertical-align: top;\n",
       "    }\n",
       "\n",
       "    .dataframe thead th {\n",
       "        text-align: right;\n",
       "    }\n",
       "</style>\n",
       "<table border=\"1\" class=\"dataframe\">\n",
       "  <thead>\n",
       "    <tr style=\"text-align: right;\">\n",
       "      <th></th>\n",
       "      <th>age</th>\n",
       "      <th>children</th>\n",
       "      <th>total_income</th>\n",
       "    </tr>\n",
       "    <tr>\n",
       "      <th>family_status</th>\n",
       "      <th></th>\n",
       "      <th></th>\n",
       "      <th></th>\n",
       "    </tr>\n",
       "  </thead>\n",
       "  <tbody>\n",
       "    <tr>\n",
       "      <th>civil partnership</th>\n",
       "      <td>42.303079</td>\n",
       "      <td>0.455689</td>\n",
       "      <td>26694.428597</td>\n",
       "    </tr>\n",
       "    <tr>\n",
       "      <th>divorced</th>\n",
       "      <td>45.822715</td>\n",
       "      <td>0.432133</td>\n",
       "      <td>27189.354550</td>\n",
       "    </tr>\n",
       "    <tr>\n",
       "      <th>married</th>\n",
       "      <td>43.682312</td>\n",
       "      <td>0.573364</td>\n",
       "      <td>27041.784689</td>\n",
       "    </tr>\n",
       "    <tr>\n",
       "      <th>unmarried</th>\n",
       "      <td>38.519604</td>\n",
       "      <td>0.229703</td>\n",
       "      <td>26934.069805</td>\n",
       "    </tr>\n",
       "    <tr>\n",
       "      <th>widow / widower</th>\n",
       "      <td>56.684393</td>\n",
       "      <td>0.164162</td>\n",
       "      <td>22984.208556</td>\n",
       "    </tr>\n",
       "  </tbody>\n",
       "</table>\n",
       "</div>"
      ],
      "text/plain": [
       "                         age  children  total_income\n",
       "family_status                                       \n",
       "civil partnership  42.303079  0.455689  26694.428597\n",
       "divorced           45.822715  0.432133  27189.354550\n",
       "married            43.682312  0.573364  27041.784689\n",
       "unmarried          38.519604  0.229703  26934.069805\n",
       "widow / widower    56.684393  0.164162  22984.208556"
      ]
     },
     "execution_count": 67,
     "metadata": {},
     "output_type": "execute_result"
    }
   ],
   "source": [
    "#Create pivot table exploring other averages in relation to family status\n",
    "cs_new.pivot_table(index = 'family_status',\n",
    "                   values = ['age','children', 'total_income'],\n",
    "                   aggfunc = 'mean')"
   ]
  },
  {
   "cell_type": "markdown",
   "metadata": {},
   "source": [
    "There seems to be a significant relationship between family status and repaying a loan on time. Widows/widowers are the most likely to repay their loans, while unmarried customers have the highest default rate. Married and divorced customers defaulted at a lower rate than the overall average. This may be due to the higher income average for these customers. Married customers also generally have a 2nd income in the home to rely on. Widowed customers have a surprisingly low default rate. Though often times widows/widowers will have financial compensation from life insurance policies. They are older on average and therefore less likely to have dependent children in the home.\n"
   ]
  },
  {
   "cell_type": "markdown",
   "metadata": {},
   "source": [
    "[Return to Table of Contents](#toc)"
   ]
  },
  {
   "cell_type": "markdown",
   "metadata": {},
   "source": [
    "### 4.3 Is there a relation between income level and repaying a loan on time?"
   ]
  },
  {
   "cell_type": "code",
   "execution_count": 93,
   "metadata": {},
   "outputs": [
    {
     "name": "stdout",
     "output_type": "stream",
     "text": [
      "Correlation: -0.0125\n"
     ]
    }
   ],
   "source": [
    "#Use point-biserial correlation to determine correlation between income and default status\n",
    "from scipy.stats import pointbiserialr\n",
    "\n",
    "# get income & default data\n",
    "income = cs_new['total_income']\n",
    "defaulted = cs_new['defaulted']\n",
    "\n",
    "# pbc of first question\n",
    "pbc = pointbiserialr(defaulted, income)\n",
    "print('Correlation: {:.4f}'.format(pbc[0]))"
   ]
  },
  {
   "cell_type": "markdown",
   "metadata": {},
   "source": [
    "The correlation between the continuous income data and default status is very weak.\n",
    "\n",
    "Let's look into the default rate by income level to see if there are any differences."
   ]
  },
  {
   "cell_type": "code",
   "execution_count": 70,
   "metadata": {
    "scrolled": true
   },
   "outputs": [
    {
     "data": {
      "text/html": [
       "<div>\n",
       "<style scoped>\n",
       "    .dataframe tbody tr th:only-of-type {\n",
       "        vertical-align: middle;\n",
       "    }\n",
       "\n",
       "    .dataframe tbody tr th {\n",
       "        vertical-align: top;\n",
       "    }\n",
       "\n",
       "    .dataframe thead th {\n",
       "        text-align: right;\n",
       "    }\n",
       "</style>\n",
       "<table border=\"1\" class=\"dataframe\">\n",
       "  <thead>\n",
       "    <tr style=\"text-align: right;\">\n",
       "      <th></th>\n",
       "      <th>count</th>\n",
       "      <th>mean</th>\n",
       "    </tr>\n",
       "    <tr>\n",
       "      <th>income_level</th>\n",
       "      <th></th>\n",
       "      <th></th>\n",
       "    </tr>\n",
       "  </thead>\n",
       "  <tbody>\n",
       "    <tr>\n",
       "      <th>very low</th>\n",
       "      <td>926.0</td>\n",
       "      <td>0.062635</td>\n",
       "    </tr>\n",
       "    <tr>\n",
       "      <th>low</th>\n",
       "      <td>6443.0</td>\n",
       "      <td>0.085364</td>\n",
       "    </tr>\n",
       "    <tr>\n",
       "      <th>medium</th>\n",
       "      <td>6063.0</td>\n",
       "      <td>0.086921</td>\n",
       "    </tr>\n",
       "    <tr>\n",
       "      <th>high</th>\n",
       "      <td>3107.0</td>\n",
       "      <td>0.077889</td>\n",
       "    </tr>\n",
       "    <tr>\n",
       "      <th>very high</th>\n",
       "      <td>2812.0</td>\n",
       "      <td>0.068990</td>\n",
       "    </tr>\n",
       "  </tbody>\n",
       "</table>\n",
       "</div>"
      ],
      "text/plain": [
       "               count      mean\n",
       "income_level                  \n",
       "very low       926.0  0.062635\n",
       "low           6443.0  0.085364\n",
       "medium        6063.0  0.086921\n",
       "high          3107.0  0.077889\n",
       "very high     2812.0  0.068990"
      ]
     },
     "execution_count": 70,
     "metadata": {},
     "output_type": "execute_result"
    }
   ],
   "source": [
    "#Create pivot table showing the default rate in relation to income level\n",
    "cs_new.pivot_table(index = 'income_level',\n",
    "                   values = 'defaulted',\n",
    "                   aggfunc = ('mean', 'count')\n",
    "                  ).reindex(index=['very low','low', 'medium', 'high', 'very high'])"
   ]
  },
  {
   "cell_type": "markdown",
   "metadata": {},
   "source": [
    "Income level definitely has a significant impact on ability to repay the loans, though not as expected. Customers in the 'very low' (under 10,000) were surprisingly the least likely to default on a loan. This was followed by 'very high' and 'high', which is expected. Customer with 'low' and 'medium' income levels had very similar default rates above the overall average default rate. But low income customers were slightly less likely to default.\n",
    "    \n",
    "Customers in the \"very low\" income range are likely being rejected for loans at a higher rate; and those being offered loans are likely being accepted for smaller loan amounts that are easier to repay. Meanwhile, customers in the \"medium\" range may be taking out larger loans that become unmanageable as a result of sudden changes in circumstance (sudden unexpected payments, change in salary, etc).\n"
   ]
  },
  {
   "cell_type": "markdown",
   "metadata": {},
   "source": [
    "[Return to Table of Contents](#toc)"
   ]
  },
  {
   "cell_type": "markdown",
   "metadata": {},
   "source": [
    "### 4.4 How do different loan purposes affect on-time repayment of the loan?"
   ]
  },
  {
   "cell_type": "code",
   "execution_count": 76,
   "metadata": {},
   "outputs": [
    {
     "data": {
      "text/html": [
       "<div>\n",
       "<style scoped>\n",
       "    .dataframe tbody tr th:only-of-type {\n",
       "        vertical-align: middle;\n",
       "    }\n",
       "\n",
       "    .dataframe tbody tr th {\n",
       "        vertical-align: top;\n",
       "    }\n",
       "\n",
       "    .dataframe thead th {\n",
       "        text-align: right;\n",
       "    }\n",
       "</style>\n",
       "<table border=\"1\" class=\"dataframe\">\n",
       "  <thead>\n",
       "    <tr style=\"text-align: right;\">\n",
       "      <th></th>\n",
       "      <th>defaulted</th>\n",
       "      <th>total_income</th>\n",
       "    </tr>\n",
       "    <tr>\n",
       "      <th>purpose_category</th>\n",
       "      <th></th>\n",
       "      <th></th>\n",
       "    </tr>\n",
       "  </thead>\n",
       "  <tbody>\n",
       "    <tr>\n",
       "      <th>housing &amp; real estate</th>\n",
       "      <td>0.073273</td>\n",
       "      <td>27025.794960</td>\n",
       "    </tr>\n",
       "    <tr>\n",
       "      <th>wedding</th>\n",
       "      <td>0.075274</td>\n",
       "      <td>26524.846172</td>\n",
       "    </tr>\n",
       "    <tr>\n",
       "      <th>education</th>\n",
       "      <td>0.092021</td>\n",
       "      <td>26311.089150</td>\n",
       "    </tr>\n",
       "    <tr>\n",
       "      <th>vehicle</th>\n",
       "      <td>0.094175</td>\n",
       "      <td>26772.360334</td>\n",
       "    </tr>\n",
       "  </tbody>\n",
       "</table>\n",
       "</div>"
      ],
      "text/plain": [
       "                       defaulted  total_income\n",
       "purpose_category                              \n",
       "housing & real estate   0.073273  27025.794960\n",
       "wedding                 0.075274  26524.846172\n",
       "education               0.092021  26311.089150\n",
       "vehicle                 0.094175  26772.360334"
      ]
     },
     "execution_count": 76,
     "metadata": {},
     "output_type": "execute_result"
    }
   ],
   "source": [
    "#Create pivot table showing the default rate & income in relation to income level\n",
    "cs_new.pivot_table(index = 'purpose_category',\n",
    "                   values = ['total_income','defaulted'],\n",
    "                   aggfunc = 'mean'\n",
    "                  ).sort_values('defaulted')"
   ]
  },
  {
   "cell_type": "markdown",
   "metadata": {},
   "source": [
    "There is a very strong effect of loan purpose on the default rate. Housing & real estate loans and wedding loans are significantly under the overall default rate, while education and vehicles have significantly higher default rates. \n",
    "    \n",
    "Customers who take housing/property loans have a higher income average, which contributes to their ability to repay. Hosuing & real estate require high down payments, so people generally have to delay purchasing a house until they are certain they can afford it.\n",
    "    \n",
    "Wedding loans will generally be smaller loans, making them easier to repay. Plus there is usually a dual income contributing to repaying it, along with possible financial contributions from family members.\n",
    "    \n",
    "The high default rate for education is to be expected. People who need to take loans for education will often have trouble balancing work and study. Plus many fields of study fail to guarantee higher paying jobs after completing a degree.\n",
    "    \n",
    "As for vehicle loans, they are often based on immediate necessity rather than future planning. It is possible that in many cases this may be a sudden new expense for customers that they cannot delay for future financial stability. \n"
   ]
  },
  {
   "cell_type": "markdown",
   "metadata": {},
   "source": [
    "[Return to Table of Contents](#toc)"
   ]
  },
  {
   "cell_type": "markdown",
   "metadata": {},
   "source": [
    "<a class='anchor' id='conclusion'></a>\n",
    "## 5. General conclusion"
   ]
  },
  {
   "cell_type": "markdown",
   "metadata": {},
   "source": [
    "\n",
    "The dataset contained many significant problems. For the purposes of our analysis, it was possble to clean the data enough by dropping the nulls in total_income, making assumptions about unusual values in the children column, and filling missing ages with averages based on multiple factors. However, if further analysis were needed, it would be best to contact our data source to clear up the problems--mainly to see if we can recover missing data in total_income and 'days_worked', and to fix the unusual values in 'days_worked'.\n",
    "    \n",
    "Using stems, loan purposes were easily sorted into much more manageable categories. Though I would recommend to our sources that it would be much more effective to create uniform categories and subcategories for a clearer understanding.\n",
    "    \n",
    "All the factors we explored had an effect on loan repayment. However loan purpose and customer income seemed to have the strongest effect. Knowing the loan amounts would have allowed for a much clearer understanding, especially with regards to loan purpose.\n"
   ]
  },
  {
   "cell_type": "code",
   "execution_count": null,
   "metadata": {},
   "outputs": [],
   "source": []
  }
 ],
 "metadata": {
  "ExecuteTimeLog": [
   {
    "duration": 598,
    "start_time": "2021-06-15T05:57:09.630Z"
   },
   {
    "duration": 71,
    "start_time": "2021-06-15T06:20:43.752Z"
   },
   {
    "duration": 36,
    "start_time": "2021-06-15T06:21:45.075Z"
   },
   {
    "duration": 36,
    "start_time": "2021-06-15T06:26:51.319Z"
   },
   {
    "duration": 18,
    "start_time": "2021-06-15T06:51:16.589Z"
   },
   {
    "duration": 5,
    "start_time": "2021-06-15T06:55:03.026Z"
   },
   {
    "duration": 6,
    "start_time": "2021-06-15T06:55:17.412Z"
   },
   {
    "duration": 11,
    "start_time": "2021-06-15T12:08:48.558Z"
   },
   {
    "duration": 15,
    "start_time": "2021-06-15T12:09:11.763Z"
   },
   {
    "duration": 48,
    "start_time": "2021-06-15T12:10:27.410Z"
   },
   {
    "duration": 8,
    "start_time": "2021-06-15T12:10:37.675Z"
   },
   {
    "duration": 29,
    "start_time": "2021-06-15T12:10:46.402Z"
   },
   {
    "duration": 27,
    "start_time": "2021-06-15T12:10:52.646Z"
   },
   {
    "duration": 8,
    "start_time": "2021-06-15T12:13:34.538Z"
   },
   {
    "duration": 15,
    "start_time": "2021-06-15T12:15:52.474Z"
   },
   {
    "duration": 7,
    "start_time": "2021-06-15T13:19:55.773Z"
   },
   {
    "duration": 6,
    "start_time": "2021-06-15T13:21:19.043Z"
   },
   {
    "duration": 7,
    "start_time": "2021-06-15T13:23:01.768Z"
   },
   {
    "duration": 8,
    "start_time": "2021-06-15T13:29:35.661Z"
   },
   {
    "duration": 638,
    "start_time": "2021-06-15T13:32:59.995Z"
   },
   {
    "duration": 9,
    "start_time": "2021-06-15T13:33:20.673Z"
   },
   {
    "duration": 16,
    "start_time": "2021-06-15T13:43:20.390Z"
   },
   {
    "duration": 213,
    "start_time": "2021-06-15T13:45:11.329Z"
   },
   {
    "duration": 4,
    "start_time": "2021-06-15T13:45:20.644Z"
   },
   {
    "duration": 16,
    "start_time": "2021-06-15T13:56:38.957Z"
   },
   {
    "duration": 12,
    "start_time": "2021-06-15T13:58:17.498Z"
   },
   {
    "duration": 11,
    "start_time": "2021-06-15T13:58:42.728Z"
   },
   {
    "duration": 24,
    "start_time": "2021-06-15T14:04:35.340Z"
   },
   {
    "duration": 25,
    "start_time": "2021-06-15T14:06:35.039Z"
   },
   {
    "duration": 198,
    "start_time": "2021-06-15T14:06:59.435Z"
   },
   {
    "duration": 23,
    "start_time": "2021-06-15T14:07:11.596Z"
   },
   {
    "duration": 46,
    "start_time": "2021-06-15T14:07:47.729Z"
   },
   {
    "duration": 35,
    "start_time": "2021-06-15T14:08:31.579Z"
   },
   {
    "duration": 26,
    "start_time": "2021-06-15T14:09:32.334Z"
   },
   {
    "duration": 25,
    "start_time": "2021-06-15T14:11:02.676Z"
   },
   {
    "duration": 504,
    "start_time": "2021-06-16T06:23:34.436Z"
   },
   {
    "duration": 51,
    "start_time": "2021-06-16T06:23:34.942Z"
   },
   {
    "duration": 37,
    "start_time": "2021-06-16T06:23:34.995Z"
   },
   {
    "duration": 12,
    "start_time": "2021-06-16T06:23:35.034Z"
   },
   {
    "duration": 19,
    "start_time": "2021-06-16T06:23:35.047Z"
   },
   {
    "duration": 18,
    "start_time": "2021-06-16T06:23:35.068Z"
   },
   {
    "duration": 7,
    "start_time": "2021-06-16T06:23:35.088Z"
   },
   {
    "duration": 11,
    "start_time": "2021-06-16T06:23:35.097Z"
   },
   {
    "duration": 7,
    "start_time": "2021-06-16T06:23:35.110Z"
   },
   {
    "duration": 5,
    "start_time": "2021-06-16T06:23:35.119Z"
   },
   {
    "duration": 28,
    "start_time": "2021-06-16T06:23:35.125Z"
   },
   {
    "duration": 56,
    "start_time": "2021-06-16T06:23:35.154Z"
   },
   {
    "duration": 9,
    "start_time": "2021-06-16T06:23:35.211Z"
   },
   {
    "duration": 15,
    "start_time": "2021-06-16T06:23:35.222Z"
   },
   {
    "duration": 6,
    "start_time": "2021-06-16T06:23:35.238Z"
   },
   {
    "duration": 10,
    "start_time": "2021-06-16T06:23:35.245Z"
   },
   {
    "duration": 43,
    "start_time": "2021-06-16T06:23:35.257Z"
   },
   {
    "duration": 66,
    "start_time": "2021-06-16T06:23:35.302Z"
   },
   {
    "duration": -45,
    "start_time": "2021-06-16T06:23:35.415Z"
   },
   {
    "duration": -47,
    "start_time": "2021-06-16T06:23:35.418Z"
   },
   {
    "duration": 7,
    "start_time": "2021-06-16T06:34:03.908Z"
   },
   {
    "duration": 6,
    "start_time": "2021-06-16T06:34:26.290Z"
   },
   {
    "duration": 5,
    "start_time": "2021-06-16T06:34:41.996Z"
   },
   {
    "duration": 64,
    "start_time": "2021-06-16T06:39:39.367Z"
   },
   {
    "duration": 66,
    "start_time": "2021-06-16T06:39:52.487Z"
   },
   {
    "duration": 5986,
    "start_time": "2021-06-16T06:40:12.029Z"
   },
   {
    "duration": 5,
    "start_time": "2021-06-16T06:40:31.042Z"
   },
   {
    "duration": 5,
    "start_time": "2021-06-16T06:40:51.000Z"
   },
   {
    "duration": 5,
    "start_time": "2021-06-16T06:41:09.283Z"
   },
   {
    "duration": 8,
    "start_time": "2021-06-16T06:42:30.519Z"
   },
   {
    "duration": 6,
    "start_time": "2021-06-16T06:42:55.543Z"
   },
   {
    "duration": 6,
    "start_time": "2021-06-16T06:43:22.808Z"
   },
   {
    "duration": 215,
    "start_time": "2021-06-16T06:51:36.361Z"
   },
   {
    "duration": 225,
    "start_time": "2021-06-16T06:53:19.735Z"
   },
   {
    "duration": 13,
    "start_time": "2021-06-16T06:53:58.431Z"
   },
   {
    "duration": 15,
    "start_time": "2021-06-16T06:54:11.499Z"
   },
   {
    "duration": 3,
    "start_time": "2021-06-16T06:59:31.509Z"
   },
   {
    "duration": 62,
    "start_time": "2021-06-16T06:59:31.514Z"
   },
   {
    "duration": 31,
    "start_time": "2021-06-16T06:59:31.578Z"
   },
   {
    "duration": 12,
    "start_time": "2021-06-16T06:59:31.610Z"
   },
   {
    "duration": 15,
    "start_time": "2021-06-16T06:59:31.623Z"
   },
   {
    "duration": 6,
    "start_time": "2021-06-16T06:59:31.639Z"
   },
   {
    "duration": 7,
    "start_time": "2021-06-16T06:59:31.646Z"
   },
   {
    "duration": 31,
    "start_time": "2021-06-16T06:59:31.655Z"
   },
   {
    "duration": 2,
    "start_time": "2021-06-16T06:59:31.689Z"
   },
   {
    "duration": 7,
    "start_time": "2021-06-16T06:59:31.693Z"
   },
   {
    "duration": 6,
    "start_time": "2021-06-16T06:59:31.701Z"
   },
   {
    "duration": 28,
    "start_time": "2021-06-16T06:59:31.708Z"
   },
   {
    "duration": 66,
    "start_time": "2021-06-16T06:59:31.737Z"
   },
   {
    "duration": 13,
    "start_time": "2021-06-16T06:59:31.804Z"
   },
   {
    "duration": 11,
    "start_time": "2021-06-16T06:59:31.818Z"
   },
   {
    "duration": 8,
    "start_time": "2021-06-16T06:59:31.832Z"
   },
   {
    "duration": 11,
    "start_time": "2021-06-16T06:59:31.841Z"
   },
   {
    "duration": 49,
    "start_time": "2021-06-16T06:59:31.853Z"
   },
   {
    "duration": 7,
    "start_time": "2021-06-16T06:59:31.904Z"
   },
   {
    "duration": 6,
    "start_time": "2021-06-16T06:59:31.913Z"
   },
   {
    "duration": 21,
    "start_time": "2021-06-16T06:59:31.921Z"
   },
   {
    "duration": 2,
    "start_time": "2021-06-16T06:59:31.944Z"
   },
   {
    "duration": 6,
    "start_time": "2021-06-16T06:59:31.947Z"
   },
   {
    "duration": 222,
    "start_time": "2021-06-16T07:04:16.928Z"
   },
   {
    "duration": 18,
    "start_time": "2021-06-16T07:04:41.003Z"
   },
   {
    "duration": 2,
    "start_time": "2021-06-16T07:05:05.513Z"
   },
   {
    "duration": 62,
    "start_time": "2021-06-16T07:05:05.519Z"
   },
   {
    "duration": 31,
    "start_time": "2021-06-16T07:05:05.583Z"
   },
   {
    "duration": 12,
    "start_time": "2021-06-16T07:05:05.616Z"
   },
   {
    "duration": 16,
    "start_time": "2021-06-16T07:05:05.630Z"
   },
   {
    "duration": 9,
    "start_time": "2021-06-16T07:05:05.648Z"
   },
   {
    "duration": 29,
    "start_time": "2021-06-16T07:05:05.659Z"
   },
   {
    "duration": 19,
    "start_time": "2021-06-16T07:05:05.690Z"
   },
   {
    "duration": 4,
    "start_time": "2021-06-16T07:05:05.711Z"
   },
   {
    "duration": 12,
    "start_time": "2021-06-16T07:05:05.718Z"
   },
   {
    "duration": 8,
    "start_time": "2021-06-16T07:05:05.732Z"
   },
   {
    "duration": 40,
    "start_time": "2021-06-16T07:05:05.742Z"
   },
   {
    "duration": 27,
    "start_time": "2021-06-16T07:05:05.783Z"
   },
   {
    "duration": 9,
    "start_time": "2021-06-16T07:05:05.812Z"
   },
   {
    "duration": 59,
    "start_time": "2021-06-16T07:05:05.822Z"
   },
   {
    "duration": -55,
    "start_time": "2021-06-16T07:05:05.938Z"
   },
   {
    "duration": -57,
    "start_time": "2021-06-16T07:05:05.941Z"
   },
   {
    "duration": -63,
    "start_time": "2021-06-16T07:05:05.947Z"
   },
   {
    "duration": -64,
    "start_time": "2021-06-16T07:05:05.949Z"
   },
   {
    "duration": -66,
    "start_time": "2021-06-16T07:05:05.952Z"
   },
   {
    "duration": -68,
    "start_time": "2021-06-16T07:05:05.955Z"
   },
   {
    "duration": 2,
    "start_time": "2021-06-16T07:05:30.000Z"
   },
   {
    "duration": 13,
    "start_time": "2021-06-16T07:05:32.191Z"
   },
   {
    "duration": 5,
    "start_time": "2021-06-16T07:05:32.532Z"
   },
   {
    "duration": 9,
    "start_time": "2021-06-16T07:05:33.147Z"
   },
   {
    "duration": 19,
    "start_time": "2021-06-16T07:05:34.172Z"
   },
   {
    "duration": 7,
    "start_time": "2021-06-16T07:05:37.719Z"
   },
   {
    "duration": 5,
    "start_time": "2021-06-16T07:05:38.095Z"
   },
   {
    "duration": 25,
    "start_time": "2021-06-16T07:05:44.929Z"
   },
   {
    "duration": 294,
    "start_time": "2021-06-16T07:06:12.303Z"
   },
   {
    "duration": 230,
    "start_time": "2021-06-16T07:06:37.269Z"
   },
   {
    "duration": 16,
    "start_time": "2021-06-16T07:06:45.713Z"
   },
   {
    "duration": 2,
    "start_time": "2021-06-16T07:07:21.477Z"
   },
   {
    "duration": 60,
    "start_time": "2021-06-16T07:07:21.482Z"
   },
   {
    "duration": 29,
    "start_time": "2021-06-16T07:07:21.543Z"
   },
   {
    "duration": 11,
    "start_time": "2021-06-16T07:07:21.574Z"
   },
   {
    "duration": 12,
    "start_time": "2021-06-16T07:07:21.587Z"
   },
   {
    "duration": 5,
    "start_time": "2021-06-16T07:07:21.601Z"
   },
   {
    "duration": 13,
    "start_time": "2021-06-16T07:07:21.607Z"
   },
   {
    "duration": 16,
    "start_time": "2021-06-16T07:07:21.621Z"
   },
   {
    "duration": 15,
    "start_time": "2021-06-16T07:07:21.638Z"
   },
   {
    "duration": 12,
    "start_time": "2021-06-16T07:07:21.656Z"
   },
   {
    "duration": 11,
    "start_time": "2021-06-16T07:07:21.670Z"
   },
   {
    "duration": 35,
    "start_time": "2021-06-16T07:07:21.683Z"
   },
   {
    "duration": 25,
    "start_time": "2021-06-16T07:07:21.719Z"
   },
   {
    "duration": 9,
    "start_time": "2021-06-16T07:07:21.745Z"
   },
   {
    "duration": 10,
    "start_time": "2021-06-16T07:07:21.755Z"
   },
   {
    "duration": 27,
    "start_time": "2021-06-16T07:07:21.766Z"
   },
   {
    "duration": 11,
    "start_time": "2021-06-16T07:07:21.794Z"
   },
   {
    "duration": 19,
    "start_time": "2021-06-16T07:07:21.806Z"
   },
   {
    "duration": 29,
    "start_time": "2021-06-16T07:07:21.826Z"
   },
   {
    "duration": 5,
    "start_time": "2021-06-16T07:07:21.857Z"
   },
   {
    "duration": 10,
    "start_time": "2021-06-16T07:07:21.864Z"
   },
   {
    "duration": 25,
    "start_time": "2021-06-16T07:07:26.010Z"
   },
   {
    "duration": 3,
    "start_time": "2021-06-16T07:07:41.705Z"
   },
   {
    "duration": 58,
    "start_time": "2021-06-16T07:07:41.712Z"
   },
   {
    "duration": 30,
    "start_time": "2021-06-16T07:07:41.772Z"
   },
   {
    "duration": 11,
    "start_time": "2021-06-16T07:07:41.804Z"
   },
   {
    "duration": 22,
    "start_time": "2021-06-16T07:07:41.817Z"
   },
   {
    "duration": 10,
    "start_time": "2021-06-16T07:07:41.841Z"
   },
   {
    "duration": 24,
    "start_time": "2021-06-16T07:07:41.852Z"
   },
   {
    "duration": 25,
    "start_time": "2021-06-16T07:07:41.877Z"
   },
   {
    "duration": 17,
    "start_time": "2021-06-16T07:07:41.903Z"
   },
   {
    "duration": 20,
    "start_time": "2021-06-16T07:07:41.922Z"
   },
   {
    "duration": 22,
    "start_time": "2021-06-16T07:07:41.944Z"
   },
   {
    "duration": 36,
    "start_time": "2021-06-16T07:07:41.968Z"
   },
   {
    "duration": 27,
    "start_time": "2021-06-16T07:07:42.006Z"
   },
   {
    "duration": 10,
    "start_time": "2021-06-16T07:07:42.035Z"
   },
   {
    "duration": 18,
    "start_time": "2021-06-16T07:07:42.047Z"
   },
   {
    "duration": 29,
    "start_time": "2021-06-16T07:07:42.066Z"
   },
   {
    "duration": 12,
    "start_time": "2021-06-16T07:07:42.097Z"
   },
   {
    "duration": 27,
    "start_time": "2021-06-16T07:07:42.111Z"
   },
   {
    "duration": 31,
    "start_time": "2021-06-16T07:07:42.140Z"
   },
   {
    "duration": 6,
    "start_time": "2021-06-16T07:07:42.173Z"
   },
   {
    "duration": 6,
    "start_time": "2021-06-16T07:07:42.181Z"
   },
   {
    "duration": 16,
    "start_time": "2021-06-16T07:07:47.395Z"
   },
   {
    "duration": 68,
    "start_time": "2021-06-16T07:11:40.257Z"
   },
   {
    "duration": 11,
    "start_time": "2021-06-16T07:11:45.324Z"
   },
   {
    "duration": 10,
    "start_time": "2021-06-16T07:12:07.024Z"
   },
   {
    "duration": 14,
    "start_time": "2021-06-16T07:13:13.030Z"
   },
   {
    "duration": 14,
    "start_time": "2021-06-16T07:14:36.783Z"
   },
   {
    "duration": 20,
    "start_time": "2021-06-16T07:15:29.627Z"
   },
   {
    "duration": 2,
    "start_time": "2021-06-16T07:15:56.555Z"
   },
   {
    "duration": 49,
    "start_time": "2021-06-16T07:15:56.561Z"
   },
   {
    "duration": 30,
    "start_time": "2021-06-16T07:15:56.612Z"
   },
   {
    "duration": 12,
    "start_time": "2021-06-16T07:15:56.644Z"
   },
   {
    "duration": 32,
    "start_time": "2021-06-16T07:15:56.657Z"
   },
   {
    "duration": 6,
    "start_time": "2021-06-16T07:15:56.691Z"
   },
   {
    "duration": 9,
    "start_time": "2021-06-16T07:15:56.698Z"
   },
   {
    "duration": 10,
    "start_time": "2021-06-16T07:15:56.709Z"
   },
   {
    "duration": 5,
    "start_time": "2021-06-16T07:15:56.721Z"
   },
   {
    "duration": 6,
    "start_time": "2021-06-16T07:15:56.727Z"
   },
   {
    "duration": 5,
    "start_time": "2021-06-16T07:15:56.734Z"
   },
   {
    "duration": 45,
    "start_time": "2021-06-16T07:15:56.740Z"
   },
   {
    "duration": 25,
    "start_time": "2021-06-16T07:15:56.786Z"
   },
   {
    "duration": 9,
    "start_time": "2021-06-16T07:15:56.812Z"
   },
   {
    "duration": 22,
    "start_time": "2021-06-16T07:16:03.057Z"
   },
   {
    "duration": 15,
    "start_time": "2021-06-16T07:52:33.313Z"
   },
   {
    "duration": 3,
    "start_time": "2021-06-16T07:52:45.562Z"
   },
   {
    "duration": 3,
    "start_time": "2021-06-16T07:52:49.737Z"
   },
   {
    "duration": 5,
    "start_time": "2021-06-16T07:55:07.010Z"
   },
   {
    "duration": 5,
    "start_time": "2021-06-16T07:57:27.494Z"
   },
   {
    "duration": 6,
    "start_time": "2021-06-16T07:57:29.209Z"
   },
   {
    "duration": 31,
    "start_time": "2021-06-16T07:58:08.248Z"
   },
   {
    "duration": 219,
    "start_time": "2021-06-16T07:59:32.108Z"
   },
   {
    "duration": 49,
    "start_time": "2021-06-16T08:00:05.185Z"
   },
   {
    "duration": 6,
    "start_time": "2021-06-16T08:00:18.021Z"
   },
   {
    "duration": 201,
    "start_time": "2021-06-16T08:00:42.259Z"
   },
   {
    "duration": 8,
    "start_time": "2021-06-16T08:01:33.304Z"
   },
   {
    "duration": 38,
    "start_time": "2021-06-16T08:01:51.759Z"
   },
   {
    "duration": 37,
    "start_time": "2021-06-16T08:03:13.534Z"
   },
   {
    "duration": 3,
    "start_time": "2021-06-16T08:16:20.620Z"
   },
   {
    "duration": 6,
    "start_time": "2021-06-16T08:16:38.438Z"
   },
   {
    "duration": 50,
    "start_time": "2021-06-16T08:23:54.376Z"
   },
   {
    "duration": 3,
    "start_time": "2021-06-16T08:30:28.244Z"
   },
   {
    "duration": 74,
    "start_time": "2021-06-16T08:30:28.249Z"
   },
   {
    "duration": 32,
    "start_time": "2021-06-16T08:30:28.325Z"
   },
   {
    "duration": 30,
    "start_time": "2021-06-16T08:30:28.359Z"
   },
   {
    "duration": 25,
    "start_time": "2021-06-16T08:30:28.392Z"
   },
   {
    "duration": 6,
    "start_time": "2021-06-16T08:30:28.418Z"
   },
   {
    "duration": 12,
    "start_time": "2021-06-16T08:30:28.426Z"
   },
   {
    "duration": 11,
    "start_time": "2021-06-16T08:30:28.441Z"
   },
   {
    "duration": 3,
    "start_time": "2021-06-16T08:30:28.454Z"
   },
   {
    "duration": 32,
    "start_time": "2021-06-16T08:30:28.458Z"
   },
   {
    "duration": 8,
    "start_time": "2021-06-16T08:30:28.492Z"
   },
   {
    "duration": 40,
    "start_time": "2021-06-16T08:30:28.502Z"
   },
   {
    "duration": 26,
    "start_time": "2021-06-16T08:30:28.544Z"
   },
   {
    "duration": 24,
    "start_time": "2021-06-16T08:30:28.572Z"
   },
   {
    "duration": 25,
    "start_time": "2021-06-16T08:30:28.599Z"
   },
   {
    "duration": 2,
    "start_time": "2021-06-16T08:30:28.626Z"
   },
   {
    "duration": 10,
    "start_time": "2021-06-16T08:30:28.630Z"
   },
   {
    "duration": 77,
    "start_time": "2021-06-16T08:30:28.642Z"
   },
   {
    "duration": 36,
    "start_time": "2021-06-16T08:30:28.721Z"
   },
   {
    "duration": 62,
    "start_time": "2021-06-16T08:30:28.759Z"
   },
   {
    "duration": 12,
    "start_time": "2021-06-16T08:30:28.822Z"
   },
   {
    "duration": 11,
    "start_time": "2021-06-16T08:30:28.835Z"
   },
   {
    "duration": 9,
    "start_time": "2021-06-16T08:30:28.848Z"
   },
   {
    "duration": 5,
    "start_time": "2021-06-16T08:30:28.859Z"
   },
   {
    "duration": 49,
    "start_time": "2021-06-16T08:30:28.866Z"
   },
   {
    "duration": 7,
    "start_time": "2021-06-16T08:30:28.917Z"
   },
   {
    "duration": 4,
    "start_time": "2021-06-16T08:30:28.926Z"
   },
   {
    "duration": 18,
    "start_time": "2021-06-16T08:30:28.931Z"
   },
   {
    "duration": 2,
    "start_time": "2021-06-16T08:30:28.950Z"
   },
   {
    "duration": 5,
    "start_time": "2021-06-16T08:30:28.953Z"
   },
   {
    "duration": 18,
    "start_time": "2021-06-16T08:37:17.156Z"
   },
   {
    "duration": 15,
    "start_time": "2021-06-16T08:38:59.032Z"
   },
   {
    "duration": 13,
    "start_time": "2021-06-16T08:39:04.628Z"
   },
   {
    "duration": 6,
    "start_time": "2021-06-16T08:40:09.352Z"
   },
   {
    "duration": -180,
    "start_time": "2021-06-16T08:41:46.734Z"
   },
   {
    "duration": 5749,
    "start_time": "2021-06-16T08:42:10.370Z"
   },
   {
    "duration": 262,
    "start_time": "2021-06-16T08:42:37.290Z"
   },
   {
    "duration": 13,
    "start_time": "2021-06-16T08:42:42.601Z"
   },
   {
    "duration": 3,
    "start_time": "2021-06-16T09:37:16.769Z"
   },
   {
    "duration": 55,
    "start_time": "2021-06-16T09:37:16.774Z"
   },
   {
    "duration": 33,
    "start_time": "2021-06-16T09:37:16.832Z"
   },
   {
    "duration": 21,
    "start_time": "2021-06-16T09:37:16.867Z"
   },
   {
    "duration": 12,
    "start_time": "2021-06-16T09:37:16.891Z"
   },
   {
    "duration": 5,
    "start_time": "2021-06-16T09:37:16.905Z"
   },
   {
    "duration": 7,
    "start_time": "2021-06-16T09:37:16.913Z"
   },
   {
    "duration": 7,
    "start_time": "2021-06-16T09:37:16.921Z"
   },
   {
    "duration": 7,
    "start_time": "2021-06-16T09:37:16.930Z"
   },
   {
    "duration": 6,
    "start_time": "2021-06-16T09:37:16.938Z"
   },
   {
    "duration": 6,
    "start_time": "2021-06-16T09:37:17.003Z"
   },
   {
    "duration": 29,
    "start_time": "2021-06-16T09:37:17.011Z"
   },
   {
    "duration": 28,
    "start_time": "2021-06-16T09:37:17.043Z"
   },
   {
    "duration": 18,
    "start_time": "2021-06-16T09:37:17.073Z"
   },
   {
    "duration": 16,
    "start_time": "2021-06-16T09:37:17.094Z"
   },
   {
    "duration": 3,
    "start_time": "2021-06-16T09:37:17.112Z"
   },
   {
    "duration": 7,
    "start_time": "2021-06-16T09:37:17.117Z"
   },
   {
    "duration": 67,
    "start_time": "2021-06-16T09:37:17.126Z"
   },
   {
    "duration": 38,
    "start_time": "2021-06-16T09:37:17.195Z"
   },
   {
    "duration": 62,
    "start_time": "2021-06-16T09:37:17.235Z"
   },
   {
    "duration": 12,
    "start_time": "2021-06-16T09:37:17.299Z"
   },
   {
    "duration": 5,
    "start_time": "2021-06-16T09:37:17.313Z"
   },
   {
    "duration": 9,
    "start_time": "2021-06-16T09:37:17.320Z"
   },
   {
    "duration": 7,
    "start_time": "2021-06-16T09:37:17.331Z"
   },
   {
    "duration": 55,
    "start_time": "2021-06-16T09:37:17.339Z"
   },
   {
    "duration": 5,
    "start_time": "2021-06-16T09:37:17.396Z"
   },
   {
    "duration": 5,
    "start_time": "2021-06-16T09:37:17.403Z"
   },
   {
    "duration": 19,
    "start_time": "2021-06-16T09:37:17.409Z"
   },
   {
    "duration": 11,
    "start_time": "2021-06-16T09:37:17.445Z"
   },
   {
    "duration": 26,
    "start_time": "2021-06-16T09:37:17.458Z"
   },
   {
    "duration": 12,
    "start_time": "2021-06-16T09:37:17.486Z"
   },
   {
    "duration": 27,
    "start_time": "2021-06-16T09:44:11.069Z"
   },
   {
    "duration": 70,
    "start_time": "2021-06-16T10:20:29.885Z"
   },
   {
    "duration": 2419,
    "start_time": "2021-06-16T10:20:57.967Z"
   },
   {
    "duration": 206,
    "start_time": "2021-06-16T11:18:10.581Z"
   },
   {
    "duration": 204,
    "start_time": "2021-06-16T11:19:39.748Z"
   },
   {
    "duration": 203,
    "start_time": "2021-06-16T11:19:57.804Z"
   },
   {
    "duration": 197,
    "start_time": "2021-06-16T11:20:12.114Z"
   },
   {
    "duration": 585,
    "start_time": "2021-06-16T11:53:12.063Z"
   },
   {
    "duration": 1661,
    "start_time": "2021-06-17T08:15:30.832Z"
   },
   {
    "duration": 4,
    "start_time": "2021-06-17T08:15:48.050Z"
   },
   {
    "duration": 82,
    "start_time": "2021-06-17T08:15:48.057Z"
   },
   {
    "duration": 57,
    "start_time": "2021-06-17T08:15:48.142Z"
   },
   {
    "duration": 36,
    "start_time": "2021-06-17T08:15:48.202Z"
   },
   {
    "duration": 18,
    "start_time": "2021-06-17T08:15:48.241Z"
   },
   {
    "duration": 9,
    "start_time": "2021-06-17T08:15:48.261Z"
   },
   {
    "duration": 54,
    "start_time": "2021-06-17T08:15:48.272Z"
   },
   {
    "duration": 8,
    "start_time": "2021-06-17T08:15:48.328Z"
   },
   {
    "duration": 7,
    "start_time": "2021-06-17T08:15:48.339Z"
   },
   {
    "duration": 11,
    "start_time": "2021-06-17T08:15:48.350Z"
   },
   {
    "duration": 11,
    "start_time": "2021-06-17T08:15:48.364Z"
   },
   {
    "duration": 73,
    "start_time": "2021-06-17T08:15:48.377Z"
   },
   {
    "duration": 45,
    "start_time": "2021-06-17T08:15:48.453Z"
   },
   {
    "duration": 38,
    "start_time": "2021-06-17T08:15:48.501Z"
   },
   {
    "duration": 28,
    "start_time": "2021-06-17T08:15:48.541Z"
   },
   {
    "duration": 4,
    "start_time": "2021-06-17T08:15:48.572Z"
   },
   {
    "duration": 12,
    "start_time": "2021-06-17T08:15:48.578Z"
   },
   {
    "duration": 58,
    "start_time": "2021-06-17T08:15:48.624Z"
   },
   {
    "duration": 73,
    "start_time": "2021-06-17T08:15:48.684Z"
   },
   {
    "duration": 66,
    "start_time": "2021-06-17T08:15:48.759Z"
   },
   {
    "duration": 18,
    "start_time": "2021-06-17T08:15:48.828Z"
   },
   {
    "duration": 9,
    "start_time": "2021-06-17T08:15:48.849Z"
   },
   {
    "duration": 13,
    "start_time": "2021-06-17T08:15:48.860Z"
   },
   {
    "duration": 51,
    "start_time": "2021-06-17T08:15:48.876Z"
   },
   {
    "duration": 33,
    "start_time": "2021-06-17T08:15:48.930Z"
   },
   {
    "duration": 9,
    "start_time": "2021-06-17T08:15:48.966Z"
   },
   {
    "duration": 9,
    "start_time": "2021-06-17T08:15:48.977Z"
   },
   {
    "duration": 29,
    "start_time": "2021-06-17T08:15:49.029Z"
   },
   {
    "duration": 19,
    "start_time": "2021-06-17T08:15:49.061Z"
   },
   {
    "duration": 56,
    "start_time": "2021-06-17T08:15:49.083Z"
   },
   {
    "duration": 20,
    "start_time": "2021-06-17T08:15:49.143Z"
   },
   {
    "duration": 72,
    "start_time": "2021-06-17T08:15:49.166Z"
   },
   {
    "duration": 383,
    "start_time": "2021-06-17T08:15:49.241Z"
   },
   {
    "duration": 91,
    "start_time": "2021-06-17T08:16:12.079Z"
   },
   {
    "duration": 5251,
    "start_time": "2021-06-17T08:16:32.310Z"
   },
   {
    "duration": 100,
    "start_time": "2021-06-17T08:18:29.236Z"
   },
   {
    "duration": 2736,
    "start_time": "2021-06-17T08:18:41.923Z"
   },
   {
    "duration": 2846,
    "start_time": "2021-06-17T08:19:55.478Z"
   },
   {
    "duration": 1491,
    "start_time": "2021-06-17T08:20:20.336Z"
   },
   {
    "duration": 66,
    "start_time": "2021-06-17T08:20:21.829Z"
   },
   {
    "duration": 63,
    "start_time": "2021-06-17T08:20:21.898Z"
   },
   {
    "duration": 18,
    "start_time": "2021-06-17T08:20:21.964Z"
   },
   {
    "duration": 40,
    "start_time": "2021-06-17T08:20:21.984Z"
   },
   {
    "duration": 9,
    "start_time": "2021-06-17T08:20:22.026Z"
   },
   {
    "duration": 11,
    "start_time": "2021-06-17T08:20:22.037Z"
   },
   {
    "duration": 14,
    "start_time": "2021-06-17T08:20:22.052Z"
   },
   {
    "duration": 7,
    "start_time": "2021-06-17T08:20:22.069Z"
   },
   {
    "duration": 16,
    "start_time": "2021-06-17T08:20:22.079Z"
   },
   {
    "duration": 28,
    "start_time": "2021-06-17T08:20:22.097Z"
   },
   {
    "duration": 57,
    "start_time": "2021-06-17T08:20:22.127Z"
   },
   {
    "duration": 49,
    "start_time": "2021-06-17T08:20:22.186Z"
   },
   {
    "duration": 15,
    "start_time": "2021-06-17T08:20:22.238Z"
   },
   {
    "duration": 28,
    "start_time": "2021-06-17T08:20:22.255Z"
   },
   {
    "duration": 4,
    "start_time": "2021-06-17T08:20:22.285Z"
   },
   {
    "duration": 39,
    "start_time": "2021-06-17T08:20:22.291Z"
   },
   {
    "duration": 64,
    "start_time": "2021-06-17T08:20:22.332Z"
   },
   {
    "duration": 71,
    "start_time": "2021-06-17T08:20:22.398Z"
   },
   {
    "duration": 77,
    "start_time": "2021-06-17T08:20:22.472Z"
   },
   {
    "duration": 19,
    "start_time": "2021-06-17T08:20:22.551Z"
   },
   {
    "duration": 17,
    "start_time": "2021-06-17T08:20:22.573Z"
   },
   {
    "duration": 35,
    "start_time": "2021-06-17T08:20:22.596Z"
   },
   {
    "duration": 24,
    "start_time": "2021-06-17T08:20:22.635Z"
   },
   {
    "duration": 37,
    "start_time": "2021-06-17T08:20:22.662Z"
   },
   {
    "duration": 9,
    "start_time": "2021-06-17T08:20:22.702Z"
   },
   {
    "duration": 13,
    "start_time": "2021-06-17T08:20:22.724Z"
   },
   {
    "duration": 28,
    "start_time": "2021-06-17T08:20:22.739Z"
   },
   {
    "duration": 19,
    "start_time": "2021-06-17T08:20:22.769Z"
   },
   {
    "duration": 43,
    "start_time": "2021-06-17T08:20:22.790Z"
   },
   {
    "duration": 25,
    "start_time": "2021-06-17T08:20:22.836Z"
   },
   {
    "duration": 66,
    "start_time": "2021-06-17T08:20:22.863Z"
   },
   {
    "duration": 375,
    "start_time": "2021-06-17T08:20:22.932Z"
   },
   {
    "duration": 4701,
    "start_time": "2021-06-17T08:20:23.310Z"
   },
   {
    "duration": 10,
    "start_time": "2021-06-17T08:20:28.014Z"
   },
   {
    "duration": 3141,
    "start_time": "2021-06-17T08:21:12.588Z"
   },
   {
    "duration": 2820,
    "start_time": "2021-06-17T08:22:11.094Z"
   },
   {
    "duration": 4879,
    "start_time": "2021-06-17T08:28:53.127Z"
   },
   {
    "duration": 4,
    "start_time": "2021-06-17T08:39:36.519Z"
   },
   {
    "duration": 93,
    "start_time": "2021-06-17T08:44:03.489Z"
   },
   {
    "duration": 3101,
    "start_time": "2021-06-17T08:44:14.184Z"
   },
   {
    "duration": 2768,
    "start_time": "2021-06-17T08:44:30.393Z"
   },
   {
    "duration": 3137,
    "start_time": "2021-06-17T08:50:18.427Z"
   },
   {
    "duration": 2928,
    "start_time": "2021-06-17T08:51:14.547Z"
   },
   {
    "duration": 104,
    "start_time": "2021-06-17T08:53:27.320Z"
   },
   {
    "duration": 3018,
    "start_time": "2021-06-17T08:53:34.933Z"
   },
   {
    "duration": 2879,
    "start_time": "2021-06-17T08:54:09.958Z"
   },
   {
    "duration": 3004,
    "start_time": "2021-06-17T08:55:02.479Z"
   },
   {
    "duration": 281,
    "start_time": "2021-06-17T08:59:45.253Z"
   },
   {
    "duration": 275,
    "start_time": "2021-06-17T09:23:04.922Z"
   },
   {
    "duration": 658,
    "start_time": "2021-06-17T09:23:13.285Z"
   },
   {
    "duration": 642,
    "start_time": "2021-06-17T09:30:21.756Z"
   },
   {
    "duration": 5,
    "start_time": "2021-06-17T09:30:46.869Z"
   },
   {
    "duration": 1007,
    "start_time": "2021-06-17T09:30:56.193Z"
   },
   {
    "duration": 982,
    "start_time": "2021-06-17T09:31:14.494Z"
   },
   {
    "duration": 8,
    "start_time": "2021-06-17T09:32:35.690Z"
   },
   {
    "duration": 1024,
    "start_time": "2021-06-17T10:51:59.505Z"
   },
   {
    "duration": 92,
    "start_time": "2021-06-17T10:52:08.507Z"
   },
   {
    "duration": 691,
    "start_time": "2021-06-17T10:52:18.445Z"
   },
   {
    "duration": 324,
    "start_time": "2021-06-17T11:07:26.891Z"
   },
   {
    "duration": 374,
    "start_time": "2021-06-17T11:07:32.208Z"
   },
   {
    "duration": 1774,
    "start_time": "2021-06-17T11:14:58.840Z"
   },
   {
    "duration": 70,
    "start_time": "2021-06-17T11:15:00.617Z"
   },
   {
    "duration": 71,
    "start_time": "2021-06-17T11:15:00.691Z"
   },
   {
    "duration": 20,
    "start_time": "2021-06-17T11:15:00.765Z"
   },
   {
    "duration": 45,
    "start_time": "2021-06-17T11:15:00.788Z"
   },
   {
    "duration": 10,
    "start_time": "2021-06-17T11:15:00.836Z"
   },
   {
    "duration": 16,
    "start_time": "2021-06-17T11:15:00.849Z"
   },
   {
    "duration": 18,
    "start_time": "2021-06-17T11:15:00.870Z"
   },
   {
    "duration": 32,
    "start_time": "2021-06-17T11:15:00.892Z"
   },
   {
    "duration": 17,
    "start_time": "2021-06-17T11:15:00.927Z"
   },
   {
    "duration": 10,
    "start_time": "2021-06-17T11:15:00.947Z"
   },
   {
    "duration": 71,
    "start_time": "2021-06-17T11:15:00.959Z"
   },
   {
    "duration": 44,
    "start_time": "2021-06-17T11:15:01.033Z"
   },
   {
    "duration": 48,
    "start_time": "2021-06-17T11:15:01.080Z"
   },
   {
    "duration": 29,
    "start_time": "2021-06-17T11:15:01.131Z"
   },
   {
    "duration": 17,
    "start_time": "2021-06-17T11:15:01.163Z"
   },
   {
    "duration": 23,
    "start_time": "2021-06-17T11:15:01.182Z"
   },
   {
    "duration": 79,
    "start_time": "2021-06-17T11:15:01.207Z"
   },
   {
    "duration": 63,
    "start_time": "2021-06-17T11:15:01.288Z"
   },
   {
    "duration": 52,
    "start_time": "2021-06-17T11:15:01.353Z"
   },
   {
    "duration": 32,
    "start_time": "2021-06-17T11:15:01.407Z"
   },
   {
    "duration": 29,
    "start_time": "2021-06-17T11:15:01.441Z"
   },
   {
    "duration": 31,
    "start_time": "2021-06-17T11:15:01.475Z"
   },
   {
    "duration": 21,
    "start_time": "2021-06-17T11:15:01.509Z"
   },
   {
    "duration": 42,
    "start_time": "2021-06-17T11:15:01.532Z"
   },
   {
    "duration": 20,
    "start_time": "2021-06-17T11:15:01.577Z"
   },
   {
    "duration": 31,
    "start_time": "2021-06-17T11:15:01.600Z"
   },
   {
    "duration": 48,
    "start_time": "2021-06-17T11:15:01.633Z"
   },
   {
    "duration": 19,
    "start_time": "2021-06-17T11:15:01.684Z"
   },
   {
    "duration": 35,
    "start_time": "2021-06-17T11:15:01.705Z"
   },
   {
    "duration": 40,
    "start_time": "2021-06-17T11:15:01.743Z"
   },
   {
    "duration": 42,
    "start_time": "2021-06-17T11:15:01.785Z"
   },
   {
    "duration": 381,
    "start_time": "2021-06-17T11:15:01.830Z"
   },
   {
    "duration": 14,
    "start_time": "2021-06-17T11:15:02.213Z"
   },
   {
    "duration": 2685,
    "start_time": "2021-06-17T11:15:02.230Z"
   },
   {
    "duration": 1031,
    "start_time": "2021-06-17T11:15:04.917Z"
   },
   {
    "duration": 641,
    "start_time": "2021-06-17T11:15:05.950Z"
   },
   {
    "duration": -188,
    "start_time": "2021-06-17T11:15:06.782Z"
   },
   {
    "duration": 11,
    "start_time": "2021-06-17T11:17:10.139Z"
   },
   {
    "duration": 9,
    "start_time": "2021-06-17T11:18:15.707Z"
   },
   {
    "duration": 10,
    "start_time": "2021-06-17T11:18:42.983Z"
   },
   {
    "duration": 4,
    "start_time": "2021-06-17T11:20:31.728Z"
   },
   {
    "duration": 277,
    "start_time": "2021-06-17T11:21:59.396Z"
   },
   {
    "duration": 289,
    "start_time": "2021-06-17T11:22:23.097Z"
   },
   {
    "duration": 26,
    "start_time": "2021-06-17T11:23:02.592Z"
   },
   {
    "duration": 7,
    "start_time": "2021-06-17T11:23:42.096Z"
   },
   {
    "duration": 7,
    "start_time": "2021-06-17T11:24:02.727Z"
   },
   {
    "duration": 6,
    "start_time": "2021-06-17T11:25:23.751Z"
   },
   {
    "duration": 278,
    "start_time": "2021-06-17T11:25:33.052Z"
   },
   {
    "duration": 7,
    "start_time": "2021-06-17T11:25:54.656Z"
   },
   {
    "duration": 341,
    "start_time": "2021-06-17T11:29:03.074Z"
   },
   {
    "duration": 398,
    "start_time": "2021-06-17T11:29:11.493Z"
   },
   {
    "duration": 1467,
    "start_time": "2021-06-17T13:18:07.293Z"
   },
   {
    "duration": 65,
    "start_time": "2021-06-17T13:18:08.763Z"
   },
   {
    "duration": 65,
    "start_time": "2021-06-17T13:18:08.831Z"
   },
   {
    "duration": 17,
    "start_time": "2021-06-17T13:18:08.899Z"
   },
   {
    "duration": 18,
    "start_time": "2021-06-17T13:18:08.919Z"
   },
   {
    "duration": 9,
    "start_time": "2021-06-17T13:18:08.940Z"
   },
   {
    "duration": 40,
    "start_time": "2021-06-17T13:18:08.951Z"
   },
   {
    "duration": 10,
    "start_time": "2021-06-17T13:18:08.997Z"
   },
   {
    "duration": 4,
    "start_time": "2021-06-17T13:18:09.011Z"
   },
   {
    "duration": 8,
    "start_time": "2021-06-17T13:18:09.018Z"
   },
   {
    "duration": 57,
    "start_time": "2021-06-17T13:18:09.029Z"
   },
   {
    "duration": 40,
    "start_time": "2021-06-17T13:18:09.088Z"
   },
   {
    "duration": 70,
    "start_time": "2021-06-17T13:18:09.130Z"
   },
   {
    "duration": 16,
    "start_time": "2021-06-17T13:18:09.202Z"
   },
   {
    "duration": 23,
    "start_time": "2021-06-17T13:18:09.220Z"
   },
   {
    "duration": 5,
    "start_time": "2021-06-17T13:18:09.245Z"
   },
   {
    "duration": 36,
    "start_time": "2021-06-17T13:18:09.252Z"
   },
   {
    "duration": 53,
    "start_time": "2021-06-17T13:18:09.291Z"
   },
   {
    "duration": 81,
    "start_time": "2021-06-17T13:18:09.347Z"
   },
   {
    "duration": 70,
    "start_time": "2021-06-17T13:18:09.431Z"
   },
   {
    "duration": 17,
    "start_time": "2021-06-17T13:18:09.504Z"
   },
   {
    "duration": 12,
    "start_time": "2021-06-17T13:18:09.523Z"
   },
   {
    "duration": 16,
    "start_time": "2021-06-17T13:18:09.540Z"
   },
   {
    "duration": 33,
    "start_time": "2021-06-17T13:18:09.558Z"
   },
   {
    "duration": 28,
    "start_time": "2021-06-17T13:18:09.593Z"
   },
   {
    "duration": 8,
    "start_time": "2021-06-17T13:18:09.624Z"
   },
   {
    "duration": 50,
    "start_time": "2021-06-17T13:18:09.635Z"
   },
   {
    "duration": 27,
    "start_time": "2021-06-17T13:18:09.687Z"
   },
   {
    "duration": 16,
    "start_time": "2021-06-17T13:18:09.717Z"
   },
   {
    "duration": 18,
    "start_time": "2021-06-17T13:18:09.736Z"
   },
   {
    "duration": 18,
    "start_time": "2021-06-17T13:18:09.784Z"
   },
   {
    "duration": 39,
    "start_time": "2021-06-17T13:18:09.804Z"
   },
   {
    "duration": 410,
    "start_time": "2021-06-17T13:18:09.846Z"
   },
   {
    "duration": 10,
    "start_time": "2021-06-17T13:18:10.258Z"
   },
   {
    "duration": 2062,
    "start_time": "2021-06-17T13:18:10.270Z"
   },
   {
    "duration": 407,
    "start_time": "2021-06-17T13:18:12.335Z"
   },
   {
    "duration": -77,
    "start_time": "2021-06-17T13:18:12.822Z"
   },
   {
    "duration": -81,
    "start_time": "2021-06-17T13:18:12.827Z"
   },
   {
    "duration": 7,
    "start_time": "2021-06-17T13:19:52.586Z"
   },
   {
    "duration": 383,
    "start_time": "2021-06-17T13:20:29.537Z"
   },
   {
    "duration": 3494,
    "start_time": "2021-06-17T13:20:37.806Z"
   },
   {
    "duration": 392,
    "start_time": "2021-06-17T13:26:07.243Z"
   },
   {
    "duration": 95,
    "start_time": "2021-06-17T13:31:23.193Z"
   },
   {
    "duration": 1024,
    "start_time": "2021-06-17T13:31:36.511Z"
   },
   {
    "duration": 362,
    "start_time": "2021-06-17T13:31:54.807Z"
   },
   {
    "duration": 364,
    "start_time": "2021-06-17T13:32:19.790Z"
   },
   {
    "duration": 354,
    "start_time": "2021-06-17T13:33:45.996Z"
   },
   {
    "duration": 367,
    "start_time": "2021-06-17T13:34:32.667Z"
   },
   {
    "duration": 869,
    "start_time": "2021-06-17T13:35:13.335Z"
   },
   {
    "duration": 16,
    "start_time": "2021-06-17T13:46:40.864Z"
   },
   {
    "duration": 17,
    "start_time": "2021-06-17T13:47:48.382Z"
   },
   {
    "duration": 19,
    "start_time": "2021-06-17T13:49:32.011Z"
   },
   {
    "duration": 18,
    "start_time": "2021-06-17T13:49:54.065Z"
   },
   {
    "duration": 23,
    "start_time": "2021-06-17T13:50:26.640Z"
   },
   {
    "duration": 306,
    "start_time": "2021-06-17T13:50:58.990Z"
   },
   {
    "duration": 24,
    "start_time": "2021-06-17T13:51:05.401Z"
   },
   {
    "duration": 18,
    "start_time": "2021-06-17T13:51:14.980Z"
   },
   {
    "duration": 21,
    "start_time": "2021-06-17T13:51:39.846Z"
   },
   {
    "duration": 294,
    "start_time": "2021-06-17T13:52:55.253Z"
   },
   {
    "duration": 308,
    "start_time": "2021-06-17T13:53:05.578Z"
   },
   {
    "duration": 309,
    "start_time": "2021-06-17T13:53:17.643Z"
   },
   {
    "duration": 19,
    "start_time": "2021-06-17T13:53:29.064Z"
   },
   {
    "duration": 19,
    "start_time": "2021-06-17T13:53:55.821Z"
   },
   {
    "duration": 8,
    "start_time": "2021-06-17T14:11:07.617Z"
   },
   {
    "duration": 9,
    "start_time": "2021-06-17T14:15:26.200Z"
   },
   {
    "duration": 9,
    "start_time": "2021-06-17T14:15:41.323Z"
   },
   {
    "duration": 20,
    "start_time": "2021-06-17T15:45:13.483Z"
   },
   {
    "duration": 30,
    "start_time": "2021-06-17T15:46:31.206Z"
   },
   {
    "duration": 6,
    "start_time": "2021-06-17T15:58:01.640Z"
   },
   {
    "duration": 7,
    "start_time": "2021-06-17T15:58:12.475Z"
   },
   {
    "duration": 5,
    "start_time": "2021-06-17T15:58:19.159Z"
   },
   {
    "duration": 422,
    "start_time": "2021-06-18T10:23:53.309Z"
   },
   {
    "duration": 1670,
    "start_time": "2021-06-18T10:24:17.918Z"
   },
   {
    "duration": 88,
    "start_time": "2021-06-18T10:24:19.591Z"
   },
   {
    "duration": 63,
    "start_time": "2021-06-18T10:24:19.681Z"
   },
   {
    "duration": 18,
    "start_time": "2021-06-18T10:24:19.747Z"
   },
   {
    "duration": 18,
    "start_time": "2021-06-18T10:24:19.767Z"
   },
   {
    "duration": 8,
    "start_time": "2021-06-18T10:24:19.788Z"
   },
   {
    "duration": 8,
    "start_time": "2021-06-18T10:24:19.826Z"
   },
   {
    "duration": 10,
    "start_time": "2021-06-18T10:24:19.838Z"
   },
   {
    "duration": 4,
    "start_time": "2021-06-18T10:24:19.851Z"
   },
   {
    "duration": 10,
    "start_time": "2021-06-18T10:24:19.857Z"
   },
   {
    "duration": 7,
    "start_time": "2021-06-18T10:24:19.869Z"
   },
   {
    "duration": 81,
    "start_time": "2021-06-18T10:24:19.879Z"
   },
   {
    "duration": 65,
    "start_time": "2021-06-18T10:24:19.962Z"
   },
   {
    "duration": 16,
    "start_time": "2021-06-18T10:24:20.029Z"
   },
   {
    "duration": 25,
    "start_time": "2021-06-18T10:24:20.047Z"
   },
   {
    "duration": 4,
    "start_time": "2021-06-18T10:24:20.074Z"
   },
   {
    "duration": 50,
    "start_time": "2021-06-18T10:24:20.080Z"
   },
   {
    "duration": 58,
    "start_time": "2021-06-18T10:24:20.132Z"
   },
   {
    "duration": 77,
    "start_time": "2021-06-18T10:24:20.192Z"
   },
   {
    "duration": 68,
    "start_time": "2021-06-18T10:24:20.272Z"
   },
   {
    "duration": 17,
    "start_time": "2021-06-18T10:24:20.343Z"
   },
   {
    "duration": 10,
    "start_time": "2021-06-18T10:24:20.362Z"
   },
   {
    "duration": 13,
    "start_time": "2021-06-18T10:24:20.376Z"
   },
   {
    "duration": 38,
    "start_time": "2021-06-18T10:24:20.391Z"
   },
   {
    "duration": 31,
    "start_time": "2021-06-18T10:24:20.431Z"
   },
   {
    "duration": 8,
    "start_time": "2021-06-18T10:24:20.464Z"
   },
   {
    "duration": 10,
    "start_time": "2021-06-18T10:24:20.474Z"
   },
   {
    "duration": 62,
    "start_time": "2021-06-18T10:24:20.486Z"
   },
   {
    "duration": 16,
    "start_time": "2021-06-18T10:24:20.551Z"
   },
   {
    "duration": 20,
    "start_time": "2021-06-18T10:24:20.569Z"
   },
   {
    "duration": 29,
    "start_time": "2021-06-18T10:24:20.626Z"
   },
   {
    "duration": 19,
    "start_time": "2021-06-18T10:24:20.657Z"
   },
   {
    "duration": 75,
    "start_time": "2021-06-18T10:24:20.679Z"
   },
   {
    "duration": 393,
    "start_time": "2021-06-18T10:24:20.757Z"
   },
   {
    "duration": 8,
    "start_time": "2021-06-18T10:24:21.152Z"
   },
   {
    "duration": 8,
    "start_time": "2021-06-18T10:24:21.163Z"
   },
   {
    "duration": 2085,
    "start_time": "2021-06-18T10:24:21.173Z"
   },
   {
    "duration": 6,
    "start_time": "2021-06-18T10:24:23.260Z"
   },
   {
    "duration": 964,
    "start_time": "2021-06-18T10:24:23.269Z"
   },
   {
    "duration": 18,
    "start_time": "2021-06-18T10:24:24.235Z"
   },
   {
    "duration": 17,
    "start_time": "2021-06-18T10:24:24.255Z"
   },
   {
    "duration": 50,
    "start_time": "2021-06-18T10:24:24.275Z"
   },
   {
    "duration": 18,
    "start_time": "2021-06-18T10:24:24.328Z"
   },
   {
    "duration": 8,
    "start_time": "2021-06-18T10:28:37.801Z"
   },
   {
    "duration": 451,
    "start_time": "2021-06-18T10:36:45.313Z"
   },
   {
    "duration": 20,
    "start_time": "2021-06-18T10:36:59.329Z"
   },
   {
    "duration": 947,
    "start_time": "2021-06-18T10:37:19.959Z"
   },
   {
    "duration": 8,
    "start_time": "2021-06-18T10:37:20.909Z"
   },
   {
    "duration": 24,
    "start_time": "2021-06-18T10:40:38.958Z"
   },
   {
    "duration": 25,
    "start_time": "2021-06-18T10:53:47.390Z"
   },
   {
    "duration": 374,
    "start_time": "2021-06-18T10:54:17.630Z"
   },
   {
    "duration": 26,
    "start_time": "2021-06-18T10:54:40.457Z"
   },
   {
    "duration": 28,
    "start_time": "2021-06-18T10:55:05.845Z"
   },
   {
    "duration": 6,
    "start_time": "2021-06-18T11:58:37.730Z"
   },
   {
    "duration": 383,
    "start_time": "2021-06-18T12:01:22.493Z"
   },
   {
    "duration": 360,
    "start_time": "2021-06-18T12:01:35.248Z"
   },
   {
    "duration": 21,
    "start_time": "2021-06-18T12:01:46.752Z"
   },
   {
    "duration": 23,
    "start_time": "2021-06-18T12:04:14.964Z"
   },
   {
    "duration": 108,
    "start_time": "2021-06-18T12:12:37.645Z"
   },
   {
    "duration": 17,
    "start_time": "2021-06-18T12:12:42.830Z"
   },
   {
    "duration": 24,
    "start_time": "2021-06-18T12:19:15.583Z"
   },
   {
    "duration": 19,
    "start_time": "2021-06-18T16:11:52.808Z"
   },
   {
    "duration": 43,
    "start_time": "2021-06-18T16:12:49.873Z"
   },
   {
    "duration": 54,
    "start_time": "2021-06-18T16:13:15.260Z"
   },
   {
    "duration": 104,
    "start_time": "2021-06-18T16:13:43.574Z"
   },
   {
    "duration": 28,
    "start_time": "2021-06-18T16:13:48.601Z"
   },
   {
    "duration": 1573,
    "start_time": "2021-06-19T07:10:53.347Z"
   },
   {
    "duration": 69,
    "start_time": "2021-06-19T07:10:54.922Z"
   },
   {
    "duration": 68,
    "start_time": "2021-06-19T07:10:54.994Z"
   },
   {
    "duration": 19,
    "start_time": "2021-06-19T07:10:55.064Z"
   },
   {
    "duration": 27,
    "start_time": "2021-06-19T07:10:55.085Z"
   },
   {
    "duration": 9,
    "start_time": "2021-06-19T07:10:55.114Z"
   },
   {
    "duration": 32,
    "start_time": "2021-06-19T07:10:55.125Z"
   },
   {
    "duration": 14,
    "start_time": "2021-06-19T07:10:55.161Z"
   },
   {
    "duration": 7,
    "start_time": "2021-06-19T07:10:55.178Z"
   },
   {
    "duration": 19,
    "start_time": "2021-06-19T07:10:55.187Z"
   },
   {
    "duration": 9,
    "start_time": "2021-06-19T07:10:55.208Z"
   },
   {
    "duration": 67,
    "start_time": "2021-06-19T07:10:55.219Z"
   },
   {
    "duration": 66,
    "start_time": "2021-06-19T07:10:55.288Z"
   },
   {
    "duration": 16,
    "start_time": "2021-06-19T07:10:55.356Z"
   },
   {
    "duration": 25,
    "start_time": "2021-06-19T07:10:55.374Z"
   },
   {
    "duration": 4,
    "start_time": "2021-06-19T07:10:55.401Z"
   },
   {
    "duration": 11,
    "start_time": "2021-06-19T07:10:55.407Z"
   },
   {
    "duration": 57,
    "start_time": "2021-06-19T07:10:55.455Z"
   },
   {
    "duration": 78,
    "start_time": "2021-06-19T07:10:55.514Z"
   },
   {
    "duration": 66,
    "start_time": "2021-06-19T07:10:55.594Z"
   },
   {
    "duration": 18,
    "start_time": "2021-06-19T07:10:55.663Z"
   },
   {
    "duration": 6,
    "start_time": "2021-06-19T07:10:55.684Z"
   },
   {
    "duration": 12,
    "start_time": "2021-06-19T07:10:55.695Z"
   },
   {
    "duration": 45,
    "start_time": "2021-06-19T07:10:55.710Z"
   },
   {
    "duration": 31,
    "start_time": "2021-06-19T07:10:55.757Z"
   },
   {
    "duration": 8,
    "start_time": "2021-06-19T07:10:55.791Z"
   },
   {
    "duration": 7,
    "start_time": "2021-06-19T07:10:55.802Z"
   },
   {
    "duration": 64,
    "start_time": "2021-06-19T07:10:55.812Z"
   },
   {
    "duration": 18,
    "start_time": "2021-06-19T07:10:55.879Z"
   },
   {
    "duration": 21,
    "start_time": "2021-06-19T07:10:55.900Z"
   },
   {
    "duration": 30,
    "start_time": "2021-06-19T07:10:55.956Z"
   },
   {
    "duration": 21,
    "start_time": "2021-06-19T07:10:55.989Z"
   },
   {
    "duration": 75,
    "start_time": "2021-06-19T07:10:56.013Z"
   },
   {
    "duration": 368,
    "start_time": "2021-06-19T07:10:56.091Z"
   },
   {
    "duration": 10,
    "start_time": "2021-06-19T07:10:56.462Z"
   },
   {
    "duration": 12,
    "start_time": "2021-06-19T07:10:56.474Z"
   },
   {
    "duration": 1967,
    "start_time": "2021-06-19T07:10:56.489Z"
   },
   {
    "duration": 8,
    "start_time": "2021-06-19T07:10:58.459Z"
   },
   {
    "duration": 937,
    "start_time": "2021-06-19T07:10:58.469Z"
   },
   {
    "duration": 12,
    "start_time": "2021-06-19T07:10:59.409Z"
   },
   {
    "duration": 32,
    "start_time": "2021-06-19T07:10:59.424Z"
   },
   {
    "duration": 33,
    "start_time": "2021-06-19T07:10:59.459Z"
   },
   {
    "duration": 18,
    "start_time": "2021-06-19T07:10:59.494Z"
   },
   {
    "duration": 56,
    "start_time": "2021-06-19T07:10:59.515Z"
   },
   {
    "duration": 19,
    "start_time": "2021-06-19T07:10:59.574Z"
   },
   {
    "duration": 25,
    "start_time": "2021-06-19T07:10:59.596Z"
   },
   {
    "duration": 469,
    "start_time": "2021-06-19T07:10:59.623Z"
   },
   {
    "duration": -3116,
    "start_time": "2021-06-19T07:11:03.210Z"
   },
   {
    "duration": 275,
    "start_time": "2021-06-19T07:11:52.069Z"
   },
   {
    "duration": 277,
    "start_time": "2021-06-19T07:12:12.047Z"
   },
   {
    "duration": 276,
    "start_time": "2021-06-19T07:12:35.602Z"
   },
   {
    "duration": 37,
    "start_time": "2021-06-19T07:18:39.749Z"
   },
   {
    "duration": 267,
    "start_time": "2021-06-19T07:18:59.199Z"
   },
   {
    "duration": 301,
    "start_time": "2021-06-19T07:19:28.607Z"
   },
   {
    "duration": 29,
    "start_time": "2021-06-19T07:19:44.769Z"
   },
   {
    "duration": 350,
    "start_time": "2021-06-19T07:20:03.616Z"
   },
   {
    "duration": 305,
    "start_time": "2021-06-19T07:20:19.853Z"
   },
   {
    "duration": 28,
    "start_time": "2021-06-19T07:20:43.966Z"
   },
   {
    "duration": 28,
    "start_time": "2021-06-19T07:20:52.671Z"
   },
   {
    "duration": 28,
    "start_time": "2021-06-19T07:20:55.571Z"
   },
   {
    "duration": 34,
    "start_time": "2021-06-19T07:23:08.202Z"
   },
   {
    "duration": 36,
    "start_time": "2021-06-19T07:23:15.784Z"
   },
   {
    "duration": 93,
    "start_time": "2021-06-19T07:23:34.720Z"
   },
   {
    "duration": 76,
    "start_time": "2021-06-19T07:23:36.988Z"
   },
   {
    "duration": 29,
    "start_time": "2021-06-19T07:23:56.254Z"
   },
   {
    "duration": 7486,
    "start_time": "2021-06-19T07:26:18.470Z"
   },
   {
    "duration": 28,
    "start_time": "2021-06-19T07:26:56.392Z"
   },
   {
    "duration": 10,
    "start_time": "2021-06-19T07:30:53.468Z"
   },
   {
    "duration": 6487,
    "start_time": "2021-06-19T07:33:44.944Z"
   },
   {
    "duration": 6569,
    "start_time": "2021-06-19T07:34:19.281Z"
   },
   {
    "duration": 6726,
    "start_time": "2021-06-19T07:35:16.989Z"
   },
   {
    "duration": 7408,
    "start_time": "2021-06-19T07:35:38.387Z"
   },
   {
    "duration": 282,
    "start_time": "2021-06-19T07:36:52.962Z"
   },
   {
    "duration": 24,
    "start_time": "2021-06-19T07:36:58.467Z"
   },
   {
    "duration": 23,
    "start_time": "2021-06-19T07:37:08.275Z"
   },
   {
    "duration": 7321,
    "start_time": "2021-06-19T07:37:21.041Z"
   },
   {
    "duration": 277,
    "start_time": "2021-06-19T07:37:49.206Z"
   },
   {
    "duration": 6831,
    "start_time": "2021-06-19T07:38:02.512Z"
   },
   {
    "duration": 6539,
    "start_time": "2021-06-19T07:38:17.272Z"
   },
   {
    "duration": 293,
    "start_time": "2021-06-19T07:38:44.059Z"
   },
   {
    "duration": 286,
    "start_time": "2021-06-19T07:40:22.365Z"
   },
   {
    "duration": 24,
    "start_time": "2021-06-19T07:41:32.195Z"
   },
   {
    "duration": 25,
    "start_time": "2021-06-19T07:41:42.854Z"
   },
   {
    "duration": 29,
    "start_time": "2021-06-19T07:42:59.758Z"
   },
   {
    "duration": 29,
    "start_time": "2021-06-19T07:49:26.824Z"
   },
   {
    "duration": 17,
    "start_time": "2021-06-19T07:51:45.241Z"
   },
   {
    "duration": 19,
    "start_time": "2021-06-19T08:04:41.408Z"
   },
   {
    "duration": 96,
    "start_time": "2021-06-19T08:12:12.005Z"
   },
   {
    "duration": 33,
    "start_time": "2021-06-19T08:12:19.448Z"
   },
   {
    "duration": 31,
    "start_time": "2021-06-19T08:12:33.884Z"
   },
   {
    "duration": 31,
    "start_time": "2021-06-19T08:12:56.242Z"
   },
   {
    "duration": 18,
    "start_time": "2021-06-19T08:15:41.180Z"
   },
   {
    "duration": 17,
    "start_time": "2021-06-19T08:18:27.745Z"
   },
   {
    "duration": 18,
    "start_time": "2021-06-19T08:18:34.435Z"
   },
   {
    "duration": 1533,
    "start_time": "2021-06-19T18:26:40.863Z"
   },
   {
    "duration": 67,
    "start_time": "2021-06-19T18:26:42.399Z"
   },
   {
    "duration": 62,
    "start_time": "2021-06-19T18:26:42.470Z"
   },
   {
    "duration": 18,
    "start_time": "2021-06-19T18:26:42.536Z"
   },
   {
    "duration": 44,
    "start_time": "2021-06-19T18:26:42.558Z"
   },
   {
    "duration": 9,
    "start_time": "2021-06-19T18:26:42.605Z"
   },
   {
    "duration": 12,
    "start_time": "2021-06-19T18:26:42.616Z"
   },
   {
    "duration": 18,
    "start_time": "2021-06-19T18:26:42.632Z"
   },
   {
    "duration": 4,
    "start_time": "2021-06-19T18:26:42.684Z"
   },
   {
    "duration": 12,
    "start_time": "2021-06-19T18:26:42.690Z"
   },
   {
    "duration": 7,
    "start_time": "2021-06-19T18:26:42.705Z"
   },
   {
    "duration": 46,
    "start_time": "2021-06-19T18:26:42.715Z"
   },
   {
    "duration": 44,
    "start_time": "2021-06-19T18:26:42.784Z"
   },
   {
    "duration": 16,
    "start_time": "2021-06-19T18:26:42.830Z"
   },
   {
    "duration": 50,
    "start_time": "2021-06-19T18:26:42.849Z"
   },
   {
    "duration": 4,
    "start_time": "2021-06-19T18:26:42.902Z"
   },
   {
    "duration": 11,
    "start_time": "2021-06-19T18:26:42.908Z"
   },
   {
    "duration": 86,
    "start_time": "2021-06-19T18:26:42.921Z"
   },
   {
    "duration": 73,
    "start_time": "2021-06-19T18:26:43.010Z"
   },
   {
    "duration": 49,
    "start_time": "2021-06-19T18:26:43.086Z"
   },
   {
    "duration": 18,
    "start_time": "2021-06-19T18:26:43.137Z"
   },
   {
    "duration": 27,
    "start_time": "2021-06-19T18:26:43.157Z"
   },
   {
    "duration": 16,
    "start_time": "2021-06-19T18:26:43.190Z"
   },
   {
    "duration": 9,
    "start_time": "2021-06-19T18:26:43.209Z"
   },
   {
    "duration": 70,
    "start_time": "2021-06-19T18:26:43.220Z"
   },
   {
    "duration": 11,
    "start_time": "2021-06-19T18:26:43.292Z"
   },
   {
    "duration": 9,
    "start_time": "2021-06-19T18:26:43.306Z"
   },
   {
    "duration": 24,
    "start_time": "2021-06-19T18:26:43.317Z"
   },
   {
    "duration": 50,
    "start_time": "2021-06-19T18:26:43.343Z"
   },
   {
    "duration": 20,
    "start_time": "2021-06-19T18:26:43.395Z"
   },
   {
    "duration": 32,
    "start_time": "2021-06-19T18:26:43.417Z"
   },
   {
    "duration": 46,
    "start_time": "2021-06-19T18:26:43.452Z"
   },
   {
    "duration": 40,
    "start_time": "2021-06-19T18:26:43.501Z"
   },
   {
    "duration": 370,
    "start_time": "2021-06-19T18:26:43.544Z"
   },
   {
    "duration": 8,
    "start_time": "2021-06-19T18:26:43.917Z"
   },
   {
    "duration": 11,
    "start_time": "2021-06-19T18:26:43.928Z"
   },
   {
    "duration": 2005,
    "start_time": "2021-06-19T18:26:43.941Z"
   },
   {
    "duration": 10,
    "start_time": "2021-06-19T18:26:45.949Z"
   },
   {
    "duration": 876,
    "start_time": "2021-06-19T18:26:45.961Z"
   },
   {
    "duration": 11,
    "start_time": "2021-06-19T18:26:46.839Z"
   },
   {
    "duration": 18,
    "start_time": "2021-06-19T18:26:46.852Z"
   },
   {
    "duration": 29,
    "start_time": "2021-06-19T18:26:46.884Z"
   },
   {
    "duration": 16,
    "start_time": "2021-06-19T18:26:46.916Z"
   },
   {
    "duration": 54,
    "start_time": "2021-06-19T18:26:46.934Z"
   },
   {
    "duration": 20,
    "start_time": "2021-06-19T18:26:46.991Z"
   },
   {
    "duration": 26,
    "start_time": "2021-06-19T18:26:47.013Z"
   },
   {
    "duration": 51,
    "start_time": "2021-06-19T18:26:47.042Z"
   },
   {
    "duration": 18,
    "start_time": "2021-06-19T18:26:47.096Z"
   },
   {
    "duration": 1491,
    "start_time": "2021-06-20T13:43:58.000Z"
   },
   {
    "duration": 65,
    "start_time": "2021-06-20T13:43:59.493Z"
   },
   {
    "duration": 62,
    "start_time": "2021-06-20T13:43:59.561Z"
   },
   {
    "duration": 19,
    "start_time": "2021-06-20T13:43:59.625Z"
   },
   {
    "duration": 23,
    "start_time": "2021-06-20T13:43:59.646Z"
   },
   {
    "duration": 9,
    "start_time": "2021-06-20T13:43:59.671Z"
   },
   {
    "duration": 9,
    "start_time": "2021-06-20T13:43:59.701Z"
   },
   {
    "duration": 8,
    "start_time": "2021-06-20T13:43:59.714Z"
   },
   {
    "duration": 4,
    "start_time": "2021-06-20T13:43:59.724Z"
   },
   {
    "duration": 9,
    "start_time": "2021-06-20T13:43:59.730Z"
   },
   {
    "duration": 7,
    "start_time": "2021-06-20T13:43:59.741Z"
   },
   {
    "duration": 83,
    "start_time": "2021-06-20T13:43:59.751Z"
   },
   {
    "duration": 66,
    "start_time": "2021-06-20T13:43:59.837Z"
   },
   {
    "duration": 17,
    "start_time": "2021-06-20T13:43:59.905Z"
   },
   {
    "duration": 24,
    "start_time": "2021-06-20T13:43:59.924Z"
   },
   {
    "duration": 4,
    "start_time": "2021-06-20T13:43:59.950Z"
   },
   {
    "duration": 48,
    "start_time": "2021-06-20T13:43:59.957Z"
   },
   {
    "duration": 50,
    "start_time": "2021-06-20T13:44:00.008Z"
   },
   {
    "duration": 83,
    "start_time": "2021-06-20T13:44:00.061Z"
   },
   {
    "duration": 70,
    "start_time": "2021-06-20T13:44:00.146Z"
   },
   {
    "duration": 19,
    "start_time": "2021-06-20T13:44:00.219Z"
   },
   {
    "duration": 8,
    "start_time": "2021-06-20T13:44:00.240Z"
   },
   {
    "duration": 12,
    "start_time": "2021-06-20T13:44:00.253Z"
   },
   {
    "duration": 9,
    "start_time": "2021-06-20T13:44:00.300Z"
   },
   {
    "duration": 31,
    "start_time": "2021-06-20T13:44:00.312Z"
   },
   {
    "duration": 10,
    "start_time": "2021-06-20T13:44:00.345Z"
   },
   {
    "duration": 44,
    "start_time": "2021-06-20T13:44:00.357Z"
   },
   {
    "duration": 35,
    "start_time": "2021-06-20T13:44:00.404Z"
   },
   {
    "duration": 16,
    "start_time": "2021-06-20T13:44:00.441Z"
   },
   {
    "duration": 45,
    "start_time": "2021-06-20T13:44:00.459Z"
   },
   {
    "duration": 32,
    "start_time": "2021-06-20T13:44:00.506Z"
   },
   {
    "duration": 19,
    "start_time": "2021-06-20T13:44:00.540Z"
   },
   {
    "duration": 72,
    "start_time": "2021-06-20T13:44:00.562Z"
   },
   {
    "duration": 361,
    "start_time": "2021-06-20T13:44:00.637Z"
   },
   {
    "duration": 9,
    "start_time": "2021-06-20T13:44:01.001Z"
   },
   {
    "duration": 17,
    "start_time": "2021-06-20T13:44:01.012Z"
   },
   {
    "duration": 2030,
    "start_time": "2021-06-20T13:44:01.031Z"
   },
   {
    "duration": 10,
    "start_time": "2021-06-20T13:44:03.063Z"
   },
   {
    "duration": 933,
    "start_time": "2021-06-20T13:44:03.075Z"
   },
   {
    "duration": 19,
    "start_time": "2021-06-20T13:44:04.011Z"
   },
   {
    "duration": 9,
    "start_time": "2021-06-20T13:44:04.033Z"
   },
   {
    "duration": 56,
    "start_time": "2021-06-20T13:44:04.045Z"
   },
   {
    "duration": 22,
    "start_time": "2021-06-20T13:44:04.104Z"
   },
   {
    "duration": 38,
    "start_time": "2021-06-20T13:44:04.129Z"
   },
   {
    "duration": 49,
    "start_time": "2021-06-20T13:44:04.170Z"
   },
   {
    "duration": 59,
    "start_time": "2021-06-20T13:44:04.221Z"
   },
   {
    "duration": 18,
    "start_time": "2021-06-20T13:44:04.283Z"
   },
   {
    "duration": 19,
    "start_time": "2021-06-20T13:44:04.304Z"
   },
   {
    "duration": 1457,
    "start_time": "2021-06-22T11:15:39.599Z"
   },
   {
    "duration": 67,
    "start_time": "2021-06-22T11:15:41.058Z"
   },
   {
    "duration": 61,
    "start_time": "2021-06-22T11:15:41.129Z"
   },
   {
    "duration": 18,
    "start_time": "2021-06-22T11:15:41.193Z"
   },
   {
    "duration": 29,
    "start_time": "2021-06-22T11:15:41.214Z"
   },
   {
    "duration": 9,
    "start_time": "2021-06-22T11:15:41.257Z"
   },
   {
    "duration": 22,
    "start_time": "2021-06-22T11:15:41.269Z"
   },
   {
    "duration": 22,
    "start_time": "2021-06-22T11:15:41.294Z"
   },
   {
    "duration": 19,
    "start_time": "2021-06-22T11:15:41.319Z"
   },
   {
    "duration": 16,
    "start_time": "2021-06-22T11:15:41.340Z"
   },
   {
    "duration": 11,
    "start_time": "2021-06-22T11:15:41.358Z"
   },
   {
    "duration": 8,
    "start_time": "2021-06-22T11:15:41.372Z"
   },
   {
    "duration": 42,
    "start_time": "2021-06-22T11:15:41.383Z"
   },
   {
    "duration": 62,
    "start_time": "2021-06-22T11:15:41.427Z"
   },
   {
    "duration": 15,
    "start_time": "2021-06-22T11:15:41.491Z"
   },
   {
    "duration": 52,
    "start_time": "2021-06-22T11:15:41.508Z"
   },
   {
    "duration": 4,
    "start_time": "2021-06-22T11:15:41.563Z"
   },
   {
    "duration": 25,
    "start_time": "2021-06-22T11:15:41.569Z"
   },
   {
    "duration": 72,
    "start_time": "2021-06-22T11:15:41.596Z"
   },
   {
    "duration": 52,
    "start_time": "2021-06-22T11:15:41.671Z"
   },
   {
    "duration": 74,
    "start_time": "2021-06-22T11:15:41.726Z"
   },
   {
    "duration": 18,
    "start_time": "2021-06-22T11:15:41.803Z"
   },
   {
    "duration": 31,
    "start_time": "2021-06-22T11:15:41.826Z"
   },
   {
    "duration": 17,
    "start_time": "2021-06-22T11:15:41.860Z"
   },
   {
    "duration": 9,
    "start_time": "2021-06-22T11:15:41.880Z"
   },
   {
    "duration": 30,
    "start_time": "2021-06-22T11:15:41.891Z"
   },
   {
    "duration": 9,
    "start_time": "2021-06-22T11:15:41.957Z"
   },
   {
    "duration": 10,
    "start_time": "2021-06-22T11:15:41.969Z"
   },
   {
    "duration": 32,
    "start_time": "2021-06-22T11:15:41.982Z"
   },
   {
    "duration": 50,
    "start_time": "2021-06-22T11:15:42.016Z"
   },
   {
    "duration": 20,
    "start_time": "2021-06-22T11:15:42.068Z"
   },
   {
    "duration": 36,
    "start_time": "2021-06-22T11:15:42.091Z"
   },
   {
    "duration": 38,
    "start_time": "2021-06-22T11:15:42.130Z"
   },
   {
    "duration": 42,
    "start_time": "2021-06-22T11:15:42.170Z"
   },
   {
    "duration": 379,
    "start_time": "2021-06-22T11:15:42.214Z"
   },
   {
    "duration": 8,
    "start_time": "2021-06-22T11:15:42.595Z"
   },
   {
    "duration": 8,
    "start_time": "2021-06-22T11:15:42.606Z"
   },
   {
    "duration": 1958,
    "start_time": "2021-06-22T11:15:42.616Z"
   },
   {
    "duration": 9,
    "start_time": "2021-06-22T11:15:44.576Z"
   },
   {
    "duration": 881,
    "start_time": "2021-06-22T11:15:44.587Z"
   },
   {
    "duration": 10,
    "start_time": "2021-06-22T11:15:45.470Z"
   },
   {
    "duration": 6,
    "start_time": "2021-06-22T11:15:45.483Z"
   },
   {
    "duration": 27,
    "start_time": "2021-06-22T11:15:45.491Z"
   },
   {
    "duration": 48,
    "start_time": "2021-06-22T11:15:45.521Z"
   },
   {
    "duration": 27,
    "start_time": "2021-06-22T11:15:45.571Z"
   },
   {
    "duration": 19,
    "start_time": "2021-06-22T11:15:45.600Z"
   },
   {
    "duration": 56,
    "start_time": "2021-06-22T11:15:45.622Z"
   },
   {
    "duration": 16,
    "start_time": "2021-06-22T11:15:45.680Z"
   },
   {
    "duration": 20,
    "start_time": "2021-06-22T11:15:45.698Z"
   },
   {
    "duration": 545,
    "start_time": "2021-06-22T11:16:34.180Z"
   },
   {
    "duration": 13,
    "start_time": "2021-06-22T11:16:49.823Z"
   },
   {
    "duration": 26,
    "start_time": "2021-06-22T11:16:58.147Z"
   },
   {
    "duration": 7,
    "start_time": "2021-06-22T11:20:14.409Z"
   },
   {
    "duration": 1782,
    "start_time": "2021-06-24T09:23:17.590Z"
   },
   {
    "duration": 66,
    "start_time": "2021-06-24T09:23:19.375Z"
   },
   {
    "duration": 56,
    "start_time": "2021-06-24T09:23:20.579Z"
   },
   {
    "duration": 19,
    "start_time": "2021-06-24T09:23:22.140Z"
   },
   {
    "duration": 19,
    "start_time": "2021-06-24T09:23:24.221Z"
   },
   {
    "duration": 12,
    "start_time": "2021-06-24T09:23:25.415Z"
   },
   {
    "duration": 9,
    "start_time": "2021-06-24T09:23:25.967Z"
   },
   {
    "duration": 10,
    "start_time": "2021-06-24T09:23:26.626Z"
   },
   {
    "duration": 11,
    "start_time": "2021-06-24T09:23:27.216Z"
   },
   {
    "duration": 20,
    "start_time": "2021-06-24T09:23:27.792Z"
   },
   {
    "duration": 3,
    "start_time": "2021-06-24T09:23:31.594Z"
   },
   {
    "duration": 7,
    "start_time": "2021-06-24T09:23:33.406Z"
   },
   {
    "duration": 8,
    "start_time": "2021-06-24T09:23:35.495Z"
   },
   {
    "duration": 42,
    "start_time": "2021-06-24T09:23:36.790Z"
   },
   {
    "duration": 45,
    "start_time": "2021-06-24T09:23:37.554Z"
   },
   {
    "duration": 17,
    "start_time": "2021-06-24T09:23:38.275Z"
   },
   {
    "duration": 26,
    "start_time": "2021-06-24T09:23:40.489Z"
   },
   {
    "duration": 4,
    "start_time": "2021-06-24T09:23:41.827Z"
   },
   {
    "duration": 10,
    "start_time": "2021-06-24T09:23:43.342Z"
   },
   {
    "duration": 57,
    "start_time": "2021-06-24T09:23:44.862Z"
   },
   {
    "duration": 56,
    "start_time": "2021-06-24T09:23:46.439Z"
   },
   {
    "duration": 52,
    "start_time": "2021-06-24T09:23:47.852Z"
   },
   {
    "duration": 13,
    "start_time": "2021-06-24T09:25:25.449Z"
   },
   {
    "duration": 37,
    "start_time": "2021-06-24T09:27:00.599Z"
   },
   {
    "duration": 38,
    "start_time": "2021-06-24T09:27:35.619Z"
   },
   {
    "duration": 25,
    "start_time": "2021-06-24T09:28:15.419Z"
   },
   {
    "duration": 26,
    "start_time": "2021-06-24T09:29:20.907Z"
   },
   {
    "duration": 23,
    "start_time": "2021-06-24T09:30:49.540Z"
   },
   {
    "duration": 414,
    "start_time": "2021-06-24T09:33:50.761Z"
   },
   {
    "duration": 6749,
    "start_time": "2021-06-24T09:33:56.302Z"
   },
   {
    "duration": 3444,
    "start_time": "2021-06-24T09:34:32.269Z"
   },
   {
    "duration": 16,
    "start_time": "2021-06-24T09:35:08.299Z"
   },
   {
    "duration": 19,
    "start_time": "2021-06-24T09:35:44.057Z"
   },
   {
    "duration": 21,
    "start_time": "2021-06-24T09:35:50.102Z"
   },
   {
    "duration": 16,
    "start_time": "2021-06-24T09:45:58.561Z"
   },
   {
    "duration": 17,
    "start_time": "2021-06-24T09:46:18.611Z"
   },
   {
    "duration": 8466,
    "start_time": "2021-06-24T10:15:43.289Z"
   },
   {
    "duration": 310,
    "start_time": "2021-06-24T10:16:01.677Z"
   },
   {
    "duration": 32,
    "start_time": "2021-06-24T10:16:07.946Z"
   },
   {
    "duration": 1509,
    "start_time": "2021-06-24T10:16:24.684Z"
   },
   {
    "duration": 64,
    "start_time": "2021-06-24T10:16:26.196Z"
   },
   {
    "duration": 73,
    "start_time": "2021-06-24T10:16:26.264Z"
   },
   {
    "duration": 26,
    "start_time": "2021-06-24T10:16:26.341Z"
   },
   {
    "duration": 21,
    "start_time": "2021-06-24T10:16:26.386Z"
   },
   {
    "duration": 9,
    "start_time": "2021-06-24T10:16:26.410Z"
   },
   {
    "duration": 11,
    "start_time": "2021-06-24T10:16:26.421Z"
   },
   {
    "duration": 49,
    "start_time": "2021-06-24T10:16:26.435Z"
   },
   {
    "duration": 9,
    "start_time": "2021-06-24T10:16:26.487Z"
   },
   {
    "duration": 19,
    "start_time": "2021-06-24T10:16:26.499Z"
   },
   {
    "duration": 3,
    "start_time": "2021-06-24T10:16:26.521Z"
   },
   {
    "duration": 12,
    "start_time": "2021-06-24T10:16:26.526Z"
   },
   {
    "duration": 44,
    "start_time": "2021-06-24T10:16:26.540Z"
   },
   {
    "duration": 43,
    "start_time": "2021-06-24T10:16:26.586Z"
   },
   {
    "duration": 67,
    "start_time": "2021-06-24T10:16:26.631Z"
   },
   {
    "duration": 16,
    "start_time": "2021-06-24T10:16:26.701Z"
   },
   {
    "duration": 24,
    "start_time": "2021-06-24T10:16:26.720Z"
   },
   {
    "duration": 37,
    "start_time": "2021-06-24T10:16:26.747Z"
   },
   {
    "duration": 21,
    "start_time": "2021-06-24T10:16:26.787Z"
   },
   {
    "duration": 72,
    "start_time": "2021-06-24T10:16:26.811Z"
   },
   {
    "duration": 57,
    "start_time": "2021-06-24T10:16:26.886Z"
   },
   {
    "duration": 83,
    "start_time": "2021-06-24T10:16:26.946Z"
   },
   {
    "duration": 14,
    "start_time": "2021-06-24T10:16:27.034Z"
   },
   {
    "duration": 43,
    "start_time": "2021-06-24T10:16:27.052Z"
   },
   {
    "duration": 33,
    "start_time": "2021-06-24T10:16:27.098Z"
   },
   {
    "duration": 32,
    "start_time": "2021-06-24T10:16:43.929Z"
   },
   {
    "duration": 17,
    "start_time": "2021-06-24T10:17:47.284Z"
   },
   {
    "duration": 21,
    "start_time": "2021-06-24T10:19:51.019Z"
   },
   {
    "duration": 21,
    "start_time": "2021-06-24T10:20:14.738Z"
   },
   {
    "duration": 5,
    "start_time": "2021-06-24T10:20:29.922Z"
   },
   {
    "duration": 77,
    "start_time": "2021-06-24T10:20:29.931Z"
   },
   {
    "duration": 44,
    "start_time": "2021-06-24T10:20:30.012Z"
   },
   {
    "duration": 33,
    "start_time": "2021-06-24T10:20:30.061Z"
   },
   {
    "duration": 35,
    "start_time": "2021-06-24T10:20:30.098Z"
   },
   {
    "duration": 9,
    "start_time": "2021-06-24T10:20:30.135Z"
   },
   {
    "duration": 35,
    "start_time": "2021-06-24T10:20:30.147Z"
   },
   {
    "duration": 12,
    "start_time": "2021-06-24T10:20:30.185Z"
   },
   {
    "duration": 23,
    "start_time": "2021-06-24T10:20:30.201Z"
   },
   {
    "duration": 30,
    "start_time": "2021-06-24T10:20:30.228Z"
   },
   {
    "duration": 15,
    "start_time": "2021-06-24T10:20:30.261Z"
   },
   {
    "duration": 25,
    "start_time": "2021-06-24T10:20:30.278Z"
   },
   {
    "duration": 22,
    "start_time": "2021-06-24T10:20:30.306Z"
   },
   {
    "duration": 56,
    "start_time": "2021-06-24T10:20:30.331Z"
   },
   {
    "duration": 47,
    "start_time": "2021-06-24T10:20:30.390Z"
   },
   {
    "duration": 46,
    "start_time": "2021-06-24T10:20:30.440Z"
   },
   {
    "duration": 25,
    "start_time": "2021-06-24T10:20:30.489Z"
   },
   {
    "duration": 6,
    "start_time": "2021-06-24T10:20:30.517Z"
   },
   {
    "duration": 31,
    "start_time": "2021-06-24T10:20:30.526Z"
   },
   {
    "duration": 78,
    "start_time": "2021-06-24T10:20:30.560Z"
   },
   {
    "duration": 94,
    "start_time": "2021-06-24T10:20:30.641Z"
   },
   {
    "duration": 65,
    "start_time": "2021-06-24T10:20:30.738Z"
   },
   {
    "duration": 16,
    "start_time": "2021-06-24T10:20:30.806Z"
   },
   {
    "duration": 29,
    "start_time": "2021-06-24T10:20:30.827Z"
   },
   {
    "duration": 17,
    "start_time": "2021-06-24T10:20:35.694Z"
   },
   {
    "duration": 22,
    "start_time": "2021-06-24T10:20:41.056Z"
   },
   {
    "duration": 7141,
    "start_time": "2021-06-24T10:21:14.728Z"
   },
   {
    "duration": 6703,
    "start_time": "2021-06-24T10:21:36.578Z"
   },
   {
    "duration": 19,
    "start_time": "2021-06-24T10:21:57.912Z"
   },
   {
    "duration": 29,
    "start_time": "2021-06-24T10:23:08.639Z"
   },
   {
    "duration": 23,
    "start_time": "2021-06-24T10:25:16.202Z"
   },
   {
    "duration": 22,
    "start_time": "2021-06-24T10:26:19.360Z"
   },
   {
    "duration": 91,
    "start_time": "2021-06-24T10:31:13.411Z"
   },
   {
    "duration": 27,
    "start_time": "2021-06-24T10:31:22.365Z"
   },
   {
    "duration": 28,
    "start_time": "2021-06-24T10:31:35.072Z"
   },
   {
    "duration": 111,
    "start_time": "2021-06-24T10:31:42.918Z"
   },
   {
    "duration": 51,
    "start_time": "2021-06-24T10:32:07.287Z"
   },
   {
    "duration": 50,
    "start_time": "2021-06-24T10:32:30.233Z"
   },
   {
    "duration": 25,
    "start_time": "2021-06-24T10:32:47.695Z"
   },
   {
    "duration": 35,
    "start_time": "2021-06-24T10:33:36.356Z"
   },
   {
    "duration": 48,
    "start_time": "2021-06-24T10:35:05.113Z"
   },
   {
    "duration": 24,
    "start_time": "2021-06-24T10:35:31.704Z"
   },
   {
    "duration": 1474,
    "start_time": "2021-06-24T10:39:40.902Z"
   },
   {
    "duration": 66,
    "start_time": "2021-06-24T10:39:42.379Z"
   },
   {
    "duration": 74,
    "start_time": "2021-06-24T10:39:42.449Z"
   },
   {
    "duration": 20,
    "start_time": "2021-06-24T10:39:42.527Z"
   },
   {
    "duration": 42,
    "start_time": "2021-06-24T10:39:42.550Z"
   },
   {
    "duration": 9,
    "start_time": "2021-06-24T10:39:42.595Z"
   },
   {
    "duration": 15,
    "start_time": "2021-06-24T10:39:42.607Z"
   },
   {
    "duration": 14,
    "start_time": "2021-06-24T10:39:42.627Z"
   },
   {
    "duration": 49,
    "start_time": "2021-06-24T10:39:42.645Z"
   },
   {
    "duration": 24,
    "start_time": "2021-06-24T10:39:42.697Z"
   },
   {
    "duration": 4,
    "start_time": "2021-06-24T10:39:42.725Z"
   },
   {
    "duration": 12,
    "start_time": "2021-06-24T10:39:42.732Z"
   },
   {
    "duration": 44,
    "start_time": "2021-06-24T10:39:42.747Z"
   },
   {
    "duration": 46,
    "start_time": "2021-06-24T10:39:42.794Z"
   },
   {
    "duration": 66,
    "start_time": "2021-06-24T10:39:42.843Z"
   },
   {
    "duration": 18,
    "start_time": "2021-06-24T10:39:42.912Z"
   },
   {
    "duration": 57,
    "start_time": "2021-06-24T10:39:42.933Z"
   },
   {
    "duration": 5,
    "start_time": "2021-06-24T10:39:42.993Z"
   },
   {
    "duration": 14,
    "start_time": "2021-06-24T10:39:43.001Z"
   },
   {
    "duration": 81,
    "start_time": "2021-06-24T10:39:43.017Z"
   },
   {
    "duration": 53,
    "start_time": "2021-06-24T10:39:43.101Z"
   },
   {
    "duration": 69,
    "start_time": "2021-06-24T10:39:43.157Z"
   },
   {
    "duration": 13,
    "start_time": "2021-06-24T10:39:43.232Z"
   },
   {
    "duration": 42,
    "start_time": "2021-06-24T10:39:43.248Z"
   },
   {
    "duration": 19,
    "start_time": "2021-06-24T10:39:43.293Z"
   },
   {
    "duration": 18,
    "start_time": "2021-06-24T10:39:43.314Z"
   },
   {
    "duration": 7,
    "start_time": "2021-06-24T10:39:43.335Z"
   },
   {
    "duration": 49,
    "start_time": "2021-06-24T10:39:43.345Z"
   },
   {
    "duration": 8,
    "start_time": "2021-06-24T10:39:43.397Z"
   },
   {
    "duration": 28,
    "start_time": "2021-06-24T10:39:43.407Z"
   },
   {
    "duration": 45,
    "start_time": "2021-06-24T10:39:43.438Z"
   },
   {
    "duration": 8,
    "start_time": "2021-06-24T10:39:43.485Z"
   },
   {
    "duration": 28,
    "start_time": "2021-06-24T10:39:43.495Z"
   },
   {
    "duration": 17,
    "start_time": "2021-06-24T10:39:43.525Z"
   },
   {
    "duration": 53,
    "start_time": "2021-06-24T10:39:43.544Z"
   },
   {
    "duration": 46,
    "start_time": "2021-06-24T10:39:43.599Z"
   },
   {
    "duration": 42,
    "start_time": "2021-06-24T10:39:43.647Z"
   },
   {
    "duration": 41,
    "start_time": "2021-06-24T10:39:43.692Z"
   },
   {
    "duration": 373,
    "start_time": "2021-06-24T10:39:43.736Z"
   },
   {
    "duration": 10,
    "start_time": "2021-06-24T10:39:44.112Z"
   },
   {
    "duration": 9,
    "start_time": "2021-06-24T10:39:44.124Z"
   },
   {
    "duration": 2107,
    "start_time": "2021-06-24T10:39:44.136Z"
   },
   {
    "duration": 10,
    "start_time": "2021-06-24T10:39:46.245Z"
   },
   {
    "duration": 843,
    "start_time": "2021-06-24T10:39:46.257Z"
   },
   {
    "duration": 12,
    "start_time": "2021-06-24T10:39:47.104Z"
   },
   {
    "duration": 8,
    "start_time": "2021-06-24T10:39:47.119Z"
   },
   {
    "duration": 61,
    "start_time": "2021-06-24T10:39:47.129Z"
   },
   {
    "duration": 16,
    "start_time": "2021-06-24T10:39:47.193Z"
   },
   {
    "duration": 32,
    "start_time": "2021-06-24T10:39:47.211Z"
   },
   {
    "duration": 48,
    "start_time": "2021-06-24T10:39:47.246Z"
   },
   {
    "duration": 26,
    "start_time": "2021-06-24T10:39:47.297Z"
   },
   {
    "duration": 18,
    "start_time": "2021-06-24T10:39:47.325Z"
   },
   {
    "duration": 46,
    "start_time": "2021-06-24T10:39:47.345Z"
   },
   {
    "duration": 62091,
    "start_time": "2021-06-25T10:25:44.717Z"
   },
   {
    "duration": 67,
    "start_time": "2021-06-25T10:26:46.811Z"
   },
   {
    "duration": 57,
    "start_time": "2021-06-25T10:26:46.880Z"
   },
   {
    "duration": 37,
    "start_time": "2021-06-25T10:26:46.940Z"
   },
   {
    "duration": 26,
    "start_time": "2021-06-25T10:26:46.979Z"
   },
   {
    "duration": 8,
    "start_time": "2021-06-25T10:26:47.008Z"
   },
   {
    "duration": 11,
    "start_time": "2021-06-25T10:26:47.018Z"
   },
   {
    "duration": 38,
    "start_time": "2021-06-25T10:26:47.033Z"
   },
   {
    "duration": 12,
    "start_time": "2021-06-25T10:26:47.074Z"
   },
   {
    "duration": 23,
    "start_time": "2021-06-25T10:26:47.089Z"
   },
   {
    "duration": 6,
    "start_time": "2021-06-25T10:26:47.115Z"
   },
   {
    "duration": 43,
    "start_time": "2021-06-25T10:26:47.124Z"
   },
   {
    "duration": 10,
    "start_time": "2021-06-25T10:26:47.170Z"
   },
   {
    "duration": 46,
    "start_time": "2021-06-25T10:26:47.182Z"
   },
   {
    "duration": 70,
    "start_time": "2021-06-25T10:26:47.232Z"
   },
   {
    "duration": 18,
    "start_time": "2021-06-25T10:26:47.305Z"
   },
   {
    "duration": 59,
    "start_time": "2021-06-25T10:26:47.326Z"
   },
   {
    "duration": 4,
    "start_time": "2021-06-25T10:26:47.387Z"
   },
   {
    "duration": 16,
    "start_time": "2021-06-25T10:26:47.393Z"
   },
   {
    "duration": 85,
    "start_time": "2021-06-25T10:26:47.411Z"
   },
   {
    "duration": 80,
    "start_time": "2021-06-25T10:26:47.498Z"
   },
   {
    "duration": 52,
    "start_time": "2021-06-25T10:26:47.580Z"
   },
   {
    "duration": 35,
    "start_time": "2021-06-25T10:26:47.638Z"
   },
   {
    "duration": 17,
    "start_time": "2021-06-25T10:26:47.676Z"
   },
   {
    "duration": 19,
    "start_time": "2021-06-25T10:26:47.696Z"
   },
   {
    "duration": 51,
    "start_time": "2021-06-25T10:26:47.718Z"
   },
   {
    "duration": 6,
    "start_time": "2021-06-25T10:26:47.772Z"
   },
   {
    "duration": 13,
    "start_time": "2021-06-25T10:26:47.780Z"
   },
   {
    "duration": 10,
    "start_time": "2021-06-25T10:26:47.795Z"
   },
   {
    "duration": 74,
    "start_time": "2021-06-25T10:26:47.808Z"
   },
   {
    "duration": 9,
    "start_time": "2021-06-25T10:26:47.885Z"
   },
   {
    "duration": 7,
    "start_time": "2021-06-25T10:26:47.896Z"
   },
   {
    "duration": 26,
    "start_time": "2021-06-25T10:26:47.905Z"
   },
   {
    "duration": 17,
    "start_time": "2021-06-25T10:26:47.968Z"
   },
   {
    "duration": 19,
    "start_time": "2021-06-25T10:26:47.988Z"
   },
   {
    "duration": 59,
    "start_time": "2021-06-25T10:26:48.009Z"
   },
   {
    "duration": 18,
    "start_time": "2021-06-25T10:26:48.070Z"
   },
   {
    "duration": 40,
    "start_time": "2021-06-25T10:26:48.091Z"
   },
   {
    "duration": 400,
    "start_time": "2021-06-25T10:26:48.133Z"
   },
   {
    "duration": 8,
    "start_time": "2021-06-25T10:26:48.535Z"
   },
   {
    "duration": 25,
    "start_time": "2021-06-25T10:26:48.545Z"
   },
   {
    "duration": 2269,
    "start_time": "2021-06-25T10:26:48.572Z"
   },
   {
    "duration": 10,
    "start_time": "2021-06-25T10:26:50.843Z"
   },
   {
    "duration": 964,
    "start_time": "2021-06-25T10:26:50.855Z"
   },
   {
    "duration": 11,
    "start_time": "2021-06-25T10:26:51.821Z"
   },
   {
    "duration": 12,
    "start_time": "2021-06-25T10:26:51.834Z"
   },
   {
    "duration": 24,
    "start_time": "2021-06-25T10:26:51.867Z"
   },
   {
    "duration": 14,
    "start_time": "2021-06-25T10:26:51.893Z"
   },
   {
    "duration": 57,
    "start_time": "2021-06-25T10:26:51.910Z"
   },
   {
    "duration": 20,
    "start_time": "2021-06-25T10:26:51.969Z"
   },
   {
    "duration": 24,
    "start_time": "2021-06-25T10:26:51.991Z"
   },
   {
    "duration": 52,
    "start_time": "2021-06-25T10:26:52.018Z"
   },
   {
    "duration": 19,
    "start_time": "2021-06-25T10:26:52.073Z"
   }
  ],
  "kernelspec": {
   "display_name": "Python 3",
   "language": "python",
   "name": "python3"
  },
  "language_info": {
   "codemirror_mode": {
    "name": "ipython",
    "version": 3
   },
   "file_extension": ".py",
   "mimetype": "text/x-python",
   "name": "python",
   "nbconvert_exporter": "python",
   "pygments_lexer": "ipython3",
   "version": "3.8.8"
  },
  "toc": {
   "base_numbering": 1,
   "nav_menu": {},
   "number_sections": true,
   "sideBar": true,
   "skip_h1_title": true,
   "title_cell": "Table of Contents",
   "title_sidebar": "Contents",
   "toc_cell": false,
   "toc_position": {},
   "toc_section_display": true,
   "toc_window_display": false
  }
 },
 "nbformat": 4,
 "nbformat_minor": 2
}
