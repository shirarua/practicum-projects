{
 "cells": [
  {
   "cell_type": "markdown",
   "metadata": {},
   "source": [
    "# 'Model Fitness' Member Churn Predictions"
   ]
  },
  {
   "cell_type": "markdown",
   "metadata": {},
   "source": [
    "**Objective**\n",
    "\n",
    "Model Fitness wants to develop a more effective customer retention strategy. To acheive this, we must first understand what factors have the strongest impact on churn. What makes members continue at Model Fitness? What drives them away?\n",
    "\n",
    "**Overview**\n",
    "\n",
    "Using data on existing customers (both active and inactive), we will explore several features to create a model to predict the probability of customer churn. We will then cluster customers into groups to further our understanding of customer types and the features that define them. Our aim is to use this information to help reduce churn in the future."
   ]
  },
  {
   "cell_type": "markdown",
   "metadata": {},
   "source": [
    "## Description of Data"
   ]
  },
  {
   "cell_type": "markdown",
   "metadata": {},
   "source": [
    "**File: `gym_churn_us`**\n",
    "- **Churn:** has the member left as of the current month\n",
    "- **gender:** customer's gender\n",
    "- **Near_Location:** whether the member lives/works in the neighborhood where the gym is located\n",
    "- **Partner:** whether the user is an employee of a partner company (discounted membership)\n",
    "- **Promo_friends:** whether the user originally signed up through a \"bring a friend\" offer, using another member's promo code upon signing up\n",
    "- **Phone:** whether the user provided their phone number\n",
    "- **Age:** member's age in years\n",
    "- **Lifetime:** number of months since the customer's first visit\n",
    "- **Contract_period:** length of the contract; 1 month, 3 months, 6 months, or 12 months\n",
    "- **Month_to_end_contract:** the months remaining until the current contract expires\n",
    "- **Group_visits:** whether the user takes part in group sessions\n",
    "- **Avg_class_frequency_total:** average number of weekly visits over the *customer's lifetime*\n",
    "- **Avg_class_frequency_current_month:** average number of weekly visits over the *preceding month*\n",
    "- **Avg_additional_charges_total:** the total amount of money spent on other gym services (cafe, athletic goods, cosmetics, massages, etc.)"
   ]
  },
  {
   "cell_type": "markdown",
   "metadata": {},
   "source": [
    "<a class = \"anchor\" id=\"toc\"></a>\n",
    "## Table of Contents\n",
    "\n",
    "* 1. [Read files & import libraries](#read_import)\n",
    "* 2. [General exploration of data](#explore)\n",
    "* 3. [Pre-processing](#preprocess)\n",
    "* 4. [Exploratory analysis](#eda)\n",
    "    * 4.1 [Mean feature values for churned vs active customers](#mean_feat)\n",
    "    * 4.2 [Feature distributions](#feat_dist)\n",
    "    * 4.3 [Correlation matrix](#corr)\n",
    "* 5. [Build a model to predict user churn](#model)\n",
    "* 6. [Member clustering](#cluster)\n",
    "    * 6.1 [Identify member clusters](#id_clusters)\n",
    "    * 6.2 [Cluster features](#cluster_feat)\n",
    "* [Final conclusions](#conclusions)"
   ]
  },
  {
   "cell_type": "markdown",
   "metadata": {},
   "source": [
    "<a class=\"anchor\" id=\"read_import\"></a>\n",
    "## 1. Read files & import libraries"
   ]
  },
  {
   "cell_type": "code",
   "execution_count": 1,
   "metadata": {},
   "outputs": [],
   "source": [
    "# The following libraries may need to be installed/updated to run the notebook\n",
    "\n",
    "#!pip install sidetable\n",
    "#!pip install seaborn==0.11.2"
   ]
  },
  {
   "cell_type": "code",
   "execution_count": 2,
   "metadata": {},
   "outputs": [],
   "source": [
    "import pandas as pd\n",
    "import warnings\n",
    "import numpy as np\n",
    "import scipy.stats as st\n",
    "import math as mth\n",
    "import sidetable as stb\n",
    "import matplotlib.pyplot as plt\n",
    "import plotly.express as px\n",
    "import seaborn as sns\n",
    "from sklearn.model_selection import train_test_split\n",
    "from sklearn.preprocessing import StandardScaler\n",
    "from sklearn.linear_model import LogisticRegression\n",
    "from sklearn.ensemble import RandomForestClassifier\n",
    "from sklearn.metrics import accuracy_score, precision_score, recall_score\n",
    "from scipy.cluster.hierarchy import dendrogram, linkage\n",
    "from sklearn.cluster import KMeans"
   ]
  },
  {
   "cell_type": "code",
   "execution_count": 3,
   "metadata": {},
   "outputs": [],
   "source": [
    "warnings.filterwarnings(\"ignore\")"
   ]
  },
  {
   "cell_type": "code",
   "execution_count": 4,
   "metadata": {},
   "outputs": [],
   "source": [
    "# Read raw data\n",
    "file_path= 'gym_churn_us.csv'\n",
    "gym_raw = pd.read_csv(file_path)"
   ]
  },
  {
   "cell_type": "markdown",
   "metadata": {},
   "source": [
    "[Return to Table of Contents](#toc)"
   ]
  },
  {
   "cell_type": "markdown",
   "metadata": {},
   "source": [
    "<a class=\"anchor\" id=\"explore\"></a>\n",
    "## 2. General exploration of file"
   ]
  },
  {
   "cell_type": "code",
   "execution_count": 5,
   "metadata": {
    "scrolled": false
   },
   "outputs": [
    {
     "data": {
      "text/html": [
       "<div>\n",
       "<style scoped>\n",
       "    .dataframe tbody tr th:only-of-type {\n",
       "        vertical-align: middle;\n",
       "    }\n",
       "\n",
       "    .dataframe tbody tr th {\n",
       "        vertical-align: top;\n",
       "    }\n",
       "\n",
       "    .dataframe thead th {\n",
       "        text-align: right;\n",
       "    }\n",
       "</style>\n",
       "<table border=\"1\" class=\"dataframe\">\n",
       "  <thead>\n",
       "    <tr style=\"text-align: right;\">\n",
       "      <th></th>\n",
       "      <th>gender</th>\n",
       "      <th>Near_Location</th>\n",
       "      <th>Partner</th>\n",
       "      <th>Promo_friends</th>\n",
       "      <th>Phone</th>\n",
       "      <th>Contract_period</th>\n",
       "      <th>Group_visits</th>\n",
       "      <th>Age</th>\n",
       "      <th>Avg_additional_charges_total</th>\n",
       "      <th>Month_to_end_contract</th>\n",
       "      <th>Lifetime</th>\n",
       "      <th>Avg_class_frequency_total</th>\n",
       "      <th>Avg_class_frequency_current_month</th>\n",
       "      <th>Churn</th>\n",
       "    </tr>\n",
       "  </thead>\n",
       "  <tbody>\n",
       "    <tr>\n",
       "      <th>0</th>\n",
       "      <td>1</td>\n",
       "      <td>1</td>\n",
       "      <td>1</td>\n",
       "      <td>1</td>\n",
       "      <td>0</td>\n",
       "      <td>6</td>\n",
       "      <td>1</td>\n",
       "      <td>29</td>\n",
       "      <td>14.227470</td>\n",
       "      <td>5.0</td>\n",
       "      <td>3</td>\n",
       "      <td>0.020398</td>\n",
       "      <td>0.000000</td>\n",
       "      <td>0</td>\n",
       "    </tr>\n",
       "    <tr>\n",
       "      <th>1</th>\n",
       "      <td>0</td>\n",
       "      <td>1</td>\n",
       "      <td>0</td>\n",
       "      <td>0</td>\n",
       "      <td>1</td>\n",
       "      <td>12</td>\n",
       "      <td>1</td>\n",
       "      <td>31</td>\n",
       "      <td>113.202938</td>\n",
       "      <td>12.0</td>\n",
       "      <td>7</td>\n",
       "      <td>1.922936</td>\n",
       "      <td>1.910244</td>\n",
       "      <td>0</td>\n",
       "    </tr>\n",
       "    <tr>\n",
       "      <th>2</th>\n",
       "      <td>0</td>\n",
       "      <td>1</td>\n",
       "      <td>1</td>\n",
       "      <td>0</td>\n",
       "      <td>1</td>\n",
       "      <td>1</td>\n",
       "      <td>0</td>\n",
       "      <td>28</td>\n",
       "      <td>129.448479</td>\n",
       "      <td>1.0</td>\n",
       "      <td>2</td>\n",
       "      <td>1.859098</td>\n",
       "      <td>1.736502</td>\n",
       "      <td>0</td>\n",
       "    </tr>\n",
       "    <tr>\n",
       "      <th>3</th>\n",
       "      <td>0</td>\n",
       "      <td>1</td>\n",
       "      <td>1</td>\n",
       "      <td>1</td>\n",
       "      <td>1</td>\n",
       "      <td>12</td>\n",
       "      <td>1</td>\n",
       "      <td>33</td>\n",
       "      <td>62.669863</td>\n",
       "      <td>12.0</td>\n",
       "      <td>2</td>\n",
       "      <td>3.205633</td>\n",
       "      <td>3.357215</td>\n",
       "      <td>0</td>\n",
       "    </tr>\n",
       "    <tr>\n",
       "      <th>4</th>\n",
       "      <td>1</td>\n",
       "      <td>1</td>\n",
       "      <td>1</td>\n",
       "      <td>1</td>\n",
       "      <td>1</td>\n",
       "      <td>1</td>\n",
       "      <td>0</td>\n",
       "      <td>26</td>\n",
       "      <td>198.362265</td>\n",
       "      <td>1.0</td>\n",
       "      <td>3</td>\n",
       "      <td>1.113884</td>\n",
       "      <td>1.120078</td>\n",
       "      <td>0</td>\n",
       "    </tr>\n",
       "  </tbody>\n",
       "</table>\n",
       "</div>"
      ],
      "text/plain": [
       "   gender  Near_Location  Partner  Promo_friends  Phone  Contract_period  \\\n",
       "0       1              1        1              1      0                6   \n",
       "1       0              1        0              0      1               12   \n",
       "2       0              1        1              0      1                1   \n",
       "3       0              1        1              1      1               12   \n",
       "4       1              1        1              1      1                1   \n",
       "\n",
       "   Group_visits  Age  Avg_additional_charges_total  Month_to_end_contract  \\\n",
       "0             1   29                     14.227470                    5.0   \n",
       "1             1   31                    113.202938                   12.0   \n",
       "2             0   28                    129.448479                    1.0   \n",
       "3             1   33                     62.669863                   12.0   \n",
       "4             0   26                    198.362265                    1.0   \n",
       "\n",
       "   Lifetime  Avg_class_frequency_total  Avg_class_frequency_current_month  \\\n",
       "0         3                   0.020398                           0.000000   \n",
       "1         7                   1.922936                           1.910244   \n",
       "2         2                   1.859098                           1.736502   \n",
       "3         2                   3.205633                           3.357215   \n",
       "4         3                   1.113884                           1.120078   \n",
       "\n",
       "   Churn  \n",
       "0      0  \n",
       "1      0  \n",
       "2      0  \n",
       "3      0  \n",
       "4      0  "
      ]
     },
     "execution_count": 5,
     "metadata": {},
     "output_type": "execute_result"
    }
   ],
   "source": [
    "#Look at the first 5 rows\n",
    "gym_raw.head()"
   ]
  },
  {
   "cell_type": "markdown",
   "metadata": {},
   "source": [
    "There are several **binary** columns present: gender, Near_Location, Partner, Promo_friends, Phone, Group_visits, Churn. It is unclear which number corresponds to which gender."
   ]
  },
  {
   "cell_type": "code",
   "execution_count": 6,
   "metadata": {
    "scrolled": true
   },
   "outputs": [
    {
     "name": "stdout",
     "output_type": "stream",
     "text": [
      "<class 'pandas.core.frame.DataFrame'>\n",
      "RangeIndex: 4000 entries, 0 to 3999\n",
      "Data columns (total 14 columns):\n",
      " #   Column                             Non-Null Count  Dtype  \n",
      "---  ------                             --------------  -----  \n",
      " 0   gender                             4000 non-null   int64  \n",
      " 1   Near_Location                      4000 non-null   int64  \n",
      " 2   Partner                            4000 non-null   int64  \n",
      " 3   Promo_friends                      4000 non-null   int64  \n",
      " 4   Phone                              4000 non-null   int64  \n",
      " 5   Contract_period                    4000 non-null   int64  \n",
      " 6   Group_visits                       4000 non-null   int64  \n",
      " 7   Age                                4000 non-null   int64  \n",
      " 8   Avg_additional_charges_total       4000 non-null   float64\n",
      " 9   Month_to_end_contract              4000 non-null   float64\n",
      " 10  Lifetime                           4000 non-null   int64  \n",
      " 11  Avg_class_frequency_total          4000 non-null   float64\n",
      " 12  Avg_class_frequency_current_month  4000 non-null   float64\n",
      " 13  Churn                              4000 non-null   int64  \n",
      "dtypes: float64(4), int64(10)\n",
      "memory usage: 437.6 KB\n"
     ]
    }
   ],
   "source": [
    "gym_raw.info(memory_usage='deep')"
   ]
  },
  {
   "cell_type": "markdown",
   "metadata": {},
   "source": [
    "There appear to be no nulls."
   ]
  },
  {
   "cell_type": "code",
   "execution_count": 7,
   "metadata": {
    "scrolled": true
   },
   "outputs": [
    {
     "data": {
      "text/html": [
       "<div>\n",
       "<style scoped>\n",
       "    .dataframe tbody tr th:only-of-type {\n",
       "        vertical-align: middle;\n",
       "    }\n",
       "\n",
       "    .dataframe tbody tr th {\n",
       "        vertical-align: top;\n",
       "    }\n",
       "\n",
       "    .dataframe thead th {\n",
       "        text-align: right;\n",
       "    }\n",
       "</style>\n",
       "<table border=\"1\" class=\"dataframe\">\n",
       "  <thead>\n",
       "    <tr style=\"text-align: right;\">\n",
       "      <th></th>\n",
       "      <th>gender</th>\n",
       "      <th>Near_Location</th>\n",
       "      <th>Partner</th>\n",
       "      <th>Promo_friends</th>\n",
       "      <th>Phone</th>\n",
       "      <th>Contract_period</th>\n",
       "      <th>Group_visits</th>\n",
       "      <th>Age</th>\n",
       "      <th>Avg_additional_charges_total</th>\n",
       "      <th>Month_to_end_contract</th>\n",
       "      <th>Lifetime</th>\n",
       "      <th>Avg_class_frequency_total</th>\n",
       "      <th>Avg_class_frequency_current_month</th>\n",
       "      <th>Churn</th>\n",
       "    </tr>\n",
       "  </thead>\n",
       "  <tbody>\n",
       "    <tr>\n",
       "      <th>count</th>\n",
       "      <td>4000.000000</td>\n",
       "      <td>4000.000000</td>\n",
       "      <td>4000.000000</td>\n",
       "      <td>4000.000000</td>\n",
       "      <td>4000.000000</td>\n",
       "      <td>4000.000000</td>\n",
       "      <td>4000.000000</td>\n",
       "      <td>4000.000000</td>\n",
       "      <td>4000.000000</td>\n",
       "      <td>4000.000000</td>\n",
       "      <td>4000.000000</td>\n",
       "      <td>4000.000000</td>\n",
       "      <td>4000.000000</td>\n",
       "      <td>4000.000000</td>\n",
       "    </tr>\n",
       "    <tr>\n",
       "      <th>mean</th>\n",
       "      <td>0.510250</td>\n",
       "      <td>0.845250</td>\n",
       "      <td>0.486750</td>\n",
       "      <td>0.308500</td>\n",
       "      <td>0.903500</td>\n",
       "      <td>4.681250</td>\n",
       "      <td>0.412250</td>\n",
       "      <td>29.184250</td>\n",
       "      <td>146.943728</td>\n",
       "      <td>4.322750</td>\n",
       "      <td>3.724750</td>\n",
       "      <td>1.879020</td>\n",
       "      <td>1.767052</td>\n",
       "      <td>0.265250</td>\n",
       "    </tr>\n",
       "    <tr>\n",
       "      <th>std</th>\n",
       "      <td>0.499957</td>\n",
       "      <td>0.361711</td>\n",
       "      <td>0.499887</td>\n",
       "      <td>0.461932</td>\n",
       "      <td>0.295313</td>\n",
       "      <td>4.549706</td>\n",
       "      <td>0.492301</td>\n",
       "      <td>3.258367</td>\n",
       "      <td>96.355602</td>\n",
       "      <td>4.191297</td>\n",
       "      <td>3.749267</td>\n",
       "      <td>0.972245</td>\n",
       "      <td>1.052906</td>\n",
       "      <td>0.441521</td>\n",
       "    </tr>\n",
       "    <tr>\n",
       "      <th>min</th>\n",
       "      <td>0.000000</td>\n",
       "      <td>0.000000</td>\n",
       "      <td>0.000000</td>\n",
       "      <td>0.000000</td>\n",
       "      <td>0.000000</td>\n",
       "      <td>1.000000</td>\n",
       "      <td>0.000000</td>\n",
       "      <td>18.000000</td>\n",
       "      <td>0.148205</td>\n",
       "      <td>1.000000</td>\n",
       "      <td>0.000000</td>\n",
       "      <td>0.000000</td>\n",
       "      <td>0.000000</td>\n",
       "      <td>0.000000</td>\n",
       "    </tr>\n",
       "    <tr>\n",
       "      <th>25%</th>\n",
       "      <td>0.000000</td>\n",
       "      <td>1.000000</td>\n",
       "      <td>0.000000</td>\n",
       "      <td>0.000000</td>\n",
       "      <td>1.000000</td>\n",
       "      <td>1.000000</td>\n",
       "      <td>0.000000</td>\n",
       "      <td>27.000000</td>\n",
       "      <td>68.868830</td>\n",
       "      <td>1.000000</td>\n",
       "      <td>1.000000</td>\n",
       "      <td>1.180875</td>\n",
       "      <td>0.963003</td>\n",
       "      <td>0.000000</td>\n",
       "    </tr>\n",
       "    <tr>\n",
       "      <th>50%</th>\n",
       "      <td>1.000000</td>\n",
       "      <td>1.000000</td>\n",
       "      <td>0.000000</td>\n",
       "      <td>0.000000</td>\n",
       "      <td>1.000000</td>\n",
       "      <td>1.000000</td>\n",
       "      <td>0.000000</td>\n",
       "      <td>29.000000</td>\n",
       "      <td>136.220159</td>\n",
       "      <td>1.000000</td>\n",
       "      <td>3.000000</td>\n",
       "      <td>1.832768</td>\n",
       "      <td>1.719574</td>\n",
       "      <td>0.000000</td>\n",
       "    </tr>\n",
       "    <tr>\n",
       "      <th>75%</th>\n",
       "      <td>1.000000</td>\n",
       "      <td>1.000000</td>\n",
       "      <td>1.000000</td>\n",
       "      <td>1.000000</td>\n",
       "      <td>1.000000</td>\n",
       "      <td>6.000000</td>\n",
       "      <td>1.000000</td>\n",
       "      <td>31.000000</td>\n",
       "      <td>210.949625</td>\n",
       "      <td>6.000000</td>\n",
       "      <td>5.000000</td>\n",
       "      <td>2.536078</td>\n",
       "      <td>2.510336</td>\n",
       "      <td>1.000000</td>\n",
       "    </tr>\n",
       "    <tr>\n",
       "      <th>max</th>\n",
       "      <td>1.000000</td>\n",
       "      <td>1.000000</td>\n",
       "      <td>1.000000</td>\n",
       "      <td>1.000000</td>\n",
       "      <td>1.000000</td>\n",
       "      <td>12.000000</td>\n",
       "      <td>1.000000</td>\n",
       "      <td>41.000000</td>\n",
       "      <td>552.590740</td>\n",
       "      <td>12.000000</td>\n",
       "      <td>31.000000</td>\n",
       "      <td>6.023668</td>\n",
       "      <td>6.146783</td>\n",
       "      <td>1.000000</td>\n",
       "    </tr>\n",
       "  </tbody>\n",
       "</table>\n",
       "</div>"
      ],
      "text/plain": [
       "            gender  Near_Location      Partner  Promo_friends        Phone  \\\n",
       "count  4000.000000    4000.000000  4000.000000    4000.000000  4000.000000   \n",
       "mean      0.510250       0.845250     0.486750       0.308500     0.903500   \n",
       "std       0.499957       0.361711     0.499887       0.461932     0.295313   \n",
       "min       0.000000       0.000000     0.000000       0.000000     0.000000   \n",
       "25%       0.000000       1.000000     0.000000       0.000000     1.000000   \n",
       "50%       1.000000       1.000000     0.000000       0.000000     1.000000   \n",
       "75%       1.000000       1.000000     1.000000       1.000000     1.000000   \n",
       "max       1.000000       1.000000     1.000000       1.000000     1.000000   \n",
       "\n",
       "       Contract_period  Group_visits          Age  \\\n",
       "count      4000.000000   4000.000000  4000.000000   \n",
       "mean          4.681250      0.412250    29.184250   \n",
       "std           4.549706      0.492301     3.258367   \n",
       "min           1.000000      0.000000    18.000000   \n",
       "25%           1.000000      0.000000    27.000000   \n",
       "50%           1.000000      0.000000    29.000000   \n",
       "75%           6.000000      1.000000    31.000000   \n",
       "max          12.000000      1.000000    41.000000   \n",
       "\n",
       "       Avg_additional_charges_total  Month_to_end_contract     Lifetime  \\\n",
       "count                   4000.000000            4000.000000  4000.000000   \n",
       "mean                     146.943728               4.322750     3.724750   \n",
       "std                       96.355602               4.191297     3.749267   \n",
       "min                        0.148205               1.000000     0.000000   \n",
       "25%                       68.868830               1.000000     1.000000   \n",
       "50%                      136.220159               1.000000     3.000000   \n",
       "75%                      210.949625               6.000000     5.000000   \n",
       "max                      552.590740              12.000000    31.000000   \n",
       "\n",
       "       Avg_class_frequency_total  Avg_class_frequency_current_month  \\\n",
       "count                4000.000000                        4000.000000   \n",
       "mean                    1.879020                           1.767052   \n",
       "std                     0.972245                           1.052906   \n",
       "min                     0.000000                           0.000000   \n",
       "25%                     1.180875                           0.963003   \n",
       "50%                     1.832768                           1.719574   \n",
       "75%                     2.536078                           2.510336   \n",
       "max                     6.023668                           6.146783   \n",
       "\n",
       "             Churn  \n",
       "count  4000.000000  \n",
       "mean      0.265250  \n",
       "std       0.441521  \n",
       "min       0.000000  \n",
       "25%       0.000000  \n",
       "50%       0.000000  \n",
       "75%       1.000000  \n",
       "max       1.000000  "
      ]
     },
     "execution_count": 7,
     "metadata": {},
     "output_type": "execute_result"
    }
   ],
   "source": [
    "gym_raw.describe()"
   ]
  },
  {
   "cell_type": "code",
   "execution_count": 8,
   "metadata": {
    "scrolled": true
   },
   "outputs": [
    {
     "data": {
      "text/html": [
       "<div>\n",
       "<style scoped>\n",
       "    .dataframe tbody tr th:only-of-type {\n",
       "        vertical-align: middle;\n",
       "    }\n",
       "\n",
       "    .dataframe tbody tr th {\n",
       "        vertical-align: top;\n",
       "    }\n",
       "\n",
       "    .dataframe thead th {\n",
       "        text-align: right;\n",
       "    }\n",
       "</style>\n",
       "<table border=\"1\" class=\"dataframe\">\n",
       "  <thead>\n",
       "    <tr style=\"text-align: right;\">\n",
       "      <th></th>\n",
       "      <th>Contract_period</th>\n",
       "      <th>count</th>\n",
       "      <th>percent</th>\n",
       "      <th>cumulative_count</th>\n",
       "      <th>cumulative_percent</th>\n",
       "    </tr>\n",
       "  </thead>\n",
       "  <tbody>\n",
       "    <tr>\n",
       "      <th>0</th>\n",
       "      <td>1</td>\n",
       "      <td>2207</td>\n",
       "      <td>55.175</td>\n",
       "      <td>2207</td>\n",
       "      <td>55.175</td>\n",
       "    </tr>\n",
       "    <tr>\n",
       "      <th>1</th>\n",
       "      <td>12</td>\n",
       "      <td>960</td>\n",
       "      <td>24.000</td>\n",
       "      <td>3167</td>\n",
       "      <td>79.175</td>\n",
       "    </tr>\n",
       "    <tr>\n",
       "      <th>2</th>\n",
       "      <td>6</td>\n",
       "      <td>833</td>\n",
       "      <td>20.825</td>\n",
       "      <td>4000</td>\n",
       "      <td>100.000</td>\n",
       "    </tr>\n",
       "  </tbody>\n",
       "</table>\n",
       "</div>"
      ],
      "text/plain": [
       "   Contract_period  count  percent  cumulative_count  cumulative_percent\n",
       "0                1   2207   55.175              2207              55.175\n",
       "1               12    960   24.000              3167              79.175\n",
       "2                6    833   20.825              4000             100.000"
      ]
     },
     "execution_count": 8,
     "metadata": {},
     "output_type": "execute_result"
    }
   ],
   "source": [
    "#Contract period\n",
    "gym_raw.stb.freq(['Contract_period'])"
   ]
  },
  {
   "cell_type": "markdown",
   "metadata": {},
   "source": [
    "Though there is a 3-month membership option, there are **no customers with 3-month membership**."
   ]
  },
  {
   "cell_type": "code",
   "execution_count": 9,
   "metadata": {},
   "outputs": [
    {
     "name": "stdout",
     "output_type": "stream",
     "text": [
      "Number of duplicated rows: 0\n"
     ]
    }
   ],
   "source": [
    "# Search for duplicates\n",
    "print('Number of duplicated rows:', gym_raw.duplicated().sum())"
   ]
  },
  {
   "cell_type": "markdown",
   "metadata": {},
   "source": [
    "<b>Notes:</b>\n",
    "\n",
    "Overall, the data appears to be clean. There are no null/missing values, no duplicated rows, & no unusual values (negative values, strange ages, unreasonable class frequency, etc)\n",
    "\n",
    "It is unknown which values in 'gender' correspond to male or female, but there is an almost even split. We will assume this split accurately represents the gym's actual member base.\n",
    "\n",
    "Values in the column **'Month_to_end_contract**' should be int, since all values represent whole months. Otherwise, all data types appear to be appropriate."
   ]
  },
  {
   "cell_type": "markdown",
   "metadata": {},
   "source": [
    "[Return to Table of Contents](#toc)"
   ]
  },
  {
   "cell_type": "markdown",
   "metadata": {},
   "source": [
    "<a class=\"anchor\" id=\"preprocess\"></a>\n",
    "## 3. Pre-processing\n",
    "\n",
    "Update column names and data types."
   ]
  },
  {
   "cell_type": "code",
   "execution_count": 10,
   "metadata": {},
   "outputs": [],
   "source": [
    "#Create a copy of the original dataframe\n",
    "gym_churn = gym_raw.copy()"
   ]
  },
  {
   "cell_type": "code",
   "execution_count": 11,
   "metadata": {},
   "outputs": [],
   "source": [
    "#Rename columns for simplicity & readability\n",
    "gym_churn.columns = ['gender', 'near_loc','partner', 'friend_promo', 'phone', 'contract',\n",
    "                       'group_classes','age','avg_add_chrgs', 'months_remain','lifetime',\n",
    "                       'avg_class_freq_total','avg_class_freq_cmonth','churn']"
   ]
  },
  {
   "cell_type": "code",
   "execution_count": 12,
   "metadata": {},
   "outputs": [],
   "source": [
    "#Change 'months_remain' to an integer type\n",
    "gym_churn['months_remain'] = gym_churn['months_remain'].astype('int64')\n",
    "gym_churn['contract'] = gym_churn['contract'].astype('category')"
   ]
  },
  {
   "cell_type": "code",
   "execution_count": 13,
   "metadata": {},
   "outputs": [
    {
     "name": "stdout",
     "output_type": "stream",
     "text": [
      "<class 'pandas.core.frame.DataFrame'>\n",
      "RangeIndex: 4000 entries, 0 to 3999\n",
      "Data columns (total 14 columns):\n",
      " #   Column                 Non-Null Count  Dtype   \n",
      "---  ------                 --------------  -----   \n",
      " 0   gender                 4000 non-null   int64   \n",
      " 1   near_loc               4000 non-null   int64   \n",
      " 2   partner                4000 non-null   int64   \n",
      " 3   friend_promo           4000 non-null   int64   \n",
      " 4   phone                  4000 non-null   int64   \n",
      " 5   contract               4000 non-null   category\n",
      " 6   group_classes          4000 non-null   int64   \n",
      " 7   age                    4000 non-null   int64   \n",
      " 8   avg_add_chrgs          4000 non-null   float64 \n",
      " 9   months_remain          4000 non-null   int64   \n",
      " 10  lifetime               4000 non-null   int64   \n",
      " 11  avg_class_freq_total   4000 non-null   float64 \n",
      " 12  avg_class_freq_cmonth  4000 non-null   float64 \n",
      " 13  churn                  4000 non-null   int64   \n",
      "dtypes: category(1), float64(3), int64(10)\n",
      "memory usage: 410.4 KB\n"
     ]
    }
   ],
   "source": [
    "#Check changes for the new df\n",
    "gym_churn.info()"
   ]
  },
  {
   "cell_type": "markdown",
   "metadata": {},
   "source": [
    "\n",
    "The new copy of the dataframe `gym_churn` is largely unchanged. <br>\n",
    "\n",
    "<b>Please note that:</b><br>\n",
    "* 'avg_class_freq_total' is the average number of group classes attended per week over the member's lifetime <br>\n",
    "* 'avg_class_freq_cmonth' is the average number of group classes attended per week in the most recent month (cmonth = current month)\n"
   ]
  },
  {
   "cell_type": "markdown",
   "metadata": {},
   "source": [
    "[Return to Table of Contents](#toc)"
   ]
  },
  {
   "cell_type": "markdown",
   "metadata": {},
   "source": [
    "<a class=\"anchor\" id=\"eda\"></a>\n",
    "## 4. Exploratory Analysis"
   ]
  },
  {
   "cell_type": "code",
   "execution_count": 14,
   "metadata": {
    "scrolled": false
   },
   "outputs": [
    {
     "data": {
      "text/html": [
       "<div>\n",
       "<style scoped>\n",
       "    .dataframe tbody tr th:only-of-type {\n",
       "        vertical-align: middle;\n",
       "    }\n",
       "\n",
       "    .dataframe tbody tr th {\n",
       "        vertical-align: top;\n",
       "    }\n",
       "\n",
       "    .dataframe thead th {\n",
       "        text-align: right;\n",
       "    }\n",
       "</style>\n",
       "<table border=\"1\" class=\"dataframe\">\n",
       "  <thead>\n",
       "    <tr style=\"text-align: right;\">\n",
       "      <th></th>\n",
       "      <th>count</th>\n",
       "      <th>mean</th>\n",
       "      <th>std</th>\n",
       "      <th>min</th>\n",
       "      <th>25%</th>\n",
       "      <th>50%</th>\n",
       "      <th>75%</th>\n",
       "      <th>max</th>\n",
       "    </tr>\n",
       "  </thead>\n",
       "  <tbody>\n",
       "    <tr>\n",
       "      <th>gender</th>\n",
       "      <td>4000.0</td>\n",
       "      <td>0.51</td>\n",
       "      <td>0.50</td>\n",
       "      <td>0.00</td>\n",
       "      <td>0.00</td>\n",
       "      <td>1.00</td>\n",
       "      <td>1.00</td>\n",
       "      <td>1.00</td>\n",
       "    </tr>\n",
       "    <tr>\n",
       "      <th>near_loc</th>\n",
       "      <td>4000.0</td>\n",
       "      <td>0.85</td>\n",
       "      <td>0.36</td>\n",
       "      <td>0.00</td>\n",
       "      <td>1.00</td>\n",
       "      <td>1.00</td>\n",
       "      <td>1.00</td>\n",
       "      <td>1.00</td>\n",
       "    </tr>\n",
       "    <tr>\n",
       "      <th>partner</th>\n",
       "      <td>4000.0</td>\n",
       "      <td>0.49</td>\n",
       "      <td>0.50</td>\n",
       "      <td>0.00</td>\n",
       "      <td>0.00</td>\n",
       "      <td>0.00</td>\n",
       "      <td>1.00</td>\n",
       "      <td>1.00</td>\n",
       "    </tr>\n",
       "    <tr>\n",
       "      <th>friend_promo</th>\n",
       "      <td>4000.0</td>\n",
       "      <td>0.31</td>\n",
       "      <td>0.46</td>\n",
       "      <td>0.00</td>\n",
       "      <td>0.00</td>\n",
       "      <td>0.00</td>\n",
       "      <td>1.00</td>\n",
       "      <td>1.00</td>\n",
       "    </tr>\n",
       "    <tr>\n",
       "      <th>phone</th>\n",
       "      <td>4000.0</td>\n",
       "      <td>0.90</td>\n",
       "      <td>0.30</td>\n",
       "      <td>0.00</td>\n",
       "      <td>1.00</td>\n",
       "      <td>1.00</td>\n",
       "      <td>1.00</td>\n",
       "      <td>1.00</td>\n",
       "    </tr>\n",
       "    <tr>\n",
       "      <th>group_classes</th>\n",
       "      <td>4000.0</td>\n",
       "      <td>0.41</td>\n",
       "      <td>0.49</td>\n",
       "      <td>0.00</td>\n",
       "      <td>0.00</td>\n",
       "      <td>0.00</td>\n",
       "      <td>1.00</td>\n",
       "      <td>1.00</td>\n",
       "    </tr>\n",
       "    <tr>\n",
       "      <th>age</th>\n",
       "      <td>4000.0</td>\n",
       "      <td>29.18</td>\n",
       "      <td>3.26</td>\n",
       "      <td>18.00</td>\n",
       "      <td>27.00</td>\n",
       "      <td>29.00</td>\n",
       "      <td>31.00</td>\n",
       "      <td>41.00</td>\n",
       "    </tr>\n",
       "    <tr>\n",
       "      <th>avg_add_chrgs</th>\n",
       "      <td>4000.0</td>\n",
       "      <td>146.94</td>\n",
       "      <td>96.36</td>\n",
       "      <td>0.15</td>\n",
       "      <td>68.87</td>\n",
       "      <td>136.22</td>\n",
       "      <td>210.95</td>\n",
       "      <td>552.59</td>\n",
       "    </tr>\n",
       "    <tr>\n",
       "      <th>months_remain</th>\n",
       "      <td>4000.0</td>\n",
       "      <td>4.32</td>\n",
       "      <td>4.19</td>\n",
       "      <td>1.00</td>\n",
       "      <td>1.00</td>\n",
       "      <td>1.00</td>\n",
       "      <td>6.00</td>\n",
       "      <td>12.00</td>\n",
       "    </tr>\n",
       "    <tr>\n",
       "      <th>lifetime</th>\n",
       "      <td>4000.0</td>\n",
       "      <td>3.72</td>\n",
       "      <td>3.75</td>\n",
       "      <td>0.00</td>\n",
       "      <td>1.00</td>\n",
       "      <td>3.00</td>\n",
       "      <td>5.00</td>\n",
       "      <td>31.00</td>\n",
       "    </tr>\n",
       "    <tr>\n",
       "      <th>avg_class_freq_total</th>\n",
       "      <td>4000.0</td>\n",
       "      <td>1.88</td>\n",
       "      <td>0.97</td>\n",
       "      <td>0.00</td>\n",
       "      <td>1.18</td>\n",
       "      <td>1.83</td>\n",
       "      <td>2.54</td>\n",
       "      <td>6.02</td>\n",
       "    </tr>\n",
       "    <tr>\n",
       "      <th>avg_class_freq_cmonth</th>\n",
       "      <td>4000.0</td>\n",
       "      <td>1.77</td>\n",
       "      <td>1.05</td>\n",
       "      <td>0.00</td>\n",
       "      <td>0.96</td>\n",
       "      <td>1.72</td>\n",
       "      <td>2.51</td>\n",
       "      <td>6.15</td>\n",
       "    </tr>\n",
       "    <tr>\n",
       "      <th>churn</th>\n",
       "      <td>4000.0</td>\n",
       "      <td>0.27</td>\n",
       "      <td>0.44</td>\n",
       "      <td>0.00</td>\n",
       "      <td>0.00</td>\n",
       "      <td>0.00</td>\n",
       "      <td>1.00</td>\n",
       "      <td>1.00</td>\n",
       "    </tr>\n",
       "  </tbody>\n",
       "</table>\n",
       "</div>"
      ],
      "text/plain": [
       "                        count    mean    std    min    25%     50%     75%  \\\n",
       "gender                 4000.0    0.51   0.50   0.00   0.00    1.00    1.00   \n",
       "near_loc               4000.0    0.85   0.36   0.00   1.00    1.00    1.00   \n",
       "partner                4000.0    0.49   0.50   0.00   0.00    0.00    1.00   \n",
       "friend_promo           4000.0    0.31   0.46   0.00   0.00    0.00    1.00   \n",
       "phone                  4000.0    0.90   0.30   0.00   1.00    1.00    1.00   \n",
       "group_classes          4000.0    0.41   0.49   0.00   0.00    0.00    1.00   \n",
       "age                    4000.0   29.18   3.26  18.00  27.00   29.00   31.00   \n",
       "avg_add_chrgs          4000.0  146.94  96.36   0.15  68.87  136.22  210.95   \n",
       "months_remain          4000.0    4.32   4.19   1.00   1.00    1.00    6.00   \n",
       "lifetime               4000.0    3.72   3.75   0.00   1.00    3.00    5.00   \n",
       "avg_class_freq_total   4000.0    1.88   0.97   0.00   1.18    1.83    2.54   \n",
       "avg_class_freq_cmonth  4000.0    1.77   1.05   0.00   0.96    1.72    2.51   \n",
       "churn                  4000.0    0.27   0.44   0.00   0.00    0.00    1.00   \n",
       "\n",
       "                          max  \n",
       "gender                   1.00  \n",
       "near_loc                 1.00  \n",
       "partner                  1.00  \n",
       "friend_promo             1.00  \n",
       "phone                    1.00  \n",
       "group_classes            1.00  \n",
       "age                     41.00  \n",
       "avg_add_chrgs          552.59  \n",
       "months_remain           12.00  \n",
       "lifetime                31.00  \n",
       "avg_class_freq_total     6.02  \n",
       "avg_class_freq_cmonth    6.15  \n",
       "churn                    1.00  "
      ]
     },
     "execution_count": 14,
     "metadata": {},
     "output_type": "execute_result"
    }
   ],
   "source": [
    "#Descriptive stats on all features\n",
    "gym_churn.describe().round(2).T"
   ]
  },
  {
   "cell_type": "code",
   "execution_count": 15,
   "metadata": {
    "scrolled": true
   },
   "outputs": [
    {
     "data": {
      "text/html": [
       "<div>\n",
       "<style scoped>\n",
       "    .dataframe tbody tr th:only-of-type {\n",
       "        vertical-align: middle;\n",
       "    }\n",
       "\n",
       "    .dataframe tbody tr th {\n",
       "        vertical-align: top;\n",
       "    }\n",
       "\n",
       "    .dataframe thead th {\n",
       "        text-align: right;\n",
       "    }\n",
       "</style>\n",
       "<table border=\"1\" class=\"dataframe\">\n",
       "  <thead>\n",
       "    <tr style=\"text-align: right;\">\n",
       "      <th></th>\n",
       "      <th>contract</th>\n",
       "      <th>count</th>\n",
       "      <th>percent</th>\n",
       "      <th>cumulative_count</th>\n",
       "      <th>cumulative_percent</th>\n",
       "    </tr>\n",
       "  </thead>\n",
       "  <tbody>\n",
       "    <tr>\n",
       "      <th>0</th>\n",
       "      <td>1</td>\n",
       "      <td>2207</td>\n",
       "      <td>55.175</td>\n",
       "      <td>2207</td>\n",
       "      <td>55.175</td>\n",
       "    </tr>\n",
       "    <tr>\n",
       "      <th>1</th>\n",
       "      <td>12</td>\n",
       "      <td>960</td>\n",
       "      <td>24.000</td>\n",
       "      <td>3167</td>\n",
       "      <td>79.175</td>\n",
       "    </tr>\n",
       "    <tr>\n",
       "      <th>2</th>\n",
       "      <td>6</td>\n",
       "      <td>833</td>\n",
       "      <td>20.825</td>\n",
       "      <td>4000</td>\n",
       "      <td>100.000</td>\n",
       "    </tr>\n",
       "  </tbody>\n",
       "</table>\n",
       "</div>"
      ],
      "text/plain": [
       "  contract  count  percent  cumulative_count  cumulative_percent\n",
       "0        1   2207   55.175              2207              55.175\n",
       "1       12    960   24.000              3167              79.175\n",
       "2        6    833   20.825              4000             100.000"
      ]
     },
     "execution_count": 15,
     "metadata": {},
     "output_type": "execute_result"
    }
   ],
   "source": [
    "#Print contract types and the share of each type\n",
    "gym_churn.stb.freq(['contract'])"
   ]
  },
  {
   "cell_type": "markdown",
   "metadata": {},
   "source": [
    "* **Gender** appears to be fairly evenly split\n",
    "* The majority of members **(84.5%) live/work close to the gym**. This choice seems to be based on geographic convenience.\n",
    "* Nearly half of all members in the set are part of a partner program. This program seems to be effective for bringing members in.\n",
    "* **30%** of members originally joined as part of a **\"Bring a Friend\"** promotion. This strategy also seems to be effective for recruiting nnew members.\n",
    "* We have phone data for over 90% of customers. Basic customer contact is expected to be on file.\n",
    "* 3-month contracts are either no longer in use, or customers prefer other options. 55% of customers opted for a 1-month contract. Full year contracts are the next most popular at 24%, followed by the 6-month contract at 20.1%. These options are still very popular.\n",
    "* **41%** of members attend **group classes**.\n",
    "* Members average roughly 2 group sessions per week, with some super-humans averaging 6 sessions per week. However we can see this engagement drop slightly in the most recent month.\n",
    "* Customer age ranges from 18 (lowest legal adult age) to 41 years old, with an average age of 29. The mean & median are close, suggesting a possible normally distributed age range.\n",
    "* Additional charges range from an average of only \\\\$0.15 to \\\\$553 with a mean of \\\\$147. High-spending customers appear to skew average charges slightly to the right.\n",
    "* On average, customer's have 4 months remaining on their contracts. However, we can see that at least 50\\% of customers only have one month remaining. This lines up with the fact that over half of our customer's are on 1-month contracts.\n",
    "* We have customers that range from brand new at 0 months, up until loyal customers of 31 months (roughly 2.5 years). On average, customer's have a lifetime of 3-4 months.\n",
    "* **26.5\\% of members** in our set are already considered **churned**. "
   ]
  },
  {
   "cell_type": "markdown",
   "metadata": {},
   "source": [
    "[Return to Table of Contents](#toc)"
   ]
  },
  {
   "cell_type": "markdown",
   "metadata": {},
   "source": [
    "<a class=\"anchor\" id=\"mean_feat\"></a>\n",
    "### 4.1 Mean feature values for churned vs active customers"
   ]
  },
  {
   "cell_type": "code",
   "execution_count": 16,
   "metadata": {},
   "outputs": [
    {
     "data": {
      "text/html": [
       "<div>\n",
       "<style scoped>\n",
       "    .dataframe tbody tr th:only-of-type {\n",
       "        vertical-align: middle;\n",
       "    }\n",
       "\n",
       "    .dataframe tbody tr th {\n",
       "        vertical-align: top;\n",
       "    }\n",
       "\n",
       "    .dataframe thead th {\n",
       "        text-align: right;\n",
       "    }\n",
       "</style>\n",
       "<table border=\"1\" class=\"dataframe\">\n",
       "  <thead>\n",
       "    <tr style=\"text-align: right;\">\n",
       "      <th>churn</th>\n",
       "      <th>0</th>\n",
       "      <th>1</th>\n",
       "    </tr>\n",
       "  </thead>\n",
       "  <tbody>\n",
       "    <tr>\n",
       "      <th>gender</th>\n",
       "      <td>0.510037</td>\n",
       "      <td>0.510839</td>\n",
       "    </tr>\n",
       "    <tr>\n",
       "      <th>near_loc</th>\n",
       "      <td>0.873086</td>\n",
       "      <td>0.768143</td>\n",
       "    </tr>\n",
       "    <tr>\n",
       "      <th>partner</th>\n",
       "      <td>0.534195</td>\n",
       "      <td>0.355325</td>\n",
       "    </tr>\n",
       "    <tr>\n",
       "      <th>friend_promo</th>\n",
       "      <td>0.353522</td>\n",
       "      <td>0.183789</td>\n",
       "    </tr>\n",
       "    <tr>\n",
       "      <th>phone</th>\n",
       "      <td>0.903709</td>\n",
       "      <td>0.902922</td>\n",
       "    </tr>\n",
       "    <tr>\n",
       "      <th>group_classes</th>\n",
       "      <td>0.464103</td>\n",
       "      <td>0.268615</td>\n",
       "    </tr>\n",
       "    <tr>\n",
       "      <th>age</th>\n",
       "      <td>29.976523</td>\n",
       "      <td>26.989632</td>\n",
       "    </tr>\n",
       "    <tr>\n",
       "      <th>avg_add_chrgs</th>\n",
       "      <td>158.445715</td>\n",
       "      <td>115.082899</td>\n",
       "    </tr>\n",
       "    <tr>\n",
       "      <th>months_remain</th>\n",
       "      <td>5.283089</td>\n",
       "      <td>1.662582</td>\n",
       "    </tr>\n",
       "    <tr>\n",
       "      <th>lifetime</th>\n",
       "      <td>4.711807</td>\n",
       "      <td>0.990575</td>\n",
       "    </tr>\n",
       "    <tr>\n",
       "      <th>avg_class_freq_total</th>\n",
       "      <td>2.024876</td>\n",
       "      <td>1.474995</td>\n",
       "    </tr>\n",
       "    <tr>\n",
       "      <th>avg_class_freq_cmonth</th>\n",
       "      <td>2.027882</td>\n",
       "      <td>1.044546</td>\n",
       "    </tr>\n",
       "  </tbody>\n",
       "</table>\n",
       "</div>"
      ],
      "text/plain": [
       "churn                           0           1\n",
       "gender                   0.510037    0.510839\n",
       "near_loc                 0.873086    0.768143\n",
       "partner                  0.534195    0.355325\n",
       "friend_promo             0.353522    0.183789\n",
       "phone                    0.903709    0.902922\n",
       "group_classes            0.464103    0.268615\n",
       "age                     29.976523   26.989632\n",
       "avg_add_chrgs          158.445715  115.082899\n",
       "months_remain            5.283089    1.662582\n",
       "lifetime                 4.711807    0.990575\n",
       "avg_class_freq_total     2.024876    1.474995\n",
       "avg_class_freq_cmonth    2.027882    1.044546"
      ]
     },
     "execution_count": 16,
     "metadata": {},
     "output_type": "execute_result"
    }
   ],
   "source": [
    "#Mean values of each feature for each churn group\n",
    "gym_churn.groupby('churn').mean().T"
   ]
  },
  {
   "cell_type": "markdown",
   "metadata": {},
   "source": [
    "* Gender is equal between active & inactive members\n",
    "* Convenience appears to have a large role in continued membership. Active members are much more likely to be part of a partner program and to live/work nearby.\n",
    "* The social aspect of the gym also seems to have an impact. Active members and are twice as likely to have joined with a friend, are more likely to partake in group classes, and attend more classes on average than churned members.\n",
    "* Active members are more likely to have long-term contracts, suggesting they uphold this commitment. Churned members have a much lower average lifetime. Our loyal customers appear to remain loyal."
   ]
  },
  {
   "cell_type": "markdown",
   "metadata": {},
   "source": [
    "[Return to Table of Contents](#toc)"
   ]
  },
  {
   "cell_type": "markdown",
   "metadata": {},
   "source": [
    "<a class=\"anchor\" id=\"feat_dist\"></a>\n",
    "### 4.2 Feature Distributions \n",
    "\n",
    "Compare the prevalance of binary features in active & inactive members."
   ]
  },
  {
   "cell_type": "markdown",
   "metadata": {},
   "source": [
    "**Separate features**"
   ]
  },
  {
   "cell_type": "code",
   "execution_count": 17,
   "metadata": {
    "scrolled": true
   },
   "outputs": [],
   "source": [
    "#List of column names for categorical features\n",
    "cat_feat = ['gender','near_loc','partner','friend_promo','phone', 'group_classes']\n",
    "\n",
    "#Aggregated table of all binary features separate by churn\n",
    "bool_feats = (gym_churn.groupby('churn').mean()[cat_feat]\n",
    "                       .T.stack()\n",
    "                       .reset_index()\n",
    "             )\n",
    "bool_feats.columns=['feat','churn','mean']\n",
    "\n",
    "#Dictionary of column names for quantitative features\n",
    "#Values for labelling purposes\n",
    "quant_feat = {'age': 'age',\n",
    "              'avg_add_chrgs': 'additional charges',\n",
    "              'months_remain': 'months remaining',\n",
    "              'lifetime': 'lifetime',\n",
    "              'avg_class_freq_total':'total class frequency',\n",
    "              'avg_class_freq_cmonth': 'current class frequency'\n",
    "             }"
   ]
  },
  {
   "cell_type": "code",
   "execution_count": 18,
   "metadata": {},
   "outputs": [],
   "source": [
    "#Slices of active & inactive customer data\n",
    "active_data = gym_churn[gym_churn.churn == 0]\n",
    "inactive_data = gym_churn[gym_churn.churn == 1]"
   ]
  },
  {
   "cell_type": "markdown",
   "metadata": {},
   "source": [
    "**Graph styling**"
   ]
  },
  {
   "cell_type": "code",
   "execution_count": 19,
   "metadata": {},
   "outputs": [],
   "source": [
    "#Set graph style\n",
    "sns.set_style(\"whitegrid\")\n",
    "#Define palette for churn status\n",
    "churn_palette = {0:'springgreen' , 1:'crimson'}"
   ]
  },
  {
   "cell_type": "markdown",
   "metadata": {},
   "source": [
    "#### 4.2.1 Plot categorical features"
   ]
  },
  {
   "cell_type": "code",
   "execution_count": 20,
   "metadata": {},
   "outputs": [
    {
     "data": {
      "image/png": "[encoded data removed]",
      "text/plain": [
       "<Figure size 864x432 with 1 Axes>"
      ]
     },
     "metadata": {
      "needs_background": "light"
     },
     "output_type": "display_data"
    },
    {
     "data": {
      "image/png": "[encoded data removed]",
      "text/plain": [
       "<Figure size 864x360 with 1 Axes>"
      ]
     },
     "metadata": {
      "needs_background": "light"
     },
     "output_type": "display_data"
    }
   ],
   "source": [
    "#Graph means of all binary features\n",
    "fig = plt.figure(figsize=(12,6))\n",
    "ax = sns.barplot(data=bool_feats, x='feat', y='mean',\n",
    "                 hue='churn', palette = churn_palette\n",
    "                )\n",
    "#Titles & labels\n",
    "plt.title('Prevalence of features in active & inactive users', size=18)\n",
    "plt.tick_params(labelsize = 14)\n",
    "plt.xlabel('Feature', size=14)\n",
    "plt.ylabel('Proportion', size=14)\n",
    "\n",
    "#Annotate bars\n",
    "for bars in ax.containers:\n",
    "        ax.bar_label(bars, fmt='%.2f', size=12)\n",
    "\n",
    "#Update legend\n",
    "h, l = ax.get_legend_handles_labels()\n",
    "ax.legend(h, ['active','inactive'] , title=\"Churn status\"\n",
    "         )\n",
    "\n",
    "plt.show();\n",
    "\n",
    "\n",
    "#Graph distribution of contract types\n",
    "fig = plt.figure(figsize=(12,5))  \n",
    "ax = sns.countplot(data = gym_churn, palette = churn_palette,\n",
    "                   x = 'contract', hue='churn'\n",
    "                  )\n",
    "\n",
    "#Titles & labels\n",
    "plt.title('Contract types of active & inactive users', size=18)\n",
    "plt.tick_params(labelsize = 14)\n",
    "plt.xlabel('Contract length', size=14)\n",
    "plt.ylabel('Member count', size=14)\n",
    "\n",
    "#Annotate bars\n",
    "for bars in ax.containers:\n",
    "        ax.bar_label(bars, size=13)\n",
    "\n",
    "#Update legend\n",
    "h, l = ax.get_legend_handles_labels()\n",
    "ax.legend(h, ['active','inactive'] , title=\"Churn status\"\n",
    "         )\n",
    "\n",
    "plt.show();"
   ]
  },
  {
   "cell_type": "markdown",
   "metadata": {},
   "source": [
    "<b>Notes</b>\n",
    "* **gender:** the distribution of genders looks similar between active & inactive members\n",
    "* **near_loc:** A higher percentage of people who stopped going to the gym lived inconveniently far away. \n",
    "* **partner:** more than half of active member were part of a partner program. However, only 36% of inactive members were part of partner programs.\n",
    "* **friend_promo:** less than a fifth of inactive members were brought in through a friend. Twice as many active members began their memberships this way. It seems like have a workout buddy may keep people motivated.\n",
    "* **phone:** overall, most members have phone information on file regardless of churn status\n",
    "* **group_class:** inactive users attended group classes at a lower rate than active users.\n",
    "* **contract:** in both cases, 1-month contracts are the most common. 1-year contracts are the 2nd most common overall, but have the fewest instances of churn. Members with 6 month contracts are the least common, but had more inactive members than 1-year contracts. Though they still seem more likely to stay than 1-month contracts.\n"
   ]
  },
  {
   "cell_type": "markdown",
   "metadata": {},
   "source": [
    "[Return to Table of Contents](#toc)"
   ]
  },
  {
   "cell_type": "markdown",
   "metadata": {},
   "source": [
    "#### 4.2.2 Plot histograms of quantitative features"
   ]
  },
  {
   "cell_type": "code",
   "execution_count": 21,
   "metadata": {
    "scrolled": false
   },
   "outputs": [
    {
     "data": {
      "image/png": "[encoded data removed]",
      "text/plain": [
       "<Figure size 1008x504 with 1 Axes>"
      ]
     },
     "metadata": {
      "needs_background": "light"
     },
     "output_type": "display_data"
    },
    {
     "data": {
      "image/png": "[encoded data removed]",
      "text/plain": [
       "<Figure size 1008x504 with 1 Axes>"
      ]
     },
     "metadata": {
      "needs_background": "light"
     },
     "output_type": "display_data"
    },
    {
     "data": {
      "image/png": "[encoded data removed]",
      "text/plain": [
       "<Figure size 1008x504 with 1 Axes>"
      ]
     },
     "metadata": {
      "needs_background": "light"
     },
     "output_type": "display_data"
    },
    {
     "data": {
      "image/png": "[encoded data removed]",
      "text/plain": [
       "<Figure size 1008x504 with 1 Axes>"
      ]
     },
     "metadata": {
      "needs_background": "light"
     },
     "output_type": "display_data"
    },
    {
     "data": {
      "image/png": "[encoded data removed]",
      "text/plain": [
       "<Figure size 1008x504 with 1 Axes>"
      ]
     },
     "metadata": {
      "needs_background": "light"
     },
     "output_type": "display_data"
    },
    {
     "data": {
      "image/png": "[encoded data removed]",
      "text/plain": [
       "<Figure size 1008x504 with 1 Axes>"
      ]
     },
     "metadata": {
      "needs_background": "light"
     },
     "output_type": "display_data"
    }
   ],
   "source": [
    "#Iterate through all quantitative features\n",
    "for feat in quant_feat.keys():\n",
    "    \n",
    "    #Set bins equal for the active & inactive hist\n",
    "    bins = np.histogram(np.hstack((active_data[feat],inactive_data[feat])))[1]\n",
    "    \n",
    "    #Specify discrete histograms\n",
    "    if feat in ['age','months_remain','lifetime']:\n",
    "        discrete = True\n",
    "    else:\n",
    "        discrete = False\n",
    "        #double the number of bins for continuous hists\n",
    "        nbin = len(bins)*2\n",
    "        bins = np.histogram(np.hstack((active_data[feat],inactive_data[feat])), bins=nbin)[1]\n",
    "\n",
    "    #Plot feature hist\n",
    "    fig, ax = plt.subplots(figsize = (14,7))\n",
    "    #Hist for active members\n",
    "    sns.histplot(data = active_data, x = feat, bins = bins,\n",
    "                 stat = 'proportion', discrete = discrete,\n",
    "                 color = 'springgreen', label = 'active', alpha = .9\n",
    "                )\n",
    "    #Hist for churned members\n",
    "    sns.histplot(data = inactive_data, x = feat, bins=bins,\n",
    "                 stat = 'proportion', discrete = discrete,\n",
    "                 color = 'crimson', label = 'inactive', alpha = .7\n",
    "                )\n",
    "    #Title & labels\n",
    "    title = 'Normalized distribution of {} by member status'.format(quant_feat[feat])\n",
    "    ax.set_title(title, size=16)\n",
    "    ax.tick_params(labelsize=12)\n",
    "    ax.set_xlabel(feat, size=14)\n",
    "    ax.set_ylabel('Proportion of member group',size=14)\n",
    "\n",
    "    #Show legend with title\n",
    "    plt.legend(title = 'Churn status')\n",
    "    plt.show();"
   ]
  },
  {
   "cell_type": "markdown",
   "metadata": {},
   "source": [
    "<b>Notes:</b>\n",
    "* **age:** the ages of active & inactive members both have a roughly normal distribution. But inactive members tended to be younger.\n",
    "* **avg_add_chrgs:** active members have a wider distribution of average additional charges. These members are generally at the gym more often using the services, so they are present more to sped this money.\n",
    "* **months_remain:** churned members are almost exclusively left with only 1 month, with few exceptions. \n",
    "* **lifetime:** members who stopped going to the gym are overwhelmingly short-term members, with most being members for a month or less. There are almost no members who churned part the 5 month mark. We may be able to expect customers who make it past 2 months to continue.\n",
    "* **avg_class_freq_total & avg_class_freq_cmonth:** For both the customer's lifetime and for the most current month, active members clearly tend to have attended more group classes on average. Comparing the total & recent month, active members maintain a similar distribution. However, those who have left have a decrease in classes in their final active month, with a notable spike around 0. A decrease in class attendance may be an indicator that a customer is on their way out."
   ]
  },
  {
   "cell_type": "markdown",
   "metadata": {},
   "source": [
    "[Return to Table of Contents](#toc)"
   ]
  },
  {
   "cell_type": "markdown",
   "metadata": {},
   "source": [
    "<a class=\"anchor\" id=\"corr\"></a>\n",
    "### 4.3 Feature correlations\n",
    "\n",
    "Build a correlation matrix of all features. Plot correlations as a heatmap for easier assessment."
   ]
  },
  {
   "cell_type": "code",
   "execution_count": 22,
   "metadata": {},
   "outputs": [
    {
     "data": {
      "image/png": "[encoded data removed]",
      "text/plain": [
       "<Figure size 1296x864 with 2 Axes>"
      ]
     },
     "metadata": {
      "needs_background": "light"
     },
     "output_type": "display_data"
    }
   ],
   "source": [
    "#Define the correlation matrix\n",
    "corr_matrix = gym_churn.corr()\n",
    "\n",
    "#Plot correlations as a heatmap\n",
    "plt.figure(figsize=(18,12))\n",
    "sns.heatmap(corr_matrix, annot = True, fmt = '.3f',\n",
    "            linewidths = 1, linecolor = 'lightgrey',\n",
    "            cmap = 'icefire',  center = 0\n",
    "           )\n",
    "#Title & labels\n",
    "plt.title('Member feature correlation matrix', size = 22)\n",
    "plt.xticks(rotation = 45, ha = 'right')\n",
    "plt.tick_params(axis='both', which='major', labelsize=14)\n",
    "\n",
    "plt.show()"
   ]
  },
  {
   "cell_type": "markdown",
   "metadata": {},
   "source": [
    "<b>Notes</b>\n",
    "    \n",
    "Overall, member lifetime has the highest correlation with churn. This is followed by the average number of classes attended in the most recent month, and then age.\n",
    "    \n",
    "Contract & months remaining on the contract are highly correlated. Most members are on a one-month contract, which directly affects the number of possible remaining months. To avoid over-fitting, we will not consider months_remain in our calculations.\n",
    "    \n",
    "Members who signed up as part of a bring-a-friend promotion seem to be correlated with members who have a partnership deal. This could be a case of friends having similar partnerships available to them through common work places. This suggests a good combination for bringing in new members.\n",
    "    \n",
    "There is also a moderate correlation between partner status & contract type. It is possible that partners are more likely to commit to longer contracts.\n",
    "    \n",
    "<b>In our predictive model, we will not consider the following features:</b>\n",
    "* gender & phone: These seem to have no correlation to churn\n",
    "* months_remain: As stated above, it is too highly correlated with contract.\n",
    "* avg_class_freq_total: Very highly correlated with the average number of classes in the most recent month, but avg_class_freq_cmonth has a higher correlation to churn overall and is therefore more relevant.\n",
    "* group_classes: The average number of classes will give us a better sense of member behavior, while still telling us whether or not the member attends classes.\n",
    "\n",
    "<b>The remaining features for our model:</b> near_loc, partner, friend_promo, contract, age, avg_add_chrgs, lifetime, avg_class_freq_cmonth\n",
    "</div>"
   ]
  },
  {
   "cell_type": "markdown",
   "metadata": {},
   "source": [
    "[Return to Table of Contents](#toc)"
   ]
  },
  {
   "cell_type": "markdown",
   "metadata": {},
   "source": [
    "<a class='anchor' id='model'></a>\n",
    "## 5. Build a model to predict user churn"
   ]
  },
  {
   "cell_type": "markdown",
   "metadata": {},
   "source": [
    " Build a binary classification model for customers where the target feature is the user's leaving next month.\n",
    "- Divide the data into train and validation sets using the train_test_split() function.\n",
    "- Train the model on the train set with two methods:\n",
    "    - logistic regression\n",
    "    - random forest\n",
    "- Evaluate accuracy, precision, and recall for both models using the validation data. Use them to compare the models. Which model gave better results?\n",
    "- Remember to indicate the random_state parameter when dividing data and defining the algorithm."
   ]
  },
  {
   "cell_type": "code",
   "execution_count": 23,
   "metadata": {},
   "outputs": [],
   "source": [
    "# List of relevant features\n",
    "model_feat = ['near_loc', 'partner', 'friend_promo', \n",
    "              'contract', 'age', 'avg_add_chrgs', \n",
    "              'lifetime', 'avg_class_freq_cmonth']\n",
    "# Feature matrix\n",
    "X = gym_churn[model_feat]\n",
    "# Target variable\n",
    "y = gym_churn['churn']"
   ]
  },
  {
   "cell_type": "code",
   "execution_count": 24,
   "metadata": {},
   "outputs": [],
   "source": [
    "# Standardize features\n",
    "scaler = StandardScaler()\n",
    "X_sc = scaler.fit_transform(X)"
   ]
  },
  {
   "cell_type": "code",
   "execution_count": 25,
   "metadata": {},
   "outputs": [],
   "source": [
    "# Split data in train and test sets\n",
    "X_train, X_test, y_train, y_test = train_test_split(X_sc, y, test_size=.2, random_state=0)"
   ]
  },
  {
   "cell_type": "code",
   "execution_count": 26,
   "metadata": {},
   "outputs": [],
   "source": [
    "# Train logistic regression model\n",
    "lr_model = LogisticRegression(random_state=0)\n",
    "lr_model.fit(X_train,y_train)\n",
    "lr_ypred = lr_model.predict(X_test)"
   ]
  },
  {
   "cell_type": "code",
   "execution_count": 27,
   "metadata": {},
   "outputs": [],
   "source": [
    "#Train random forest classifier model\n",
    "rf_model = RandomForestClassifier(random_state=0)\n",
    "rf_model.fit(X_train,y_train)\n",
    "rf_ypred = rf_model.predict(X_test)"
   ]
  },
  {
   "cell_type": "code",
   "execution_count": 28,
   "metadata": {},
   "outputs": [],
   "source": [
    "#Method to caulculate and print accuracy, precision, & recall of a model\n",
    "def model_eval(y_pred):\n",
    "    #accuracy\n",
    "    print('Accuracy: {:.3f}'.format(accuracy_score(y_test,y_pred)))\n",
    "    #precision\n",
    "    print('Precision: {:.3f}'.format(precision_score(y_test,y_pred)))\n",
    "    #recall\n",
    "    print('Recall: {:.3f}'.format(recall_score(y_test,y_pred)))    "
   ]
  },
  {
   "cell_type": "code",
   "execution_count": 29,
   "metadata": {},
   "outputs": [
    {
     "name": "stdout",
     "output_type": "stream",
     "text": [
      "Logistic regression model\n",
      "Accuracy: 0.902\n",
      "Precision: 0.800\n",
      "Recall: 0.808\n",
      "\n",
      "Random forest regression model\n",
      "Accuracy: 0.899\n",
      "Precision: 0.820\n",
      "Recall: 0.758\n"
     ]
    }
   ],
   "source": [
    "print('Logistic regression model')\n",
    "model_eval(lr_ypred)\n",
    "print()\n",
    "print('Random forest regression model')\n",
    "model_eval(rf_ypred)"
   ]
  },
  {
   "cell_type": "markdown",
   "metadata": {},
   "source": [
    "The **logistic regression** model performed better in both **accuracy & recall**. It is more beneficial for our purposes to reduce false negatives to avoid missing skipping over customers at risk of churn. "
   ]
  },
  {
   "cell_type": "markdown",
   "metadata": {},
   "source": [
    "**Plot feature importances**"
   ]
  },
  {
   "cell_type": "code",
   "execution_count": 30,
   "metadata": {},
   "outputs": [],
   "source": [
    "#Create df of features and their importances for each model\n",
    "importances = {'lr_feat':lr_model.coef_[0], 'rfc_feat':rf_model.feature_importances_}\n",
    "feats = X.columns\n",
    "features = pd.DataFrame(data = importances, index = feats)"
   ]
  },
  {
   "cell_type": "code",
   "execution_count": 31,
   "metadata": {},
   "outputs": [
    {
     "data": {
      "image/png": "[encoded data removed]",
      "text/plain": [
       "<Figure size 864x504 with 1 Axes>"
      ]
     },
     "metadata": {},
     "output_type": "display_data"
    }
   ],
   "source": [
    "#Set style\n",
    "sns.set_style('darkgrid')\n",
    "\n",
    "#Create plot\n",
    "fig, ax = plt.subplots(figsize=(12,7))\n",
    "\n",
    "#Plot importances for the logistic regression model\n",
    "ax.barh(feats, features.lr_feat,\n",
    "        color = 'darkturquoise',\n",
    "        label = 'logistic reg',\n",
    "        height=.4\n",
    "       )\n",
    "\n",
    "#Plot importances for the random forest model\n",
    "ax.barh(feats, features.rfc_feat,\n",
    "        color = 'mediumvioletred',\n",
    "        label = 'random forest',\n",
    "        height=.4, align='edge'\n",
    "       )\n",
    "\n",
    "plt.title('Feature importances', size=16)\n",
    "plt.tick_params(axis='both', labelsize=14)\n",
    "\n",
    "ax.invert_xaxis()\n",
    "plt.legend()\n",
    "sns.despine()"
   ]
  },
  {
   "cell_type": "markdown",
   "metadata": {},
   "source": [
    "The top features to consider seem to be lifetime, contract length, the member's recent class attendance, money spent, and age. Newer members seem to be at higher risk of churn, so the other features should be strongly considered to determine how invested a member is (time & money spent, as well as time & money committed)."
   ]
  },
  {
   "cell_type": "markdown",
   "metadata": {},
   "source": [
    "[Return to Table of Contents](#toc)"
   ]
  },
  {
   "cell_type": "markdown",
   "metadata": {},
   "source": [
    "<a class='anchor' id='cluster'></a>\n",
    "## 6. Member clustering\n",
    "\n",
    "Create member clusters using KMeans clustering to allow for further analysis into common features of different member types."
   ]
  },
  {
   "cell_type": "markdown",
   "metadata": {},
   "source": [
    "<a class='anchor' id='id_clusters'></a>\n",
    "### 6.1 Identify member clusters\n",
    "\n",
    "Use the linkage() function to build a matrix of distances based on the standardized feature matrix and plot a dendrogram."
   ]
  },
  {
   "cell_type": "code",
   "execution_count": 32,
   "metadata": {},
   "outputs": [],
   "source": [
    "linked = linkage(X_sc, method = 'ward')"
   ]
  },
  {
   "cell_type": "markdown",
   "metadata": {},
   "source": [
    "**Plot dendrogram**"
   ]
  },
  {
   "cell_type": "code",
   "execution_count": 33,
   "metadata": {},
   "outputs": [
    {
     "data": {
      "image/png": "[encoded data removed]",
      "text/plain": [
       "<Figure size 1440x864 with 1 Axes>"
      ]
     },
     "metadata": {},
     "output_type": "display_data"
    }
   ],
   "source": [
    "#Set style\n",
    "sns.set_style('white')\n",
    "#Create dendrogram\n",
    "plt.figure(figsize=(20,12))\n",
    "dendrogram(linked, orientation='top', color_threshold=50,\n",
    "           truncate_mode='level', p=4)\n",
    "#Title\n",
    "plt.title('Hierarchical Clustering of Gym Members', size=20)\n",
    "\n",
    "plt.show()"
   ]
  },
  {
   "cell_type": "markdown",
   "metadata": {},
   "source": [
    "**Train the clustering model with the K-means algorithm to predict customer clusters.**"
   ]
  },
  {
   "cell_type": "code",
   "execution_count": 34,
   "metadata": {},
   "outputs": [],
   "source": [
    "# Train model\n",
    "km = KMeans(n_clusters=5,random_state=0)\n",
    "# Save cluster labels\n",
    "labels = km.fit_predict(X_sc)\n",
    "# Add cluster labels to the member data\n",
    "gym_churn['cluster'] = labels"
   ]
  },
  {
   "cell_type": "markdown",
   "metadata": {},
   "source": [
    "[Return to Table of Contents](#toc)"
   ]
  },
  {
   "cell_type": "markdown",
   "metadata": {},
   "source": [
    "<a class='anchor' id='cluster_feat'></a>\n",
    "### 6.2 Cluster features\n",
    "\n",
    "Explore the features of the typical members of each cluster. Only explore features present in the training model."
   ]
  },
  {
   "cell_type": "markdown",
   "metadata": {},
   "source": [
    "<a class='anchor' id='avg_feat'></a>\n",
    "#### Average feature values by cluster"
   ]
  },
  {
   "cell_type": "code",
   "execution_count": 42,
   "metadata": {},
   "outputs": [
    {
     "data": {
      "text/html": [
       "<div>\n",
       "<style scoped>\n",
       "    .dataframe tbody tr th:only-of-type {\n",
       "        vertical-align: middle;\n",
       "    }\n",
       "\n",
       "    .dataframe tbody tr th {\n",
       "        vertical-align: top;\n",
       "    }\n",
       "\n",
       "    .dataframe thead th {\n",
       "        text-align: right;\n",
       "    }\n",
       "</style>\n",
       "<table border=\"1\" class=\"dataframe\">\n",
       "  <thead>\n",
       "    <tr style=\"text-align: right;\">\n",
       "      <th>cluster</th>\n",
       "      <th>0</th>\n",
       "      <th>1</th>\n",
       "      <th>2</th>\n",
       "      <th>3</th>\n",
       "      <th>4</th>\n",
       "      <th>all</th>\n",
       "    </tr>\n",
       "  </thead>\n",
       "  <tbody>\n",
       "    <tr>\n",
       "      <th>near_loc</th>\n",
       "      <td>0.000000</td>\n",
       "      <td>0.998767</td>\n",
       "      <td>0.993210</td>\n",
       "      <td>1.000000</td>\n",
       "      <td>0.996350</td>\n",
       "      <td>0.845250</td>\n",
       "    </tr>\n",
       "    <tr>\n",
       "      <th>partner</th>\n",
       "      <td>0.486043</td>\n",
       "      <td>0.144266</td>\n",
       "      <td>0.938894</td>\n",
       "      <td>0.226773</td>\n",
       "      <td>0.618613</td>\n",
       "      <td>0.486750</td>\n",
       "    </tr>\n",
       "    <tr>\n",
       "      <th>friend_promo</th>\n",
       "      <td>0.070608</td>\n",
       "      <td>0.085080</td>\n",
       "      <td>1.000000</td>\n",
       "      <td>0.090909</td>\n",
       "      <td>0.000000</td>\n",
       "      <td>0.308500</td>\n",
       "    </tr>\n",
       "    <tr>\n",
       "      <th>age</th>\n",
       "      <td>28.689655</td>\n",
       "      <td>30.747226</td>\n",
       "      <td>29.600388</td>\n",
       "      <td>27.334665</td>\n",
       "      <td>30.016423</td>\n",
       "      <td>29.184250</td>\n",
       "    </tr>\n",
       "    <tr>\n",
       "      <th>avg_add_chrgs</th>\n",
       "      <td>137.293885</td>\n",
       "      <td>178.402339</td>\n",
       "      <td>153.911336</td>\n",
       "      <td>111.069102</td>\n",
       "      <td>163.532625</td>\n",
       "      <td>146.943728</td>\n",
       "    </tr>\n",
       "    <tr>\n",
       "      <th>lifetime</th>\n",
       "      <td>2.990148</td>\n",
       "      <td>5.766954</td>\n",
       "      <td>4.248303</td>\n",
       "      <td>1.555445</td>\n",
       "      <td>4.496350</td>\n",
       "      <td>3.724750</td>\n",
       "    </tr>\n",
       "    <tr>\n",
       "      <th>avg_class_freq_cmonth</th>\n",
       "      <td>1.591302</td>\n",
       "      <td>2.335921</td>\n",
       "      <td>1.906584</td>\n",
       "      <td>1.108890</td>\n",
       "      <td>2.060192</td>\n",
       "      <td>1.767052</td>\n",
       "    </tr>\n",
       "    <tr>\n",
       "      <th>avg_class_freq_total</th>\n",
       "      <td>1.762430</td>\n",
       "      <td>2.332173</td>\n",
       "      <td>1.950933</td>\n",
       "      <td>1.402263</td>\n",
       "      <td>2.073522</td>\n",
       "      <td>1.879020</td>\n",
       "    </tr>\n",
       "    <tr>\n",
       "      <th>churn</th>\n",
       "      <td>0.403941</td>\n",
       "      <td>0.036991</td>\n",
       "      <td>0.118332</td>\n",
       "      <td>0.641359</td>\n",
       "      <td>0.038321</td>\n",
       "      <td>0.265250</td>\n",
       "    </tr>\n",
       "  </tbody>\n",
       "</table>\n",
       "</div>"
      ],
      "text/plain": [
       "cluster                         0           1           2           3  \\\n",
       "near_loc                 0.000000    0.998767    0.993210    1.000000   \n",
       "partner                  0.486043    0.144266    0.938894    0.226773   \n",
       "friend_promo             0.070608    0.085080    1.000000    0.090909   \n",
       "age                     28.689655   30.747226   29.600388   27.334665   \n",
       "avg_add_chrgs          137.293885  178.402339  153.911336  111.069102   \n",
       "lifetime                 2.990148    5.766954    4.248303    1.555445   \n",
       "avg_class_freq_cmonth    1.591302    2.335921    1.906584    1.108890   \n",
       "avg_class_freq_total     1.762430    2.332173    1.950933    1.402263   \n",
       "churn                    0.403941    0.036991    0.118332    0.641359   \n",
       "\n",
       "cluster                         4         all  \n",
       "near_loc                 0.996350    0.845250  \n",
       "partner                  0.618613    0.486750  \n",
       "friend_promo             0.000000    0.308500  \n",
       "age                     30.016423   29.184250  \n",
       "avg_add_chrgs          163.532625  146.943728  \n",
       "lifetime                 4.496350    3.724750  \n",
       "avg_class_freq_cmonth    2.060192    1.767052  \n",
       "avg_class_freq_total     2.073522    1.879020  \n",
       "churn                    0.038321    0.265250  "
      ]
     },
     "execution_count": 42,
     "metadata": {},
     "output_type": "execute_result"
    }
   ],
   "source": [
    "#Relevant columns \n",
    "cluster_feats = model_feat + ['avg_class_freq_total','cluster', 'churn']\n",
    "#Agg table of feature maens for each cluster \n",
    "means = gym_churn[cluster_feats].groupby('cluster').mean().T\n",
    "#Add the overall mean values\n",
    "means['all'] = gym_churn[cluster_feats].mean().T\n",
    "means"
   ]
  },
  {
   "cell_type": "markdown",
   "metadata": {},
   "source": [
    "At first look, most clusters are partly defined by the complete absence or presence of a particular feature.\n",
    "\n",
    "**Cluster 0** members exclusively live & work out of the area. Otherwise, **all clusters** are mainly composed of customers who ***live or work nearby***. **Cluster 2** members were exclusively brought in through the _Bring-a-Friend_ promotion. **Cluster 3** members exlusively live in the area. None of the **Cluster 4** members were brought in through the friend promo.\n",
    "\n",
    "**Cluster 1** is the only cluster that does not appear to fit this pattern, though it had several other defining features such as being the highest spenders with the longest lifetime."
   ]
  },
  {
   "cell_type": "markdown",
   "metadata": {},
   "source": [
    "We will explore the features in greater depth by graphing feature distributions."
   ]
  },
  {
   "cell_type": "code",
   "execution_count": 37,
   "metadata": {},
   "outputs": [],
   "source": [
    "#Palette for consistent coloring through all graphs\n",
    "cluster_palette = {0:'dodgerblue', 1:'gold', 2:'limegreen',\n",
    "                   3:'crimson', 4:'blueviolet','all':'lightgray'\n",
    "                  }\n",
    "#Set style back to whitegrid\n",
    "sns.set_style('whitegrid')"
   ]
  },
  {
   "cell_type": "markdown",
   "metadata": {},
   "source": [
    "<a class='anchor' id='cluster_dist'></a>\n",
    "#### Categorical feature distributions by cluster\n"
   ]
  },
  {
   "cell_type": "code",
   "execution_count": 36,
   "metadata": {
    "scrolled": true
   },
   "outputs": [],
   "source": [
    "#List of quantitative features\n",
    "model_quant_feat = ['age','avg_add_chrgs','lifetime','avg_class_freq_cmonth']\n",
    "#Remove all quantitative features from 'means' for graphing of categorical features\n",
    "#Stack the remaining columns\n",
    "cluster_means = means.drop(model_quant_feat+['avg_class_freq_total']).stack().reset_index()\n",
    "#Rename columns\n",
    "cluster_means.columns = ['feat','cluster','mean']"
   ]
  },
  {
   "cell_type": "code",
   "execution_count": 41,
   "metadata": {},
   "outputs": [
    {
     "data": {
      "image/png": "[encoded data removed]",
      "text/plain": [
       "<Figure size 1152x504 with 1 Axes>"
      ]
     },
     "metadata": {},
     "output_type": "display_data"
    },
    {
     "data": {
      "image/png": "[encoded data removed]",
      "text/plain": [
       "<Figure size 864x504 with 1 Axes>"
      ]
     },
     "metadata": {},
     "output_type": "display_data"
    }
   ],
   "source": [
    "##Comparative bar chart of all binary features by cluster\n",
    "fig = plt.figure(figsize=(16,7))\n",
    "ax = sns.barplot(data=cluster_means,\n",
    "                 x= 'feat', y= 'mean',\n",
    "                 hue = 'cluster',\n",
    "                 palette = cluster_palette\n",
    "                )\n",
    "#Titles & labels\n",
    "plt.title('Prevalence of features by cluster', size=18)\n",
    "plt.tick_params(labelsize = 14)\n",
    "plt.xlabel('Feature', size=14)\n",
    "plt.ylabel('Proportion', size=14)\n",
    "#Annotate bars\n",
    "for bars in ax.containers:\n",
    "        ax.bar_label(bars, fmt='%.2f', size=12)\n",
    "plt.show()\n",
    "\n",
    "\n",
    "##Comparative bar chart of contract types per cluster\n",
    "fig = plt.figure(figsize=(12,7))  \n",
    "ax = sns.countplot(data = gym_churn,\n",
    "                   x = 'contract',\n",
    "                   hue='cluster',\n",
    "                   palette = cluster_palette\n",
    "                  )\n",
    "#Titles & labels\n",
    "plt.title('Contract types', size=18)\n",
    "plt.tick_params(labelsize = 14)\n",
    "plt.xlabel('Contract length', size=14)\n",
    "plt.ylabel('Member count', size=14)\n",
    "#Annotate bars\n",
    "for bars in ax.containers:\n",
    "        ax.bar_label(bars, size=13)\n",
    "plt.show()"
   ]
  },
  {
   "cell_type": "markdown",
   "metadata": {},
   "source": [
    "#### Quantitative features by cluster"
   ]
  },
  {
   "cell_type": "code",
   "execution_count": 39,
   "metadata": {},
   "outputs": [
    {
     "data": {
      "image/png": "[encoded data removed]",
      "text/plain": [
       "<Figure size 1296x1008 with 4 Axes>"
      ]
     },
     "metadata": {},
     "output_type": "display_data"
    }
   ],
   "source": [
    "##Plot distributions of all continuous features in the model by cluster\n",
    "\n",
    "def violin_sub(feat,ax):\n",
    "    '''Function to create stylistically identical violinplot subplots\n",
    "    '''\n",
    "    ax = sns.violinplot(data = gym_churn, y= feat, x= 'cluster', palette = cluster_palette, ax=ax)\n",
    "    \n",
    "    title = 'Distribution of {} by cluster'.format(quant_feat[feat])\n",
    "    ax.set_title(title, size=16)\n",
    "    ax.tick_params(labelsize=14)\n",
    "    ax.set_xlabel('Cluster', size=14)\n",
    "    ax.set_ylabel(feat, size=14)\n",
    "    \n",
    "#Create a fig with 4 subplots\n",
    "fig, axes = plt.subplots(ncols=2,nrows=2, figsize=(18,14))\n",
    "\n",
    "#Iterate through the axes and assign features to plot using violin_sub\n",
    "n=0\n",
    "for ax in axes.flatten():\n",
    "    feat = model_quant_feat[n]\n",
    "    violin_sub(feat,ax)\n",
    "    n+=1\n"
   ]
  },
  {
   "cell_type": "markdown",
   "metadata": {},
   "source": [
    "#### Cluster analysis\n",
    "\n",
    "**Cluster 0**<br>\n",
    "Members do not live or work nearby, and have the **second highest rate of churn** (40%). Nearly half of these members were brought in by partner programs, though they overwhelmingly choose short-term contracts. Money saved on partner programs may have incentivized customers who otherwise would not have chosen this gym. Though ultimately the inconvenience of not living nearby may be the reason they don't stay. Age, additional charges, and class frequency are all widely spread; though they do all average lower than the overall average. It may be worth further investigating what brought in the members who did not join due to partner programs. Maybe they have friends, family, or temporary work commitments in the area. Maybe they are interested in specific classes offered. Understanding this may help us decide whether to put resources toward trying to maintain these customers.\n",
    "\n",
    "**Cluster 1**<br>\n",
    "This is our **lowest churn group** at a 3.7% churn rate. Members in this cluster have the highest average age, longest average lifetime, highest class engagement, and spend the most on average. Though despite this commitment, they still heavily favor monthly contracts. \n",
    "\n",
    "**Cluster 2**<br>\n",
    "The social cluster. These members were exclusively brought in by the _Bring-a-Friend_ promotion. They are also the most likely to be part of a partner program (94%). Members choose monthly and 6-month contracts at roughly equal rates, but favor 1-year contracts. They are more engaged in group classes than average, but not significantly. They are otherwise somewhat average compared to the overall group. Almost 12% of this cluster has discontinued membership, though there is no clear reason. We should consider studying the reasons for churn in this group.\n",
    "\n",
    "**Cluster 3**<br>\n",
    "The high-churn group. These members exclusively live/work nearby. They are the youngest on average, spend the least money, attend the fewest classes, and account for the highest share of monthly contracts. Very few members in this group came in with the friend promo. Encouraging attendance to group classes and incentives for bringing in friends may help this group maintain their commitment to the gym.\n",
    "\n",
    "The younger age of this group as well as the fact that less than a quarter of these members are part of a partner program may imply that these customers simply can't keep up with the cost of gym memberships. It is also possible that many in this group have less stable careers that make it diffcult to maintain a commitment. We should do further research into the demographics of this group to understand if there are ways to reduce churn. \n",
    "\n",
    "**Cluster 4**<br>\n",
    "This group has the **second-lowest rate of churn** at only 3.8%. None of them came in through the friend promotion, but roughly 62% are part of a partnership program. These are committed members with no monthly contracts, and nearly 80% of them opt for 1-year contracts. They are similar to **cluster 1** in age, spending, and class frequency. Partner promotions may be effective in attracting stable, long-term customers for longer contracts. "
   ]
  },
  {
   "cell_type": "markdown",
   "metadata": {},
   "source": [
    "[Return to Table of Contents](#toc)"
   ]
  },
  {
   "cell_type": "markdown",
   "metadata": {},
   "source": [
    "<a class='anchor' id='conclusions'></a>\n",
    "## Final Conclusions"
   ]
  },
  {
   "cell_type": "markdown",
   "metadata": {},
   "source": [
    "Convenience seems to play a large role in maintaining memberships. People are more likely to stay if they live or work nearby. Those with long-term contracts tend to stay loyal. Those who have a partner membership tend to opt for these more long-term contracts\n",
    "\n",
    "Social engagement also seems to play a role. Members brought in by friends tend toward long-term contracts and maintain their class frequency. Members whose class frequency decreases appear to be at risk of leaving, while members engaged in group classes are geneally high-value customers at low risk of churn. Increasing class engagement may help reduce churn.\n",
    "\n",
    "Strategies to consider:\n",
    "- Limit marketing to individuals & businesses nearby.\n",
    "- Increase partner programs with businesses nearby\n",
    "- Continue encouraging members to bring in friends with incentives\n",
    "- Promote group classes\n",
    "- Engage with & incentivize members who have had a noticeable drop in class attendance "
   ]
  },
  {
   "cell_type": "markdown",
   "metadata": {},
   "source": [
    "[Return to Table of Contents](#toc)"
   ]
  }
 ],
 "metadata": {
  "ExecuteTimeLog": [
   {
    "duration": 4,
    "start_time": "2022-01-19T01:49:22.388Z"
   },
   {
    "duration": 1571,
    "start_time": "2022-01-19T01:49:22.396Z"
   },
   {
    "duration": -1880,
    "start_time": "2022-01-19T01:49:25.852Z"
   },
   {
    "duration": -1883,
    "start_time": "2022-01-19T01:49:25.856Z"
   },
   {
    "duration": -1885,
    "start_time": "2022-01-19T01:49:25.860Z"
   },
   {
    "duration": -1887,
    "start_time": "2022-01-19T01:49:25.863Z"
   },
   {
    "duration": -1888,
    "start_time": "2022-01-19T01:49:25.866Z"
   },
   {
    "duration": -1890,
    "start_time": "2022-01-19T01:49:25.869Z"
   },
   {
    "duration": -1893,
    "start_time": "2022-01-19T01:49:25.873Z"
   },
   {
    "duration": -1894,
    "start_time": "2022-01-19T01:49:25.876Z"
   },
   {
    "duration": -1896,
    "start_time": "2022-01-19T01:49:25.879Z"
   },
   {
    "duration": -1896,
    "start_time": "2022-01-19T01:49:25.881Z"
   },
   {
    "duration": -1898,
    "start_time": "2022-01-19T01:49:25.884Z"
   },
   {
    "duration": -1899,
    "start_time": "2022-01-19T01:49:25.886Z"
   },
   {
    "duration": -1900,
    "start_time": "2022-01-19T01:49:25.889Z"
   },
   {
    "duration": -1901,
    "start_time": "2022-01-19T01:49:25.891Z"
   },
   {
    "duration": -1902,
    "start_time": "2022-01-19T01:49:25.894Z"
   },
   {
    "duration": -1903,
    "start_time": "2022-01-19T01:49:25.896Z"
   },
   {
    "duration": -1905,
    "start_time": "2022-01-19T01:49:25.899Z"
   },
   {
    "duration": -1907,
    "start_time": "2022-01-19T01:49:25.902Z"
   },
   {
    "duration": -1909,
    "start_time": "2022-01-19T01:49:25.906Z"
   },
   {
    "duration": -1911,
    "start_time": "2022-01-19T01:49:25.909Z"
   },
   {
    "duration": -1912,
    "start_time": "2022-01-19T01:49:25.912Z"
   },
   {
    "duration": -1913,
    "start_time": "2022-01-19T01:49:25.914Z"
   },
   {
    "duration": -1915,
    "start_time": "2022-01-19T01:49:25.917Z"
   },
   {
    "duration": -1915,
    "start_time": "2022-01-19T01:49:25.919Z"
   },
   {
    "duration": -1936,
    "start_time": "2022-01-19T01:49:25.941Z"
   },
   {
    "duration": -1938,
    "start_time": "2022-01-19T01:49:25.945Z"
   },
   {
    "duration": -1940,
    "start_time": "2022-01-19T01:49:25.948Z"
   },
   {
    "duration": -1942,
    "start_time": "2022-01-19T01:49:25.951Z"
   },
   {
    "duration": -1944,
    "start_time": "2022-01-19T01:49:25.955Z"
   },
   {
    "duration": -1946,
    "start_time": "2022-01-19T01:49:25.958Z"
   },
   {
    "duration": -1892,
    "start_time": "2022-01-19T01:49:25.961Z"
   },
   {
    "duration": -1894,
    "start_time": "2022-01-19T01:49:25.964Z"
   },
   {
    "duration": -1895,
    "start_time": "2022-01-19T01:49:25.967Z"
   },
   {
    "duration": -1895,
    "start_time": "2022-01-19T01:49:25.969Z"
   },
   {
    "duration": 3,
    "start_time": "2022-01-19T01:49:39.182Z"
   },
   {
    "duration": 271,
    "start_time": "2022-01-19T01:49:39.190Z"
   },
   {
    "duration": 70,
    "start_time": "2022-01-19T01:49:39.395Z"
   },
   {
    "duration": 68,
    "start_time": "2022-01-19T01:49:39.399Z"
   },
   {
    "duration": 65,
    "start_time": "2022-01-19T01:49:39.403Z"
   },
   {
    "duration": 64,
    "start_time": "2022-01-19T01:49:39.405Z"
   },
   {
    "duration": 63,
    "start_time": "2022-01-19T01:49:39.408Z"
   },
   {
    "duration": 62,
    "start_time": "2022-01-19T01:49:39.410Z"
   },
   {
    "duration": -61,
    "start_time": "2022-01-19T01:49:39.535Z"
   },
   {
    "duration": -76,
    "start_time": "2022-01-19T01:49:39.551Z"
   },
   {
    "duration": -77,
    "start_time": "2022-01-19T01:49:39.553Z"
   },
   {
    "duration": -78,
    "start_time": "2022-01-19T01:49:39.555Z"
   },
   {
    "duration": -78,
    "start_time": "2022-01-19T01:49:39.557Z"
   },
   {
    "duration": -77,
    "start_time": "2022-01-19T01:49:39.558Z"
   },
   {
    "duration": -78,
    "start_time": "2022-01-19T01:49:39.560Z"
   },
   {
    "duration": -78,
    "start_time": "2022-01-19T01:49:39.561Z"
   },
   {
    "duration": -78,
    "start_time": "2022-01-19T01:49:39.563Z"
   },
   {
    "duration": -79,
    "start_time": "2022-01-19T01:49:39.565Z"
   },
   {
    "duration": -147,
    "start_time": "2022-01-19T01:49:39.635Z"
   },
   {
    "duration": -158,
    "start_time": "2022-01-19T01:49:39.647Z"
   },
   {
    "duration": -159,
    "start_time": "2022-01-19T01:49:39.649Z"
   },
   {
    "duration": -159,
    "start_time": "2022-01-19T01:49:39.651Z"
   },
   {
    "duration": -160,
    "start_time": "2022-01-19T01:49:39.653Z"
   },
   {
    "duration": -161,
    "start_time": "2022-01-19T01:49:39.655Z"
   },
   {
    "duration": -163,
    "start_time": "2022-01-19T01:49:39.658Z"
   },
   {
    "duration": -163,
    "start_time": "2022-01-19T01:49:39.660Z"
   },
   {
    "duration": -172,
    "start_time": "2022-01-19T01:49:39.670Z"
   },
   {
    "duration": -173,
    "start_time": "2022-01-19T01:49:39.672Z"
   },
   {
    "duration": -175,
    "start_time": "2022-01-19T01:49:39.675Z"
   },
   {
    "duration": -176,
    "start_time": "2022-01-19T01:49:39.677Z"
   },
   {
    "duration": -264,
    "start_time": "2022-01-19T01:49:39.767Z"
   },
   {
    "duration": -271,
    "start_time": "2022-01-19T01:49:39.775Z"
   },
   {
    "duration": -272,
    "start_time": "2022-01-19T01:49:39.777Z"
   },
   {
    "duration": -272,
    "start_time": "2022-01-19T01:49:39.779Z"
   },
   {
    "duration": -273,
    "start_time": "2022-01-19T01:49:39.781Z"
   },
   {
    "duration": -213,
    "start_time": "2022-01-19T01:49:39.782Z"
   },
   {
    "duration": 14436,
    "start_time": "2022-01-19T01:50:11.161Z"
   },
   {
    "duration": 694,
    "start_time": "2022-01-19T01:50:27.730Z"
   },
   {
    "duration": 238,
    "start_time": "2022-01-19T01:50:29.343Z"
   },
   {
    "duration": 31,
    "start_time": "2022-01-19T01:50:37.640Z"
   },
   {
    "duration": 14,
    "start_time": "2022-01-19T01:50:37.675Z"
   },
   {
    "duration": 101,
    "start_time": "2022-01-19T01:50:37.693Z"
   },
   {
    "duration": 28,
    "start_time": "2022-01-19T01:50:37.797Z"
   },
   {
    "duration": 14,
    "start_time": "2022-01-19T01:50:37.828Z"
   },
   {
    "duration": 5,
    "start_time": "2022-01-19T01:50:37.870Z"
   },
   {
    "duration": 7,
    "start_time": "2022-01-19T01:50:37.878Z"
   },
   {
    "duration": 7,
    "start_time": "2022-01-19T01:50:37.888Z"
   },
   {
    "duration": 15,
    "start_time": "2022-01-19T01:50:37.901Z"
   },
   {
    "duration": 111,
    "start_time": "2022-01-19T01:50:37.920Z"
   },
   {
    "duration": 41,
    "start_time": "2022-01-19T01:50:38.034Z"
   },
   {
    "duration": 14,
    "start_time": "2022-01-19T01:50:38.077Z"
   },
   {
    "duration": 7,
    "start_time": "2022-01-19T01:50:38.093Z"
   },
   {
    "duration": 3977,
    "start_time": "2022-01-19T01:50:38.102Z"
   },
   {
    "duration": 3037,
    "start_time": "2022-01-19T01:50:42.081Z"
   },
   {
    "duration": 52,
    "start_time": "2022-01-19T01:50:45.121Z"
   },
   {
    "duration": 2229,
    "start_time": "2022-01-19T01:50:45.175Z"
   },
   {
    "duration": 121,
    "start_time": "2022-01-19T01:50:47.407Z"
   },
   {
    "duration": 6,
    "start_time": "2022-01-19T01:50:47.532Z"
   },
   {
    "duration": 12,
    "start_time": "2022-01-19T01:50:47.540Z"
   },
   {
    "duration": 15,
    "start_time": "2022-01-19T01:50:47.555Z"
   },
   {
    "duration": 21,
    "start_time": "2022-01-19T01:50:47.573Z"
   },
   {
    "duration": 74,
    "start_time": "2022-01-19T01:50:47.597Z"
   },
   {
    "duration": 4,
    "start_time": "2022-01-19T01:50:47.673Z"
   },
   {
    "duration": 20,
    "start_time": "2022-01-19T01:50:47.679Z"
   },
   {
    "duration": 18,
    "start_time": "2022-01-19T01:50:47.702Z"
   },
   {
    "duration": 898,
    "start_time": "2022-01-19T01:50:47.725Z"
   },
   {
    "duration": 991,
    "start_time": "2022-01-19T01:50:48.626Z"
   },
   {
    "duration": 1982,
    "start_time": "2022-01-19T01:50:49.619Z"
   },
   {
    "duration": 21,
    "start_time": "2022-01-19T01:50:51.604Z"
   },
   {
    "duration": 41,
    "start_time": "2022-01-19T01:50:51.628Z"
   },
   {
    "duration": 3304,
    "start_time": "2022-01-19T01:50:51.672Z"
   },
   {
    "duration": 3170,
    "start_time": "2022-01-19T01:50:54.978Z"
   },
   {
    "duration": 94427,
    "start_time": "2022-01-19T16:27:07.757Z"
   },
   {
    "duration": 1576,
    "start_time": "2022-01-19T16:28:42.187Z"
   },
   {
    "duration": -1593,
    "start_time": "2022-01-19T16:28:45.360Z"
   },
   {
    "duration": -1593,
    "start_time": "2022-01-19T16:28:45.362Z"
   },
   {
    "duration": -1594,
    "start_time": "2022-01-19T16:28:45.364Z"
   },
   {
    "duration": -1599,
    "start_time": "2022-01-19T16:28:45.371Z"
   },
   {
    "duration": -1599,
    "start_time": "2022-01-19T16:28:45.373Z"
   },
   {
    "duration": -1600,
    "start_time": "2022-01-19T16:28:45.375Z"
   },
   {
    "duration": -1600,
    "start_time": "2022-01-19T16:28:45.377Z"
   },
   {
    "duration": -1601,
    "start_time": "2022-01-19T16:28:45.379Z"
   },
   {
    "duration": -1601,
    "start_time": "2022-01-19T16:28:45.381Z"
   },
   {
    "duration": -1603,
    "start_time": "2022-01-19T16:28:45.384Z"
   },
   {
    "duration": -1604,
    "start_time": "2022-01-19T16:28:45.386Z"
   },
   {
    "duration": -1603,
    "start_time": "2022-01-19T16:28:45.387Z"
   },
   {
    "duration": -1604,
    "start_time": "2022-01-19T16:28:45.389Z"
   },
   {
    "duration": -1603,
    "start_time": "2022-01-19T16:28:45.390Z"
   },
   {
    "duration": -1608,
    "start_time": "2022-01-19T16:28:45.396Z"
   },
   {
    "duration": -1608,
    "start_time": "2022-01-19T16:28:45.398Z"
   },
   {
    "duration": -1608,
    "start_time": "2022-01-19T16:28:45.400Z"
   },
   {
    "duration": -1609,
    "start_time": "2022-01-19T16:28:45.402Z"
   },
   {
    "duration": -1608,
    "start_time": "2022-01-19T16:28:45.403Z"
   },
   {
    "duration": -1609,
    "start_time": "2022-01-19T16:28:45.405Z"
   },
   {
    "duration": -1608,
    "start_time": "2022-01-19T16:28:45.406Z"
   },
   {
    "duration": -1653,
    "start_time": "2022-01-19T16:28:45.452Z"
   },
   {
    "duration": -1653,
    "start_time": "2022-01-19T16:28:45.454Z"
   },
   {
    "duration": -1654,
    "start_time": "2022-01-19T16:28:45.456Z"
   },
   {
    "duration": -1656,
    "start_time": "2022-01-19T16:28:45.460Z"
   },
   {
    "duration": -1601,
    "start_time": "2022-01-19T16:28:45.465Z"
   },
   {
    "duration": -1605,
    "start_time": "2022-01-19T16:28:45.471Z"
   },
   {
    "duration": -1605,
    "start_time": "2022-01-19T16:28:45.473Z"
   },
   {
    "duration": -1606,
    "start_time": "2022-01-19T16:28:45.475Z"
   },
   {
    "duration": -1611,
    "start_time": "2022-01-19T16:28:45.482Z"
   },
   {
    "duration": -1612,
    "start_time": "2022-01-19T16:28:45.484Z"
   },
   {
    "duration": -1619,
    "start_time": "2022-01-19T16:28:45.493Z"
   },
   {
    "duration": -1618,
    "start_time": "2022-01-19T16:28:45.494Z"
   },
   {
    "duration": -1619,
    "start_time": "2022-01-19T16:28:45.496Z"
   },
   {
    "duration": 104355,
    "start_time": "2022-01-19T16:29:26.501Z"
   },
   {
    "duration": 31359,
    "start_time": "2022-01-19T16:31:10.859Z"
   },
   {
    "duration": 205,
    "start_time": "2022-01-19T16:31:42.221Z"
   },
   {
    "duration": 21,
    "start_time": "2022-01-19T16:31:42.429Z"
   },
   {
    "duration": 39,
    "start_time": "2022-01-19T16:31:42.453Z"
   },
   {
    "duration": 86,
    "start_time": "2022-01-19T16:31:42.494Z"
   },
   {
    "duration": 487,
    "start_time": "2022-01-19T16:31:42.583Z"
   },
   {
    "duration": -1608,
    "start_time": "2022-01-19T16:31:44.682Z"
   },
   {
    "duration": -1609,
    "start_time": "2022-01-19T16:31:44.684Z"
   },
   {
    "duration": -1609,
    "start_time": "2022-01-19T16:31:44.686Z"
   },
   {
    "duration": -1608,
    "start_time": "2022-01-19T16:31:44.687Z"
   },
   {
    "duration": -1609,
    "start_time": "2022-01-19T16:31:44.689Z"
   },
   {
    "duration": -1610,
    "start_time": "2022-01-19T16:31:44.692Z"
   },
   {
    "duration": -1611,
    "start_time": "2022-01-19T16:31:44.694Z"
   },
   {
    "duration": -1611,
    "start_time": "2022-01-19T16:31:44.696Z"
   },
   {
    "duration": -1610,
    "start_time": "2022-01-19T16:31:44.697Z"
   },
   {
    "duration": -1613,
    "start_time": "2022-01-19T16:31:44.702Z"
   },
   {
    "duration": -1613,
    "start_time": "2022-01-19T16:31:44.704Z"
   },
   {
    "duration": -1614,
    "start_time": "2022-01-19T16:31:44.706Z"
   },
   {
    "duration": -1612,
    "start_time": "2022-01-19T16:31:44.707Z"
   },
   {
    "duration": -1612,
    "start_time": "2022-01-19T16:31:44.709Z"
   },
   {
    "duration": -1613,
    "start_time": "2022-01-19T16:31:44.711Z"
   },
   {
    "duration": -1658,
    "start_time": "2022-01-19T16:31:44.758Z"
   },
   {
    "duration": -1661,
    "start_time": "2022-01-19T16:31:44.762Z"
   },
   {
    "duration": -1662,
    "start_time": "2022-01-19T16:31:44.765Z"
   },
   {
    "duration": -1662,
    "start_time": "2022-01-19T16:31:44.766Z"
   },
   {
    "duration": -1663,
    "start_time": "2022-01-19T16:31:44.768Z"
   },
   {
    "duration": -1664,
    "start_time": "2022-01-19T16:31:44.770Z"
   },
   {
    "duration": -1666,
    "start_time": "2022-01-19T16:31:44.774Z"
   },
   {
    "duration": -1670,
    "start_time": "2022-01-19T16:31:44.779Z"
   },
   {
    "duration": -1670,
    "start_time": "2022-01-19T16:31:44.781Z"
   },
   {
    "duration": -1619,
    "start_time": "2022-01-19T16:31:44.783Z"
   },
   {
    "duration": -1619,
    "start_time": "2022-01-19T16:31:44.785Z"
   },
   {
    "duration": -1618,
    "start_time": "2022-01-19T16:31:44.786Z"
   },
   {
    "duration": -1619,
    "start_time": "2022-01-19T16:31:44.789Z"
   },
   {
    "duration": -1621,
    "start_time": "2022-01-19T16:31:44.792Z"
   },
   {
    "duration": 12,
    "start_time": "2022-01-19T16:31:52.438Z"
   },
   {
    "duration": 5,
    "start_time": "2022-01-19T16:31:55.965Z"
   },
   {
    "duration": 4,
    "start_time": "2022-01-19T16:31:56.301Z"
   },
   {
    "duration": 4,
    "start_time": "2022-01-19T16:31:56.723Z"
   },
   {
    "duration": 10,
    "start_time": "2022-01-19T16:31:57.051Z"
   },
   {
    "duration": 68,
    "start_time": "2022-01-19T16:31:58.483Z"
   },
   {
    "duration": 293,
    "start_time": "2022-01-19T16:31:58.820Z"
   },
   {
    "duration": 24,
    "start_time": "2022-01-19T16:32:00.129Z"
   },
   {
    "duration": 4,
    "start_time": "2022-01-19T16:32:01.454Z"
   },
   {
    "duration": 4395,
    "start_time": "2022-01-19T16:32:02.126Z"
   },
   {
    "duration": 2777,
    "start_time": "2022-01-19T16:32:06.523Z"
   },
   {
    "duration": 28,
    "start_time": "2022-01-19T16:32:09.303Z"
   },
   {
    "duration": 2177,
    "start_time": "2022-01-19T16:32:09.334Z"
   },
   {
    "duration": 118,
    "start_time": "2022-01-19T16:32:11.514Z"
   },
   {
    "duration": 7,
    "start_time": "2022-01-19T16:32:11.634Z"
   },
   {
    "duration": 27,
    "start_time": "2022-01-19T16:32:11.643Z"
   },
   {
    "duration": 15,
    "start_time": "2022-01-19T16:32:11.674Z"
   },
   {
    "duration": 32,
    "start_time": "2022-01-19T16:32:11.692Z"
   },
   {
    "duration": 50,
    "start_time": "2022-01-19T16:32:12.013Z"
   },
   {
    "duration": 5,
    "start_time": "2022-01-19T16:32:12.448Z"
   },
   {
    "duration": 18,
    "start_time": "2022-01-19T16:32:12.983Z"
   },
   {
    "duration": 24,
    "start_time": "2022-01-19T16:32:14.606Z"
   },
   {
    "duration": 780,
    "start_time": "2022-01-19T16:32:15.554Z"
   },
   {
    "duration": 978,
    "start_time": "2022-01-19T16:32:16.337Z"
   },
   {
    "duration": 1884,
    "start_time": "2022-01-19T16:32:17.318Z"
   },
   {
    "duration": 20,
    "start_time": "2022-01-19T16:32:19.205Z"
   },
   {
    "duration": 17,
    "start_time": "2022-01-19T16:32:19.228Z"
   },
   {
    "duration": 3264,
    "start_time": "2022-01-19T16:32:19.265Z"
   },
   {
    "duration": 3175,
    "start_time": "2022-01-19T16:32:22.532Z"
   },
   {
    "duration": 11019,
    "start_time": "2022-01-19T23:49:48.822Z"
   },
   {
    "duration": 1639,
    "start_time": "2022-01-19T23:49:59.844Z"
   },
   {
    "duration": 232,
    "start_time": "2022-01-19T23:50:01.485Z"
   },
   {
    "duration": 14,
    "start_time": "2022-01-19T23:50:01.719Z"
   },
   {
    "duration": 9,
    "start_time": "2022-01-19T23:50:01.734Z"
   },
   {
    "duration": 39,
    "start_time": "2022-01-19T23:50:01.745Z"
   },
   {
    "duration": 11,
    "start_time": "2022-01-19T23:50:01.786Z"
   },
   {
    "duration": 513,
    "start_time": "2022-01-19T23:50:01.800Z"
   },
   {
    "duration": 8,
    "start_time": "2022-01-19T23:50:02.307Z"
   },
   {
    "duration": 6,
    "start_time": "2022-01-19T23:50:02.310Z"
   },
   {
    "duration": 5,
    "start_time": "2022-01-19T23:50:02.312Z"
   },
   {
    "duration": 4,
    "start_time": "2022-01-19T23:50:02.314Z"
   },
   {
    "duration": 1,
    "start_time": "2022-01-19T23:50:02.318Z"
   },
   {
    "duration": -1,
    "start_time": "2022-01-19T23:50:02.321Z"
   },
   {
    "duration": -3,
    "start_time": "2022-01-19T23:50:02.324Z"
   },
   {
    "duration": -153,
    "start_time": "2022-01-19T23:50:02.475Z"
   },
   {
    "duration": -155,
    "start_time": "2022-01-19T23:50:02.478Z"
   },
   {
    "duration": -156,
    "start_time": "2022-01-19T23:50:02.480Z"
   },
   {
    "duration": -159,
    "start_time": "2022-01-19T23:50:02.484Z"
   },
   {
    "duration": -161,
    "start_time": "2022-01-19T23:50:02.487Z"
   },
   {
    "duration": -164,
    "start_time": "2022-01-19T23:50:02.491Z"
   },
   {
    "duration": -166,
    "start_time": "2022-01-19T23:50:02.494Z"
   },
   {
    "duration": -168,
    "start_time": "2022-01-19T23:50:02.496Z"
   },
   {
    "duration": -170,
    "start_time": "2022-01-19T23:50:02.499Z"
   },
   {
    "duration": -172,
    "start_time": "2022-01-19T23:50:02.502Z"
   },
   {
    "duration": -174,
    "start_time": "2022-01-19T23:50:02.505Z"
   },
   {
    "duration": -176,
    "start_time": "2022-01-19T23:50:02.508Z"
   },
   {
    "duration": -177,
    "start_time": "2022-01-19T23:50:02.510Z"
   },
   {
    "duration": -178,
    "start_time": "2022-01-19T23:50:02.512Z"
   },
   {
    "duration": -180,
    "start_time": "2022-01-19T23:50:02.515Z"
   },
   {
    "duration": -182,
    "start_time": "2022-01-19T23:50:02.518Z"
   },
   {
    "duration": -185,
    "start_time": "2022-01-19T23:50:02.521Z"
   },
   {
    "duration": -187,
    "start_time": "2022-01-19T23:50:02.524Z"
   },
   {
    "duration": -189,
    "start_time": "2022-01-19T23:50:02.527Z"
   },
   {
    "duration": -191,
    "start_time": "2022-01-19T23:50:02.530Z"
   },
   {
    "duration": 6,
    "start_time": "2022-01-19T23:50:46.489Z"
   },
   {
    "duration": 3,
    "start_time": "2022-01-19T23:50:50.821Z"
   },
   {
    "duration": 6,
    "start_time": "2022-01-19T23:50:50.827Z"
   },
   {
    "duration": 5,
    "start_time": "2022-01-19T23:50:50.834Z"
   },
   {
    "duration": 9,
    "start_time": "2022-01-19T23:50:50.841Z"
   },
   {
    "duration": 36,
    "start_time": "2022-01-19T23:50:50.852Z"
   },
   {
    "duration": 11,
    "start_time": "2022-01-19T23:50:50.890Z"
   },
   {
    "duration": 9,
    "start_time": "2022-01-19T23:50:50.902Z"
   },
   {
    "duration": 3,
    "start_time": "2022-01-19T23:50:50.912Z"
   },
   {
    "duration": 2640,
    "start_time": "2022-01-19T23:50:50.917Z"
   },
   {
    "duration": 1734,
    "start_time": "2022-01-19T23:50:53.559Z"
   },
   {
    "duration": 19,
    "start_time": "2022-01-19T23:50:55.295Z"
   },
   {
    "duration": 1411,
    "start_time": "2022-01-19T23:50:55.316Z"
   },
   {
    "duration": 9,
    "start_time": "2022-01-19T23:50:56.729Z"
   },
   {
    "duration": 3,
    "start_time": "2022-01-19T23:50:56.740Z"
   },
   {
    "duration": 9,
    "start_time": "2022-01-19T23:50:56.745Z"
   },
   {
    "duration": 20,
    "start_time": "2022-01-19T23:50:56.755Z"
   },
   {
    "duration": 14,
    "start_time": "2022-01-19T23:50:56.777Z"
   },
   {
    "duration": 32,
    "start_time": "2022-01-19T23:50:56.793Z"
   },
   {
    "duration": 3,
    "start_time": "2022-01-19T23:50:56.827Z"
   },
   {
    "duration": 12,
    "start_time": "2022-01-19T23:50:56.831Z"
   },
   {
    "duration": 565,
    "start_time": "2022-01-19T23:50:56.844Z"
   },
   {
    "duration": 630,
    "start_time": "2022-01-19T23:50:57.411Z"
   },
   {
    "duration": 1740,
    "start_time": "2022-01-19T23:50:58.044Z"
   },
   {
    "duration": 12,
    "start_time": "2022-01-19T23:50:59.785Z"
   },
   {
    "duration": 5,
    "start_time": "2022-01-19T23:50:59.798Z"
   },
   {
    "duration": 2103,
    "start_time": "2022-01-19T23:50:59.805Z"
   },
   {
    "duration": 2127,
    "start_time": "2022-01-19T23:51:01.910Z"
   },
   {
    "duration": 337,
    "start_time": "2022-01-19T23:53:23.645Z"
   },
   {
    "duration": 3,
    "start_time": "2022-01-19T23:53:30.801Z"
   },
   {
    "duration": 3,
    "start_time": "2022-01-19T23:53:31.835Z"
   },
   {
    "duration": 14,
    "start_time": "2022-01-19T23:53:40.092Z"
   },
   {
    "duration": 31,
    "start_time": "2022-01-19T23:53:44.635Z"
   },
   {
    "duration": 352,
    "start_time": "2022-01-20T01:03:56.846Z"
   },
   {
    "duration": 315,
    "start_time": "2022-01-20T01:04:32.893Z"
   },
   {
    "duration": 301,
    "start_time": "2022-01-20T01:05:39.691Z"
   },
   {
    "duration": 3579,
    "start_time": "2022-01-20T01:07:47.677Z"
   },
   {
    "duration": 469,
    "start_time": "2022-01-20T01:08:14.542Z"
   },
   {
    "duration": 1584,
    "start_time": "2022-01-20T01:10:42.016Z"
   },
   {
    "duration": 1661,
    "start_time": "2022-01-20T01:12:50.454Z"
   },
   {
    "duration": 98,
    "start_time": "2022-01-20T01:14:52.537Z"
   },
   {
    "duration": 2120,
    "start_time": "2022-01-20T01:15:01.579Z"
   },
   {
    "duration": 310,
    "start_time": "2022-01-20T01:18:29.507Z"
   },
   {
    "duration": 4104,
    "start_time": "2022-01-20T01:22:46.514Z"
   },
   {
    "duration": 1499,
    "start_time": "2022-01-20T01:22:50.620Z"
   },
   {
    "duration": 2,
    "start_time": "2022-01-20T01:22:52.121Z"
   },
   {
    "duration": 119,
    "start_time": "2022-01-20T01:22:52.125Z"
   },
   {
    "duration": 13,
    "start_time": "2022-01-20T01:22:52.245Z"
   },
   {
    "duration": 8,
    "start_time": "2022-01-20T01:22:52.259Z"
   },
   {
    "duration": 36,
    "start_time": "2022-01-20T01:22:52.268Z"
   },
   {
    "duration": 12,
    "start_time": "2022-01-20T01:22:52.306Z"
   },
   {
    "duration": 6,
    "start_time": "2022-01-20T01:22:52.319Z"
   },
   {
    "duration": 3,
    "start_time": "2022-01-20T01:22:52.326Z"
   },
   {
    "duration": 4,
    "start_time": "2022-01-20T01:22:52.330Z"
   },
   {
    "duration": 5,
    "start_time": "2022-01-20T01:22:52.335Z"
   },
   {
    "duration": 38,
    "start_time": "2022-01-20T01:22:52.341Z"
   },
   {
    "duration": 38,
    "start_time": "2022-01-20T01:22:52.381Z"
   },
   {
    "duration": 13,
    "start_time": "2022-01-20T01:22:52.421Z"
   },
   {
    "duration": 9,
    "start_time": "2022-01-20T01:22:52.435Z"
   },
   {
    "duration": 2,
    "start_time": "2022-01-20T01:22:52.472Z"
   },
   {
    "duration": 2475,
    "start_time": "2022-01-20T01:22:52.476Z"
   },
   {
    "duration": 1803,
    "start_time": "2022-01-20T01:22:54.953Z"
   },
   {
    "duration": 27,
    "start_time": "2022-01-20T01:22:56.757Z"
   },
   {
    "duration": 1517,
    "start_time": "2022-01-20T01:22:56.785Z"
   },
   {
    "duration": 3,
    "start_time": "2022-01-20T01:22:58.304Z"
   },
   {
    "duration": 7,
    "start_time": "2022-01-20T01:22:58.310Z"
   },
   {
    "duration": 4,
    "start_time": "2022-01-20T01:22:58.319Z"
   },
   {
    "duration": 11,
    "start_time": "2022-01-20T01:22:58.324Z"
   },
   {
    "duration": 54,
    "start_time": "2022-01-20T01:22:58.337Z"
   },
   {
    "duration": 3,
    "start_time": "2022-01-20T01:22:58.392Z"
   },
   {
    "duration": 11,
    "start_time": "2022-01-20T01:22:58.396Z"
   },
   {
    "duration": 2,
    "start_time": "2022-01-20T01:22:58.408Z"
   },
   {
    "duration": 526,
    "start_time": "2022-01-20T01:22:58.412Z"
   },
   {
    "duration": 5726,
    "start_time": "2022-01-20T14:03:38.309Z"
   },
   {
    "duration": 1287,
    "start_time": "2022-01-20T14:03:44.036Z"
   },
   {
    "duration": 3,
    "start_time": "2022-01-20T14:03:45.327Z"
   },
   {
    "duration": 277,
    "start_time": "2022-01-20T14:03:45.331Z"
   },
   {
    "duration": 15,
    "start_time": "2022-01-20T14:03:45.610Z"
   },
   {
    "duration": 8,
    "start_time": "2022-01-20T14:03:45.627Z"
   },
   {
    "duration": 37,
    "start_time": "2022-01-20T14:03:45.637Z"
   },
   {
    "duration": 12,
    "start_time": "2022-01-20T14:03:45.677Z"
   },
   {
    "duration": 7,
    "start_time": "2022-01-20T14:03:45.691Z"
   },
   {
    "duration": 30,
    "start_time": "2022-01-20T14:03:45.699Z"
   },
   {
    "duration": 4,
    "start_time": "2022-01-20T14:03:45.731Z"
   },
   {
    "duration": 5,
    "start_time": "2022-01-20T14:03:45.737Z"
   },
   {
    "duration": 9,
    "start_time": "2022-01-20T14:03:45.743Z"
   },
   {
    "duration": 38,
    "start_time": "2022-01-20T14:03:45.754Z"
   },
   {
    "duration": 54,
    "start_time": "2022-01-20T14:03:45.793Z"
   },
   {
    "duration": 10,
    "start_time": "2022-01-20T14:03:45.849Z"
   },
   {
    "duration": 3,
    "start_time": "2022-01-20T14:03:45.861Z"
   },
   {
    "duration": 1250,
    "start_time": "2022-01-20T14:03:45.865Z"
   },
   {
    "duration": 682,
    "start_time": "2022-01-20T14:03:47.127Z"
   },
   {
    "duration": 34,
    "start_time": "2022-01-20T14:03:47.811Z"
   },
   {
    "duration": 1171,
    "start_time": "2022-01-20T14:03:47.847Z"
   },
   {
    "duration": 4,
    "start_time": "2022-01-20T14:03:49.027Z"
   },
   {
    "duration": 7,
    "start_time": "2022-01-20T14:03:49.034Z"
   },
   {
    "duration": 8,
    "start_time": "2022-01-20T14:03:49.042Z"
   },
   {
    "duration": 18,
    "start_time": "2022-01-20T14:03:49.051Z"
   },
   {
    "duration": 29,
    "start_time": "2022-01-20T14:03:49.071Z"
   },
   {
    "duration": 2,
    "start_time": "2022-01-20T14:03:49.102Z"
   },
   {
    "duration": 24,
    "start_time": "2022-01-20T14:03:49.106Z"
   },
   {
    "duration": 2,
    "start_time": "2022-01-20T14:03:49.132Z"
   },
   {
    "duration": 505,
    "start_time": "2022-01-20T14:03:49.135Z"
   },
   {
    "duration": 601,
    "start_time": "2022-01-20T14:03:49.642Z"
   },
   {
    "duration": 1692,
    "start_time": "2022-01-20T14:03:50.245Z"
   },
   {
    "duration": 12,
    "start_time": "2022-01-20T14:03:51.939Z"
   },
   {
    "duration": 5,
    "start_time": "2022-01-20T14:03:51.953Z"
   },
   {
    "duration": 435,
    "start_time": "2022-01-20T14:03:51.959Z"
   },
   {
    "duration": 563,
    "start_time": "2022-01-20T14:03:52.395Z"
   },
   {
    "duration": 4838,
    "start_time": "2022-01-20T14:05:55.624Z"
   },
   {
    "duration": 1396,
    "start_time": "2022-01-20T14:06:00.464Z"
   },
   {
    "duration": 3,
    "start_time": "2022-01-20T14:06:01.863Z"
   },
   {
    "duration": 119,
    "start_time": "2022-01-20T14:06:01.868Z"
   },
   {
    "duration": 14,
    "start_time": "2022-01-20T14:06:01.989Z"
   },
   {
    "duration": 23,
    "start_time": "2022-01-20T14:06:02.005Z"
   },
   {
    "duration": 45,
    "start_time": "2022-01-20T14:06:02.029Z"
   },
   {
    "duration": 12,
    "start_time": "2022-01-20T14:06:02.077Z"
   },
   {
    "duration": 6,
    "start_time": "2022-01-20T14:06:02.091Z"
   },
   {
    "duration": 4,
    "start_time": "2022-01-20T14:06:02.127Z"
   },
   {
    "duration": 5,
    "start_time": "2022-01-20T14:06:02.133Z"
   },
   {
    "duration": 8,
    "start_time": "2022-01-20T14:06:02.140Z"
   },
   {
    "duration": 14,
    "start_time": "2022-01-20T14:06:02.150Z"
   },
   {
    "duration": 173,
    "start_time": "2022-01-20T14:06:02.166Z"
   },
   {
    "duration": 18,
    "start_time": "2022-01-20T14:06:02.341Z"
   },
   {
    "duration": 70,
    "start_time": "2022-01-20T14:06:02.361Z"
   },
   {
    "duration": 4,
    "start_time": "2022-01-20T14:06:02.433Z"
   },
   {
    "duration": 2022,
    "start_time": "2022-01-20T14:06:02.438Z"
   },
   {
    "duration": 1176,
    "start_time": "2022-01-20T14:06:04.462Z"
   },
   {
    "duration": 19,
    "start_time": "2022-01-20T14:06:05.640Z"
   },
   {
    "duration": 2606,
    "start_time": "2022-01-20T14:06:05.661Z"
   },
   {
    "duration": 59,
    "start_time": "2022-01-20T14:06:08.269Z"
   },
   {
    "duration": 6,
    "start_time": "2022-01-20T14:06:08.331Z"
   },
   {
    "duration": 5,
    "start_time": "2022-01-20T14:06:08.338Z"
   },
   {
    "duration": 11,
    "start_time": "2022-01-20T14:06:08.344Z"
   },
   {
    "duration": 95,
    "start_time": "2022-01-20T14:06:08.357Z"
   },
   {
    "duration": 3,
    "start_time": "2022-01-20T14:06:08.454Z"
   },
   {
    "duration": 68,
    "start_time": "2022-01-20T14:06:08.459Z"
   },
   {
    "duration": 3,
    "start_time": "2022-01-20T14:06:08.529Z"
   },
   {
    "duration": 1427,
    "start_time": "2022-01-20T14:06:08.533Z"
   },
   {
    "duration": 1104,
    "start_time": "2022-01-20T14:06:09.961Z"
   },
   {
    "duration": 1783,
    "start_time": "2022-01-20T14:06:11.066Z"
   },
   {
    "duration": 12,
    "start_time": "2022-01-20T14:06:12.850Z"
   },
   {
    "duration": 65,
    "start_time": "2022-01-20T14:06:12.863Z"
   },
   {
    "duration": 801,
    "start_time": "2022-01-20T14:06:12.930Z"
   },
   {
    "duration": 647,
    "start_time": "2022-01-20T14:06:13.732Z"
   },
   {
    "duration": 1589,
    "start_time": "2022-01-20T14:10:05.705Z"
   },
   {
    "duration": 389,
    "start_time": "2022-01-20T14:11:36.600Z"
   },
   {
    "duration": 269,
    "start_time": "2022-01-20T14:11:54.143Z"
   },
   {
    "duration": 273,
    "start_time": "2022-01-20T14:12:12.862Z"
   },
   {
    "duration": 432,
    "start_time": "2022-01-20T14:12:25.988Z"
   },
   {
    "duration": 335,
    "start_time": "2022-01-20T14:13:00.392Z"
   },
   {
    "duration": 255,
    "start_time": "2022-01-20T14:13:38.331Z"
   },
   {
    "duration": 309,
    "start_time": "2022-01-20T14:13:39.189Z"
   }
  ],
  "kernelspec": {
   "display_name": "Python 3",
   "language": "python",
   "name": "python3"
  },
  "language_info": {
   "codemirror_mode": {
    "name": "ipython",
    "version": 3
   },
   "file_extension": ".py",
   "mimetype": "text/x-python",
   "name": "python",
   "nbconvert_exporter": "python",
   "pygments_lexer": "ipython3",
   "version": "3.8.8"
  },
  "toc": {
   "base_numbering": 1,
   "nav_menu": {},
   "number_sections": true,
   "sideBar": true,
   "skip_h1_title": true,
   "title_cell": "Table of Contents",
   "title_sidebar": "Contents",
   "toc_cell": false,
   "toc_position": {
    "height": "calc(100% - 180px)",
    "left": "10px",
    "top": "150px",
    "width": "200px"
   },
   "toc_section_display": true,
   "toc_window_display": true
  }
 },
 "nbformat": 4,
 "nbformat_minor": 4
}
